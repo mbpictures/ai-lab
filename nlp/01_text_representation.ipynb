{
 "cells": [
  {
   "cell_type": "markdown",
   "metadata": {
    "id": "Tin_rAmAzJvv"
   },
   "source": [
    "# Text Repräsentationen\n",
    "In diesem Teil des Labors wird es um eine Einfürung in Text Repräsentationen gehen. \n",
    "\n",
    "Wie Ihr vermutlich schon wisst, repräsentieren Computer Daten in Binärcode. Um Euch das Problem, das Computer mit Texten haben aufzuzeigen, hat euch der Computer eine Nachricht hinterlassen, die ihr Entschlüsseln müsst... "
   ]
  },
  {
   "cell_type": "code",
   "execution_count": null,
   "metadata": {},
   "outputs": [],
   "source": [
    "%config Completer.use_jedi = False"
   ]
  },
  {
   "cell_type": "code",
   "execution_count": null,
   "metadata": {
    "id": "Na68UqOJx8Jx"
   },
   "outputs": [],
   "source": [
    "binary_message = \"01001001 00100000 01110011 01110000 01100101 01100001 01101011 00100000 01100010 01101001 01101110 01100001 01110010 01111001 00100000 01101111 01101110 01101100 01111001 00100001 00001010 01001001 00100000 01101100 01101001 01101011 01100101 00100000 01101110 01110101 01101101 01100010 01100101 01110010 01110011 00101100 00100000 01101110 01101111 01110100 00100000 01110100 01100101 01111000 01110100 00101110\""
   ]
  },
  {
   "cell_type": "code",
   "execution_count": null,
   "metadata": {
    "id": "I_qao4JA1D0F"
   },
   "outputs": [
    {
     "name": "stdout",
     "output_type": "stream",
     "text": [
      "I speak binary only!\n",
      "I like numbers, not text.\n"
     ]
    }
   ],
   "source": [
    "binary_chars = binary_message.split()\n",
    "message = \"\"\n",
    "for binary_char in binary_chars:\n",
    "    binary_char_integer = int(binary_char, 2)\n",
    "    character = chr(binary_char_integer)\n",
    "    message += character\n",
    "print(message)"
   ]
  },
  {
   "cell_type": "markdown",
   "metadata": {
    "id": "nMwRdW3J1WQv"
   },
   "source": [
    "Um Maschinen Text verständlich zu machen, müssen wir die Texte in eine andere Repräsentation bringen. Eine Kurze Einführung bieten die beiden folgenden Warm Up Aufgaben."
   ]
  },
  {
   "cell_type": "markdown",
   "metadata": {
    "id": "ioeYUuprcJOs"
   },
   "source": [
    "## Tokenization\n",
    "Eine der ersten elementaren Schritte, um eine natürliche Sprache mit einem Computer zu verarbeiten ist das Aufteilen eines Fließtextes in kleinere Teile. Meist werden Texte direkt in sogenannte Tokens geteilt (Tokenization). Ein Token ist oftmals ein einzelnes Wort, es kann aber auch aus mehreren Wörtern bestehen, wenn diese zusammen für eine Entität stehen, z.B. die Stadt „New York“. Neben der Aufteilung in Tokens ist es auch möglich, einen Text zuerst in Sätze zu splitten (Sentence Tokenization). Welche Kombination der Methoden angewendet wird, hängt von der Aufgabe ab. "
   ]
  },
  {
   "cell_type": "markdown",
   "metadata": {
    "id": "6HFy1A2zjkqL"
   },
   "source": [
    "### Warm Up 1: Tokenizer mit Regulären Ausdrücken\n",
    "\n",
    "Die erste kleine Aufgabe besteht darin mit einem regulären Ausdruck ein Wort-Tokenizer zu bauen. (Diese Aufgabe sollte nicht mehr als 5 min. dauern) Der Tokenizer muss auch nicht perfekt sein. \n",
    "\n",
    "> Eine kurze Auffrischung über Reguläre Ausdrücke findet sich in https://regexr.com/"
   ]
  },
  {
   "cell_type": "code",
   "execution_count": null,
   "metadata": {
    "id": "vsACjYAEcHJc"
   },
   "outputs": [
    {
     "data": {
      "text/plain": "['Die', 'Ente', 'lacht', 'und', 'quakt', '']"
     },
     "execution_count": 58,
     "metadata": {},
     "output_type": "execute_result"
    }
   ],
   "source": [
    "import re\n",
    "text=\"Die Ente lacht und quakt.\"\n",
    "\n",
    "tokenizer_regex=re.compile(r'[\\s.]')\n",
    "tokenizer_regex.split(text)"
   ]
  },
  {
   "cell_type": "markdown",
   "metadata": {
    "id": "mzaasIkDmK_r"
   },
   "source": [
    "Das Grundprinzip eines Tokenizers sollte euch nun klar sein. In der Praxis empfiehlt es sich allerdings, auf bestehende Tokenizer-Implementierungen zurückzugreifen.\n",
    "Im Python-Umfeld ist https://spacy.io/api/tokenizer oder https://www.nltk.org/api/nltk.tokenize.html sehr empfehlenswert."
   ]
  },
  {
   "cell_type": "markdown",
   "metadata": {
    "id": "hcOzQFueH9mC"
   },
   "source": [
    "# Encoding"
   ]
  },
  {
   "cell_type": "markdown",
   "metadata": {
    "id": "VqqIUO30B46n"
   },
   "source": [
    "Der nächste Schritt, um mit Texten Maschinelles Lernen zu betreiben, ist das Umwandeln der Wörter in eine numerissche Repräsentation. In der nächsten Warm-Up Aufgabe wird es darum um Bag of Words gehen."
   ]
  },
  {
   "cell_type": "markdown",
   "metadata": {
    "id": "4-4dQzbG921p"
   },
   "source": [
    "## Warm Up 2: Bag of Words mit scikit-learn\n",
    "Ein Ansatz um Texte bzw. Tokens als Zahlen zu represäntieren ist ein Bag of Words. Hier wird jeder Text als Vektor dargestellt (Länge: Länge des Vokabulars). Jeder Eintrag im Vektor steht für ein Wort im Vokabular.\n",
    "\n",
    "In der nächsten Aufgabe wollen wir mit dem vorgegebenen Textkorpus, den Satz **\"Die Ente singt und quakt.\"** in einen bag-of-words-encoded Vector umwandeln.\n",
    "Dazu bietet sich der `CountVectorizer` an (siehe [Dokumentation](https://scikit-learn.org/stable/modules/generated/sklearn.feature_extraction.text.CountVectorizer.html)).\n",
    "\n",
    "> Kleiner Tipp: Der `CountVectorizer` übernimmt diesmal die Tokenisierung."
   ]
  },
  {
   "cell_type": "code",
   "execution_count": null,
   "metadata": {
    "id": "ptA3RLihCfTj"
   },
   "outputs": [
    {
     "name": "stdout",
     "output_type": "stream",
     "text": [
      "['die', 'ente', 'lacht', 'quakt', 'singt', 'tanzt', 'und']\n",
      "[[1 1 1 1 0 0 1]\n",
      " [1 1 0 0 1 1 1]]\n"
     ]
    }
   ],
   "source": [
    "from sklearn.feature_extraction.text import CountVectorizer\n",
    "corpus = [\"Die Ente lacht und quakt.\",\n",
    "          \"Die Ente singt und tanzt.\"]\n",
    "vectorizer = CountVectorizer()\n",
    "\n",
    "abc =vectorizer.fit_transform(corpus)\n",
    "print(vectorizer.get_feature_names())\n",
    "print(abc.toarray())\n",
    "#bag_of_words_encoded_sentence"
   ]
  },
  {
   "cell_type": "markdown",
   "metadata": {
    "id": "T_WWHn0N_4CT"
   },
   "source": [
    "Im  nächsten Schritt gebt die Länge der Satzrepräsentation aus. \n",
    "\n",
    "Wie verändert sich die Länge, wenn sich der Textkorpus vergrößert. Was sind die Vorteile und Nachteile von Bag of Words?"
   ]
  },
  {
   "cell_type": "code",
   "execution_count": null,
   "metadata": {
    "id": "44zUnF0P_zDZ"
   },
   "outputs": [
    {
     "name": "stdout",
     "output_type": "stream",
     "text": [
      "7\n"
     ]
    }
   ],
   "source": [
    "size_of_sentence_encoded= abc.shape[1]\n",
    "print(size_of_sentence_encoded)"
   ]
  },
  {
   "cell_type": "markdown",
   "metadata": {},
   "source": [
    "Vorteil: Leicht zu verstehen \\\n",
    "Nachteil: Mit steigendem Vokabular steigt auch die Dimension des zugehörigen Vektors. Context und Semantik geht durch Sortierung verloren.\\\n",
    "( Es ist spät. vs. ist es spät?)\n"
   ]
  },
  {
   "cell_type": "markdown",
   "metadata": {
    "id": "dbCGNsjiYuAT"
   },
   "source": [
    "## Word Embeddings\n",
    "\n",
    "Natürliche Sprachen bieten uns mannigfaltige Möglichkeiten, dieselben Inhalte auf unterschiedliche Art und Weise auszudrücken. Wenn wir mit Texten arbeiten, reicht es daher in der Regel nicht aus, nur die Anzahl und das Vorkommen von bestimmten Wörtern in Texten zu betrachten, weil neben des bloßen Vorkommen eines Wortes auch dessen Anordnung und dessen Bedeutung eine Rolle spielt. Als zusätzliche und wichtige Ebene kommt hier also die Semantik ins Spiel.\n",
    "\n",
    "Die Abbildung von Wörtern auf Vektoren erlaubt es uns, mit diesen zu rechnen und zum Beispiel Distanzen oder Ähnlichkeiten zu bestimmen. Embeddings haben den Vorteil, dass sie eine Dimensionsreduktion mit sich bringen und semantische Embeddings sorgen darüber hinaus dafür, dass \"verwandte\" Wörter einen geringen Abstand voneinander haben.\n",
    "\n",
    "Wir wollen uns im Folgenden zunächst mit Word2Vec beschäftigen und eine einfache Version des CBOW-Ansatzes selbst implementieren.\n",
    "\n",
    "Danach schauen wir uns Gensim als Bibliothek für Word-Embedding-Modelle an und werfen einen Blick auf Evaluationsmethoden für Embeddings sowie die ihnen inhärenten Biase."
   ]
  },
  {
   "cell_type": "markdown",
   "metadata": {
    "id": "AMup_-zoYuAY"
   },
   "source": [
    "## Aufgabe 1: Word2Vec CBOW\n",
    "> You shall know a word by the company it keeps.\n",
    ">\n",
    "> -- <cite>J. R. Firth</cite>\n",
    "\n",
    "Auf dem oben zitierten Prinzip beruhen die beiden als Word2Vec bekannt gewordenen Modelle CBOW und Skip Gram, die 2013 von [Tomas Mikolov et al.](https://arxiv.org/abs/1301.3781) bei Google entwickelt wurden.\n",
    "Erstgenanntes Modell werden wir im Folgenden in einer einfachen Form selbst implementieren."
   ]
  },
  {
   "cell_type": "markdown",
   "metadata": {
    "id": "3xVNJ7AqYuAb"
   },
   "source": [
    "#### 1.1 Trainingsdaten\n",
    "Die Beschaffung und Aufbereitung von Trainingsdaten ist ein wichtiger Schritt in jeder NLP-Pipeline. Jetzt drücken wir uns mal davor und greifen auf einen Datensatz zu, den wir schonmal vorarb für Euch vorbereitet haben. Wir haben uns entschieden Alice im Wunderland [Gutenberg Project Alice im Wunderland](https://www.gutenberg.org/cache/epub/19778/pg19778.txt) zu nutzen um Word Embeddings zu trainieren. Der Datensatz beinhaltet die Sätze aus aus der Geschichte. \n",
    "\n",
    "Der vorverarbeitete Datensatz ist als pickle abgespeichert und findet sich in [hier](https://drive.google.com/file/d/1RfCivF-wHf33S7TMxjpT78923ADXreMi/view). Wir werden den googledrivedownloader nutzen, um die Datei zu laden. Ladet den Datensatz mit Pickle als Testdatensatz aus."
   ]
  },
  {
   "cell_type": "code",
   "execution_count": null,
   "metadata": {
    "id": "_fgETXxtJ-p8"
   },
   "outputs": [],
   "source": [
    "#from google_drive_downloader import GoogleDriveDownloader as gdd\n",
    "\n",
    "#gdd.download_file_from_google_drive(file_id='1RfCivF-wHf33S7TMxjpT78923ADXreMi',\n",
    "#                                    dest_path='./download/alice_sentences.pkl',\n",
    "#                                    unzip=False,\n",
    "#                                    overwrite=True)"
   ]
  },
  {
   "cell_type": "code",
   "execution_count": null,
   "metadata": {
    "id": "Bmu1bOjcYuAf"
   },
   "outputs": [],
   "source": [
    "import pickle\n",
    "\n",
    "with open(r\"alice_sentences.pkl\", \"rb\") as input_file:\n",
    "    data_sample = pickle.load(input_file)"
   ]
  },
  {
   "cell_type": "code",
   "execution_count": null,
   "metadata": {},
   "outputs": [
    {
     "name": "stdout",
     "output_type": "stream",
     "text": [
      "{'Hältst', 'grunzte', 'Erhöhung', 'ängstlichen', 'mußte', 'Hülfe', 'kraus', 'Vater', 'seufzen', 'Eins', '_Einen_', '_habe_', 'gelangt', 'Verzweiflung', 'Adler', 'erhielt', 'werth', 'Terrin', 'zanken', 'gesellt', 'rechter', 'lustig', 'erfunden', 'Mädchen«', 'paarweis', 'Essenszeit', 'aller', 'hier?«', 'mußt', 'sahen', 'Plätze', 'Herzchen', 'könnten', 'Schlüsselchen', 'andres', 'belebte', 'gemeine', 'Zugestanden', 'sitzenden', 'Wirthe', 'Thieren', 'einfielen', 'Schildkröte', 'Seite', 'auserzählen.«', 'Thu', 'Kiesel', '_beweist_', 'gesehen', 'grob.«', 'geht', 'Springen', 'hervorstehende', 'vertreiben', 'sitzt', 'schenken.«', 'dümmste', 'er', 'beim', 'kosten', 'Einmaleins', 'Mittheilung', 'Zettel', 'ebenfalls', 'gehofft', 'ausdenken', 'Kopfstimme', 'immer.«', '=Où', 'bitte', 'heute?«', 'gethan', 'paßte', 'Wuth', 'aussehen', 'worden.«', 'falsche', 'daher', 'Finger', 'langweilig', 'lernten', 'Faselhasen', 'Rindviehes', 'famoser', 'rathe', 'pfeifen', 'n', 'hervorzuziehen', 'toll.«', 'geschlafen', 'Summe', 'bei', 'braunen', 'laut', 'Mädchen', 'fortnahm', 'kehrte', 'Dach', 'auf', 'Baumzweige', 'Weitererzählen', 'selber', 'wissen?«', 'wissen', 'angefangen?«', 'muß', 'erfährt', 'benutzt', 'zufällig', 'bezahlen', 'Aussage', 'nützt', 'Nacht', 'tiefer', 'also', 'erklären', 'mag', 'verurtheilt', 'mein', 'allein', 'Anfang', '_mit', 'bezeichnete', 'Baum', 'wachte', 'Herzen', 'übel.«', 'süßem', 'Schuppen', 'schmecken', 'gesprochen', 'Gesichter', 'persönlichen', '_Alice_', '_seine', 'zweier', 'todtenstill', 's_', 'wie.«', 'geschickt', 'Tafelstein', 'Potz', 'Herzenskönigin_', 'ärgerliche', 'aufzugeben', 'wischte', 'Mitt', 'bliebe', 'dorthin', 'M.', 'Töpfchen', 'kenne', 'Achtes', 'bedeuten', 'Klasse', 'nachsehen', 'faßte', 'vorher', 'willst', 'gerne', 'Schulbuch', 'solcher', 'zeichneten', 'des', 'köstlicher', 'wunderbaren', 'Tag', 'Nein', 'keineswegs', 'einigem', 'überzeugt', 'blieben', 'dabei.«', 'Nimm', 'schalt', 'prachtvoll', 'hastig', 'Also', 'Zeuge', 'bösen', 'Sohn', 'Büchern', 'gehst', 'Abend', 'rauh', 'Lebt', 'wenige', 'hinkomme', 'nachgerade', 'Liedes', 'meinten', 'näher', 'angenehm', 'bunten', '_bin_', 'erblickte', 'zuckersüß', 'sie', 'Den', 'gähnte', 'immerwährende', 'Erst', 'Komm', 'begreife', 'Ei', 'nachsann', 'kau', 'angehalten', 'Mond', 'schmeckt', 'Dinah', 'Gespräche', 'Tage', 'Schluchzen', 'aufwickeln', 'mochte', 'Datum', 'm', 'Hast', '_welche_', 'Richter', 'goldenes', 'Satz', 'Todtenkopf', 'räthselhaft', 'zwölften', 'Wortwechsel', 'kriege', 'Kinnbacken', 'bekannt', 'Wir', 'Henker', 'gewonnen?«', 'irren', 'interessante', 'umhin', 'ungeheuren', 'meerschwimmig', 'wohl?«', 'Heulen', 'andre', 'ungeduldigem', 'aufstanden', 'Wohnhäuser', 'lachen', 'sind.«', 'Mäusefangen', 'Bretter', 'frage', 'welches', 'offnem', 'dasselbe.«', 'länger', 'Euch', 'einander', 'heftigsten', 'Schnecke', 'alltäglichen', 'gelangte', 'sprachen', 'verschiedene', 'lerne', 'herumgewandert', 'Erklärung', 'Bericht', 'setzten', 'Schachtel', 'Rackete', 'im', 'redend', 'gedacht', 'Branntwein', 'interessanter', 'sinken', 'verschieden.«', 'Erfrischungen', 'Handschrift', 'Mineral', 'zusehends', 'Gerichtshofe', 'Tage.«', 'machen.«', 'wahrlich', 'brachte', 'Mamsell', 'welcher', 'angeknüpft', 'erstickter', 'Hätte', 'Füßen?«', 'Bist', 'Auge', 'einmal', 'Lichte', 'rücksichtsvoll', 'Funfzehnten', 'deine', 'Wein.«', 'wichtig', 'buk', 'gehen', 'es.«', 'paar', 'danach', 'glauben', 'bemüht', 'fürchte', 'unterbrechen', 'beklagten', 'gehörten', 'retten', 'K.', 'Niesen', 'Habt', 'herabträufelte', 'hinabsah', 'scharfes', 'hin', 'sterben.«', 'Siehst', 'Croquet', 'reichte', 'Zahlen', 'angedeuteten', 'Willst', 'worden', 'Verachtung', 'ärgerlich', 'Lied?«', 'Fahr', 'nachgedacht', 'lang', '_alle_', 'Lehnt', 'Fuße', 'wahrheitsliebendes', 'wendend', 'Kinderfrau', 'hintereinander', 'Fallen', 'Theetisch', 'Idee', 'Notiz', 'blies', 'abzuschlagen', 'ihre', 'eiliger', 'Katze.', 'läugnet', 'hergekommen.«', 'Kaufmann', 'dem', 'Folgendes', 'voller', 'Seeographie', 'Leute', 'Einfluß', 'Anhang', '_Falsche', 'hatte', 'Haltet', 'brauchst', 'volle', 'Schornstein', 'Oho', '»', 'Landkarten', 'Köchin', 'brüllen', 'Pfuhl', 'That', 'danke', 'thue', 'schneite.«', 'lebendige', 'aufgebracht', 'tiefen', 'dichtes', 'Clara', 'gutmüthig', 'schüchterner', 'Spaten', 'Schatten', 'Wände', 'Schoße', 'Brief', 'jedoch', 'entstand', 'superfeine', 'Springelehrer', 'Canarienvogel', 'zwölf', 'herauf', 'Schornsteine', 'Schnabel', 'Liebe', 'fortrannte', 'Räthseln', 'hingerichtet', 'Zu', 'Lagen', 'hindurch', 'quiekende', 'riß', 'davon', '9', 'zehn', 'ausrief', 'wovon?«', 'Stirne', 'eigenes', 'sagten', 'Ida', 'an.', 'den', 'spielte', 'umständlich', 'ehrlicher', 'darüber', 'woher', 'zurückbrachte', 'Northumbria', 'Geringsten', 'geben.«', 'nur', 'Steh', 'Fingerhutes', 'Entzücken', 'wunderbare', 'herunterhingen', 'Davon', 'tief', '_Außenseite_', 'aufgestellt', 'schwachen', 'angezogen', 'Schwanz', 'Saales', 'Rabe', 'aßt', 'getraute', 'Lehre', 'dulden', 'Kreuzverhör', 'Am', 'angebunden', 'meistens', 'Geräusch', 'Croquet-Feld', 'umstieß', 'nimmt', 'Spatzen?«', 'März', 'geputzt', 'Gründe', 'möglich', 'wagte', 'letztere', 'besten', 'erreichen', 'flüstern', 'Natürlich', 'Spieler', 'dort', 'zornig', 'Grunze', 'Lehrerin', 'läßt', 'versammelt', 'anbelangt', 'erhobener', 'darunter', 'kann?«', 'war.', 'Stimmen', 'wiederholen', 'klaräugiger', 'brauche', 'kräftigen', 'eilten', 'schwache', 'deutlich', 'spät', 'weislich', 'Zeugen.«', 'kreischte', 'niesen', 'umgeworfen', 'Arrum«', 'zerbrochenem', 'ausgesucht', 'Aufschrift', 'halbe', 'komische', 'Mäusen', 'verwandeln', 'gewahr', 'Unsere', 'lächerliche', 'beinah', 'einer', 'Schüssel', 'alle', 'gähnend', 'darauf', 'Erzähle', 'bemerkt', 'nachher.«', 'auszustrecken', 'kommt?«', 'Unterdrückt', 'dauert', 'Griffel', 'Haken', 'Verquerer', 'genähret', 'Ende', 'verwirrt', 'vorbeikam', 'Feuerzange', 'Ganzen', 'schöner', 'zu', 'verletzt', 'entgegen', 'rieb', 'Schultern', 'war.«', 'schlimmer', 'hauptsächlich', 'zufrieden?«', 'eifrig', 'kurzen', 'Pfeil', 'müßt', 'wüßte', 'ziemlich', 'verdreht', 'verurtheilen', 'Dame', 'dumme', 'Perücke', 'Thatsache', 'bitter', 'wen', 'wart', 'verschiedenen', 'Herzogin?«', 'bedeckte', 'Höre', 'folgten', 'Besorgungen', 'Arbeit', 'veränderte', 'Verse.«', 'Flamme', 'Pfeffer', 'zusammengefaltet', 'glitt', 'Beamte', 'mitten', 'genommen', 'Gesichte', 'zurückgekommen', 'tollen', 'schläft', 'altes', 'Umständen', 'trinke', 'irgendwo', 'Diamanten', 'aufhörte', 'denkst', 'je', 'genau', 'zweiter', 'Nähe?«', 'beendigt', 'knabbern', 'Krume', 'Entrüstung', 'eher', 'Bilde', 'Senf', 'Lachse', 'Wäre', 'schlägt', 'gelernt.«', 'wachse.«', 'Purzelbaum', 'plötzlich', 'behauptete', 'spielen.«', 'Unfalles', 'Kutsche', 'Conversationsbuche', 'auch', 'bemerkte', 'wobei', 'will.«', 'Eifer', 'Lichtung', 'Rand', 'furchtsam', 'Trinke', 'Kunststücke', 'aufstand', 'tauchen', 'Muster', 'Seesterne', 'Grafen', 'Hausmädchen', 'hinausgewiesen', 'gesprochen.«', 'Verhörs', 'vorkam', 'zuzusehen', 'zusammen', 'rückte', 'abstieß', 'jeden', 'Wenn', 'verdutzt', 'unentschieden', 'schnellen', 'herabhingen', 'wunderst', 'Thür', 'confus', 'fort.«', 'abreißen.«', 'Blumentopf', 'steif', 'Suppen', 'grünst', 'vorhin', 'Moral', 'aß', 'Stimme', 'aufgelegt', 'Zuckerplätzchen', 'große', 'Schon', 'Als', 'wäre', 'ängstigst', 'hereinkommen', 'Zottelbär', 'viel', 'Bedenke', 'Mittlerweile', 'finde«', 'Lieblingsworte', 'leid', 'geräumt', 'Knöcheln', 'Bart', 'Kinder', 'welche', 'habt.«', 'herum.«', 'wünschen', 'Augenblick', 'Strand', '_weit_', 'Rufe', 'Leinwandsack', 'Keinen', 'Königin', 'Wäsche?«', 'Pfund', 'kurios', 'aufsagen', 'Tanzen', 'Bewegung', 'Jetzt', 'triefenden', 'Wörtern', 'überklug', 'leben', 'betrübt', 'Armes', 'Rechnen', 'Spielen.«', 'niesten', 'übernehmen', 'vorige', 'Bringe', 'zärtlich', 'darin', 'Frage', '_Fall_', 'Wörter', 'stehe', 'Klavierspielen', 'hätt', 'köpfen.«', 'förmlichen', 'vortreffliche', 'ausgedacht.«', 'vermuthlich', 'Hause', 'Buche', 'ermuthigender', 'Uebrigen', 'Notizbuch', 'solchem', 'vom', 'Ohr', 'bringen', 'völlig', 'o', 'Sache', 'jedes', 'wählte', 'leider', 'Eile', 'Nase', 'ausginge', 'desto', 'reizendsten', 'seid', 'Englisch', 'streitigen', 'klänge', 'Menschenverstand', 'Von', 'Lackei', 'Blicke', 'kam', 'Croquet-Sachen', 'regelmäßiges', 'Glas', 'verwechselt', 'Schluchzens', 'Sie', 'gleich', 'wolltest', 'erreicht', 'Hund', 'einfacher', 'thu', 'daß', 'Hasen', 'guckte', 'Murmelthiers', 'Schluß', 'zog', 'malen', 'Probe', 'Wirklich', 'Pfoten', 'Grunde', 'Sein', 'knabberte', 'Zähne', 'liebkosendem', 'entlang', 'Gemisch', 'Klügste', 'widersprochen', 'verschieden', 'außergewöhnliche', 'Familie', 'denkt', 'Sieht', 'T', 'zurückgewandert', 'erfolgte', 'und', 'Gnaden', 'pflücken', 'müßte', 'fassen', 'Rücken', 'Einen', 'schwermüthigen', 'sträubte', 'bringe', 'Adresse', 'Elster', 'Spielen', 'Vervielfraßen', 'heftige', 'Entweder', 'gescheidter', 'zankten', 'knurrt', 'steht', 'sollte', 'zurücklaufen', 'fiele', 'ist«', 'leises', 'begleitet', 'sprangen', 'prunkenden', 'Juchheisasah', 'guter', 'herüber', 'grausamen', 'ausführen', 'hilf', 'Wofür?«', 'spräche', 'Kamillenthee', 'Greif', 'streckte', 'Ton', 'Anzahl', 'Bücher', 'Niemals', 'sonderbarer', 'Klappern', 'anzuziehen', 'Laune', 'hörte', 'kleiner', 'alten', 'Gras', 'Siebentes', 'beide', 'nickte', 'schwierig', 'seine', 'trippelte', 'wo', 'Fuhrmannspferde', 'heißt', 'derselben', 'Bahn', 'verworrene', 'gewöhnliche', 'glaubst', 'Fressen', 'Springbrunnen', 'Paar', 'gefälligst', 'Sehr', 'sie.«', 'Gefühl', '_mich_', 'Verstand', 'goldene', 'athme', 'nich', 'klarer', 'gegeben', 'Wollte', 'Grinsen', 'biß', 'dünn', 'es', 'kürzlich', 'weil', 'Empfindung', 'auffressen', 'hineingesprungen', 'vorzustellen', 'blickte', 'verschwunden', 'Erstens', 'goldne', 'Tulpenzwiebeln', 'wem', 'Throne', 'Stelle', 'feige', 'Tassen', 'verfehlt', 'Bube', 'ganzen', 'gefolgt', 'Abenteuer', 'Hummer', 'Dinge', 'gefällig', 'kamen', 'stellte', 'Wilhelm', 'zurückgehen', 'jemand', 'Krachen', 'Kissen', 'Fand', 'hervorkam', 'Fragen', 'Werk', 'klingende', 'Vermuthlich', 'Schutz', 'versiehst', 'aufzuthun', 'Glieder', 'Schuld', 'sofort', 'zeigen', 'Die', 'einbohrte', 'Jahren', 'Wogen', 'keines', 'kenntest', 'Stille', '_bitte_', 'nach', 'bitten', 'Unke', 'wirklich', 'unbequem', 'geöffnet', 'gethan?«', 'hinterließ', 'träumte', 'genug', 'spät.«', 'dein', 'denn?«', 'Viertes', 'kroch', 'einfallen.«', 'Was', 'auszuprobiren', 'wahrer', '_war_', 'einerlei', 'Unterhaltung', 'niest', 'Hm', 'ungerechtere', 'gebraucht', 'Igel', 'Tasche?«', 'gute', 'Denken', 'Zumuthung', 'linken', 'verstehe', 'sind', 'gelebt', 'Er', 'Geschöpfe', 'griff', 'spähend', 'sterben', '_Trinke', 'nennen', 'gerecht', 'kannte', 'nieste', 'verdamme', 'aufzustehen', 'etwas?«', 'versuchen?«', 'Auster', 'gefressen?«', 'rechte?«', 'schicke', 'bewegte', 'fest', 'befrei', 'suchen', 'ersten', 'Das', 'unterfaßte', 'Pflanze', 'ausdrücken', 'beachtete', 'fröhlichem', 'verdutzten', 'Zeit', 'allgemeinen', 'durchaus', 'thust', 'wunderwild', 'Spielregeln', 'zusammenschieben', 'dienen', 'unbestimmte', 'Fange', 'aufgerollt', 'Gipfel', 'herunterwinden', 'Kehle', 'Wallroß', 'betrogen', 'Boden', 'Töpfe', 'ungeschickt', 'setzt', 'Junge', 'Paris', 'hinzu', 'gekommen.«', 'allerfeinste', 'ließ', 'fortzumachen', 'lassen', 'sicher', 'möchten', 'demüthig', 'wüßten', 'Bemerkungen?«', 'Tintenfaß', 'kommen', 'stelle', 'übermorgen', 'klatschte', 'hersagte', 'Glacee-Handschuhen', 'Liebling', 'Aufgaben', 'wenden', 'redest', 'Lippen', 'höchst', 'darf?«', 'gesprungen', 'nachdenklich', 'Tante?«', 'glücklichen', 'Wunder', 'müßten', 'Cheshire-Kater', 'hast.«', 'gelehrt', 'ausgeführt', 'rother', 'gearbeitet', 'verzehrt', 'fortzukommen', 'gebückt', 'Essen', 'Tische', 'fächelte', 'wahr', 'Stange', 'Else', 'Zwei', 'beobachtet', 'Rock', 'langen', 'blieb', 'hättet', 'Bratpfanne', 'erkennen', 'hochstämmiger', 'was', 'kicherten', 'ehrbar', 'gefühlt', 'Rennen', 'Guter', 'dachten', 'seinem', 'undeutlicher', 'ist.«', 'sauertöpfisch', 'Schüsseln', 'schnurr', 'nämlich', 'Blätter', 'liebe_', 'Geschöpf', 'Schüler', 'gefunden', 'Wann', 'abknabberte', 'blos', 'Kessel', 'Faulpelz', 'Gaste', 'versteht', 'aufgestanden', 'Zahl', 'großem', 'Zeitung', 'heißen', 'zittern', 'hinunter', 'fühlen', 'Papier', 'dürfen', 'großen', 'bewahren', 'anwendet.«', 'Nehmt', 'Küchenschränken', 'Feuer', 'geringelten', 'entfaltete', 'dies', 'der', 'arme', 'Pult', 'schlau', 'werden?«', 'eng', 'Augenbraunen', 'Stigand', 'damit', 'hungrig', 'Schnurrbart', 'Leiterwagen', 'jemehr', 'hielte', 'etwas', 'Unordnung', 'Wau', 'deines', 'befolgte', 'nimm', 'schreiben', 'Wohnung', 'Personen', 'Schemel', 'welke', 'gefiel', 'fortliefe', 'Schnäuzchen', 'Wichtiges', 'Tafel', 'existirte', 'abwärts', '_es_', 'schüchterne', 'verlassen', 'hinaus', 'gefallen?«', 'zuzuhören', 'wildes', 'verlies', 'verfehlte', 'losmachen', 'chatte?=«', 'habe', 'Acht', 'leite', 'Drum', 'zurückreisen', 'unmöglich', 'Sogar', 'unterscheiden', 'klangen', 'Licht', 'da?«', 'besann', 'unglückliche', 'Ratten', 'Schön', 'kühlen', 'worauf', 'Pinsel.«', 'versetzte', 'Furche', 'Märchen', 'Wangen', 'nichten', 'Töne', 'Breitegrade', 'fortzuschaffen', 'glatt', 'Leibe', 'trägst', 'hineinsteigen.«', 'grabe', 'Aal', 'spielen', 'drei?«', 'wohnt', 'leise', 'horchen', 'sagt', 'erwarte', 'Winter-Nachmittag', 'sobald', 'frei', 'ging', 'trat', 'Thieres', 'disputirt', 'las', 'kneifen', 'Pilzes', 'lief', 'Hauptschwierigkeit', 'Würde', 'finde', 'bekam', 'Könntet', 'aufstehen', 'Stillschweigen', 'derben', 'gereiztem', 'fielen', 'zuweilen', 'ganze', 'schmachtender', 'Tropf', 'Brunnen', 'suche', 'hört', 'zwischen', 'Wickelkinde', 'glücklicherweise', 'Bild', 'Einzige', 'Schreck', 'eins.«', 'worüber', 'prüfend', 'Art.«', 'vernünftigem', 'schrieben', 'Glasscherben.', 'bringe?«', 'Mensch', 'wartete', 'nirgends', 'Handschuhe', 'sperrten', 'Frettchen', 'Schildkröte_', 'Ne', 'Kuchen?«', 'Wiegenlied', 'Würdest', 'Worten', 'verzehrte', 'Eidechse', 'Köpft', 'Kampf', 'reichen', 'sondern', 'triumphirend', 'Lacie', 'Experiment', 'träumen', 'Schweigen', 'aus.', 'Pfennigen', 'wiederholten', 'Antworten', 'winzig.«', 'Katers', 'rauschen', 'französischen', 'angenehme', 'abwechselnd', 'schlich', 'Verkauf', 'sagt.«', '_hier_', 'erinnerten', 'welchem', 'ab', 'Wechsel', 'freute', 'warten', 'grinst?«', 'wundert', '\"', 'seltsam', 'feierlicher', 'gabt', 'ungewohnt', 'hinsah', 'Brodmesser', 'gesagt', 'grausam', 'durcheinander', 'furchtbar', 'verlieren', '*', 'vergoß', 'Einbildung', 'fehle', 'hingehen', 'Fächer?«', 'grünen', 'mir', 'abwärts?«', 'gegeben.', 'köpfen', 'Gefangenen?«', 'verbrannt', 'Person', 'Erhöhungen', 'heraus', 'Befangenheit', 'kommt', 'Herde', 'nicht.«', 'Jungen', 'ausgestreckt', 'aufmerksam', 'folgte', 'Bade', 'anfing', 'anwenden', 'merkwürdig.«', 'fällt', 'n.«', 'grub', 'Ersticke', 'weniger', 'Schwimmt', 'stecken', 'sieht', 'anständigen', 'Gericht', '_nicht', 'durchdringender', 'wär', 'darein', 'Seiten', 'Seufzer', 'duckte', 'Geduld', 'Supp', 'Sorgen', 'Rohres', 'erzähle', 'Urtheil', 'Meile', 'geben?«', 'Hunde', 'Zuhören', 'gründlich', 'gelang', 'verdrießlich', 'sprechenden', 'brachen', '_du_', 'Frau', 'Kopfschütteln', 'Lächeln', 'überlegte', 'diesem', 'Usurpation', 'ach', 'eilig', 'Bißchen', 'grade', 'wirklich?«', 'Traum', 'müssen.«', 'Setzt', 'verfahren', 'Alte', 'herzlich', 'Raben', 'junge', 'solltet', 'verändern', 'diesen', 'p', 'Gefangenen', 'Längegrad', 'Muth', 'können', 'zurückwerfend', 'hält', 'wichtiger', 'vollständig', '_treffen_', 'Schildkrötensuppe', 'Blick', 'zugleich', '_dich_', 'winziges', 'Beweise', 'wirkliche', 'kannst', 'fangen', 'denke', 'Versteht', 'Napf', 'wärest', 'deinen', 'Noth', 'Vortheil', 'Seht', 'Sturm', 'juchhe', 'versucht', 'Schafskopf', 'Kö', 'Frosch-Lackei', 'Puffe', 'Im', 'blaß', 'vorlas', 'vorgefallen', 'wild', 'Eine', 'Treiben', 'commandiren.«', 'hoffnungsvollem', 'gewissen', 'Länge-', 'gin', 'dahinterstehenden', 'Wildpret', 'seien', 'vorstellen', 'Wäldchen', 'Schritten', 'Worte', 'allen', 'Arme', 'auszudrücken.«', 'falschen', 'Erinnerung', 'was?«', 'übrigen', 'Renne', 'umgestoßen', 'heiß?«', 'Da', 'wärest?«', 'einschlief', 'mal', 'Drittes', 'genehm', 'Ordnung', 'ausgraben', 'Thier', 'niedrige', 'toll', 'persönliche', 'Schalthier?«', 'Klavier.«', 'Dumme', 'mitfreuen', 'lautes', 'dreizehn', 'schön', 'ansah', 'erbleichte', 'daraus', 'Jedoch', '?', 'Hunden', 'gewesen', 'fortschaffen', 'Scherben', 'werden.«', 'gutes', 'Milchtopf', 'sprechend', 'Zug', 'du?«', 'entgegnete', 'Alles?«', 'verwickelte', 'gefallen', 'vorhielt.', 'Reihe', 'Stunde', 'paßt', 'langschwänzige', 'dreien', 'vergessen.«', 'Mich', 'leer', 'Ihr', 'Fünf', 'Fürst', 'wüthender', 'Platz', 'drum', 'verstehst', 'fünften', 'abschneiden', 'Köpfchens', 'Unbehagen', 'Gestohlen', 'nützen', 'vergißt', 'stillschweigend', 'Hecke', 'Einem', 'schwach', 'anfing.', 'Trost', 'schneite', 'See', 'Sprich', 'Koch', 'klopfte', 'Versprechen', 'leeren.«', 'Andern', 'langsam', 'quiekste', 'nächstens', 'Erklärungen', 'vor.', 'Gebüsch', 'schlagt', 'roth', 'Pack', 'gesteckt', 'fingen', 'abgespült', 'lagen', 'Hau', 'Furcht', 'underschöne', 'sein', 'Zuge', 'zurückkam', 'schluckte', 'verschnitten', 'malen?«', 'Pfefferbüchse', 'vertheilte', 'Gerichtssaal', 'Fall', 'Haufen', 'einzigen', 'seiner', 'Livree', 'lächelte', 'scheint', 'anderen', 'keinen', 'solltest', 'einzelne', 'verwirrt.«', 'schnell.«', 'ist', 'gebracht', 'Edgar', 'ein', 'Blättermeer', 'nehmen', 'Handschuhen', 'gelaufen', 'Ha', 'langsamer', 'naß', 'Schauer', 'Lachs', 'alt', 'erwartungsvoll', 'woraus', '_schalt', 'neue', 'hinrichten', 'Gestalt', 'Seestern', 'stimme', 'Katzenkopf', 'zur', 'darunter.«', 'Geschenk', 'Gespräche?«', 'Wohl', 'Geschenke', 'Hase', 'flüsterte', 'tritt', 'bewaffnet', 'dir?«', 'hohler', 'Schalthier', 'Kieseln', 'Alter', 'Verhör?«', 'gewiß', 'schenken', 'anfingen', 'Seh', 'eignen', 'Kopfe', 'Sammetkissen', 'vermischten', 'Ananas', 'schrie', 'Achse', 'Spur', 'großer', 'lag', 'zusammenstecken', 'weißen', 'zog_', 'sehe.«', 'Wozu', 'herunter', 'liebes', 'wenig', 'lang.«', 'bemerken.«', 'dergleichen', 'begegnete', 'unterbrochen', 'wahr?«', 'Wicht', 'Spaß', 'gehabt', 'abzuwehren', 'zurückgegeben', 'Wässerte', 'Spuren', 'aufgeregt', 'jene', 'lassen?«', 'Stunden', 'angesehen', 'nieder', '_Iß', 'Füße', 'Weg', 'Schwierigkeiten', 'sitzen', 'Ein', 'brennt', 'Liebes', 'ihrer', 'Maßstabe', 'Wieder', 'wieder', 'gewöhnt', 'Reiche', 'gebe', 'Hitze', 'spazieren', 'muthlos', 'gekannt', 'liebevoll', 'hießen', 'vergessen', 'Gärtner', 'versprochen', 'gestehen', 'soll.«', 'Wohlgeboren', 'ausstehen', 'fragst', 'Schildkröte.«', 'jetzt.«', 'Wochen', '_kann_', 'Nie', 'messen', 'ehe', 'Neugierde', 'Nachdrucke', 'losrannte', 'Küsten', 'ungern', 'Schrei', 'Hummers', 'trifft', 'stolz', 'Rollen', 'Geh', 'etwa', 'Augenblicke', 'dicht', 'weinen', 'Stoß', 'drinnen', 'schaukelte', 'Saaldecke', 'deren', 'fragend', 'Dinger', 'Vorbeifallen', 'Könige', 'sich', 'geschmückt', 't', 'Rauschen', '_können_.«', 'Frist', 'überrascht', 'uppe', 'funfzehn', 'giebst', 'durchkriechen', 'Nähe', 'Ente', 'Tillie', 'Blumen', 'keine', 'Verwirrung', 'ernstes', 'weißes', 'vorüber', 'Während', 'darauf.', 'wunderliche', 'funfzig', 'extra.«', 'überblicken', 'wunderbar', 'Gesicht', 'Herzensangst', 'von', 'Welt', 'insbesondere', 'schwierige', 'Geschworne', 'ob', 'Bald', 'Concert', 'fortgegangen', 'Fünftes', 'fragen', 'Abziehen', 'beruhigt', 'Form', 'niedrigen', 'einigermaßen', '_irgendwo_', 'voll', 'Gerstenzucker', 'über', 'häßliche', 'Witz', 'Schlagt', 'traurig', 'schade', 'fühlte', 'ruhig', 'schlafe«', 'eiferte', 'entdeckt', 'Aerger', 'Enthauptungen', 'Mores', 'gerathen', 'Gleich', 'Saale', 'Beide', 'jede', 'meinst', 'haben?«', 'Treppe', 'Köpfe', 'nicht', 'befand', 'Unfall', 'wandte', 'rufend', 'schluchzend', 'Vier', 'hersagen', 'gegessen', 'schwamm', 'Größe', 'Füßchen', 'Ruhe', 'Hirn', 'Buchstaben', 'Seit', 'finden', 'Minen', 'blutet', 'Taube', 'dennoch', 'Schlägt', 'naseweis', 'liebsten', 'erzählte', 'Locken', 'Majestät', 'Danke', 'schrak', 'einfach', 'Fußspitzen', 'bescheiden', 'schluchzte', 'Anderen', 'blinzeln', 'fürchten', 'dunkel', 'wurde', 'wahrhaftig', 'anfängt', 'Fluten', 'Allem', 'Kinn', 'Krallen', 'wißt', 'ganz', 'vertilgt', 'öffnete', 'Sollen', 'warfen', 'Tunnel', 'Hauptstadt', 'herab', 'erinnerte', 'Versammlung', 'bildete', 'hohe', 'Martin', 'fügte', 'wollten', 'vorstelle.«', 'standen', 'Angelegenheit?«', 'dumm', 'entschuldigte', 'Aepfel', 'Pfanne', 'Königin?«', 'geformt', 'ängstlich', 'sch', 'recht', 'Tellern', 'sauberes', 'trauen', 'halblauter', 'Nachdenken', 'Mittelpunkte', 'warf', 'jagen', 'schwatzen', 'Jedenfalls', 'abläugnen', 'er.«', 'Verwickelt', '_Eingemachte', 'für', 'gemacht?«', 'Ahnung', 'manch', 'Wesen', 'beschloß', 'Nichten', 'Ueber', 'Nenne', 'Auf', 'stolperten', 'Rückt', 'Weile', 'Laßt', 'mich_«', 'schönste', 'Muth.«', 'dir', 'eintrat', 'umherschwamm', 'trocknete', 'unnütz', 'Nest', 'kommandirt', 'geklopft', 'schwächer', 'Athem', 'versammelten', 'erkannte', 'Rhein', 'verdrießlichem', 'vorsichtig', 'errieth', 'bleiben', 'verschwand', 'oben', 'aushalten', 'angeredet', 'Gedicht', 'Tone', 'wache', 'Gebt', 'Flußufer', 'vorzüglich', 'Steht', 'spinnt', 'Unsinn.«', 'umhersah', 'Mord', 'aufhöre', 'Gedanken?«', 'um', 'Antrag', 'festhalten', 'Beinchen', '_einen_', 'krank.«', 'reizend', 'betrachtete', 'Annahme', 'murmelte', 'laßt', 'Gegenstand', 'Aufregung', 'Munde', 'Sage', 'wo.«', 'zurückging', 'ihnen', 'vier', 'hinwirft', 'elften', 'Scheeren', 'dahinter', 'zwei', 'Bei', 'Ding', 'Besonders', 'unablässig', 'ist?«', 'Glasscherben', 'Warum', 'Kaninchen', 'beruhigte', 'lächerlich', 'anfängt.«', 'anblickte', 'schlossen', 'Zurückwerfen', 'Thüre', 'Spielst', 'gemacht', 'anfühlen', 'Still', 'Sachen', 'Ah', 'fortgesetzt', 'wedelt', 'jung', 'Sagtest', 'fege.«', 'Rieseln', 'wanderte', 'wenigen', 'rauchte', 'statt', 'geh', 'gesehen?«', 'unterdessen', 'halte', 'feierlichen', 'derjenige', 'heftig', 'Hinunter', 'aufhören', 'an.«', 'leicht', 'Wald', 'notirten', 'stritten', 'patriotische', 'erreichte', '_Kaninchen_«', 'königliche', 'Concerte', 'Pinsel', 'vertheidigte', 'Mäuseloch', 'Verwunderung', 'entschieden', 'Leiter', 'fast', 'hat', 'fragen.«', 'geriebene', 'Merkwürdigste', 'abschüttelte', 'unterdrückten', 'euer', 'zugemacht', 'Bruders', 'Groschen', 'Ueberzeugung', 'sprechen', 'gelegt', 'Fußboden', 'bestürztem', 'Privatstunden', 'Mäuler', 'per', 'schämen', 'gab', 'Tasche', 'vorkommt.«', 'nehmend', 'verklage', 'brennend', 'Wer', 'obgleich', 'werfen', 'fortgingen', 'Rechtes', 'redete', 'Streit', 'Regel', 'zu?«', 'wunderlich', 'Außerdem', 'brauchten', 'schloß', 'is', 'bestraft', 'falsch', 'dadurch', 'richtige', 'wunderhübschen', 'drängten', 'leuchtete', 'Junker', 'Beweisgründe', 'Chor', 'Schwanze', 'Weißfisch', 'Empfang', 'Beifall', 'sieh', 'schweres', 'Glase', 'Gewichte', '_Trink', 'Ruf', 'Grammatik', 'bequem', 'anhören', 'schläfrige', 'Nöthigste', 'tiefster', 'wuchsen', 'stampfte', 'Croquet-Felde', 'Trompete', 'beleidigen', 'anders', 'Esel', 'Sei', 'thun', 'Wovon', 'einen', 'spielten', 'verwandelte', 'strenge', 'So', 'augenblicklichen', 'sagen.«', 'kreuzweise', 'Knochen', 'grüne', 'Katzen?«', 'versuchte', 'bücken', 'kleiner.«', 'Auflauf', 'erlauben', 'andere', 'wunderschöne', 'Kleinen', 'hinrollen', 'wann', 'Theelöffel', 'könnten?«', 'oh', 'Minute', 'Reisig', 'führte', 'Noth.«', 'Nutzen', 'werdet', 'Eingang', 'Immer', 'Butterblume', 'Vers', 'kleinsten', 'erster', 'Teleskop', 'hörten', 'Vögeln', 'Hülfsquelle', 'Fell', '_Was_', 'Entschiedenheit', 'reine', 'Richtig', 'Kapitel', 'rundes', 'Rauch', 'tragisch.«', 'Räthsel', 'hineinsteigen', 'darf', 'Verzug', 'Schwester', 'umhersprang', 'Wechseln', 'rücken?«', 'beobachten', 'haltend', 'geradeaus', 'Variationen', 'unterschrieben', 'Woche', 'umgab', 'geworfen', 'Singe', 'entzweit', 'aufzumachen', 'feines', 'macht', '_mehr_', 'hier-', 'blühender', 'Herz', 'dachte', 'groß', 'muthig', 'könnt', '_übler_', 'Wessen', 'wilden', 'verquerer', 'brach', 'überreichte', 'drei', 'Ellbogen', 'heiserer', 'erfahr', 'Daten', 'Trappeln', 'eure', 'behaupten', 'draußen', 'Bemerkung', 'gäbe', 'Unsinn', 'Reisen', 'einigen', 'gedankenvoll', 'erste', 'sprach', 'beschäftigt', 'vielleicht', 'machen', 'Grinse-Mies', 'Seele', 'sicherlich', 'knixen', 'rechteckig', 'Filax', 'könntet', 'wohin', 'Hutmachers', 'verschluckten', 'Beispiel', 'Mercia', 'lauter', 'versuchen', 'weiße', 'schneller', 'kümmert', 'leiser', 'Kön', 'Jahre', 'Kette', 'mit', 'zuwarf', 'Name', 'zurecht', 'Armstuhl', 'rührte', 'Pfannen', 'auszuruhen', 'Ereigniß', 'Gesanges', 'Antwort', 'Arm', 'Meine', 'spielt', 'Vielerlei', 'Stückchen', 'hineingestellt', 'soll?«', 'ängstliches', 'Schlüsselloch', 'gesetzt.«', 'Rande', 'Pulte', ')', 'hineingelaufen', 'roh.«', 'Morgens', 'Elftes', '_Dinah', 'wäscht', 'trocknen', 'Etwas', 'zuvor', 'Farbe', 'zurückholen', 'Entfernung', 'armseliger', 'hinunterzusehen', 'Schade?«', 'losen', 'verursachte', 'Freunde', 'Eure', 'Wirklichkeit', 'Platze', ':', 'Ja', 'hölzernen', 'Klauen', 'nie', 'euch?«', 'Diese', 'Greifen', 'brummend', 'Fortgehen', 'Grasplatz', 'näherte', 'richtig', 'beachteten', 'Rüstung', 'singen?«', 'erlangen', 'weder', 'euch', 'fürchtete', 'dahin', 'Zwölftes', 'Wabbel', 'da', 'ginge', 'Anwendung', 'Fenster?«', 'schlief', 'vorbeiging', 'langes', 'beginnt.«', 'rothglühendes', 'Preis', 'wachsen', 'zeigt', 'baten', 'winziger', 'Bienennest', 'Zusehen', 'Einfall', '_deren_', 'bis', 'eingeladen', 'Küche', 'impertinent', 'saßen', 'Menge', 'Gange', 'geschieht', '_je_', 'so', 'selten', 'Besseres', 'thäte', 'welchen', 'Hand', 'bog', 'nachgeahmt', 'schlafe', 'mittanzen', 'langschwänzig', 'Gedichte', 'önigin', 'bedeutet.«', 'zugeben', 'Absichten', 'dann', 'Butter.«', 'Canterbury', 'feierlich', 'schütteln', 'herrlich', 'gebogen', 'Schwänze', 'geschmeidig', '_Alice', 'Unterbrechung', 'erwartete', 'Spiel', ']', 'schläfst', 'Ostern', 'neben', 'Morcar', 'schwimmen', 'rühren', 'hängen.«', 'Schafft', 'erwachsen', 'Schlag', 'gedeckter', 'Dein', 'anstellen', 'Dodo', 'Diejenigen', 'adressirt?«', 'Minuten', 'Stöße', 'eilte', 'wimmeln', 'Thüren', 'verworrenste', 'unterhielt', 'getrocknet', 'fortzunehmen', 'läugnen', '_', 'schrecklich', '_was_?«', 'abschickte', 'Der', 'möchtet', 'tolle', 'Warum?«', 'schweigend', 'rauchen', 'bist', 'versammelte', 'Schlange', 'Katzen', 'Ufer', 'Wirkung', 'ohne', 'seht', 'Sollst', 'herumgestellt?«', 'Verse', 'Gutshofes', 'Pause', 'Fangt', 'sein?«', 'bedeckten', 'liegend', 'Sogleich', 'schlug', 'manchmal', 'Frosch', 'Langschwänzig', 'athmen.«', 'Dummer', 'warst', 'Ohrfeige', 'gewöhnlich', 'riecht', 'Werth', 'angeschrieben.«', 'ruhte', 'Seeufer', 'Wahrheit.«', 'unglücklichen', '_sehr_', 'gewonnen', 'Und', 'fand', 'einige', 'vor', 'lange', 'vollkommen', 'Einladung', 'rücken.«', 'runden', 'traue', 'zeigte', 'gern', 'anziehen', 'Lärm', 'sieben', 'Schlösser', 'Brunnen?«', 'Schulter', 'einzubilden.«', 'verwandelt?«', 'wohntet.«', 'gänzlichem', 'Rechnung', 'Erkläre', 'unterstand', 'bekommt', 'Guck', 'Salzwasser', 'malerisches', 'nicht?«', 'fallen', 'Erstaunen', 'aufging', 'gestoßen.«', 'Herren', 'Gefallen', 'Dachspitze', 'dein.«', '_der', 'aussieht', 'glaubt', 'Geographie', 'weißer', 'Ueberraschung', 'fortging', 'Gesetz', 'aufzählte', 'aufpassen', 'schrieb', 'Dem', 'hinab', 'tiefe', 'gut', 'Memme', 'kannst.«', 'fetter', 'gewendet', 'Auseinandersetzung', 'Strenge', 'Vielleicht', 'Gieb', 'los', 'wächst.«', 'trinkt', 'hinein', 'Hagel', 'gepuderte', 'bedeckt', 'gepflanzt', 'Wachtelhund', 'denselben', 'Ueberlegung', 'vorbeihuschte', 'Glastische', 'verwandelten', 'Reitersmann?«', 'ungeduldig', 'Darum', 'Weißfische', 'Seehunde', 'hat.«', 'Trinken', 'verschämt', 'merkwürdiges', 'herauskommt.«', 'bat', 'anzufangen', 'Ihren', 'schwermüthig', 'Spaß?«', 'Eisenbahn', 'erwiedern', 'aus', '_Mal_', 'schöne', 'Legen', 'Stücke', 'Caucus-Rennen?«', 'drangen', 'Westentasche', 'Honigseim', 'bestand.', 'Gerichtshofes', 'Augenschein', 'Grinse-Katze', '_Sprache', 'Tod', 'gar', 'damit?«', 'Geschöpfen', 'das', 'Du', '_davon_', 'wirksameren', 'Aber', 'thaten', 'Reitersmännern', 'tunkte', 'Sitte', 'hatten', 'recht.', 'tanzen', 'wird', 'kratzen', 'Jemand', 'betteln', 'hervorstehenden', 'Rosenstrauch', 'fort', 'aussahen', 'gelange', 'Sechzehnten', 'mitbringe', 'wären', 'vielen', 'Dreh', 'böse', 'Mittel', 'Daß', 'Füßen', 'altkluge', 'vertraulich', 'Wie', 'fegen', 'man', 'Angst', 'Gurkenbeet', 'Aufzüge', 'halben', 'bestreut.«', 'Kindheit', 'Glas_', 'lächelnd', 'galt', 'brauchen', 'Aufeinanderfolge', 'goldenen', 'nachging', 'scheinen', 'Zuhörer', 'gelernt', 'du', 'erscholl', 'Pilz', 'lauf', 'bestimmt', 'Meerschweinchen', 'bestätigte', 'Stück', 'all', 'Hjckrrh', 'fressen', 'unangenehme', 'Butterbrote', 'Aufwärts', 'Wat', 'gewartet', 'Jurist', 'Vögel', 'schlechter', 'mögen', 'getödtet', 'trinken.«', 'beseitigen', 'merke', 'Loch', 'allerdings', 'schicken', 'begreifen', 'Butter', 'aufgefordert', 'beißen', 'Senf-Bergwerk', 'Lehrer', 'indem', 'umhergesprungen', 'achthundert', 'wechselt', 'Unter', 'Kuchen', 'nöthig', 'entfernten', 'Eier', 'gestemmt', 'gedrückt', 'erwiederte', 'aufgeschrieben', 'unverwandt', 'hübsch', 'geschlossenen', 'gerannt', 'grimme', 'herauskommen', 'gewachsen', 'Theetasse', 'findet', 'Pergamentrolle', 'fortwährendes', 'weiß', 'hörbar', 'Passendes', 'zusammengebunden', 'endigte', 'fortwährend', 'schnitt', 'langer', 'wiederholte', 'würden', 'umherguckte', 'kann.«', 'Hunde?«', 'Wurm', 'durchdachte', 'weichen', 'Gegend', 'warum', 'ankamen', 'gehe', 'aufmachen', '_geht_', 'Weshalb?«', 'Mitteln', 'jetzt', 'Dummkopf?«', 'Bellen', 'Wein', 'Vierzehnten', 'hast', 'gellende', 'aufzuwaschen.«', 'beben', 'brüllte', 'reumüthigem', 'Stirn', 'piepte', 'Allerlei', 'Ohren', 'Thierchen', 'Bilder', 'reiferen', 'allgemeines', 'herzusagen', 'esse', 'seltsamen', 'Zeiten', 'Kratzfüße', 'frißt', 'Laß', 'krausem', 'Häuschen', 'Mitte', 'augenblicklich', 'darum', 'Schiefertafeln', 'Pfote', 'Weise', 'Tischfüße', 'Dies', 'gebildet', 'meines', 'schönen', 'Schmerz', 'Gut', 'Einige', 'klettern', 'fragt', 'später', 'gesagt?«', 'Zeck', 'Hutmacher.«', 'lehrte', '_Dinah_', 'Hut', 'rechte', 'Mit', 'Herold', 'aufsprang', 'hinzutrat', 'Schlüssel', 'Stiefel', 'Apfelsinen_«', 'junger', 'Durchaus', 'hübsche', 'eingekehret', 'Entschuldigungen', 'Neues', 'Flamingos', 'Unarten', 'Plötzlich', 'Abwesenheit', 'Croquetfeld', 'bedeutete.«', 'Nach', 'riefen', 'Tode', 'ihrigen', 'trägt', 'Wasser', 'vergeblicher', 'hielten', 'Zoll', 'Freilich', 'heulte', 'Schildkröten', 'geworden.«', 'schon', 'krank', 'fiel', 'häßliches', 'Sieh', 'Sommertage', 'hergesagt', 'gesucht', 'Geschichtskenntiß', 'Unwichtig', 'halb', 'anfaßt', 'unwissendes', 'holte', 'Ihre', 'ertrinken', 'aufgehört', 'folgenden', 'geringsten', 'Felsenriffe', 'mehre', 'begegnen', 'heraushängender', 'will', 'Hoffnung', 'neugierig', 'Sinn', 'königlichen', 'Oder', 'verstimmt', 'Huhka', 'führend', 'fahre', 'schlag', 'Halt', 'merkwürdiger', 'König', 'unsicher', 'Veränderung', 'Ob', 'endlich', 'ich.«', 'Weggehen', 'wirklichen', 'ma', 'zusammengedrängt', 'eintreten', 'Goldfischen', 'geben', 'Ecke', 'das?«', 'glänzenden', 'dumm.«', 'mich', 'Beweisstück', 'Tanz?«', 'längste', 'Ferne', 'plätschern', 'Kannst', 'wolle', 'wirst', 'Auch', 'Aufträge', 'geriebener', 'Thränen', 'vertreiben.«', 'Schlangen', 'kennst', 'einzige', 'umzusehen', 'wunderschön', 'klatschen', 'geworden', 'älter', 'gänzlich', 'Wechselt', 'gekommen', 'solchen', 'ausgedacht', 'blöde', 'umher', 'geschah', 'trank', 'wenn', 'Courant', 'Winde', 'rückwärts', 'nehme', 'Antwort?«', 'umsah', 'wozu', 'seufzte', 'besorgt', 'grob', 'Gehen', 'Rosinen', 'behandeln', 'wurden', 'Tisches', 'bemerkten', 'Fingerhut', 'niedliche', 'Titelbild', '_ich_', 'Oh', 'Griff', 'Königinnen', 'umgebogenen', 'spitzes', 'Hier', 'möchtest', 'Wahrheit', 'plump', 'eines', 'zurück', 'Darauf', 'Ausgehen', 'verbeugte', 'hingegen', 'schwarzblickend', 'befehlen', 'Verdruß', 'nachfühlen', 'Redens', 'Gäste', 'am', 'sorgfältig', 'tragen', 'merkwürdigen', 'weinte', 'allerlei', 'sein.«', 'dazu', 'flach', 'Sag', 'haben', 'erscheinen', 'eigentlich', 'wunderschöner', 'überlegend', 'Amtes.«', 'gingen', 'gerichtet', 'blauen', 'niedergeschlagenem', 'Sich', 'nöthigte', 'Einrichtung', 'Mäuse', 'sonderbar', 'hier_', 'heißt?«', 'Kuß', 'gedämpfter', 'Uhr', 'Mundwinkel', 'Messingschild', 'Höchste', 'nahe', 'jüngst', 'gespannt', 'Mittelpunkt', 'sechs', 'geringste', 'verderben', 'Mausefallen', 'bilden', '_An_', 'solche', 'Beamten', 'noch', 'vorbeirannte', 'Quieken', 'ausschlagen', 'geworden?«', 'Erscheinung', 'aufbellte', 'Brust', 'kostete', 'Sänger', 'bedauerte', 'gönnt', 'solle', 'zurückließ', 'nahm', 'Biegung', 'schwenkend', '_«', 'behalten', 'Kindesleben', 'jeher', 'eins', '_weniger_', 'verurtheilt.«', 'auf.', 'Shakespeare', 'wünschest', 'unterbrach', 'Flasche', 'zerreißen', 'erschrocken', 'thränenschweren', 'habt', 'armen', 'muß?«', 'halten', 'Keulen', 'Butterbrot', 'geschoben', 'Pilze', 'untersucht', 'Bitte', 'mer', 'schrumpfte', 'Bogen', 'vortrefflicher', 'sprich', 'wichtig«', 'Nicht', 'konnten', 'Verschwinden', 'beizustimmen', 'Richtung', '(', 'hab', 'Lampen', 'Erzbischof?«', 'sang', 'Abenteuern', 'Hinter', 'Gewitter', 'Fuß', 'Teleskop.«', 'alte', 'verließ', 'erkundigen', 'rasch', 'die', 'einem', 'Gedanke', 'Kasserole', 'gewinnen', 'Laßsein', 'Zickzack', 'spielen?«', 'auffuhr', 'sonst', 'wohl', 'reizender', 'hätten', 'Versehen', 'Gelegenheit', 'Tagen', 'wohnen', 'wunderte', 'Worauf', 'gegen', 'es?«', 'komisch', 'hinsetzte', 'Zeugen', '_das_', 'schlucken', 'Geschwornen', 'H.', 'als', 'liebe', 'weg', 'Vertraut', 'Hinrichtungen', 'sparsam', 'tragisch', 'unter', 'klang', 'Schal', 'machten', 'Theekanne', 'rauschte', 'Händen', 'ich', 'wachse', 'würdest', 'sank', 'wahrnahm', 'waren', 'Beifallklatschen', 'erstickte', 'Woran', 'Ist', 'Gegenstände', 'Engländern', 'Rosen', 'immer', 'lieben', 'behalten?«', 'einfältige', 'Edwin', 'ißt', 'lasse', 'Deinen', 'durch', 'Liebkosungen', 'wandern', 'brummte', 'betrübtem', 'dunkeln', 'Pelz', 'herum?«', 'Einst', 'ernsthaft', 'unmittelbaren', 'Pfuhle', 'lieb', 'Nilpferd', 'Salbe', 'Ausrede', 'auswärts', 'Hatte', 'ihr', 'umgewechselt', 'Nummer', 'gaben', 'Strande', 'Geklirr', 'gütigst', 'legte', 'schnell', 'anzureden', 'Glück', 'alter', 'Himmel', '_Chor_', 'nimmst', 'Schade', 'abflogen', 'helfen', 'Rittern', 'her', 'Vorstellung', 'heran', 'en', 'Decke', 'erst', 'Flamingo', 'schlage', 'Sch', 'commandiren', 'eine.«', 'Rede', 'schon.', 'gereizt', 'geschahen', 'rathlos', 'mag?«', 'Demnach', 'sagen.', 'klaren', 'bedeutend', 'bestand', 'geschehe', 'besah', 'Stellung', 'Köter', 'befangen', 'fangt', 'Erzählung', 'Kein', 'leisen', 'warest', 'Herzenskönig', 'denen', 'herausguckte', 'gehen.«', 'soeben', 'aus?«', 'Kind', 'Anderem', 'erklärt', '_Sie_', 'Alice', 'Theetassen', 'übte', 'eingeschlafen', 'wußte', 'Lebtag', 'früher', 'kurzer', 'lies', 'Knie', 'unwillig', 'Fläschchen', 'Schule', 'Mann', 'Suppe', 'demüthigem', 'Gurkenbeete', 'hoffend', 'gehest.«', 'allerbeste', 'benutzte', 'M', 'Fläschchens', 'fragte', 'geradezu', 'hilft', 'interessant', 'andern', 'schneit', 'könne', 'Tasse', 'ich?«', 'legen', 'Sprach', 'stellt', 'Laub', 'Schillern', 'doch', 'natürlich', 'fertig', 'keiner', 'brechen', 'entschließen', 'Ferkel-Kind', 'überlegen', 'trocknes', 'eimerweise', 'Erzbischof', 'unserm', 'Bildern', '--', 'höchsten', 'Brüllen', 'selbstzufriedenem', 'Maus', 'enthalten', 'bekommt.«', 'zwickte', 'erstaunt', 'eleganten', 'Diesmal', 'ließest', 'Zum', 'verdrießt.«', 'ertrug', 'begann', 'sehr', 'Uebrige', 'übel', 'Theegesellschaft', 'gefällig?«', 'diesmal', 'Erster', 'Corridor', 'sagte', 'förmlich', 'Kniffen', 'Eh', 'denn', 'eine', 'vergessend', 'Coeur-Bube', 'Fort', 'dafür', 'könntest', '_Oooh_', 'Gänseblümchen', 'Richtungen', 'einfiel', 'Grashalmen', 'einsam', 'urtheilen', 'übereilen', 'M?«', 'zurückschreckte', 'Bücherbrettern', 'anzusehen', 'ruhiges', 'famos', 'Herumschwimmen', 'schreien', 'ärgerlichem', 'Wem', 'geführt', 'Kamin', 'neuer', 'Zweifel', 'Zweite', 'hören', 'antwortete', 'Nichts', 'Gerichtsbeamten', 'Grüßen_', 'kurze', 'Treu', 'drängen', 'Hierauf', 'meine', 'manches', 'großartigen', 'Papste', 'hübscher', 'Dreier', 'durchzulesen', 'Baumwurzeln', 'Zuerst', 'Hutmacher', 'Breitegrad', 'wievielsten', 'sprang', 'Zehen', 'Zurück', 'kurz', '_ganz', 'Tanze', 'kaum', 'Karre', 'herzusetzen', 'Anklage', 'aufgefangen', 'gegangen', 'vorgenommen', 'angefangen', 'überhaupt', 'Traume', 'bedenken', 'würde', 'verwandelt', 'unglücklich', 'heftigen', 'Qualität', 'Stand', 'Wunderlande', 'plötzliche', 'verdientest', 'sehen?«', 'Reden', 'anfangen', 'Weilchen', 'verabscheut', 'vielmehr', '_weiß_', 'Spatzen', 'erheben', 'In', 'Jahr', '_Die_', 'müde', 'gelangen', 'behagte', 'Hummerballet', 'nah', 'lahm.«', 'trübselig', 'müsse', 'folgt', 'Wach', 'ausgetrunken', 'Plan', 'Versuch', 'gebunden', 'Haar', 'begleiten', 'holen', 'Brennt', 'gehorchte', 'großes', 'Fisch', 'aufzuschreiben', 'oder', 'Neuntes', 'soll', 'London', 'Schnauze', 'dazwischen', 'Dir', 'holt', 'erschreckten', 'hörst', 'hervorrief', 'würde.«', 'sollten', 'Bekanntschaften', 'bin.«', 'Geringste', 'begünstigt', 'mich«', 'Grund', 'Zeug', 'Dosen-Stehauf', 'zuredendem', 'warteten', 'drin', 'weh', 'letzten', 'fliegen', 'übrige', 'Publikum', 'Unverschämtheit', 'Faselhase', 'Antipathien', 'Geschichte.«', 'Wink', 'ziehen', 'Strümpfe', 'Kerl', 'gefällt', 'nächsten', 'schreite.«', 'Tochter', 'durchlas', 'Engelland', 'schlecht', 'Abtheilungen', 'An', 'freue', 'Soldaten', 'Gethier', 'dreister', '&c.', 'Kenntnisse', 'Unterricht.«', 'setzte', 'Teich', 'bin', 'einzelnen', 'Pat', 'übrigens', '_Barsch_', 'Grasplatzes', 'allgemeiner', 'einführen', 'Klasse?«', '.', 'vermuthe', 'nanntet', 'besinnen', 'gerathen?«', 'vorbeifuhr', 'Gestern', 'Stäbchen', 'Kaninchenbau', 'nett', 'uns', 'meinem', 'Redner', 'Nachtluft', 'nichts.«', 'ganzer', 'Herzogin', 'brauchtest', 'Gebrauch', 'Unterschrift', 'geflogen', 'trinken', 'nenne', 'dickem', 'Weihnachten', 'appetitlich', 'unterwerfen.«', 'adressirt', 'Art', 'Bäumen', 'Bemerkungen', 'sie?«', 'außerdem?«', 'kluge', 'womit', 'bist?«', 'Krebse', 'Kneift', 'werden', 'sehnte', 'Magst', 'freilich', 'Fracht', 'Berathung', 'Kommt', '_abwarten_', 'wöchentlich', 'Wahrhaftig', 'Hirtenknaben', '_muß_', 'Hälfte', 'geköpft', 'weit', 'kein', 'fliegt', 'goß', 'thut', 'folgen', '_dein_', 'Stehlen.«', 'Zimmer', 'Furchen', 'Küchenzwiebeln', 'Tisch', '_Fußteppich', 'sogar', 'hole', 'Kindes', 'Schöne', 'Leuten', 'Wege', 'donnerte', 'unangenehm', 'Haare', 'Möchtest', 'mögen.«', 'seltsame', 'verstehen', 'Normannen', 'Soll', 'reichten', 'schlüpfen', 'verneigen', 'Schiebe', 'Rath', 'merkwürdige', '!', 'herum', 'Denn', 'Atheling', 'Messer', 'erzählt', 'sollen.«', 'traben', 'Aussehen', 'gewohnt', 'rathen', 'rund', 'überhört', 'angeordnet', 'dabei', 'rechten', 'jedenfalls', 'Glaceehandschuhe', 'Kummer', 'fortspazierten', 'apportirt', 'hoffe', 'hindertet', 'daherschwamm', 'rannte', 'lernen', 'drehen', 'kleinlaut', 'schaffen', 'wie', 'gern.«', 'war', 'Geschichte', 'Sind', 'Brille', 'Schiefer', 'wollen', 'Hinrichtung', 'kann', 'Weinen', 'Schritte', 'erzählen', 'Zunge', 'abgeben', 'weiter', 'Abscheulich', 'armer', 'trotz', 'verbeugten', 'Stein', 'schlechte', 'unserer', 'Verzeihung', 'Mama', 'seinen', 'Sechstes', 'wollt', 'Wunderbar', 'nahen', 'Schwanzspitze', 'Kopf', 'an', 'schwer', 'außerordentlich', 'Ach', 'unsere', 'Befehl', 'herauszuhelfen', '«', 'wünschte', 'geringem', 'Beinahe', 'stehen', 'gesammelt', 'schien', 'anderer', 'verschlossen', 'wedle', 'förmliche', 'versehen', 'merkte', 'Geplärre', 'stehn', 'könnte', 'Rom', 'Semmel', 'Anfange', 'Freude', 'Zehntes', 'liegen', 'leiden', 'anfinge', '_keine_', 'unruhig', 'erhob', 'Aufgehängt', 'Schmetterling', 'fortschleichen', 'Geburtstagsgeschenke', 'stockte', 'kopfoben', 'meist', 'zitternder', 'verbergend', 'Gefängnis', 'Haupt', 'Recht', 'wehr', 'wisperte', 'auszubrüten', 'Friedenszeit', 'einfallen', 'früh', 'einexercirt', 'Spiele', 'bleibt.«', 'meinte', 'zweite', 'Nachbar', 'nichts', 'Körper', 'aufgehängt', 'Verhör', 'gelesen', 'ihrem', 'endigen', 'zwar', 'still', 'zwanzig', '_etwas_', 'Mir', 'beäugelte', 'geglückt?«', 'Strick', 'niemals', 'gemäßigt', 'Verwandlung', 'lehnte', 'Ecken', 'Sonne', 'Caucus-Rennen', 'wüthend', 'Händchen', 'Spielsachen', 'betrachtet', 'Zusammenziehen', 'Meilen', 'wohlfeile', 'kleines', 'Hände', 'Anderes', 'plätscherte', 'Schlaf', 'Kater', 'todt', 'glaube', '_Un_wichtig', 'Ferkel', 'Mangel', '_Chor._', 'Neuem', 'entsetzlich', 'wohlbekannte', 'est', 'Alle', 'bellte', 'gerunzelter', 'ausgedrückt', 'wovon', 'geweint', 'Pfropfen', 'Jnaden', 'Gerichtsdienern', 'Aussicht', 'erschrockene', 'versammeln', 'schmeckte', \"'\", 'höflich', 'grinsen', 'oft', 'rief', 'Für', 'gewandt', 'immerfort', 'Spielern', 'Buben', 'Wimmern', 'Vor', 'erleuchtet', 'Jeder', 'Pfui', 'angestarrt', 'klagendem', 'gefangen', 'Anführer', 'entfallen', 'Denke', 'Ihnen', 'erinnern', 'zitternd', 'wich', 'drängte', 'erholt', 'Illustration', 'kleinen', 'dessen', 'regelmäßigen', 'albern', 'davor', 'winzig', 'lernen?«', 'Flügeln', 'Tanz', 'Mund', 'knurre', 'unbehaglich', 'angekommen', 'Einer', 'läugnete', 'Beweis', 'Liste', 'knurren', 'Fächer', 'guten', 'geschehen', 'bedeutet', 'Gesellschaft', 'fliege', 'Freie', 'ihres', 'nachher', 'trübsinnig', 'Zweige', 'vorgegangen', 'Lied', '_manches', 'Punkt', 'unwichtig.«', 'ganzes', 'Maule', 's', 'Theestunde', 'wau', 'machst', 'Kirschkuchen', 'empfindlich', 'Reiben', 'Thränenpfuhl', 'lockig', 'allererst', 'schwatze', 'essen', 'Australien?«', 'Schuhe', 'gezählt', 'jar', 'Meinung', 'Dur', 'hättest', 'erblicken', 'bleebt', 'Gartens', 'Bekanntschaft', 'lege', 'niemals«', 'gestellt', 'erwähnt', 'Begriff', 'anliegendem', 'nein', 'werde', 'aufzuhören', 'höre', 'stützen', 'wies', 'Syrup-Brunnen.«', 'herantrat', 'erklärten', 'läugne', 'Stöhnen', 'Tatze', 'interessirte', 'größte', 'unten', 'dich', 'Meer', 'wäre.«', 'Kinde', 'mußten', 'Teller', 'ungebeten', 'Schnell', 'Zehn', 'Ausspruch', 'herein', 'zeigend', 'Lies', 'Wort', 'Greifisch', 'schüchtern', 'hundert', 'unförmliches', 'Kreise', 'seit', 'Goldne', 'Woher', 'kriegen', 'gehören', 'Nur', 'hängen', 'wegen', 'haben.«', 'vorbei', 'Dabei', 'bewachen', 'addirten', 'angestoßen', 'fuhr', 'grün', 'Festzügen', 'bunt', 'purpurroth', 'wenigstens', 'wundern', 'Vers.«', 'feinste', 'singen', 'Haus', 'Würd', 'größer', 'aufgeregter', 'Tag.«', 'Einzelne', 'aufgraben', 'reden', 'Luft', 'laufen', 'Merkwürdiges', 'sollen', 'kreischender', 'Schnüren', 'Es', 'Euer', 'Ohre', 'kopfüber', 'sich.', 'liefen', 'sollst', 'Bett', 'bemühen', 'Erstes', 'Gerade', 'Mäuschen', 'Besten', 'Augen', 'Wu', 'Heerdenglocken', 'Gartenthür', 'getragen', 'fange', 'Drei', 'Stockfisch', 'gekreuzt', 'entrüstet', 'herabflossen', 'starrte', 'Anblick', 'diese', 'Schriftstück', 'O', 'sprecht', 'erst.«', 'beiden', 'biegen', 'kopfunten', 'abtreten', 'Land', 'Tafelsteine', 'bestürzt', 'in', 'angerufen', 'Bäume', 'Kreis', 'niederknien', 'ausstreckte', 'nichts?«', 'Getöse', 'klinkte', 'feierlichem', 'Mies', 'Vorhang', 'Garten', 'hielt', 'zerbrochen', 'Niemand', 'ermessen', '[', 'dieser', 'küssen', 'Zauberfläschchen', 'aufsah', 'jeder', 'blödsinnig', 'umgebracht', 'Sahnensauce', 'Milch', 'tiefes', 'anhalten', 'Fliegen', 'Macht', 'wer', 'Trockenste', 'fing', 'aufblickten', 'giebt', 'Buch', 'Anläufen', 'fortlief', 'Schwestern', 'Vogel', 'umdrehend', 'magst', 'solch', 'Sieben', 'sähen', 'Ganz', 'Hummern', 'großartig', 'Sinne.«', 'laß', 'klein', 'rückt', 'anzuklopfen', 'gehalten', 'steckte', 'erschienen', 'Daher', 'zunächst', 'Thiere', 'vollbracht', 'steigen', 'niederbrennen', 'Kugeln', 'erzählen.«', 'liebevolle', 'Tafeln', 'Tinte', 'Schwierigkeit', 'aber', 'Distel', 'Mäuslein', 'Miene', 'geduldig', 'vorgekommen', 'schwindlig.«', 'heute', 'keuchte', 'nähmen', 'antworten', 'Nehmen', 'Solch', 'Federn', 'ja', '_wird_', 'zum', 'Ausdruck', 'fortkommst', 'Zebräisch', 'ihm', 'Blumenbeeten', 'rücklings', 'Erzählen', 'schaffe', 'drang', 'außerdem', 'kriege«', 'wir', 'Meeres', 'zeichnen', 'Male', 'sei', 'ausfindig', 'Alles', 'Gedanken', 'unterdrückt', 'geschäftigen', 'hier', 'Preise', 'bloße', 'spart', 'behielt', 'Brunnens', 'heiß', '_eine_', 'schieben', 'faltete', 'beehren', 'Syrup', 'geblieben', 'Ketten', 'Bademaschinen', 'Schild', 'während', 'dasselbe', 'eigenthümliche', 'beweisen', 'wuchs', ';', 'Thee?«', 'bald', 'kniffen', 'Sobald', 'zurückgebracht', 'Sinne', 'brauchte', 'kannst?«', 'zweitens', 'Heftigkeit', 'drauf', 'Uebrigens', 'Perrücke.«', 'Gang', 'durchsuchte', 'fortgehen', 'zuhörte', 'wolltest.«', 'Meerschweinchens', 'Geschichten', 'eigenen', 'stolpere', 'weißt', 'Liebe?«', 'niederlassend', 'Wo', 'errinnern', 'passende', 'schneidet', 'Preisend', 'erwartend', 'Luftsprunge', 'Erlebnisse', 'folgendergestalt', 'Anweisungen', 'Wilhelms', 'leckt', 'Fenster', 'Hofe', 'rathsam', 'Zweites', 'daran', 'zusammengezogen', 'tausend', 'Sagt', 'kniete', 'Su', 'stieß', 'trafen', 'gedruckt', 'glänzendes', 'vierten.«', 'vorsingt?«', 'Höhe', 'umsonst.«', 'nützlich', 'zurückrufen', 'seitdem', 'Ihrem', 'milde', 'spinnen', 'dichter', 'Dampfend', 'vergaß_.', 'Papagei', 'kopfunten.«', 'grinste', 'bewegen', 'hineingefallen', 'schüttelte', 'W', 'Doch', 'versuchten', 'Puppe', 'meisten', 'freut', 'gekreuzten', 'flog', 'viele', 'suchte', 'zertreten', 'Leichtigkeit', 'nettes', 'Schrank', 'Ansprüche', 'an?«', '_der_', 'weich', 'handhaben', 'Eroberer', 'gedeckt', 'trocken', 'unfehlbar', 'Demnächst', 'Zuletzt', 'regelmäßig', 'ausbreitete', 'wollte', 'abzugeben', 'Strümpfen.«', 'Warnungen', 'Glasbüchse', 'sehen', 'Französisch', 'langweilen', 'Denkt', 'ehrfurchtsvollem', 'spürte', 'Moral«', 'höchste', 'lieber', 'nachdem', 'Marianne', 'Austern', 'Nun', 'Kaninchens', 'trug', 'späterer', 'entweder', 'Grinse-Kater', 'ihn', 'fünf', 'tödten', 'verächtlich', 'nannten', 'demnach', 'überall', 'genug.«', 'bekommen.«', 'wußten', 'heiser', 'wette', 'Mamagei', 'mittlerweile', 'Noch', 'Darüber', 'Auflösung', 'einwenden', 'beleidigt', 'erkälten', 'gewarnt', 'gestern', 'Verhungern', 'übrig', 'Lockenperücken', 'Schilt', 'falle', 'suchst', 'unhöflich', 'beweist', 'außer', 'sonderbar.«', 'Mühe', 'zeichnen?«', 'Armen', 'heut', 'glücklich', 'berühren', 'Spiegel', 'breiter', 'verlassen_', 'Eroberungen', 'mehr', 'sah', 'meinen', 'ungeheuer', 'entscheiden', 'erscheint', 'Leben', 'außerordentlichen', 'Krone', 'innen', 'gewunden', 'Hecken', 'aussähe?«', 'Irrthum', 'Rückseite', 'Wäsche', 'verbergen', 'esse«', 'Karten', 'Wird', 'gestohlen', 'zwanzigsten', 'Mahlzeit', 'Axt?«', '_einer_', 'zurückblieben', 'Frieden', 'traten', 'ungeschickte', 'französische', 'hinter', 'Kindern', 'dieses', 'platsch', 'ernst', 'Zustande', 'Corridors', 'getrunken', 'ne', 'merkwürdig', 'verschwinden', 'Thee', 'gelegten', 'vorwärts', 'dreibeinigen', 'Mäusefänger', 'rasend', 'Jedermann', 'Figur', '_Alle', '_ist_', 'stand', 'schläfrig', 'Naute', 'Preisen', 'fortkroch', 'drollig', 'nun', 'sogleich', 'uppen', 'Benehmen', 'bin?«', 'Lande', 'stöhnte', 'Eisenbahn-Station', 'irgend', 'Ausgange', 'hoch', 'Anfall', 'jener', 'rothen', 'verloren', 'Besuche', 'Coeur-Buben', 'Bespritze', 'festzuhalten', 'enthaupten', 'Bub', 'richtete', 'Mal', 'enthält', 'inne', 'Freuden', 'gezeichnet', 'beste', 'schelte', 'lehren', 'rufen', 'aussehen?«', 'verwickelten', 'beschreiben', 'geradewegs', 'Wickelkind', '_da_', 'unbehülflich', 'sehe', 'Ursache', 'geschrieben', 'hingekommen', 'dicker', 'Schadet', 'beantworten', 'müssen', 'Geschworner', 'gemüthlich', 'Verwandlungen', 'Imponiren.«', 'nächste', 'einladend', 'unterstützt', 'dieselbe', 'Walde', 'Knebelbart', 'Protokoll', 'meiner', 'beobachtete', 'sind?«', 'ausgeblasen', 'schwacher', '_was_', 'Meinst', 'Wunder-wunderschöne', 'aufrecht', 'demselben', 'begnadigt', 'Ohne', 'paarweise', 'Torten', 'sagen', 'Ich', 'häßlich', 'kommandiren', 'Geschrei', 'Blättern', 'Raupe', 'Eisen', 'Sprachen', 'augenscheinlich', 'Balancirt', 'froh', 'umbiegen', 'fängt', 'verstand', 'wirft', 'erfüllten', 'gesprochne', 'letzte', 'Alters', 'Lackeien', 'wofür?«', 'Wollen', 'neun', 'redeten', 'Locomotive', 'Erde', 'Herr', 'brummig', 'Fräulein', 'benutzten', 'Herrlich', 'weiterer', 'malte', 'deutlicher', 'älteste', 'hervor', 'gehn', 'ungefähr', 'Katze', 'Coeur-Königin', 'zurückkomme', 'Mein', 'fortzuführen', 'Zweiundvierzigstes', 'Anschuldigung', 'Keiner', 'sonderbare', 'auszuerzählen', 'kleine', 'käme', 'besonnen', '_rother_', 'lebendig', 'drüben', 'gefragt', 'geschwind', 'erwiderte', 'wurde.«', 'vertage', 'eigene', 'erschöpfen', 'leiseste', 'sage', 'erschien', 'hineinkommen?«', 'eben', 'sollt', 'weinerlichem', 'ihren', 'lebten', 'Saal', 'antworteten', 'Ausruf', 'mach', 'gerade', 'kommst', 'lachte', 'strich', 'braucht', 'ändern', 'trink', 'zuletzt', 'Rechte', 'komisches', 'hätte', 'pflegte', 'that', 'Kommen', 'Murmelthier', 'Gerichtshof', 'Ruft', 'bange', 'gedrungen', 'konnte', 'angegriffen', 'Nasenspitz', 'wichtigste', 'selbst', 'achten', 'aufzunehmen', 'unbändig', 'gehört', 'Gesange', 'auseinander', 'Theil', 'einfache', ',', 'trotzdem', 'zuerst', 'Schoß', 'thät', 'Essig', 'einzuwickeln', 'zitterte', 'Kind?«', 'liegt', 'durchgemacht', 'klugen', 'Verwahrsam', 'zugethan', 'Namen', 'wiederkommt', 'Endlich', 'Position', 'bemerken', 'Erregung', 'Schlangen.«', 'Reihen', 'besser', 'Neu-Seeland', 'lateinischer', 'untergehende', 'Sand', 'Fisch-Lackei', 'erstens', 'gesessen', 'auszuspielen.«', 'hinauf', 'Durchgehen', 'klopfen', 'Putenbraten', 'gedeckt.«', 'Wind', 'erschütterte', 'Schlägel', 'Dann', 'hattet', 'einschrumpfen', 'komme', 'dagegen', 'sichtbar', 'traf', 'Gewicht', 'Knoten', 'anzubieten', 'dächte', 'abnahm', 'zweiten', 'Kampfe', 'klingt', 'Viel', 'saß', 'thun?«', 'manche', 'Schlafe', 'Geschmack', 'wahrscheinlich', 'singe', 'möchte', 'Hals', 'schwieg', 'hineingehe', 'komm', 'besonders', 'herauslassen', 'Wählen', 'Stirnrunzeln', 'hängt', 'schrien', 'machte', 'Meerschwein', 'klärten', 'scharf', 'morgen', 'glaubte', 'Klau', 'vielfachen', 'ruhiger', 'sodaß', 'unwichtig', 'denken', 'Jeden', 'gestützt', 'bekommen', 'bückte', 'Amtmann'}\n"
     ]
    }
   ],
   "source": [
    "a = set([word for entry in data_sample for word in entry])\n",
    "print(a)"
   ]
  },
  {
   "cell_type": "code",
   "execution_count": null,
   "metadata": {
    "id": "C3AIS0QfYuAt"
   },
   "outputs": [
    {
     "name": "stdout",
     "output_type": "stream",
     "text": [
      "Word to id sample: [('Hältst', 0), ('grunzte', 1), ('Erhöhung', 2), ('ängstlichen', 3), ('mußte', 4), ('Hülfe', 5), ('kraus', 6), ('Vater', 7), ('seufzen', 8), ('Eins', 9)] \n",
      "\n",
      "Id to word sample: [(0, 'Hältst'), (1, 'grunzte'), (2, 'Erhöhung'), (3, 'ängstlichen'), (4, 'mußte'), (5, 'Hülfe'), (6, 'kraus'), (7, 'Vater'), (8, 'seufzen'), (9, 'Eins')] \n",
      "\n",
      "Documents as lists of integers: [3754, 2081, 1942, 3783, 414, 3325, 3317]\n"
     ]
    }
   ],
   "source": [
    "from collections import OrderedDict\n",
    "\n",
    "# Beim Mapping von Wörtern zu IDs und umgekehrt sollte eine reproduzierbare Reihenfolge sichergestellt werden,\n",
    "# um das Modell später weitertrainieren und die Embedding-Matrix interpretieren zu können.\n",
    "# Diese Datenstruktur kann, aber muss nicht, als Basis dienen.\n",
    "unique_words = OrderedDict.fromkeys(set([word for entry in data_sample for word in entry]))\n",
    "\n",
    "# Mapping von Wort zu ID\n",
    "word2id = dict((word, index) for index, word in enumerate(unique_words))\n",
    "\n",
    "# Mapping von ID zu Wort\n",
    "id2word = dict((index, word) for index, word in enumerate(unique_words))\n",
    "\n",
    "# Unser Data Sample, aber mit IDs statt Wörtern \n",
    "# [['der', 'hund', 'der', 'bellt'], ['die', 'katz', 'miaut']] => [[0, 1, 0, 2], [3, 4, 5]]\n",
    "numeric_docs = [[word2id[w] for w in doc] for doc in data_sample]\n",
    "\n",
    "print('Word to id sample:', list(word2id.items())[:10], '\\n')\n",
    "print('Id to word sample:', list(id2word.items())[:10], '\\n')\n",
    "print('Documents as lists of integers:', numeric_docs[0][:10])\n"
   ]
  },
  {
   "cell_type": "markdown",
   "metadata": {
    "id": "UKXEBPLqYuA1"
   },
   "source": [
    "Wir halten einige wichtige Parameter für unser Modell fest. Die Größe des Kontextfensters sowie die Länge der Embeddingvektoren können nach Bedarf angepasst werden. Für unsere Demo wählen wir kleine Werte."
   ]
  },
  {
   "cell_type": "code",
   "execution_count": null,
   "metadata": {
    "id": "ga_N0q-zYuA3"
   },
   "outputs": [
    {
     "name": "stdout",
     "output_type": "stream",
     "text": [
      "Vocabulary Size: 4399\n"
     ]
    }
   ],
   "source": [
    "vocabulary_size = len(unique_words)\n",
    "embedding_size = 50 # Länge der Embeddingvektoren\n",
    "window_size = 2 # Größe des Kontextfensters. Wird nach rechts und links angewandt. Gesamter Kontext hier also 4 Wörter.\n",
    "\n",
    "print('Vocabulary Size:', vocabulary_size)"
   ]
  },
  {
   "cell_type": "markdown",
   "metadata": {
    "id": "Uunq8JvnYuA-"
   },
   "source": [
    "### 1.3 Generator\n",
    "Um nicht alle Trainingsdaten auf einmal im Speicher halten zu müssen, schreiben wir uns eine Generatorfunktion, die Batches einer frei wählbaren Größe zurückgibt. Unser Ansatz ist dennoch nicht völlig speicherschonend, weil wir uns die Datengrundlage für die Generierung dieser Batches, nämlich die Integerlisten in `numeric_docs` sehr wohl im Speicher vorhalten. Darüber sehen wir aber großzügig hinweg.\n",
    "\n",
    "Die Generatorfunktion erzeugt zwei numpy-Arrays der Länge `batch_size`, von denen das eine Listen mit Indizes der Kontexwörter enthält, die der Embedding-Layer als Eingabe erwartet, und das andere die zugehörigen One-Hot-Encodings der Mittelwörter.\n",
    "\n",
    "Fiktives und vereinfachtes Beispiel:\n",
    "<pre><code>* Fenstergröße: 1\n",
    "* Batch-Size: 2\n",
    "* Wortindizes: 'die': 0, 'ente': 1, 'lacht': 2, 'und': '3, 'quakt': 4 (und damit Vokabulargröße 5)\n",
    "* Korpus (Auszug): [['die', 'ente', 'lacht', 'und', 'quakt'], ...]\n",
    "\n",
    "\n",
    "=> Rückgabe: [[0, 2], [1, 3]], [[0, 1, 0, 0, 0], [0, 0, 1, 0, 0]]\n",
    "</code></pre>"
   ]
  },
  {
   "cell_type": "code",
   "execution_count": 94,
   "metadata": {
    "id": "rItJIFM8YuBB"
   },
   "outputs": [],
   "source": [
    "from keras.preprocessing import sequence\n",
    "from keras.utils import np_utils\n",
    "import numpy as np\n",
    "\n",
    "def generate_context_word_batches(corpus, window_size, vocab_size, batch_size):\n",
    "    X = []\n",
    "    Y = []\n",
    "    current_corpus = 0\n",
    "    while len(X) < batch_size:\n",
    "        for element in [[j, j + (window_size + 1)] for i in range(0, min(batch_size - len(X), len(corpus[current_corpus])), window_size) for j in range(i, min(batch_size, len(corpus[current_corpus])), window_size + 1)]:\n",
    "            X.append([corpus[current_corpus][word_index] for word_index in element])\n",
    "            middleword_index = int((element[0] + element[1]) / 2)\n",
    "            targets = np.array([[corpus[current_corpus][middleword_index]]]).reshape(-1)\n",
    "            Y.append(np.eye(vocab_size)[targets][0].tolist())\n",
    "        current_corpus += 1\n",
    "    return X, Y"
   ]
  },
  {
   "cell_type": "code",
   "execution_count": 95,
   "metadata": {
    "id": "zQU_48R7YuBG"
   },
   "outputs": [
    {
     "name": "stdout",
     "output_type": "stream",
     "text": [
      "Context (X): ['Erstes', 'in'] -> Target (Y): Kapitel\n",
      "Context (X): ['Hinunter', 'Kaninchenbau'] -> Target (Y): in\n",
      "Context (X): ['Alice', 'sich'] -> Target (Y): fing\n",
      "Context (X): ['Erstes', 'in'] -> Target (Y): Kapitel\n",
      "Context (X): ['Hinunter', 'Kaninchenbau'] -> Target (Y): in\n",
      "Context (X): ['Alice', 'sich'] -> Target (Y): fing\n",
      "Context (X): ['Erstes', 'in'] -> Target (Y): Kapitel\n",
      "Context (X): ['Hinunter', 'Kaninchenbau'] -> Target (Y): in\n",
      "Context (X): ['Alice', 'sich'] -> Target (Y): fing\n"
     ]
    }
   ],
   "source": [
    "# Schneller Test\n",
    "test_batch_size = 3\n",
    "test_window_size = 2\n",
    "\n",
    "batch_gen = generate_context_word_batches(corpus=numeric_docs, window_size=test_window_size, vocab_size=vocabulary_size, batch_size=test_batch_size)\n",
    "for i in range(0, 3): \n",
    "    x, y = batch_gen[0], batch_gen[1]\n",
    "    for j in range(0, test_batch_size):\n",
    "        print('Context (X):', [id2word[w] for w in x[j]], '-> Target (Y):', id2word[np.argwhere(y[j])[0][0]])"
   ]
  },
  {
   "cell_type": "markdown",
   "metadata": {
    "id": "jhy4rehNYuBM"
   },
   "source": [
    "### 1.4 Definition des Models\n",
    "Als nächstes definieren wir unser Model. Dazu verwenden wir die Sequential API von Keras. Dieser [Blogpost](https://lilianweng.github.io/lil-log/2017/10/15/learning-word-embedding.html) bietet nochmal eine anschauliche Erklärung, wie word2vec CBOW funktioniert.\n",
    "Das folgende Bild ist daraus und stellt die Architektur des Neuronalen Netzes dar:\n",
    "<img src=\"https://lilianweng.github.io/lil-log/assets/images/word2vec-cbow.png\" width=500 />\n",
    "\n",
    "Weitere Informationen über den Embedding Layer finden sich [hier](https://keras.io/layers/embeddings/).\n",
    "\n",
    "> **Tipp:** Nehmt euch wirklich Zeit Embeddings zu verstehen."
   ]
  },
  {
   "cell_type": "code",
   "execution_count": null,
   "metadata": {
    "id": "wdsQV9RDYuBO"
   },
   "outputs": [],
   "source": [
    "import keras.backend as K\n",
    "from keras.models import Sequential\n",
    "from keras.layers import Dense, Embedding, Lambda\n",
    "\n",
    "#Modelldefinition\n",
    "cbow = Sequential()\n",
    "cbow.add(Embedding(input_dim=#TODO, output_dim=#TODO, input_length=#TODO))\n",
    "cbow.add(Lambda(lambda x: K.mean(x, axis=1), output_shape=(embed_size,)))\n",
    "cbow.add(Dense(#TODO: #Units, activation=#TODO))\n",
    "cbow.compile(loss=#TODO, optimizer='rmsprop')\n",
    "\n",
    "# Zusammenfassung\n",
    "print(cbow.summary())"
   ]
  },
  {
   "cell_type": "markdown",
   "metadata": {
    "id": "KBoEx-w2YuBU"
   },
   "source": [
    "### 1.5 Training\n",
    "Jetzt wird es ernst: Wir trainieren unser Modell.\n",
    "Da wir eine eigene Generatorfunktion verwenden, müssen wir `steps_per_epoch` angeben. Überlegt euch was damit genau gemeint ist, wofür uns das nützt und was wir bei der Berechnung beachten müssen. Tipp: das Modell sollte pro Epoche alle Trainingsdaten sehen. Überlegt auch ob die Cbow-Fenstergröße einen einfluss auf diese Anzahl hat.\n",
    "\n",
    "Weil wir unser Modell gerne abspeichern möchten, zum Beispiel, um es später weiter zu trainieren, definieren wir eine Callback-Funktion, die das für uns übernimmt."
   ]
  },
  {
   "cell_type": "code",
   "execution_count": null,
   "metadata": {
    "id": "-Ui-skXyYuBV"
   },
   "outputs": [],
   "source": [
    "from keras.callbacks import ModelCheckpoint\n",
    "\n",
    "model_checkpoint = ModelCheckpoint('embeddings.hd5', monitor='loss', verbose=1, save_best_only=True, save_weights_only=False)"
   ]
  },
  {
   "cell_type": "code",
   "execution_count": null,
   "metadata": {
    "id": "lRuQzCB2YuBa"
   },
   "outputs": [],
   "source": [
    "epochs = 5 #(kann gerne erhöht werden)\n",
    "batch_size = 300\n",
    "# das Modell sollte pro Epoche alle Trainingsdaten sehen. Überlegt auch ob die Cbow-Fenstergröße einen einfluss auf diese Anzahl hat.\n",
    "steps_per_epoch = #TODO\n",
    "\n",
    "\n",
    "cbow.fit_generator(# TODO, callbacks=[#TODO])    "
   ]
  },
  {
   "cell_type": "markdown",
   "metadata": {
    "id": "SMIqy_-fYuBf"
   },
   "source": [
    "### 1.6 Test\n",
    "Nachdem wir unser Modell nur sehr kurz und nur auf wenigen Daten trainiert haben, ist davon auszugehen, dass die Ergebnisse nicht optimal sind. Einen kurzen Blick wollen wir dennoch riskieren.\n",
    "\n",
    "Dazu extrahieren wir zunächst die Gewichte aus dem Embedding-Layer und schauen sie uns auszugsweise an."
   ]
  },
  {
   "cell_type": "code",
   "execution_count": null,
   "metadata": {
    "id": "m7x0IPFqYuBh"
   },
   "outputs": [],
   "source": [
    "import pandas as pd\n",
    "from keras.models import load_model\n",
    "\n",
    "cbow = # TODO: Model laden\n",
    "embedding_weights = # TODO: Auf Embedding Layer (1. Layer) des Modells zugreifen und dort die Gewichtsmatrix extrahieren\n",
    "\n",
    "pd.DataFrame(# TODO: Was wollen wir anschauen?, index=list(id2word.values())).head()"
   ]
  },
  {
   "cell_type": "markdown",
   "metadata": {
    "id": "5BnUH3l6YuBm"
   },
   "source": [
    "Da durch scharfes Hinsehen nicht unmittelbar zu erkennen ist, wie gut unsere Embeddings schon sind, machen wir stichprobenartige Tests. Dazu wählen wir einige Wörter und berechnen für deren Embeddings die Ähnlichkeit mit allen anderen Embedding-Vektoren in unserer Gewichtsmatrix. Anschließend lassen wir uns die fünf ähnlichsten Wörter ausgeben.\n",
    "Überlegt euch welches Distantzmaß für den Vergleich von Vektoren genutzt werden kann. Tipp: Die Cosinusähnlichkeit könnte damit was zu tun haben. "
   ]
  },
  {
   "cell_type": "code",
   "execution_count": null,
   "metadata": {
    "id": "lwHpAG9lYuBo"
   },
   "outputs": [],
   "source": [
    "#Tipp: from sklearn.metrics.pairwise import ?\n",
    "\n",
    "sample_terms = ['Alice', 'Hut', 'Kaninchen','Kaninchenbau']\n",
    "sample_embeddings = # TODO\n",
    "\n",
    "# Berechne die paarweisen Distanzen zwischen Beispielwörtern und Gesamtvokabular\n",
    "distance_matrix = # TODO"
   ]
  },
  {
   "cell_type": "code",
   "execution_count": null,
   "metadata": {
    "id": "E1HEcW_bYuBt"
   },
   "outputs": [],
   "source": [
    "# Zeige die top fünf ähnlichsten Wörter zu unseren Beispielwörtern \n",
    "similar_words = {sample_term: [id2word[idx] for idx in distance_matrix[index].argsort()[1:6]] \n",
    "                   for index, sample_term in enumerate(sample_terms)}\n",
    "\n",
    "similar_words"
   ]
  },
  {
   "cell_type": "markdown",
   "metadata": {
    "id": "LM3qNiNwHyFl"
   },
   "source": [
    "Seid ihr zufrieden mit den ähnlichen Wörtern? Woran kann es liegen, dass die Wörter nicht immer unbedingt Sinn ergeben?"
   ]
  },
  {
   "cell_type": "markdown",
   "metadata": {
    "id": "zt-nOPurYuBz"
   },
   "source": [
    "## Aufgabe 2: Gensim als Wrapper für Word2Vec-Modelle\n",
    "Embedding-Layer begegnen einem in der Praxis in der Tat häufig. In der Regel aber nicht als Bestandteile von reinen Word Embedding-Trainingsmodellen, sondern als erster Layer für Modelle mit anderen Aufgaben. Die Embeddings werden dann entweder mit vorberechneten Werten initalisiert und/oder werden im Training des Modells für die Downstream-Aufgabe (Textklassifikation, Übersetzung, ...) mittrainiert.\n",
    "\n",
    "Eine komfortable Möglichkeit, eigene Word2Vec-Modelle zu trainieren, bietet [Gensim](https://radimrehurek.com/gensim/models/word2vec.html), eine Bibliothek, die für diese Modelle auch Wrapper bereitstellt, um komfortabler an die Embeddings zu kommen und mit diesen zu arbeiten.\n",
    "\n",
    "Wir wollen uns im Folgenden einen kleinen Ausschnitt der Möglichkeiten, die Gensim bietet, anschauen."
   ]
  },
  {
   "cell_type": "markdown",
   "metadata": {
    "id": "Q86D9vsXFN2e"
   },
   "source": [
    "### 2.0 Vorbereitung\n",
    "Wir werden mit vortrainierten Google-News-Embeddings arbeiten, die ihr mit dem Code in den nächsten beiden Zellen herunterladen könnt. Falls das nicht funktionieren sollte, findet ihr die vortrainierten Embeddings [hier](https://drive.google.com/file/d/0B7XkCwpI5KDYNlNUTTlSS21pQmM/edit?usp=sharing). "
   ]
  },
  {
   "cell_type": "code",
   "execution_count": null,
   "metadata": {
    "id": "WXAQA-n5FgsQ"
   },
   "outputs": [],
   "source": [
    "!pip install googledrivedownloader"
   ]
  },
  {
   "cell_type": "code",
   "execution_count": null,
   "metadata": {
    "id": "hO0e4QiDEeUm"
   },
   "outputs": [],
   "source": [
    "from google_drive_downloader import GoogleDriveDownloader as gdd\n",
    "\n",
    "gdd.download_file_from_google_drive(file_id='1Fl11N_cX1RfJmTHV1C-RGIsjWeIZjbTN',\n",
    "                                    dest_path='./download/GoogleNews-vectors-negative300.bin.gz',\n",
    "                                    unzip=False,\n",
    "                                    overwrite=True)"
   ]
  },
  {
   "cell_type": "markdown",
   "metadata": {
    "id": "RTpLcc8yYuB0"
   },
   "source": [
    "### 2.1 Word2Vec-Model laden\n",
    "Die Vektoren haben eine Länge vin 300.\n",
    "Zieht euch die Embeddings über den oben angegebenen Link und verwendet gensim, um sie anschließend zu laden.\n",
    "\n",
    "**Hinweis**: Es kann einen Moment dauern, bis das Dictionary, das von Wort auf Embedding abbildet, erzeugt ist. Im Zweifel ein ```limit``` angeben und nur die ersten 1,5 Mio. Embeddings laden."
   ]
  },
  {
   "cell_type": "code",
   "execution_count": null,
   "metadata": {
    "id": "uiXE550K0CfC"
   },
   "outputs": [],
   "source": [
    "!gunzip ./download/GoogleNews-vectors-negative300.bin.gz"
   ]
  },
  {
   "cell_type": "code",
   "execution_count": null,
   "metadata": {
    "id": "Em5AdDKlYuB2"
   },
   "outputs": [],
   "source": [
    "import gensim\n",
    "\n",
    "embeddings = # TODO"
   ]
  },
  {
   "cell_type": "markdown",
   "metadata": {
    "id": "wk7S_3n4YuB6"
   },
   "source": [
    "Aus Spaß an der Freude können wir nun schauen, wie gut unser trainiertes Modell ist bzw. ob es bestimmte von Menschen wahrgenommene Analogien bestätigt. \n",
    "\n",
    "Die Analogien sind [hier](https://github.com/nicholas-leonard/word2vec/blob/master/questions-words.txt) zu finden."
   ]
  },
  {
   "cell_type": "code",
   "execution_count": null,
   "metadata": {
    "id": "r89GRNDrYuB6"
   },
   "outputs": [],
   "source": [
    "from gensim.test.utils import datapath\n",
    "\n",
    "embeddings.evaluate_word_analogies(datapath(\"questions-words.txt\"), restrict_vocab=30000)"
   ]
  },
  {
   "cell_type": "markdown",
   "metadata": {
    "id": "HCI5ETPYYuB_"
   },
   "source": [
    "### 2.2 Spaß mit Semantik\n",
    "Im Folgenden wollen wir uns mit dem Mehrwert beschäftigen, den semantische Embeddings bieten. Für weitere Inspiration siehe zum Beispiel [hier](https://www.machinelearningplus.com/nlp/gensim-tutorial/) und die [Doku](https://radimrehurek.com/gensim/models/keyedvectors.html).\n",
    "\n",
    "Mit semantischen Vektoren lassen sich zum Beispiel folgende Fragen beantworten:\n"
   ]
  },
  {
   "cell_type": "code",
   "execution_count": null,
   "metadata": {
    "id": "1mgxhguPYuCA"
   },
   "outputs": [],
   "source": [
    "# Welche Stadt ist das New York Deutschlands? (Hinweis: 'New_York' ist als Token in den Embeddings enthalten)\n",
    "print('Das deutsche New York ist: {}\\n'.format(# TODO)))\n",
    "\n",
    "# Was ist Emacs besonders ähnlich?\n",
    "print('Ähnlichste Begriffe zu \"Emacs\": {}\\n'.format(# TODO))\n",
    "\n",
    "# Und wie sieht es mit Vim aus?\n",
    "print('Ähnlichste Begriffe zu \"Vim\": {}\\n'.format(# TODO))\n",
    "\n",
    "# Wer ist eigentlich der Mozart der Naturwissenschaft?\n",
    "print('Der Mozart der Naturwissenschaft ist: {}\\n'.format(# TODO))\n",
    "\n",
    "# Welches Wort verhält sich zu 'singing' wie 'burnt' zu 'burning'?\n",
    "print('burning:burnt wie singing:{}\\n'.format(# TODO))\n",
    "\n",
    "# Sind sich Deutschland und Frankreich ähnlicher oder Deutschland und Kanada?\n",
    "print('Ähnlichkeit DE, FR: {}'.format(# TODO))\n",
    "print('Ähnlichkeit DE, CAN: {}'.format(# TODO))"
   ]
  },
  {
   "cell_type": "markdown",
   "metadata": {
    "id": "l3g5ivIxYuCE"
   },
   "source": [
    "Bei der Interpretation der Ergebnisse ist jedoch Vorsicht geboten: Es werden zwar semantische Beziehungen abgebildet, aber die entsprechen möglicherweise nicht immer den Erwartungen.\n",
    "\n",
    "Wie ähnlich sind sich zum Beispiel \"Leben\" und \"Tod\", \"kalt\" und \"warm\", \"Norden\" und \"Süden\"?\n",
    "\n",
    "Sind die Ergebnisse wie erwartet? Warum (nicht)?"
   ]
  },
  {
   "cell_type": "code",
   "execution_count": null,
   "metadata": {
    "id": "DXgw0wIMYuCF"
   },
   "outputs": [],
   "source": [
    "# TODO: Ähnlichkeiten berechnen"
   ]
  },
  {
   "cell_type": "markdown",
   "metadata": {
    "id": "DPjd7_zJYuCJ"
   },
   "source": [
    "Die Embeddings sind nicht neutral, sondern spiegeln die Beziehungen wieder, die sich in den Trainingsdaten finden lassen."
   ]
  },
  {
   "cell_type": "code",
   "execution_count": null,
   "metadata": {
    "id": "LLI9StHLYuCK"
   },
   "outputs": [],
   "source": [
    "# Wird Wissenschaft von Frauen oder Männern gemacht?\n",
    "print('Wissenschaft wird gemacht von: {}'.format(# TODO))\n",
    "# Sind Mörder eher Schwarze, Weiße oder Asiaten?\n",
    "print('Mörder sind: {}'.format(# TODO))\n",
    "# Was bleibt vom Mann, wenn die Intelligenz abgezogen wird?\n",
    "print('Mann ohne Intelligenz: {}'.format(# TODO))"
   ]
  }
 ],
 "metadata": {
  "colab": {
   "collapsed_sections": [],
   "name": "05_1_text_representation.ipynb",
   "provenance": []
  },
  "kernelspec": {
   "display_name": "Python 3",
   "language": "python",
   "name": "python3"
  },
  "language_info": {
   "codemirror_mode": {
    "name": "ipython",
    "version": 3
   },
   "file_extension": ".py",
   "mimetype": "text/x-python",
   "name": "python",
   "nbconvert_exporter": "python",
   "pygments_lexer": "ipython3",
   "version": "3.6.9"
  }
 },
 "nbformat": 4,
 "nbformat_minor": 1
}