{
 "cells": [
  {
   "cell_type": "markdown",
   "metadata": {
    "id": "Tin_rAmAzJvv"
   },
   "source": [
    "# Text Repräsentationen\n",
    "In diesem Teil des Labors wird es um eine Einfürung in Text Repräsentationen gehen. \n",
    "\n",
    "Wie Ihr vermutlich schon wisst, repräsentieren Computer Daten in Binärcode. Um Euch das Problem, das Computer mit Texten haben aufzuzeigen, hat euch der Computer eine Nachricht hinterlassen, die ihr Entschlüsseln müsst... "
   ]
  },
  {
   "cell_type": "code",
   "execution_count": 1,
   "metadata": {},
   "outputs": [],
   "source": [
    "%config Completer.use_jedi = False"
   ]
  },
  {
   "cell_type": "code",
   "execution_count": 2,
   "metadata": {
    "id": "Na68UqOJx8Jx"
   },
   "outputs": [],
   "source": [
    "binary_message = \"01001001 00100000 01110011 01110000 01100101 01100001 01101011 00100000 01100010 01101001 01101110 01100001 01110010 01111001 00100000 01101111 01101110 01101100 01111001 00100001 00001010 01001001 00100000 01101100 01101001 01101011 01100101 00100000 01101110 01110101 01101101 01100010 01100101 01110010 01110011 00101100 00100000 01101110 01101111 01110100 00100000 01110100 01100101 01111000 01110100 00101110\""
   ]
  },
  {
   "cell_type": "code",
   "execution_count": 3,
   "metadata": {
    "id": "I_qao4JA1D0F"
   },
   "outputs": [
    {
     "name": "stdout",
     "output_type": "stream",
     "text": [
      "I speak binary only!\n",
      "I like numbers, not text.\n"
     ]
    }
   ],
   "source": [
    "binary_chars = binary_message.split()\n",
    "message = \"\"\n",
    "for binary_char in binary_chars:\n",
    "    binary_char_integer = int(binary_char, 2)\n",
    "    character = chr(binary_char_integer)\n",
    "    message += character\n",
    "print(message)"
   ]
  },
  {
   "cell_type": "markdown",
   "metadata": {
    "id": "nMwRdW3J1WQv"
   },
   "source": [
    "Um Maschinen Text verständlich zu machen, müssen wir die Texte in eine andere Repräsentation bringen. Eine Kurze Einführung bieten die beiden folgenden Warm Up Aufgaben."
   ]
  },
  {
   "cell_type": "markdown",
   "metadata": {
    "id": "ioeYUuprcJOs"
   },
   "source": [
    "## Tokenization\n",
    "Eine der ersten elementaren Schritte, um eine natürliche Sprache mit einem Computer zu verarbeiten ist das Aufteilen eines Fließtextes in kleinere Teile. Meist werden Texte direkt in sogenannte Tokens geteilt (Tokenization). Ein Token ist oftmals ein einzelnes Wort, es kann aber auch aus mehreren Wörtern bestehen, wenn diese zusammen für eine Entität stehen, z.B. die Stadt „New York“. Neben der Aufteilung in Tokens ist es auch möglich, einen Text zuerst in Sätze zu splitten (Sentence Tokenization). Welche Kombination der Methoden angewendet wird, hängt von der Aufgabe ab. "
   ]
  },
  {
   "cell_type": "markdown",
   "metadata": {
    "id": "6HFy1A2zjkqL"
   },
   "source": [
    "### Warm Up 1: Tokenizer mit Regulären Ausdrücken\n",
    "\n",
    "Die erste kleine Aufgabe besteht darin mit einem regulären Ausdruck ein Wort-Tokenizer zu bauen. (Diese Aufgabe sollte nicht mehr als 5 min. dauern) Der Tokenizer muss auch nicht perfekt sein. \n",
    "\n",
    "> Eine kurze Auffrischung über Reguläre Ausdrücke findet sich in https://regexr.com/"
   ]
  },
  {
   "cell_type": "code",
   "execution_count": 4,
   "metadata": {
    "id": "vsACjYAEcHJc"
   },
   "outputs": [
    {
     "data": {
      "text/plain": [
       "['Die', 'Ente', 'lacht', 'und', 'quakt', '']"
      ]
     },
     "execution_count": 4,
     "metadata": {},
     "output_type": "execute_result"
    }
   ],
   "source": [
    "import re\n",
    "text=\"Die Ente lacht und quakt.\"\n",
    "\n",
    "tokenizer_regex=re.compile(r'[\\s.]')\n",
    "tokenizer_regex.split(text)"
   ]
  },
  {
   "cell_type": "markdown",
   "metadata": {
    "id": "mzaasIkDmK_r"
   },
   "source": [
    "Das Grundprinzip eines Tokenizers sollte euch nun klar sein. In der Praxis empfiehlt es sich allerdings, auf bestehende Tokenizer-Implementierungen zurückzugreifen.\n",
    "Im Python-Umfeld ist https://spacy.io/api/tokenizer oder https://www.nltk.org/api/nltk.tokenize.html sehr empfehlenswert."
   ]
  },
  {
   "cell_type": "markdown",
   "metadata": {
    "id": "hcOzQFueH9mC"
   },
   "source": [
    "# Encoding"
   ]
  },
  {
   "cell_type": "markdown",
   "metadata": {
    "id": "VqqIUO30B46n"
   },
   "source": [
    "Der nächste Schritt, um mit Texten Maschinelles Lernen zu betreiben, ist das Umwandeln der Wörter in eine numerissche Repräsentation. In der nächsten Warm-Up Aufgabe wird es darum um Bag of Words gehen."
   ]
  },
  {
   "cell_type": "markdown",
   "metadata": {
    "id": "4-4dQzbG921p"
   },
   "source": [
    "## Warm Up 2: Bag of Words mit scikit-learn\n",
    "Ein Ansatz um Texte bzw. Tokens als Zahlen zu represäntieren ist ein Bag of Words. Hier wird jeder Text als Vektor dargestellt (Länge: Länge des Vokabulars). Jeder Eintrag im Vektor steht für ein Wort im Vokabular.\n",
    "\n",
    "In der nächsten Aufgabe wollen wir mit dem vorgegebenen Textkorpus, den Satz **\"Die Ente singt und quakt.\"** in einen bag-of-words-encoded Vector umwandeln.\n",
    "Dazu bietet sich der `CountVectorizer` an (siehe [Dokumentation](https://scikit-learn.org/stable/modules/generated/sklearn.feature_extraction.text.CountVectorizer.html)).\n",
    "\n",
    "> Kleiner Tipp: Der `CountVectorizer` übernimmt diesmal die Tokenisierung."
   ]
  },
  {
   "cell_type": "code",
   "execution_count": 9,
   "metadata": {
    "id": "ptA3RLihCfTj"
   },
   "outputs": [
    {
     "name": "stdout",
     "output_type": "stream",
     "text": [
      "['die', 'ente', 'lacht', 'quakt', 'singt', 'tanzt', 'und']\n",
      "[[1 1 1 1 0 0 1]\n",
      " [1 1 0 0 1 1 1]]\n"
     ]
    }
   ],
   "source": [
    "from sklearn.feature_extraction.text import CountVectorizer\n",
    "corpus = [\"Die Ente lacht und quakt.\",\n",
    "          \"Die Ente singt und tanzt.\"]\n",
    "vectorizer = CountVectorizer()\n",
    "\n",
    "abc =vectorizer.fit_transform(corpus)\n",
    "print(vectorizer.get_feature_names())\n",
    "print(abc.toarray())\n",
    "#bag_of_words_encoded_sentence"
   ]
  },
  {
   "cell_type": "markdown",
   "metadata": {
    "id": "T_WWHn0N_4CT"
   },
   "source": [
    "Im  nächsten Schritt gebt die Länge der Satzrepräsentation aus. \n",
    "\n",
    "Wie verändert sich die Länge, wenn sich der Textkorpus vergrößert. Was sind die Vorteile und Nachteile von Bag of Words?"
   ]
  },
  {
   "cell_type": "code",
   "execution_count": 16,
   "metadata": {
    "id": "44zUnF0P_zDZ"
   },
   "outputs": [
    {
     "name": "stdout",
     "output_type": "stream",
     "text": [
      "7\n"
     ]
    }
   ],
   "source": [
    "size_of_sentence_encoded= abc.shape[1]\n",
    "print(size_of_sentence_encoded)"
   ]
  },
  {
   "cell_type": "markdown",
   "metadata": {},
   "source": [
    "Vorteil: Leicht zu verstehen \\\n",
    "Nachteil: Mit steigendem Vokabular steigt auch die Dimension des zugehörigen Vektors. Context und Semantik geht durch Sortierung verloren.\\\n",
    "( Es ist spät. vs. ist es spät?)\n"
   ]
  },
  {
   "cell_type": "markdown",
   "metadata": {
    "id": "dbCGNsjiYuAT"
   },
   "source": [
    "## Word Embeddings\n",
    "\n",
    "Natürliche Sprachen bieten uns mannigfaltige Möglichkeiten, dieselben Inhalte auf unterschiedliche Art und Weise auszudrücken. Wenn wir mit Texten arbeiten, reicht es daher in der Regel nicht aus, nur die Anzahl und das Vorkommen von bestimmten Wörtern in Texten zu betrachten, weil neben des bloßen Vorkommen eines Wortes auch dessen Anordnung und dessen Bedeutung eine Rolle spielt. Als zusätzliche und wichtige Ebene kommt hier also die Semantik ins Spiel.\n",
    "\n",
    "Die Abbildung von Wörtern auf Vektoren erlaubt es uns, mit diesen zu rechnen und zum Beispiel Distanzen oder Ähnlichkeiten zu bestimmen. Embeddings haben den Vorteil, dass sie eine Dimensionsreduktion mit sich bringen und semantische Embeddings sorgen darüber hinaus dafür, dass \"verwandte\" Wörter einen geringen Abstand voneinander haben.\n",
    "\n",
    "Wir wollen uns im Folgenden zunächst mit Word2Vec beschäftigen und eine einfache Version des CBOW-Ansatzes selbst implementieren.\n",
    "\n",
    "Danach schauen wir uns Gensim als Bibliothek für Word-Embedding-Modelle an und werfen einen Blick auf Evaluationsmethoden für Embeddings sowie die ihnen inhärenten Biase."
   ]
  },
  {
   "cell_type": "markdown",
   "metadata": {
    "id": "AMup_-zoYuAY"
   },
   "source": [
    "## Aufgabe 1: Word2Vec CBOW\n",
    "> You shall know a word by the company it keeps.\n",
    ">\n",
    "> -- <cite>J. R. Firth</cite>\n",
    "\n",
    "Auf dem oben zitierten Prinzip beruhen die beiden als Word2Vec bekannt gewordenen Modelle CBOW und Skip Gram, die 2013 von [Tomas Mikolov et al.](https://arxiv.org/abs/1301.3781) bei Google entwickelt wurden.\n",
    "Erstgenanntes Modell werden wir im Folgenden in einer einfachen Form selbst implementieren."
   ]
  },
  {
   "cell_type": "markdown",
   "metadata": {
    "id": "3xVNJ7AqYuAb"
   },
   "source": [
    "#### 1.1 Trainingsdaten\n",
    "Die Beschaffung und Aufbereitung von Trainingsdaten ist ein wichtiger Schritt in jeder NLP-Pipeline. Jetzt drücken wir uns mal davor und greifen auf einen Datensatz zu, den wir schonmal vorarb für Euch vorbereitet haben. Wir haben uns entschieden Alice im Wunderland [Gutenberg Project Alice im Wunderland](https://www.gutenberg.org/cache/epub/19778/pg19778.txt) zu nutzen um Word Embeddings zu trainieren. Der Datensatz beinhaltet die Sätze aus aus der Geschichte. \n",
    "\n",
    "Der vorverarbeitete Datensatz ist als pickle abgespeichert und findet sich in [hier](https://drive.google.com/file/d/1RfCivF-wHf33S7TMxjpT78923ADXreMi/view). Wir werden den googledrivedownloader nutzen, um die Datei zu laden. Ladet den Datensatz mit Pickle als Testdatensatz aus."
   ]
  },
  {
   "cell_type": "code",
   "execution_count": 17,
   "metadata": {
    "id": "_fgETXxtJ-p8"
   },
   "outputs": [],
   "source": [
    "#from google_drive_downloader import GoogleDriveDownloader as gdd\n",
    "\n",
    "#gdd.download_file_from_google_drive(file_id='1RfCivF-wHf33S7TMxjpT78923ADXreMi',\n",
    "#                                    dest_path='./download/alice_sentences.pkl',\n",
    "#                                    unzip=False,\n",
    "#                                    overwrite=True)"
   ]
  },
  {
   "cell_type": "code",
   "execution_count": 18,
   "metadata": {
    "id": "Bmu1bOjcYuAf"
   },
   "outputs": [],
   "source": [
    "import pickle\n",
    "\n",
    "with open(r\"alice_sentences.pkl\", \"rb\") as input_file:\n",
    "    data_sample = pickle.load(input_file)"
   ]
  },
  {
   "cell_type": "code",
   "execution_count": 67,
   "metadata": {},
   "outputs": [
    {
     "name": "stdout",
     "output_type": "stream",
     "text": [
      "{'bescheiden', 'Würd', 'wenigen', 'müssen.«', 'Geringste', 'that', 'wache', 'Saaldecke', 'einschlief', 'fortliefe', 'Aussage', 'Verse', 'angegriffen', 'Einfluß', 'läugnete', 'ausschlagen', 'immerfort', 'rechteckig', 'Kette', 'fröhlichem', 'zweitens', 'Su', 'Traume', 'Stückchen', 'kurios', 'Laßt', 'fürchten', 'weg', 'beobachten', 'überzeugt', 'übel', 'höchst', 'dümmste', 'so', 'sich', 'Saales', 'Beweisstück', 'Mamagei', 'ausginge', 'öffnete', 'laut', 'werdet', 'unterdrückt', 'zurecht', 'Klügste', 'blaß', 'daraus', 'scharfes', 'bellte', 'brauchst', 'hielte', 'gebunden', 'Raupe', 'oben', 'abflogen', 'Syrup-Brunnen.«', 'zwar', 'Geplärre', 'jene', 'erstickte', 'bedeutet', 'geht', 'selten', 'geworfen', 'herauskommen', 'zur', 'Platze', 'zuvor', 'wahrnahm', 'zweiten', 'nanntet', 'genommen', 'hintereinander', 'geschah', 'wildes', 'schwatze', 'umzusehen', 'Pfuhle', 'unterstützt', 'fort.«', 'Ostern', 'braucht', 'von', 't', 'Knoten', 'vorkam', 'wirklich', 'Schwestern', 'Privatstunden', 'Puffe', 'Pfennigen', 'seufzte', 'Ihrem', 'fortnahm', 'allgemeinen', 'Hand', 'las', 'bringen', 'vorsichtig', 'Ob', 'Königin?«', 'regelmäßigen', 'notirten', 'möchtest', 'ihrem', 'zweite', 'aufgelegt', 'abgespült', 'geben.«', 'fächelte', 'Haar', 'sagen.«', 'sein?«', 'Lichtung', 'Seit', 'is', 'Zehen', 'Lehre', 'zertreten', 'dieselbe', 'König', 'Zweiundvierzigstes', 'wovon', 'küssen', 'zerbrochenem', '(', 'schweres', 'Oh', 'neugierig', 'letztere', 'Glück', 'dir', 'Uebrigen', 'Licht', 'gesprungen', 'Längegrad', 'augenblicklich', 'wachte', 'Zweite', 'führte', 'Vermuthlich', 'Diese', 'kopfunten.«', '_«', 'spazieren', 'richtige', 'seltsame', 'geschlossenen', 'Axt?«', 'ehrlicher', 'schicken', 'genähret', 'Stimme', 'Hutmachers', 'erblicken', 'Notiz', 'Preisen', 'hinzutrat', 'aufmerksam', 'beruhigt', 'Mitteln', 'Besuche', 'denn', 'mehr', 'dich', 'eingeschlafen', 'Engelland', 'aufstehen', '_bitte_', 'Concert', 's', 'Faulpelz', 'gehst', 'niedrige', 'traue', 'Erhöhungen', 'rückwärts', 'erschöpfen', '_Oooh_', 'fortschleichen', 'Thierchen', '_Dinah_', 'Sache', 'hätten', 'herumgewandert', 'drehen', 'persönlichen', 'Uhr', 'Pulte', 'Aufwärts', 'Papagei', 'dann', 'zusammenschieben', 'Amtmann', 'unglücklichen', 'Schildkröte_', 'Bart', 'machen.«', 'vertage', 'suchte', 'angebunden', 'unsere', 'entstand', 'Balancirt', 'Branntwein', 'wedle', 'vorstelle.«', 'versuchen', 'hinunterzusehen', 'auszuruhen', 'wißt', 'vergessen.«', 'Trompete', 'Kuchen?«', 'Unbehagen', 'arme', 'gründlich', 'Tanz', \"'\", 'Schuhe', 'größte', 'elften', 'Schüsseln', 'Geschmack', 'Sprach', 'geformt', 'erblickte', 'Geburtstagsgeschenke', 'erst.«', 'Spielsachen', 'gänzlich', 'zehn', 'wärest?«', 'verdreht', 'wär', 'Sechzehnten', 'wunderschön', 'anderen', 'steht', 'Erinnerung', 'Nase', 'stieß', 'Datum', 'Kuchen', 'ihnen', 'diesem', 'versucht', 'Jetzt', 'selber', 'verursachte', 'streckte', 'klang', 'Schrank', 'Versehen', 'Coeur-Bube', 'geschieht', 'herunter', 'Spaß?«', 'Arme', 'betrübtem', 'würden', 'herauskommt.«', 'wachse.«', 'geweint', 'Schade', 'Hutmacher', 'bückte', 'Kneift', 'Schluß', 'unruhig', 'ihres', 'gehen.«', 'geringsten', 'finde«', 'Erregung', 'Pfannen', 'Loch', 'auswärts', 'nachdenklich', 'nieder', 'zu?«', 'rieb', 'Gedanken?«', 'addirten', 'Begriff', 'verließ', 'Tode', 'stampfte', 'etwas?«', 'Thier', 'würde.«', 'wüßte', 'ganzes', 'sprangen', 'hübsch', 'Bemerkung', 'herum?«', 'Kind', 'entscheiden', 'Beweise', 'begleiten', 'Zimmer', 'versammeln', 'hineinkommen?«', 'keuchte', 'Gestohlen', 'unglückliche', 'Vortheil', 'schnellen', 'abschickte', 'hinsah', 'Zuerst', 'Gartenthür', 'Gegenstände', 'nachsann', 'unhöflich', 'Zehn', 'trifft', 'Adresse', 'drei', 'gellende', 'zuerst', 'gewonnen', 'doch', 'merke', 'saßen', 'Sorgen', 'Mausefallen', 'Essen', 'nehme', 'wolltest.«', 'sieht', 'hier-', 'nahm', 'bequem', 'versammelte', 'giebst', 'war.', 'Paar', 'ungewohnt', 'gehest.«', 'warfen', 'Anderen', 'purpurroth', 'wirklichen', 'allen', 'trauen', 'Gerichtshofes', 'warst', 'sehe.«', 'feierlichen', 'Pinsel', 'königliche', 'Thee?«', 'zurücklaufen', 'kannst.«', 'Muth', 'Croquet-Feld', 'Meeres', 'singen?«', 'dächte', 'anfinge', 'Schlafe', 'leuchtete', 'entgegen', 'glänzenden', 'trippelte', 'krank', 'Nilpferd', 'gern', 'klingt', 'rathen', 'Keiner', 'Koch', 'Tasche?«', 'oder', 'rothen', 'aufrecht', 'Kamin', 'fügte', 'dergleichen', 'leite', 'Mir', 'ängstlichen', 'verwandelt?«', 'brauche', '_deren_', 'bleiben', 'Endlich', 'Schnabel', 'mittanzen', 'geben', 'Springbrunnen', 'Bube', 'spielen.«', 'schrecklich', 'grob', 'donnerte', 'Rindviehes', 'traurig', 'einsam', 'Wohnung', 'Rand', 'Dies', 'auserzählen.«', 'riecht', 'Stelle', 'biegen', 'gegeben.', 'grub', 'machen', 'Gang', 'Außerdem', '_es_', 'Drei', 'falsch', 'Hinunter', 'Rauschen', 'sich.', 'Ruf', 'Elftes', 'Nummer', 'Kamillenthee', 'vortreffliche', 'Junker', 'Richtig', 'folgenden', 'schlechte', 'Davon', 'Variationen', 'Wein', 'unbequem', 'Niemand', 'hole', 'denken', 'zeichnen', 'nannten', 'hörbar', 'Tische', 'Hierauf', 'gemüthlich', 'schnell.«', 'rannte', 'heraushängender', 'Anfang', 'Abscheulich', 'Syrup', 'herab', 'fortzuschaffen', 'zurückbrachte', 'bunten', 'Pfeffer', 'Nähe', 'ändern', 'er.«', 'Flußufer', 'deinen', 'es.«', 'blühender', 'verworrenste', 'Keulen', 'Gut', 'bemerkt', 'förmlichen', 'Theegesellschaft', 'Füße', 'folgendergestalt', 'Daß', 'zurückließ', 'gestern', 'Mäuslein', 'solle', 'haben?«', 'Geschrei', 'Klavier.«', 'hinsetzte', 'hastig', 'Winde', 'März', 'Hirtenknaben', 'wichtig', 'bleibt.«', 'Wuth', 'gebogen', 'fragen', '_beweist_', 'verzehrt', 'an.', 'beizustimmen', 'Trockenste', 'gepuderte', 'hier?«', 'Reisen', 'möchtet', 'Bienennest', 'auf', 'Besten', 'Meile', 'entrüstet', 'unserer', 'Leiterwagen', 'wies', 'fliege', 'schrieb', 'Angelegenheit?«', 'schlafe«', 'famoser', 'Rennen', 'Reisig', 'Schreck', '_welche_', 'sind.«', 'Schule', 'wird', 'gefangen', 'Alte', 'dein.«', 'erschrocken', 'Coeur-Königin', 'schmecken', 'Ganz', 'begann', 'Herde', 'Spielen.«', 'Erstaunen', 'Weggehen', 'gewesen', 'Wozu', 'wunderte', 'Dumme', 'Wald', 'heißt', 'leider', 'bilden', 'Wabbel', 'einzige', 'angestoßen', 'eifrig', 'schenken.«', 'antworteten', 'Wu', 'hinzu', 'großartigen', 'Hausmädchen', 'denkt', 'nachdem', 'müßt', 'tiefster', 'einigem', 'erzählte', 'Dreier', 'Uebrige', 'übrigens', 'was', 'Tasse', 'Katze.', 'beginnt.«', 'Distel', 'Fluten', 'Wallroß', 'schwacher', 'Flamingo', 'Klasse', 'Rhein', 'Vater', 'Schweigen', 'klinkte', 'verdientest', 'Abenteuern', 'wiederholten', 'bedeckte', 'erscholl', 'fege.«', 'Perücke', 'umhersah', 'dumm.«', 'Kreuzverhör', 'gänzlichem', 'rufend', 'Gespräche', 'Lichte', 'Fräulein', 'vielleicht', 'Nasenspitz', 'sprechend', 'Erst', 'sagt', 'Danke', 'Eisenbahn', 'Lagen', 'Spielen', 'Kieseln', 'anfühlen', 'dir?«', 'lege', 'pfeifen', 'gehören', 'voller', 'Grasplatz', 'Fächer', 'vergißt', 'langsamer', 'freilich', 'Abenteuer', 'Gedanke', 'Gelegenheit', 'Wechsel', 'darum', 'immer', 'Spur', 'habe', 'kurz', 'kriege«', 'Gefallen', 'Kutsche', 'ruhte', 'Weilchen', 'tausend', 'Beamte', 'wußte', 'Northumbria', 'Sollst', 'Baumzweige', 'sitzt', 'fürchtete', 'Punkt', 'vertreiben', 'unangenehm', 'reichten', 'Warum?«', 'hoffend', 'soll', 'verstehst', 'Hummer', 'Eure', 'schreite.«', 'Schüssel', 'wüßten', 'Einige', 'weil', 'Glastische', 'gewarnt', 'langschwänzige', 'solchen', 'furchtbar', 'Schatten', 'malen?«', 'sage', 'einem', 'Chor', 'Austern', 'Einzelne', 'regelmäßiges', 'Welt', 'Viertes', 'beweisen', 'umständlich', 'rücksichtsvoll', 'gedrückt', 'besinnen', 'aufgefordert', 'Hm', 'wohin', 'Schlösser', 'stecken', 'zuhörte', 'Räthsel', 'danach', 'ist«', 'Erzählen', 'Pilze', 'verurtheilt', 'Gefangenen', 'still', 'war', 'T', 'an.«', 'klugen', 'dafür', 'gewartet', 'impertinent', 'thun', 'lag', 'Bademaschinen', 'durchgemacht', 'niederbrennen', 'Gemisch', 'kleinen', 'beklagten', 'Hälfte', 'verschnitten', 'bestätigte', 'behaupten', 'H.', 'Mensch', 'lautes', 'Ohne', 'wärest', 'zwischen', 'nein', '_ganz', 'Familie', 'steif', 'Rabe', 'Stunden', 'anständigen', 'heulte', 'trinken', 'bedeutete.«', 'dagegen', 'Glacee-Handschuhen', 'zurückgewandert', 'aufgeschrieben', 'Zebräisch', 'Coeur-Buben', 'ungefähr', 'Wofür?«', 'Semmel', 'gewöhnt', 'klärten', 'fortwährend', 'nah', 'beben', 'wünschte', 'Himmel', 'gekommen.«', 'vorgegangen', 'Murmelthiers', 'Büchern', 'heftig', 'unwichtig', 'Livree', 'Else', 'paßt', 'gegeben', 'aufstand', 'Anweisungen', 'weiß', 'Beifallklatschen', 'M?«', 'Streit', 'Beifall', 'verwandelten', 'Kasserole', 'Tod', 'Strümpfe', 'zeigen', 'beschloß', 'Weise', 'Muth.«', 'Verwahrsam', 'Kenntnisse', 'endlich', 'grimme', 'der', 'sprang', 'lernen', 'Fragen', 'lächelte', 'schütteln', 'Gäste', 'Croquet-Sachen', 'durchkriechen', 'Demnach', 'Weißfisch', 'darin', 'Gespräche?«', 'aufgeregt', 'vortrefflicher', 'verlassen', 'herum', 'Strande', 'Abtheilungen', 'schwieg', 'hätt', 'Gerichtsdienern', 'überklug', 'funfzehn', 'gestemmt', 'Zweifel', 'commandiren.«', 'anderer', 'Augenblick', 'nachgedacht', 'Goldfischen', 'sperrten', 'blauen', 'Bewegung', 'n.«', 'Rath', 'warest', 'Trinken', 'Laune', 'unbehülflich', 'nämlich', 'spitzes', 'ausgedrückt', 'gedruckt', 'schämen', 'warum', 'Meerschweinchens', 'Zeugen', 'Versammlung', 'Unterhaltung', 'Rosen', 'leer', '_der_', 'dieser', 'gesammelt', 'angenehm', 'rechter', 'winzig', 'vergessen', 'einerlei', 'begegnete', 'schlafe', 'Vier', 'gekommen', 'winziger', 'Auge', 'zeigte', 'hinunter', 'und', 'Sobald', 'aßt', 'meine', 'stimme', 'Fuße', 'kostete', 'Wir', 'herrlich', 'zweiter', 'wünschen', 'Meinst', 'Probe', 'Sänger', 'Tochter', 'selbst', 'Ida', 'Stellung', 'umhersprang', 'blos', 'schwamm', 'eher', 'Tropf', 'Frau', 'Einem', 'versuchte', 'Rückseite', 'Bub', 'Aufregung', 'demüthigem', 'Zauberfläschchen', 'Schildkröten', 'Gebt', 'weich', 'weiße', 'Hatte', 'spielten', 'verfehlte', 'schlossen', 'komme', 'Das', 'umgebracht', 'Erklärungen', 'trocknete', 'wirkliche', 'Stand', 'strich', 'den', 'darauf.', 'folgt', 'In', 'sitzen', 'Lies', 'Richter', 'pflegte', 'im', 'weinen', 'Protokoll', 'vorgefallen', 'gehört', 'gefällig', 'Courant', 'jedoch', 'Knebelbart', 'Töne', 'Achtes', 'O', 'recht.', 'keine', 'angeknüpft', 'drum', 'zwei', 'Corridors', 'Feuer', 'gesetzt.«', 'Aufgaben', 'eigentlich', 'winzig.«', 'Regel', 'Verse.«', 'Bücher', 'Majestät', 'komisches', 'antwortete', 'schlagt', 'allgemeiner', 'flog', 'kann.«', 'wie', 'Verachtung', 'aufgerollt', 'Pfanne', 'eiliger', 'Spaß', 'Schillern', 'denkst', 'London', 'runden', 'Lippen', 'Tunnel', 'Liebe', 'bemüht', 'umhergesprungen', 'wahrer', 'heiserer', 'ausdenken', 'verderben', 'verbeugte', 'Magst', 'Ende', 'dumme', 'Herzenskönig', 'geradeaus', 'sieben', '_keine_', 'schluchzend', 'enthalten', 'angeordnet', 'zwölften', 'fiel', 'Veränderung', 'apportirt', 'lachte', 'klingende', 'bekommen', 'ausgraben', 'Hofe', 'Antwort?«', 'heftigsten', 'Jahre', 'höchsten', 'Spatzen?«', 'Wunder', 'darunter', 'erster', 'könntest', 'abwärts', 'Nachtluft', 'mußt', 'übernehmen', 'du?«', 'Fahr', 'Angst', 'spräche', 'Wahrheit', 'förmliche', 'Bahn', 'Tage', 'Mercia', 'kau', 'thust', 'ließest', 'hattet', 'Spuren', 'schlug', 'derselben', 'Potz', 'gesprochen', 'Viel', 'tiefe', 'confus', 'schweigend', 'spät', '_Alice', 'heftigen', 'Stöße', 'wohl?«', 'linken', 'schnell', 'zurückreisen', 'hergekommen.«', 'Hast', 'sofort', 'Canarienvogel', 'Ellbogen', 'kurze', 'Ah', 'beiden', 'knurren', 'leiseste', 'wünschest', 'Vers.«', 'andres', 'Fange', '_Iß', 'soll.«', 'denke', 'Westentasche', 'Erzbischof', 'ruhig', 'wären', 'Mitte', 'Er', 'Tanzen', 'erschien', 'Verwickelt', 'auffuhr', 'Geringsten', 'verdutzten', 'wurde.«', 'sähen', 'hinab', 'kommst', 'aufzustehen', 'Fall', 'trinkt', 'Fell', 'gerecht', 'Brust', 'Mahlzeit', 'Könige', 'hinkomme', 'Freunde', 'bitten', 'vermuthe', 'aufstanden', 'finden', 'aufgehört', 'Eh', 'verworrene', 'Herz', 'Schlüsselchen', 'eingeladen', 'Brief', 'hingekommen', 'lächerlich', 'Supp', 'weder', 'Fürst', 'mein', 'abgeben', 'schwach', 'Pfeil', 'quiekende', 'erreicht', '_du_', 'geräumt', 'wunderschöne', 'Wirkung', 'bin', 'gelegt', 'Legen', 'übermorgen', 'nichts', 'Weile', 'einigermaßen', 'per', 'gereizt', 'Schnäuzchen', 'keinen', 'Notizbuch', 'angehalten', 'erheben', 'ausgeblasen', 'eilten', 'schmeckte', 'Mittlerweile', 'Knöcheln', 'angestarrt', 'zankten', 'Geschwornen', 'erstickter', 'hineinsteigen', 'Wirklich', 'Fisch-Lackei', 'wette', 'Wohlgeboren', 'einzelne', 'Wasser', 'zwickte', 'Krume', '9', 'Erzählung', 'Bekanntschaften', 'Schwimmt', 'vernünftigem', 'Benehmen', 'An', 'Tulpenzwiebeln', 'Nenne', 'stritten', 'außerordentlich', 'welchen', 'überrascht', 'rauh', 'geschoben', 'Sogleich', 'Natürlich', 'zeichnen?«', 'bestand.', 'Im', 'völlig', 'Wildpret', 'drin', 'ernsthaft', 'näherte', 'fielen', 'Treu', 'gaben', 'schwermüthig', 'gesellt', 'Rufe', 'herunterhingen', 'weißes', 'Dame', 'lasse', 'verwandelt', 'unterbrach', 'abschüttelte', '«', 'Schlüssel', 'Rede', 'Tafel', 'Bett', 'vorhielt.', 'Kreise', 'Lachs', 'Merkwürdigste', 'meines', 'anbelangt', 'ruhiges', 'Seht', 'Jedoch', 'aufging', 'erleuchtet', 'kannst?«', 'wild', 'aufgraben', 'Theekanne', 'aufsprang', 'Perrücke.«', 'trocken', 'Pilzes', 'zurückkomme', 'Sogar', 'anzusehen', 'heißt?«', 'leises', 'abtreten', 'Zusehen', 'Glieder', 'Wochen', 'nettes', 'will', 'Greifen', ']', '_Trink', 'Hülfe', 'betteln', 'Uebrigens', 'lieber', 'Spielern', 'vertraulich', 'besonnen', 'lehrte', 'trocknen', 'aussehen?«', 'ersten', 'umbiegen', 'Du', 'hängt', 'Kunststücke', 'Rechte', 'Siehst', 'abwechselnd', 'Athem', 'zornig', 'Concerte', 'ihr', 'Versuch', 'nie', 'Mittel', 'Ausgehen', 'klarer', 'Adler', 'auszustrecken', 'daher', 'wievielsten', 'Anderem', 'besser', 'Purzelbaum', 'Flamingos', '.', 'Ausrede', 'Sechstes', 'Feuerzange', 'jeder', 'würde', 'gerathen', 'fort', 'entfallen', 'dicht', 'Kein', 'einzigen', 'Fingerhut', 'wirst', 'bist?«', 'Taube', 'bekannt', 'saß', 'Herrlich', 'Wunderbar', 'erlauben', 'Sagt', 'bedeckten', 'reden', 'versiehst', 'schmachtender', 'verfehlt', 'andre', 'Gefängnis', 'ausbreitete', 'Schoße', 'Dur', 'welchem', 'gelehrt', 'kleiner.«', 'liebe', 'grünst', 'hättet', 'tragisch.«', 'Sinn', 'Achse', 'insbesondere', 'thränenschweren', 'geköpft', 'neben', 'liegt', 'Sieht', 'kreischte', 'schrak', 'Bemerkungen', 'müssen', 'hab', 'einbohrte', 'es', 'liebe_', 'geputzt', 'Anblick', 'schnitt', 'mag', 'woher', 'angedeuteten', 'Bei', 'wofür?«', 'Nie', 'armseliger', 'läugne', 'riefen', 'Blätter', 'Aufeinanderfolge', 'Zweites', 'Auflösung', 'wüthender', 'Gedichte', 'Merkwürdiges', 'gegen', 'Mangel', 'zufällig', 'nahen', 'Nachdrucke', '_mit', 'muthlos', 'fragend', 'Kindes', 'Morcar', 'verschwinden', 'alle', 'deines', 'Erde', 'erreichte', 'eintrat', 'umgewechselt', 'schläfrige', 'kriegen', 'verwechselt', '_einen_', 'heute?«', 'erwiedern', 'hübsche', 'goldenes', 'Einrichtung', 'Alter', 'welke', 'Klauen', 'hört', 'Soll', 'wachsen', 'Auflauf', 'Sie', 'kehrte', 'Befangenheit', 'Sind', 'mehre', 'Corridor', 'Guck', 'stolperten', 'Blumentopf', 'reumüthigem', 'Englisch', 'wollen', 'Hinter', 'gethan', 'vorbeirannte', 'Kleinen', 'Faselhasen', '_ist_', 'Kommen', 'Kaufmann', 'Pack', 'zerreißen', 'fortgesetzt', 'Bade', 'fortlief', 'verurtheilen', 'Gewichte', 'dasselbe', 'Pause', 'Murmelthier', 'Diejenigen', 'hervorstehende', 'Vögeln', 'Karre', 'Greifisch', 'Geh', 'späterer', 'manch', 'Krebse', 'bedeutend', 'Lärm', 'Richtungen', 'Wach', 'dreien', 'Dinge', 'Zurück', 'Fenster', 'seid', 'entgegnete', 'sagen.', 'anfing.', 'jung', ',', 'während', 'besann', 'erinnern', 'vorkommt.«', 'Setzt', 'zurückkam', 'etwas', 'messen', 'hundert', 'kratzen', 'Goldne', 'naseweis', 'denen', 'Köchin', 'fortgegangen', 'Am', 'Da', 'Wäldchen', 'Rüstung', 'Absichten', 'vorher', 'bewachen', 'aufhöre', 'meinst', 'Butterbrot', 'klatschen', 'Anderes', 'ziemlich', 'Blumenbeeten', 'Allem', 'weinte', 'fragst', 'Flasche', 'dreister', 'kopfunten', 'solltest', 'liegen', 'ihrer', 'Laß', 'bleebt', 'bedenken', 'Anhang', 'Engländern', 'läßt', 'holt', 'kurzer', 'Experiment', 'Aufschrift', 'befand', 'hoch', 'Ferkel-Kind', 'interessanter', 'buk', 'Normannen', 'Grunde', 'sodaß', 'nehmend', 'später', 'Person', 'rücklings', 'reizend', 'Schornsteine', 'Tasche', 'ißt', 'schloß', 'sonst', 'Gerichtshof', 'verschieden', 'merkwürdig.«', '_', 'Schoß', 'breiter', 'hängen.«', 'Tinte', 'trat', 'Bretter', 'gefallen', 'wunderwild', 'wöchentlich', 'sein.«', 'gerunzelter', 'falschen', 'drängte', 'flach', 'fortgingen', 'niedliche', 'unentschieden', 'Schnurrbart', 'geworden', 'spart', 'redend', 'Wicht', 'geöffnet', 'grade', 'kniffen', 'ab', 'des', 'tiefer', 'schlimmer', 'aufhörte', 'mag?«', 'reizender', 'Mäuschen', 'tief', 'Kampfe', 'erfunden', 'lahm.«', 'statt', 'merkwürdiges', 'erzählt', 'Stöhnen', 'hervor', 'kopfüber', 'rückt', 'Karten', 'aushalten', 'Dem', 'gekreuzt', 'o', 'herzlich', 'behagte', 'kümmert', 'daherschwamm', 'gedeckter', 'famos', 'Wählen', 'begleitet', 'niesen', 'Kehle', 'tauchen', 'Spieler', 'beendigt', 'sollen.«', 'Königinnen', 'Minute', 'Sieben', 'geringelten', 'erschienen', 'einer', 'hatte', 'Luftsprunge', 'Schon', 'abzugeben', 'gedeckt', 'eintreten', 'toll.«', 'Mond', 'Treiben', 'ernst', 'gegangen', 'heißen', 'Oder', '&c.', 'neun', 'Tafeln', 'Augenblicke', 'schneidet', 'redeten', 'Sinne', 'wen', 'stützen', 'Quieken', 'Gaste', 'meiner', 'Getöse', 'wollte', 'dasselbe.«', 'Messer', 'irren', 'überhört', 'Wie', 'lernten', 'einfiel', 'unmittelbaren', 'achten', '_Fußteppich', 'Vierzehnten', 'essen', 'merkte', 'stehen', 'könnten', 'diesen', 'lange', 'Liebkosungen', 'Buben', 'könne', 'vielmehr', 'ausdrücken', 'Pinsel.«', 'schade', 'erst', 'Berathung', '_der', 'heftige', 'stolz', 'befrei', 'Bemerkungen?«', 'Wachtelhund', 'häßliches', 'Kindheit', 'Wessen', 'ganzer', 'Vögel', 'tanzen', 'Gesichter', 'Mores', 'kroch', 'rührte', 'hineingelaufen', 'gewiß', 'diese', 'werth', 'kamen', 'wau', 'Erhöhung', 'Herzen', 'worüber', 'falle', 'Nacht', 'Aerger', 'wovon?«', 'gezeichnet', 'käme', 'hingegen', 'umherschwamm', 'Blumen', 'falsche', 'Renne', 'Armen', 'Springen', 'machst', 'hinein', 'zeichneten', 'sprecht', 'folgte', 'seufzen', 'angeredet', 'gesprochen.«', 'Fläschchen', 'Gleich', 'wüthend', 'bewahren', 'Trost', 'wahr', 'spähend', 'fangen', 'lauf', 'Vor', 'glaube', 'hervorzuziehen', 'urtheilen', 'Position', 'Freilich', 'Zoll', 'hinaus', 'appetitlich', 'Baumwurzeln', 'gerannt', 'köpfen.«', 'Schultern', 'endigen', '_Alice_', 'Male', 'Still', 'erwiederte', 'Kindern', 'kommen', 'bestimmt', 'Teleskop.«', 'indem', 'wanderte', 'sie.«', 'Kirschkuchen', 'zwanzigsten', 'zuredendem', 'Liste', 'fange', 'hält', 'Lackei', 'Land', 'Beweis', 'möglich', 'ihre', 'inne', 'Ohrfeige', 'Entweder', 'sagten', 'was?«', 'Tag', 'brüllte', 'hier_', 'sogar', 'gelang', 'Zickzack', 'allererst', 'hätte', 'Wann', 'schon', 'albern', 'drüben', 'lang', 'Muster', 'eigenthümliche', 'Ueberraschung', 'her', 'entzweit', 'niesten', 'hineingestellt', 'Mittheilung', 'Rücken', 'versammelten', 'Form', 'Zeck', 'zusammengefaltet', 'Beide', 'an?«', 'allerfeinste', 'trug', 'flüsterte', 'hersagen', 'Grinsen', 'vielen', 'zerbrochen', 'Küche', 'Lachse', 'Theetisch', 'vergoß', 'kleines', 'kannte', 'enthaupten', 'Figur', 'außergewöhnliche', 'Scherben', 'gewöhnlich', 'Zeiten', 'leiden', 'Drum', 'Verhör?«', 'glauben', 'Die', 'Noth.«', 'Fressen', 'Hut', 'aufzuthun', 'Walde', 'Kuß', 'antworten', 'Steht', 'Schlangen', 'in', 'fünf', 'Wickelkind', 'merkwürdigen', 'Weg', 'sondern', 'behielt', 'versuchten', 'Zeitung', 'herein', 'auszuspielen.«', 'worden', 'Langschwänzig', 'unwichtig.«', 'Fläschchens', 'gebracht', 'Stiefel', 'trink', 'spät.«', 'träumte', 'gehabt', 'Unverschämtheit', 'Thränen', 'Hase', 'wohlbekannte', 'Blättern', 'Etwas', 'Kerl', 'Hals', 'zusammengedrängt', 'Vers', 'wich', 'Stirn', 'würdest', 'halte', 'Messingschild', 'Pergamentrolle', 'gefressen?«', 'hinabsah', 'Knochen', 'Vorbeifallen', 'jüngst', 'Mäusen', 'Wunder-wunderschöne', 'einexercirt', 'Kindesleben', 'zu', 'Krallen', 'Stehlen.«', 'entfaltete', 'sehen?«', 'Hasen', 'meinen', 'nachher.«', 'gingen', 'weiter', 'liebevoll', 'weichen', 'Dampfend', 'irgend', 'Seiten', 'Grüßen_', 'aller', 'Liebling', 'blödsinnig', 'plätscherte', 'langsam', 'superfeine', 'aufzugeben', 'erstens', 'Schiefer', 'willst', 'zusammenstecken', 'wir', 'Wahrhaftig', 'kommt?«', 'immerwährende', 'esse', 'duckte', 'Qualität', 'zurückgegeben', 'Höchste', 'herauf', 'Herzogin?«', 'ich', 'Theil', 'Dachspitze', 'Ich', 'dunkel', 'Ecke', 'herabträufelte', 'Herzensangst', 'mich_«', 'folgen', 'endigte', 'Ohr', 'Schlag', 'euer', 'hat', 'gelange', 'hübscher', 'keiner', 'ausführen', 'Warum', 'Wollen', 'Hutmacher.«', 'aufzuwaschen.«', 'nieste', 'komm', 'Weshalb?«', '_eine_', 'aß', 'eine.«', 'Gedanken', 'Witz', 'vorgekommen', 'daran', 'Abend', 'aus.', 'dichter', 'Was', 'paarweis', 'kopfoben', 'Frieden', 'zurück', 'Werk', 'hersagte', 'Hoffnung', 'erwiderte', 'nennen', 'könntet', 'Frettchen', 'Gestalt', 'erzähle', 'Sei', 'Terrin', 'Rohres', 'Nichten', 'tiefen', 'paarweise', 'Zunge', 'allgemeines', 'athme', 'also', 'verschwunden', 'einzubilden.«', 'zuweilen', 'gewachsen', 'niedrigen', 'losen', 'wolltest', 'Nachdenken', 'Lackeien', 'abzuwehren', 'sechs', '_abwarten_', 'verdamme', 'langer', 'zugemacht', 'Singe', 'brennend', 'niederlassend', 'ungeschickt', 'verlassen_', 'verzehrte', 'um', 'fällt', 'nöthigte', 'fortkroch', 'behalten?«', 'schlüpfen', 'die', 'Stäbchen', 'Bedenke', 'hineinsteigen.«', 'gewinnen', 'Kreis', 'feierlich', 'dienen', '_sehr_', 'beschreiben', '_Trinke', 'Den', 'einige', 'griff', 'gesprochne', 'kenntest', 'umgebogenen', 'Wollte', 'wäre', 'Papier', 'halbe', 'Gartens', 'wo', 'Aufgehängt', 'Mund', 'Hände', 'Stimmen', 'Bist', 'Darum', 'keines', 'umdrehend', 'Schild', 'getödtet', 'ihrigen', 'Ja', 'M', 'Laßsein', 'Freuden', 'Und', 'zog', '_ich_', 'Thieren', 'trägst', 'Huhka', 'thät', 'aussehen', 'Ereigniß', 'Euer', 'außerdem', 'klagendem', 'schneite.«', 'Wind', 'wäre.«', 'Mäuse', 'hinrollen', 'mach', 'Rosenstrauch', 'nachher', 'Anwendung', 'bliebe', 'Einbildung', 'Fliegen', 'zusehends', 'vorgenommen', 'unterdrückten', 'mich', 'verwickelten', 'halb', 'altkluge', 'roth', 'Herold', 'aufwickeln', 'wimmeln', 'knurrt', 'Bitte', 'obgleich', 'sprachen', 'Leibe', 'ertrinken', 'gewissen', 'begreifen', 'zuckersüß', 'erzählen', 'knurre', 'Worauf', 'Acht', 'vollkommen', 'Fisch', 'dies', 'drauf', 'Haltet', 'brüllen', 'unterwerfen.«', 'Wörtern', 'sah', 'ihn', 'beinah', 'haben.«', 'wartete', 'geduldig', 'Plätze', 'Katzenkopf', 'unförmliches', 'Folgendes', 'demnach', 'Juchheisasah', 'rufen', 'behalten', 'bekommt.«', 'dichtes', 'soll?«', 'Ferkel', 'Menge', 'Auseinandersetzung', 'Farbe', 'reizendsten', 'Fangt', 'bitte', 'Hund', 'verwickelte', 'durchaus', '_mich_', '_weit_', 'feierlichem', 'ängstigst', 'schläft', 'dürfen', 'welcher', 'Seele', 'trägt', 'hörte', 'durchdringender', 'sprechen', 'bestürzt', 'Mit', 'denselben', 'unbehaglich', 'losmachen', 'Frage', 'weißer', 'Schemel', 'Butterblume', 'gefolgt', 'Fächer?«', 'ansah', 'Buche', 'fortkommst', 'Nun', 'Spaten', 'empfindlich', 'mit', 'fragt', 'angenehme', 'ausrief', 'erzählen.«', 'Ne', 'halblauter', 'gleich', 'Gärtner', 'rechten', 'wohnen', 'ungerechtere', 'milde', 'unterstand', 'regelmäßig', 'sprach', 'begreife', 'Mittelpunkte', 'Nein', 'Ha', 'Stigand', 'entschuldigte', 'geradewegs', 'Gutshofes', 'Liebe?«', 'unangenehme', 'Schmetterling', 'zusammen', 'beim', 'bemerken.«', 'gearbeitet', 'Schalthier', 'desto', 'mittlerweile', 'Wieder', 'patriotische', 'bedeckt', 'Mädchen«', 'Pfund', 'einzuwickeln', 'umgestoßen', 'Niemals', 'Geschichte', 'Warnungen', 'schwierig', 'Kind?«', 'etwa', 'Ohren', 'Wangen', 'wußten', 'Es', 'behandeln', 'scheint', 'Zugestanden', 'Zwölftes', 'Imponiren.«', 'wann', 'hinausgewiesen', 'Anzahl', 'letzte', 'Wäsche', 'oft', 'sogleich', 'Unterdrückt', 'sonderbarer', 'Mord', 'Fünftes', 'gewonnen?«', 'Kugeln', 'halten', 'klänge', 'Hältst', 'zitternder', 'grabe', 'Schritten', 'Augenschein', 'hörten', 'belebte', 'Kinder', 'schaukelte', 'lateinischer', 'eure', 'untersucht', 'trafen', 'Ente', 'Halt', 'Stücke', 'Titelbild', 'Mitt', 'ganzen', 'sei', '_Dinah', 'junger', 'lockig', 'Croquet', 'schrumpfte', 'angefangen', 'schalt', 'Rom', 'schwindlig.«', 'Fortgehen', 'Tafelsteine', 'Wau', 'erklärt', 'Geschichte.«', 'verschiedene', 'Für', 'immer.«', 'verschwand', 'Vorhang', 'Mineral', 'umhin', 'Martin', 'getrunken', 'verbrannt', 'wendend', 'strenge', 'Reiben', 'plump', 'Lampen', 'Gras', 'Wechseln', 'bemerkte', 'Throne', '_muß_', 'brachen', 'rauschen', 'Vorstellung', 'Dein', 'Gerichtsbeamten', 'extra.«', 'schüchtern', 'Unfalles', 'Theelöffel', 'wundert', 'bedeuten', '_nicht', 'unmöglich', 'versammelt', 'entlang', 'merkwürdiger', 'wem', 'gelangte', 'anfängt', 'gesucht', 'Mäuseloch', 'Tillie', 'beobachtet', 'Haus', 'betrachtet', 'sch', 'Eifer', 'vom', 'thäte', 'Tafelstein', 'anfängt.«', 'Freude', 'Unsinn.«', 'schreien', 'gemäßigt', 'Ach', 'zittern', 'Zuhören', 'tunkte', 'für', 'klaräugiger', 'wunderbar', 'traf', '_Alle', 'einmal', 'eimerweise', 'gelangen', 'weiterer', 'vergeblicher', '_dich_', 'gerne', 'zurückholen', 'Katzen?«', 'fünften', 'Wesen', 'Lied?«', 'persönliche', 'Weinen', '_übler_', 'stehe', 'Jungen', 'zuletzt', 'freue', 'verschlossen', 'Nur', 'gutes', 'Senf-Bergwerk', 'gestohlen', 'groß', 'festhalten', 'Gerichtshofe', 'Butterbrote', 'auf.', 'rauchen', 'Bildern', 'Kaninchenbau', 'sparsam', 'Schal', 'Gesanges', 'gezählt', 'Gefangenen?«', 'Irrthum', 'existirte', 'lehren', 'abläugnen', 'schüttelte', 'Einst', 'veränderte', 'Raben', 'Zeit', 'Kessel', 'Noth', 'schüchterne', 'Weißfische', 'undeutlicher', 'verstand', 'geworden?«', 'Furche', 'bin?«', 'frißt', 'erklären', 'Gehen', 'Nest', 'schien', 'tödten', 'angerufen', 'brummig', 'Hau', 'verurtheilt.«', 'Siebentes', 'Besonders', 'unterschrieben', 'Aal', 'verquerer', 'schaffe', 'heraus', 'Küchenzwiebeln', 'Zehntes', 'Dinah', 'kluge', 'Bild', 'vorstellen', 'einfallen.«', 'glaubt', 'unfehlbar', 'gedeckt.«', 'vermischten', 'Schrei', '_da_', '_je_', 'wächst.«', 'Strümpfen.«', 'ehe', 'Trinke', 'Antrag', 'Kommt', 'leisen', 'beseitigen', 'Pflanze', 'Theetassen', 'vertheilte', 'erhob', 'Ueber', 'wandte', 'erholt', 'offnem', 'wunderbaren', 'mögen', 'Annahme', 'beißen', 'guter', 'erscheint', '_Die_', 'juchhe', 'platsch', 'fertig', 'ma', 'piepte', 'sauberes', 'anziehen', 'Edwin', 'Schilt', 'Dummkopf?«', 'bewaffnet', '--', 'disputirt', 'Spielst', 'draußen', 'handhaben', 'vertreiben.«', 'mochte', 'losrannte', 'Sage', 'Sprich', 'Durchgehen', 'Gerstenzucker', 'zunächst', 'gefällt', 'Darüber', 'förmlich', 'Moral', 'Wichtiges', 'heran', '*', 'Jedermann', 'diesmal', 'niedergeschlagenem', 'Strick', 'Eroberungen', 'genug.«', 'finde', 'Häuschen', 'folgten', 'Verwandlung', 'bewegen', 'Schade?«', 'erschütterte', 'ungeduldig', 'Breitegrad', 'Einzige', 'haltend', 'Schnüren', 'glaubte', 'Gesange', 'Geklirr', 'aufgeregter', '_Barsch_', 'schluchzte', 'fressen', 'gepflanzt', 'komisch', 'merkwürdig', 'gefunden', 'umstieß', 'Mühe', 'lief', 'Verwandlungen', 'ganze', 'glücklich', 'Krone', 'blieben', 'Schuppen', 'Fallen', 'Schornstein', 'hergesagt', 'Teleskop', 'gehn', 'selbstzufriedenem', 'Beamten', 'Ursache', 'ihm', 'prunkenden', 'beruhigte', 'Pult', 'wahrheitsliebendes', 'helfen', 'darf', 'gäbe', 'geschehe', 'Unfall', 'muthig', 'verlieren', 'Schulbuch', 'auszudrücken.«', 'ausgedacht.«', 'Rosinen', 'nützt', 'aufgebracht', 'umgab', 'ungeschickte', 'nützen', 'gedankenvoll', 'anfaßt', 'hoffnungsvollem', 'nöthig', 'womit', 'bedeutet.«', 'quiekste', 'hören', 'vorzustellen', 'damit?«', 'jetzt', 'vermuthlich', 'zweier', 'Rechnung', 'eine', 'anzuziehen', 'ausstreckte', 'erwachsen', 'Handschuhe', 'hervorkam', 'Verhör', 'Breitegrade', 'Weihnachten', 'ärgerlich', 'möchten', 'ungebeten', 'ich.«', 'kraus', 'Ferne', 'Ecken', 'lehnte', 'eigenes', 'daß', 'Herzchen', 'entsetzlich', 'Schwänze', 'hilft', 'Knie', 'nächste', 'Armes', 'athmen.«', 'langes', 'ließ', 'euch?«', 'paßte', 'Herumschwimmen', 'nützlich', 'allerlei', 'Richtung', 'Unsere', 'reichen', 'Schön', 'Schluchzens', 'Schnecke', 'es?«', 'wissen?«', 'bloße', 'gewöhnliche', 'besah', 'verstehe', 'Frosch-Lackei', 'fortschaffen', 'deren', 'überblicken', 'erschrockene', 'sein', 'auszubrüten', 'ausgetrunken', 'tolle', 'gabt', 'Eingang', 'uppe', 'guten', '»', 'bist', '_das_', 'Geräusch', 'Kissen', 'Lächeln', 'Auf', '_Kaninchen_«', 'Strenge', 'Strand', 'Füßen', 'redete', 'größer', 'Schwierigkeit', 'Immer', 'Rechnen', 'Nöthigste', 'Bäume', 'Abziehen', 'Maßstabe', 'Nimm', 'Lehnt', 'Kinnbacken', 'rother', 'ach', 'fortzukommen', 'getragen', 'davor', 'geradezu', 'fliegen', 'Reitersmann?«', 'Wink', 'überhaupt', 'anhören', 'rücken?«', 'trotzdem', 'nahe', 'häßlich', 'schön', 'setzten', 'Wickelkinde', 'gähnend', 'Ueberzeugung', 'Essig', 'Gurkenbeet', 'ich?«', 'liebkosendem', 'suchen', 'verschiedenen', 'Meerschwein', 'ärgerliche', 'einen', 'Geschenke', 'warten', 'Schöne', 'glücklicherweise', 'Gebrauch', 'Unterschrift', 'Stange', 'schlägt', 'scharf', 'wunderschöner', 'angezogen', 'Plan', 'Brennt', 'Meilen', 'erwartungsvoll', 'See', 'erwähnt', 'Jnaden', 'gebückt', 'Schulter', 'hingehen', 'Minuten', 'freut', 'ausgedacht', 'brauchte', 'Essenszeit', 'Sommertage', 'nachsehen', 'zugleich', 'Mal', 'seit', 'rückte', 'bemerken', 'Blättermeer', 'Igel', 'Lieblingsworte', 'einfallen', 'dennoch', 'fassen', 'als', 'Antipathien', 'Seeufer', 'versteht', 'jedenfalls', 'Sinne.«', 'Wände', 'Dinger', 'hohe', 'brach', 'errinnern', 'Ton', 'stehn', 'mich«', 'gemacht?«', 'Tanze', 'einfache', 'erfährt', 'wundern', '=Où', 'Grinse-Mies', 'werde', 'Hauptschwierigkeit', 'morgen', 'dazu', 'schwimmen', 'wenig', 'Jedenfalls', 'Thee', 'hauptsächlich', 'Füßchen', 'unverwandt', 'trank', 'froh', 'seine', 'Ihre', 'erreichen', 'mal', 'Art.«', 'unbestimmte', 'prüfend', 'zugethan', 'dachte', 'herüber', 'Stirne', 'Augen', 'großen', 'befangen', 'Pfui', 'hier', 'Atheling', 'verbergen', 'stand', 'Flügeln', 'gut', 'aufgefangen', 'Haken', 'ermuthigender', 'Plötzlich', 'erfolgte', 'Allerlei', 'Usurpation', 'Geduld', 'Kinn', 'erwartete', 'Grinse-Katze', 'Summe', 'trinke', 'Zahlen', 'war.«', 'köstlicher', 'nickte', 'gähnte', 'Meinung', 'lauter', 'ermessen', 'Suppen', 'bezahlen', 'Stein', 'näher', 'langschwänzig', 'fortgehen', 'Bald', 'schlecht', 'verbeugten', 'wichtig«', 'beobachtete', 'schneller', '_was_', 'Gipfel', 'Zweige', 'unterdessen', 'seiner', 'wunderst', 'Doch', 'brauchen', 'Ihr', 'großem', 'wehr', 'niest', 'besten', 'demüthig', 'Abwesenheit', 'baten', 'leise', 'Platz', 'Höhe', 'Conversationsbuche', 'ziehen', 'geschahen', 'hingerichtet', 'Seehunde', 'einwenden', 'erkundigen', 'Gnaden', 'gerade', 'Erfrischungen', 'Gieb', 'legte', 'höre', 'Putenbraten', 'einfielen', 'gelernt.«', 'M.', 'Köpfe', 'vorbeiging', 'Alle', 'aufgestanden', 'rief', 'Deinen', 'Erlebnisse', 'vertilgt', 'Marianne', 'wollt', 'genug', 'begegnen', 'unterfaßte', 'Nutzen', 'Daher', 'deutlich', 'Eine', 'Salbe', 'junge', 'Rieseln', 'glaubst', 'Räthseln', 'Reihe', 'liefen', 'Pfote', 'Miene', 'aufzumachen', 'zanken', 'Entfernung', 'weniger', 'darauf', 'Lande', 'Puppe', 'goldne', 'Verwirrung', 'trotz', 'vollbracht', 'triefenden', 'Schachtel', 'Wat', 'eignen', 'Bruders', 'Herr', 'vorige', 'bekam', 'da', 'gefälligst', 'Sieh', 'hängen', 'Blicke', 'sprechenden', 'Furcht', 'Bäumen', 'können', 'sank', 'sind', 'Ausgange', 'Unter', 'ausstehen', 'Bringe', 'interessirte', 'verdrießt.«', 'anzuklopfen', 'Leute', 'bemühen', 'abstieß', 'Meerschweinchen', 'rechte?«', 'Grunze', 'bestand', 'Zu', 'goldene', 'umherguckte', 'ist.«', 'versehen', 'tragen', 'Schlaf', 'Vielerlei', 'betrübt', 'Wort', 'Sahnensauce', 'möchte', 'steigen', 'herauslassen', 'tritt', 'Liebes', 'feierlicher', 'reine', 'durchdachte', 'kriege', 'aufgestellt', 'Antwort', 'verächtlich', 'solltet', 'Schnauze', 'los', 'aufsagen', 'Versteht', 'unterscheiden', 'anzufangen', 'Mundwinkel', 'vielfachen', 'stellt', 'gesagt', 'warteten', 'einander', 'müßte', 'Seufzer', 'Glasscherben', 'Rock', '_davon_', 'gekannt', 'wenige', 'eilte', 'aufgehängt', 'eng', 'jedes', 'stöhnte', 'Zumuthung', '_alle_', 'Sollen', 'fühlte', 'kleinsten', 'kann', 'Entrüstung', 'Leinwandsack', 'Gänseblümchen', 'seht', 'durcheinander', 'sträubte', 'Kampf', '_was_?«', 'Eidechse', 'thun?«', 'nicht?«', 'Hinrichtung', 'Nehmt', 'nachgeahmt', 'einfacher', 'gesessen', 'deine', 'all', 'jar', 'seltsam', 'vergaß_.', 'schieben', 'nett', 'n', 'Geschichtskenntiß', 'königlichen', 'Ahnung', 'wisperte', 'Kniffen', 'Nach', 'Erstens', 'Dodo', 'Stockfisch', 'Verkauf', 'schreiben', 'geschmeidig', 'Während', 'anfingen', 'holen', 'geblieben', 'manches', 'betrachtete', 'Biegung', 'langweilig', 'wohnt', 'passende', 'nächstens', 'weislich', 'Tisch', 'Wird', 'besonders', 'mögen.«', 'allerdings', 'Märchen', 'verwandeln', 'Gegenstand', 'müsse', 'armer', 'zusammengebunden', 'thut', 'underschöne', 'unsicher', 'Torten', 'Ausruf', 'hast.«', 'Empfindung', 'übel.«', 'aus?«', 'unglücklich', 'geschwind', 'Hummers', 'vier', 'traben', 'erkannte', 'bestraft', 'Meine', 'Jurist', 'eins', 'beleidigt', 'fahre', 'adressirt?«', 'lebten', 'Sohn', 'knabbern', 'lieb', 'Beinahe', 'aufmachen', 'aussähe?«', 'Cheshire-Kater', 'Gegend', 'rasend', 'Komm', 'Katze', 'Nehmen', 'Durchaus', 'enthält', 'Katzen', 'Papste', 'schon.', '_treffen_', 'gehe', 'überreichte', 'bekommen.«', 'vorsingt?«', 'anhalten', 'kennst', 'schaffen', 'verändern', 'liebsten', 'wissen', '_Was_', 'klaren', 'anwenden', 'freute', 'niemals', 'sie?«', 'Schildkröte.«', 'lies', 'Passendes', 'Wimmern', 'schwenkend', 'beäugelte', 'nimmst', '_einer_', 'Reihen', 'Handschrift', 'Preis', 'grinste', 'Wahrheit.«', 'vorbeikam', 'galt', '_rother_', 'Leichtigkeit', 'noch', 'abzuschlagen', 'besorgt', 'betrogen', 'Schalthier?«', 'Küchenschränken', 'heiß?«', 'Gethier', 'Zurückwerfen', 'goß', 'Leben', 'Hunde?«', 'herauszuhelfen', 'bestreut.«', 'vor.', 'Napf', 'Thiere', 'Andern', 'fortging', 'heiser', 'köpfen', 'grunzte', 'Wäsche?«', 'wunderliche', 'Geschworne', 'eigene', 'Bellen', 'riß', 'wichtigste', 'schrie', 'fingen', 'erklärten', 'Fünf', 'wiederkommt', 'dazwischen', 'benutzt', 'schwächer', 'Einmaleins', 'hindurch', 'eigenen', 'jede', 'Hunde', 'Namen', 'Thür', '_Chor_', 'Erklärung', 'Brüllen', 'vergessend', 'drang', 'laßt', 'dreibeinigen', 'sicherlich', 'werden?«', 'lagen', 'interessante', 'lassen', 'Griff', '_Sie_', 'verschieden.«', 'fetter', 'Denkt', 'gerathen?«', 'zwölf', 'Lehrerin', 'langweilen', ':', 'Bücherbrettern', 'Würdest', 'Drittes', 'dreizehn', 'Junge', 'abknabberte', 'Schiefertafeln', 'uns', 'Augenbraunen', 'schlau', 'Woher', 'Zustande', 'stelle', 'gethan?«', 'Lied', 'zurückgebracht', 'geriebene', 'mitten', 'andern', 'sieh', 'altes', 'viel', 'begnadigt', 'Kratzfüße', 'Munde', 'geglückt?«', 'sollte', 'tragisch', 'Geschworner', 'jagen', 'fegen', 'worden.«', 'stellte', 'Gerichtssaal', 'goldenen', 'Ketten', 'nimm', 'beachtete', 'brechen', 'Fenster?«', 'Könntet', 'Vogel', 'Zahl', 'zuwarf', 'malen', 'anders', 'Sein', 'Wirthe', 'gerichtet', 'Versprechen', 'Zug', '_dein_', 'halben', 'meinem', 'herunterwinden', 'Todtenkopf', 'Mies', 'abwärts?«', 'Frosch', 'Spatzen', 'Maule', 'aussieht', 'Verquerer', 'Wilhelms', 'älter', '_Eingemachte', 'funfzig', ';', 'konnten', 'gespannt', 'überlegte', 'außer', 'Winter-Nachmittag', 'ehrfurchtsvollem', 'eben', 'hölzernen', 'Schwanze', 'mir', 'bezeichnete', 'Wohl', 'Unterbrechung', 'tollen', 'Gebüsch', 'jemehr', 'Arbeit', 'drei?«', 'Croquetfeld', 'dieses', 'Besseres', 'erfahr', 'lerne', 'Nachbar', 'Ueberlegung', 'nach', 'Eier', 'Soldaten', 'Als', 'muß?«', 'Hülfsquelle', 'ist', 'volle', '_etwas_', 'abschneiden', 'furchtsam', 'suchst', 'scheinen', 'Schauer', 'Kö', 'Herzogin', 'böse', 'bücken', 'Verzeihung', 'Geschöpfe', 'Edgar', 'darein', 'glitt', 'übrige', 'schwermüthigen', 'Locken', 'todtenstill', 'ausgesucht', 'fliegt', 'beschäftigt', 'räthselhaft', 'Publikum', 'Köter', 'Thatsache', 'Einfall', 'Rackete', 'Handschuhen', 'meerschwimmig', 'erfüllten', 'Honigseim', 'Garten', 'verfahren', 'Katers', 'Wirklichkeit', 'Geographie', 'seinem', 'Furchen', 'krank.«', 'aufsah', 'Thieres', 'Dach', 'wohl', 'Grafen', 'flüstern', 'Lockenperücken', 'wechselt', 'schüchterner', 'zurückging', 'führend', 'holte', 'zufrieden?«', 'Reden', 'ist?«', 'Milchtopf', 'Amtes.«', 'lernen?«', 'schenken', 'höflich', 'wahrhaftig', 'Dir', 'werden', 'Geschenk', 'Gerade', 'geflogen', 'schelte', 'Oho', 'Blick', 'häßliche', 'Meer', 'bog', 'rund', 'irgendwo', 'allein', 'wunderlich', 'wiederholen', 'krausem', 'hinwirft', 'Kopfschütteln', 'aufhören', 'Stunde', 'sollen', 'gefühlt', 'seien', 'keineswegs', 'Auster', 'sichtbar', 'drangen', 'gekreuzten', 'Hummerballet', 'wichtiger', 'derjenige', 'Ananas', 'Eisen', 'nicht', 'Seh', 'recht', 'm', 'Greif', 'Habt', 'zurückgehen', 'klettern', 'schluckte', 'frei', 'aussahen', 'Fuß', 'blieb', 'übrig', 'klopfen', 'Aber', 'aufbellte', 'Reiche', 'Zuletzt', 'nur', 'Unsinn', 'Dreh', 'fallen', 'Ohre', 'Fußboden', 'beide', 'gern.«', 'rauschte', 'rathlos', 'Noch', 'faßte', 'Diamanten', 'Möchtest', 'dem', 'Worte', 'Ruhe', 'fortzuführen', 'Krachen', 'lachen', 'verdutzt', 'bringe?«', 'blutet', 'gewunden', 'hohler', 'Wechselt', 'sonderbar.«', 'drängten', 'Zuhörer', 'verklage', 'Weitererzählen', 'kleiner', 'Länge-', 'liebes', 'Kummer', 'anliegendem', 'vertheidigte', 'Teller', 'herzusetzen', 'entdeckt', 'denn?«', 'Umständen', 'Freie', 'Glas_', 'verschluckten', 'singen', 'thue', 'nichts?«', 'bunt', 'geh', 'Pilz', 'gutmüthig', 'kommt', 'eilig', 'Bißchen', 'dickem', 'Rauch', 'Schnell', 'gab', 'Jeden', 'solcher', 'Unordnung', 'brachte', 'Tone', 'brummend', 'lustig', 'umgeworfen', 'damit', 'alte', 'berühren', 'getraute', 'Der', 'mitbringe', 'zurückwerfend', 'Tellern', 'zusammengezogen', 'Sehr', 'Hagel', 'eiferte', 'konnte', 'hat.«', 'wollten', 'Ist', 'Apfelsinen_«', 'Schriftstück', 'Erscheinung', 'aber', 'erlangen', 'Antworten', 'Schwester', 'Gesetz', 'weit', 'überall', 'länger', 'wäscht', 'Liedes', 'thu', 'Haufen', 'sind?«', ')', 'natürlich', 'Caucus-Rennen', 'wenden', 'wiederholte', 'Schafskopf', 'hilf', 'kenne', 'Esel', 'gehorchte', 'schwache', 'Solch', 'Werth', '_Mal_', 'hineingefallen', 'Gewicht', 'einführen', 'gestehen', 'Glas', 'eins.«', 'Pfuhl', 'rechte', 'anzureden', 'Ruft', 'Fracht', 'gescheidter', 'nichts.«', 'Köpfchens', 'herum.«', 'Mamsell', 'Wem', 'zitternd', 'niederknien', 'Stille', 'Verdruß', 'voll', 'Ordnung', 'wedelt', 'mer', 'man', 'Beinchen', 'heiß', 'wuchs', 'umsonst.«', 'Leiter', '_schalt', 'dünn', 'andere', 'Name', 'soeben', 'aufzählte', 'macht', 'zwanzig', 'Hummern', 'ebenfalls', 'wischte', 'versetzte', 'Pelz', 'Zeuge', 'errieth', 'durch', 'Thränenpfuhl', 'Zum', 'erhobener', 'ungeheuren', 'auseinander', 'Stoß', 'Mein', 'schmeckt', 'wohlfeile', 'schlief', 'sagen', 'schwarzblickend', 'starrte', 'Elster', 'wandern', 'Schlüsselloch', 'Kinde', '_Fall_', 'meinte', 'Sand', 'Hause', 'französischen', 'dabei', 'fehle', 'uppen', 'Herzenskönigin_', 'wozu', 'vorbeihuschte', 'aufzuschreiben', 'früh', 'hereinkommen', 'wahr?«', 'geführt', 'laufen', 'wieder', 'heute', 'anstellen', 'hast', 'Decke', 'kaum', 'Verzweiflung', 'retten', 'nichten', 'Brille', 'Würde', 'erbleichte', 'Leuten', 'ganz', 'waren', 'Händen', 'brauchtest', 'verstimmt', 'herabflossen', 'dauert', 'Herren', 'gestellt', 'kürzlich', 'Zwei', 'anblickte', '_Falsche', 'Trappeln', 'befolgte', 'Von', 'zugeben', 'Kaninchens', 'Menschenverstand', 'zitterte', 'Stirnrunzeln', '_bin_', 'verwirrt', 'Verstand', 'weh', 'Dosen-Stehauf', 'verdrießlichem', 'herumgestellt?«', 'sicher', 'hin', 'Schuld', 'sinken', 'en', 'über', 'gebildet', 'weinerlichem', 'Spiegel', 'bat', 'triumphirend', 'gemacht', 'Illustration', 'Enthauptungen', 'wachse', 'schwer', 'Einer', 'herzusagen', 'sterben.«', 'Wenn', '_mehr_', 'legen', 'Saal', 'Wäre', 'Tintenfaß', 'ne', 'meistens', 'klein', 'weißen', 'ertrug', 'Verhörs', 'bald', 'gefiel', 'Griffel', 'Traum', 'seinen', 'kreischender', 'ungeheuer', 'leid', 'Butter', 'commandiren', 'zeigt', 'gelesen', 'Butter.«', 'Mich', 'Felsenriffe', 'Euch', 'Alters', 'wart', 'Ihren', 'sahen', 'entfernten', 'ungern', 'alt', 'eines', 'p', 'richtete', 'läugnen', 'wobei', 'Kopf', 'sehen', 'Seeographie', 'unter', 'wurden', 'untergehende', 'murmelte', 'schlage', '\"', 'sauertöpfisch', 'gelebt', 'Kiesel', 'wunderhübschen', 'Mittelpunkt', 'da?«', 'entschließen', 'Finger', 'ohne', 'magst', 'Anführer', 'nirgends', 'bestürztem', 'glücklichen', 'sehr', 'ob', 'kam', 'gewendet', 'lieben', 'singe', 'Personen', 'getrocknet', 'hielt', 'Kön', 'Dabei', 'durchzulesen', 'Ein', 'auch', 'trinken.«', 'werden.«', '_Außenseite_', 'Erzbischof?«', 'Sturm', 'Lebtag', 'habt.«', 'Luft', 'abnahm', 'Köpft', 'ehrbar', 'Sammetkissen', 'sollt', 'unnütz', '_geht_', 'bedauerte', 'roh.«', 'Lebt', 'Brunnens', 'bringe', 'vorlas', 'Füßen?«', 'grüne', 'außerdem?«', 'Wogen', 'Gericht', 'welches', 'Ausdruck', 'jetzt.«', 'befehlen', 'verwirrt.«', 'Macht', 'leben', 'Empfang', 'Neuntes', 'wirksameren', 'anfangen', 'Beweisgründe', 'Saale', 'bildete', 'Zottelbär', 'Aussicht', 'darüber', 'Locomotive', 'rundes', 'Bekanntschaft', 'langen', 'danke', 'erhielt', 'Schlangen.«', 'Urtheil', 'Hecke', 'setzte', 'Heerdenglocken', 'neuer', 'kann?«', 'verbergend', 'herantrat', 'Eins', 'hervorrief', 'blöde', 'du', 'brauchten', 'meisten', 'Dummer', 'laß', 'Wo', 'spinnt', 'giebt', 'könnten?«', 'Australien?«', 'Brunnen?«', 'nimmt', 'Seesterne', '_seine', 'malerisches', 'verabscheut', 'verloren', 'kein', 'früher', 'Wilhelm', 'wegen', 'dunkeln', 'eleganten', 'Heulen', 'önigin', 'Scheeren', 'läugnet', 'Redens', 'gesehen', 'einigen', 'kosten', 'Höre', 'Zuckerplätzchen', 'Fort', 'gefällig?«', 'Körper', 'einzelnen', 'blinzeln', 'gebraucht', 'ihren', 'merkwürdige', 'Senf', 'braunen', 'Tanz?«', 'Ratten', 'Bericht', 'grausam', 'Spiel', 'Henker', 'Französisch', 'nicht.«', 'alltäglichen', 'Stück', 'gestützt', 'Glasscherben.', 'schnurr', 'Canterbury', 'derben', 'chatte?=«', 'verdrießlich', 'Schutz', 'Erstes', 'müde', 'leiser', 'Töpfchen', 'erstaunt', 'Vielleicht', 'Verwunderung', 'Entschuldigungen', 'Wörter', 'wer', 'reichte', 'vor', 'hochstämmiger', 'rathe', 'gewandt', 'großes', 'träumen', 'Brunnen', 'Neuem', 'Gange', 'zärtlich', 'letzten', 'solchem', 'unserm', 'genau', 'beleidigen', 'Schlägt', 'Tagen', 'Grashalmen', 'feinste', '_irgendwo_', 'sie', 'plätschern', 'fängt', 'wahrlich', '_Un_wichtig', 'schläfrig', 'Bogen', 'Maus', 'fortzunehmen', 'durchsuchte', 'Königin', 'überlegen', 'Schildkröte', 'beachteten', 'erschreckten', 'hinter', 'Zähne', 'jeden', 'Klappern', 'augenblicklichen', 'dachten', 'wo.«', 'älteste', 'schlechter', 'schlag', 'Mann', 'gesteckt', 'Gedicht', 'Geschichten', 'Rittern', 'Denke', 'spielte', 'meist', 'Buch', 'Theetasse', 'Händchen', 'Hier', 'lebendig', 'zuzuhören', 'geklopft', 'Erster', 'sobald', 'Tischfüße', 'verletzt', '_hier_', 'fühlen', 'Preisend', 'alten', 'Wer', 'prachtvoll', 'alter', 'Kopfstimme', 'Kapitel', 'je', 'machte', 'Wiegenlied', 'interessant', 'schrieben', 'süßem', 'Gesicht', 'Arm', 'Springelehrer', 'Grasplatzes', 'ein', 'bei', 'vorhin', 'Wohnhäuser', 'Mama', 'geworden.«', 'wenigstens', 'mitfreuen', 'W', 'grinsen', 'einfach', 'Unke', 'gönnt', 'drollig', 'gütigst', 'verwandelte', 'Milch', 'gedrungen', 'auszuerzählen', 'glatt', 'Seite', 'Wurm', 'Denn', 'vollständig', 'Schwierigkeiten', 'Lehrer', 'sagte', 'Armstuhl', 'durchlas', 'Verhungern', 'Ansprüche', 'niemals«', 'muß', 'gute', 'bekommt', 'Alice', 'Fußspitzen', 'hineingehe', 'grob.«', 'kreuzweise', 'lang.«', 'klangen', 'Anschuldigung', 'ausfindig', 'dorthin', 'Klau', 'Lacie', 'mußten', 'Worten', 'zog_', 'schwatzen', 'Fingerhutes', 'kneifen', 'Anklage', 'schöne', 'brennt', 'unwissendes', 'unbändig', 'geben?«', 'Shakespeare', 'Buchstaben', 'Klasse?«', 'versprochen', 'dort', 'kniete', 'Vervielfraßen', 'Arrum«', 'trübselig', 'Daten', 'drinnen', 'suche', 'Demnächst', 'est', 'biß', 'Heftigkeit', 'Wunderlande', 'traten', 'leckt', 'erkälten', 'wirft', 'geschäftigen', '_weniger_', 'gereiztem', 'Unarten', 'festzuhalten', 'gin', 'Aepfel', 'naß', 'hörst', 'bitter', 'angekommen', 'spürte', 'Darauf', 'darf?«', 'richtig', 'blickte', 'erscheinen', 'ruhiger', 'jener', 'manche', 'abreißen.«', 'grünen', 'Zuge', 'Sch', 'Sich', '_Sprache', 'zurückrufen', 'Jemand', 'Friedenszeit', 'tiefes', 'Neugierde', 'herabhingen', 'Schlagt', 'französische', 'hervorstehenden', 'Redner', 'an', 'kicherten', 'könnte', 'Hitze', 'ausgestreckt', 'Kater', 'Naute', 'schrien', 'übereilen', 'Theestunde', 'schöner', 'zurückschreckte', 'einladend', 'ängstliches', 'sang', 'nachging', 'aufblickten', 'Bilde', '_habe_', 'weißt', 'glänzendes', 'verlies', 'erinnerten', 'stolpere', 'Thüren', 'Gurkenbeete', '_kann_', 'Sprachen', 'großartig', 'will.«', 'Ausspruch', 'Teich', 'zeigend', 'hielten', 'toll', 'Satz', 'Pat', 'armen', 'erwartend', 'Woche', 'lächelnd', 'außerordentlichen', 'vorbeifuhr', 'wie.«', 'Entschiedenheit', 'fangt', 'gelangt', 'Anfall', 'Ufer', 'fragen.«', 'Hauptstadt', 'geschickt', 'meinten', 'Sonne', 'Ei', 'Erzähle', 'dicker', 'gegessen', 'komische', 'vierten.«', 'Hinrichtungen', 'plötzliche', 'fast', 'das?«', 'wenn', 'liegend', 'oh', 'Faselhase', 'Willst', 'Wortwechsel', 'Unterricht.«', 'beehren', 'nehmen', 'dahin', 'Anfange', 'dein', 'trübsinnig', 'findet', 'geschrieben', 'Bespritze', 'Reitersmännern', 'vorzüglich', 'sagt.«', 'malte', 'auszuprobiren', 'fand', 'wurde', 'Gründe', 'längste', 'beweist', 'beste', 'Wege', 'vorbei', 'unterhielt', 'reiferen', 'rauchte', 'nenne', 'übrigen', 'Memme', 'geringem', 'angefangen?«', 'einschrumpfen', 'Zeugen.«', 'fing', 'zuzusehen', 'umher', 'schneite', 'dabei.«', 'Seestern', 'gehen', 'auffressen', 'aus', 'gedacht', 'Erkläre', 'ausgeführt', 'Woran', 'grausamen', 'Guter', 'Auch', 'setzt', 'kurzen', '_Einen_', 'Federn', 'erinnerte', 'nich', 'Beispiel', 'dahinterstehenden', 'knixen', 'Mäusefangen', 'Boden', 'So', 'Preise', 'Fand', 'entweder', 'schläfst', 'hießen', 'Wovon', '_manches', 'Gestern', 'schönste', 'unablässig', 'standen', 'schneit', 'Entzücken', 'steckte', 'spielen?«', 'machten', 'erkennen', 'unterbrochen', 'blies', 'trocknes', 'Hirn', 'Neues', 'klopfte', 'hinterließ', 'kleine', 'Tisches', 'drängen', 'gar', 'gewohnt', 'Ersticke', 'fortwährendes', 'schicke', 'Art', 'nun', 'verstehen', 'plötzlich', 'gesagt?«', 'Also', 'umsah', 'zurückgekommen', 'Gesichte', 'spinnen', 'Eisenbahn-Station', '!', 'schönen', 'vorwärts', 'Suppe', 'kommandiren', 'stockte', 'pflücken', 'rasch', 'kleinlaut', 'seltsamen', 'solche', 'rühren', 'feines', 'dessen', 'Mäusefänger', 'unterbrechen', 'wuchsen', 'Schluchzen', 'faltete', 'innen', 'Gewitter', 'übte', 'überlegend', 'gedämpfter', 'That', 'dadurch', 'benutzten', 'Pfefferbüchse', 'wohntet.«', 'Wein.«', 'adressirt', 'demselben', 'jemand', 'Nicht', '[', 'wirklich?«', 'schwierige', 'Aussehen', 'allerbeste', 'Tante?«', 'müßten', 'Alles?«', 'Tage.«', 'stillschweigend', 'Frist', 'Kinderfrau', 'gelaufen', 'rathsam', 'Jahren', 'kräftigen', 'leicht', 'Hjckrrh', 'Treppe', 'todt', 'leeren.«', 'hungrig', 'solch', 'ärgerlichem', 'unten', 'große', 'spielen', 'davon', '_Chor._', 'Rückt', 'lassen?«', 'begünstigt', 'sollst', 'versuchen?«', 'angesehen', 'Schlange', 'ernstes', 'sollten', 'bewegte', 'gelernt', 'geschehen', 'Einladung', 'vorüber', 'Laub', 'am', 'haben', 'Schafft', 'Tatze', 's_', 'hinauf', 'aufzuhören', 'bis', 'höchste', 'Gesellschaft', 'hättest', 'Schiebe', 'geschlafen', 'Clara', 'gefallen?«', 'aufpassen', 'Bilder', 'Glase', 'redest', 'benutzte', 'Schadet', 'Bratpfanne', 'hineingesprungen', 'Fuhrmannspferde', 'rothglühendes', 'werfen', 'klatschte', '_war_', 'Hunden', 'erste', 'nähmen', 'ungeduldigem', 'Küsten', 'kommandirt', 'Ding', 'das', 'gestoßen.«', 'aufzunehmen', 'viele', 'großer', 'Salzwasser', 'Steh', 'verschämt', 'fürchte', 'wählte', 'Kopfe', 'gesehen?«', 'Thu', 'entschieden', 'dulden', 'feige', 'Haupt', '_weiß_', 'Glaceehandschuhe', 'ankamen', 'Recht', 'anzubieten', '_können_.«', 'heut', 'esse«', 'Moral«', 'Schildkrötensuppe', 'Nichts', 'Funfzehnten', 'bange', 'Geschöpfen', 'Zeug', 'Filax', 'geringste', 'eingekehret', 'Töpfe', 'geriebener', 'Ganzen', 'fest', 'fuhr', 'Gefühl', 'fortzumachen', 'fragte', 'beantworten', 'jeher', 'er', 'erwarte', 'brummte', 'guckte', 'verneigen', 'Mäuler', 'schlich', 'rücken.«', 'frage', 'sehe', 'Brodmesser', 'Befehl', 'angeschrieben.«', 'Grund', 'Besorgungen', 'Zusammenziehen', 'Schmerz', 'warf', 'Groschen', 'gehofft', 'wilden', 'augenscheinlich', 'könnt', 'Schlägel', 'bösen', 'Croquet-Felde', 'zurückblieben', 'gelegten', 'K.', 'Neu-Seeland', 'Denken', 'fortspazierten', 'kannst', 'gehörten', 'Eroberer', 'Rande', 'Thüre', 'Mädchen', 'Nähe?«', 'spielt', 'Jahr', 'sorgfältig', 'wagte', 'Festzügen', 'gehalten', 'Schwanz', 'anfing', 'kühlen', 'schlucken', 'Geschöpf', 'Idee', 'ginge', 'Caucus-Rennen?«', 'Rollen', 'sonderbare', 'Zettel', 'hinrichten', 'deutlicher', 'Spielregeln', 'Flamme', 'Ihnen', 'Pfoten', 'Tassen', 'manchmal', 'Stillschweigen', 'Rechtes', 'habt', 'Baum', 'Schritte', 'einfältige', 'Minen', 'zum', 'Hecken', 'Aufträge', 'Wässerte', 'Kaninchen', 'Dann', 'dahinter', 'Sag', 'wahrscheinlich', 'Grammatik', 'liebevolle', 'welche', 'Sachen', 'Sitte', 'nachfühlen', 'neue', 'sitzenden', 'paar', 'winziges', 'fortrannte', 'Paris', 'bin.«', 'Verzug', 'Morgens', 'sehnte', 'Haare', 'worauf', 'Jeder', 'knabberte', 'Aufzüge', 'dumm', 'Kannst', 'Landkarten', 'gefragt', 'Hätte', 'thaten', 'ging', 'herausguckte', 'hindertet', 'nächsten', 'mußte', 'Grinse-Kater', 'sprich', 'anwendet.«', 'Vertraut', 'euch', 'Unwichtig', 'gebe', 'Schwanzspitze', 'geschmückt', 'Pfropfen', 'Glasbüchse', 'Niesen', 'ängstlich', 'hatten', 'Größe', 'sterben', 'Spiele', 'bemerkten', 'Alles', 'Klavierspielen', 'Eile', 'Verschwinden', 'genehm', 'grün', 'achthundert', '?', 'unwillig', '_wird_', 'darunter.«', 'Diesmal', 'wunderbare', '_An_', 'lächerliche', 'Sagtest', 'Tag.«', 'schwachen', 'Schüler', 'ja', 'seitdem', 'widersprochen', 'gewahr', 'grinst?«', 'lebendige', 'gemeine', 'wolle', 'Einen', 'fiele', 'hoffe', 'Keinen', 'nachgerade', 'Anläufen', 'horchen', 'sonderbar', 'behauptete', 'streitigen', 'woraus'}\n"
     ]
    }
   ],
   "source": [
    "a = set([word for entry in data_sample for word in entry])\n",
    "print(a)"
   ]
  },
  {
   "cell_type": "code",
   "execution_count": 71,
   "metadata": {
    "id": "C3AIS0QfYuAt"
   },
   "outputs": [
    {
     "name": "stdout",
     "output_type": "stream",
     "text": [
      "odict_keys(['bescheiden', 'Würd', 'wenigen', 'müssen.«', 'Geringste', 'that', 'wache', 'Saaldecke', 'einschlief', 'fortliefe', 'Aussage', 'Verse', 'angegriffen', 'Einfluß', 'läugnete', 'ausschlagen', 'immerfort', 'rechteckig', 'Kette', 'fröhlichem', 'zweitens', 'Su', 'Traume', 'Stückchen', 'kurios', 'Laßt', 'fürchten', 'weg', 'beobachten', 'überzeugt', 'übel', 'höchst', 'dümmste', 'so', 'sich', 'Saales', 'Beweisstück', 'Mamagei', 'ausginge', 'öffnete', 'laut', 'werdet', 'unterdrückt', 'zurecht', 'Klügste', 'blaß', 'daraus', 'scharfes', 'bellte', 'brauchst', 'hielte', 'gebunden', 'Raupe', 'oben', 'abflogen', 'Syrup-Brunnen.«', 'zwar', 'Geplärre', 'jene', 'erstickte', 'bedeutet', 'geht', 'selten', 'geworfen', 'herauskommen', 'zur', 'Platze', 'zuvor', 'wahrnahm', 'zweiten', 'nanntet', 'genommen', 'hintereinander', 'geschah', 'wildes', 'schwatze', 'umzusehen', 'Pfuhle', 'unterstützt', 'fort.«', 'Ostern', 'braucht', 'von', 't', 'Knoten', 'vorkam', 'wirklich', 'Schwestern', 'Privatstunden', 'Puffe', 'Pfennigen', 'seufzte', 'Ihrem', 'fortnahm', 'allgemeinen', 'Hand', 'las', 'bringen', 'vorsichtig', 'Ob', 'Königin?«', 'regelmäßigen', 'notirten', 'möchtest', 'ihrem', 'zweite', 'aufgelegt', 'abgespült', 'geben.«', 'fächelte', 'Haar', 'sagen.«', 'sein?«', 'Lichtung', 'Seit', 'is', 'Zehen', 'Lehre', 'zertreten', 'dieselbe', 'König', 'Zweiundvierzigstes', 'wovon', 'küssen', 'zerbrochenem', '(', 'schweres', 'Oh', 'neugierig', 'letztere', 'Glück', 'dir', 'Uebrigen', 'Licht', 'gesprungen', 'Längegrad', 'augenblicklich', 'wachte', 'Zweite', 'führte', 'Vermuthlich', 'Diese', 'kopfunten.«', '_«', 'spazieren', 'richtige', 'seltsame', 'geschlossenen', 'Axt?«', 'ehrlicher', 'schicken', 'genähret', 'Stimme', 'Hutmachers', 'erblicken', 'Notiz', 'Preisen', 'hinzutrat', 'aufmerksam', 'beruhigt', 'Mitteln', 'Besuche', 'denn', 'mehr', 'dich', 'eingeschlafen', 'Engelland', 'aufstehen', '_bitte_', 'Concert', 's', 'Faulpelz', 'gehst', 'niedrige', 'traue', 'Erhöhungen', 'rückwärts', 'erschöpfen', '_Oooh_', 'fortschleichen', 'Thierchen', '_Dinah_', 'Sache', 'hätten', 'herumgewandert', 'drehen', 'persönlichen', 'Uhr', 'Pulte', 'Aufwärts', 'Papagei', 'dann', 'zusammenschieben', 'Amtmann', 'unglücklichen', 'Schildkröte_', 'Bart', 'machen.«', 'vertage', 'suchte', 'angebunden', 'unsere', 'entstand', 'Balancirt', 'Branntwein', 'wedle', 'vorstelle.«', 'versuchen', 'hinunterzusehen', 'auszuruhen', 'wißt', 'vergessen.«', 'Trompete', 'Kuchen?«', 'Unbehagen', 'arme', 'gründlich', 'Tanz', \"'\", 'Schuhe', 'größte', 'elften', 'Schüsseln', 'Geschmack', 'Sprach', 'geformt', 'erblickte', 'Geburtstagsgeschenke', 'erst.«', 'Spielsachen', 'gänzlich', 'zehn', 'wärest?«', 'verdreht', 'wär', 'Sechzehnten', 'wunderschön', 'anderen', 'steht', 'Erinnerung', 'Nase', 'stieß', 'Datum', 'Kuchen', 'ihnen', 'diesem', 'versucht', 'Jetzt', 'selber', 'verursachte', 'streckte', 'klang', 'Schrank', 'Versehen', 'Coeur-Bube', 'geschieht', 'herunter', 'Spaß?«', 'Arme', 'betrübtem', 'würden', 'herauskommt.«', 'wachse.«', 'geweint', 'Schade', 'Hutmacher', 'bückte', 'Kneift', 'Schluß', 'unruhig', 'ihres', 'gehen.«', 'geringsten', 'finde«', 'Erregung', 'Pfannen', 'Loch', 'auswärts', 'nachdenklich', 'nieder', 'zu?«', 'rieb', 'Gedanken?«', 'addirten', 'Begriff', 'verließ', 'Tode', 'stampfte', 'etwas?«', 'Thier', 'würde.«', 'wüßte', 'ganzes', 'sprangen', 'hübsch', 'Bemerkung', 'herum?«', 'Kind', 'entscheiden', 'Beweise', 'begleiten', 'Zimmer', 'versammeln', 'hineinkommen?«', 'keuchte', 'Gestohlen', 'unglückliche', 'Vortheil', 'schnellen', 'abschickte', 'hinsah', 'Zuerst', 'Gartenthür', 'Gegenstände', 'nachsann', 'unhöflich', 'Zehn', 'trifft', 'Adresse', 'drei', 'gellende', 'zuerst', 'gewonnen', 'doch', 'merke', 'saßen', 'Sorgen', 'Mausefallen', 'Essen', 'nehme', 'wolltest.«', 'sieht', 'hier-', 'nahm', 'bequem', 'versammelte', 'giebst', 'war.', 'Paar', 'ungewohnt', 'gehest.«', 'warfen', 'Anderen', 'purpurroth', 'wirklichen', 'allen', 'trauen', 'Gerichtshofes', 'warst', 'sehe.«', 'feierlichen', 'Pinsel', 'königliche', 'Thee?«', 'zurücklaufen', 'kannst.«', 'Muth', 'Croquet-Feld', 'Meeres', 'singen?«', 'dächte', 'anfinge', 'Schlafe', 'leuchtete', 'entgegen', 'glänzenden', 'trippelte', 'krank', 'Nilpferd', 'gern', 'klingt', 'rathen', 'Keiner', 'Koch', 'Tasche?«', 'oder', 'rothen', 'aufrecht', 'Kamin', 'fügte', 'dergleichen', 'leite', 'Mir', 'ängstlichen', 'verwandelt?«', 'brauche', '_deren_', 'bleiben', 'Endlich', 'Schnabel', 'mittanzen', 'geben', 'Springbrunnen', 'Bube', 'spielen.«', 'schrecklich', 'grob', 'donnerte', 'Rindviehes', 'traurig', 'einsam', 'Wohnung', 'Rand', 'Dies', 'auserzählen.«', 'riecht', 'Stelle', 'biegen', 'gegeben.', 'grub', 'machen', 'Gang', 'Außerdem', '_es_', 'Drei', 'falsch', 'Hinunter', 'Rauschen', 'sich.', 'Ruf', 'Elftes', 'Nummer', 'Kamillenthee', 'vortreffliche', 'Junker', 'Richtig', 'folgenden', 'schlechte', 'Davon', 'Variationen', 'Wein', 'unbequem', 'Niemand', 'hole', 'denken', 'zeichnen', 'nannten', 'hörbar', 'Tische', 'Hierauf', 'gemüthlich', 'schnell.«', 'rannte', 'heraushängender', 'Anfang', 'Abscheulich', 'Syrup', 'herab', 'fortzuschaffen', 'zurückbrachte', 'bunten', 'Pfeffer', 'Nähe', 'ändern', 'er.«', 'Flußufer', 'deinen', 'es.«', 'blühender', 'verworrenste', 'Keulen', 'Gut', 'bemerkt', 'förmlichen', 'Theegesellschaft', 'Füße', 'folgendergestalt', 'Daß', 'zurückließ', 'gestern', 'Mäuslein', 'solle', 'haben?«', 'Geschrei', 'Klavier.«', 'hinsetzte', 'hastig', 'Winde', 'März', 'Hirtenknaben', 'wichtig', 'bleibt.«', 'Wuth', 'gebogen', 'fragen', '_beweist_', 'verzehrt', 'an.', 'beizustimmen', 'Trockenste', 'gepuderte', 'hier?«', 'Reisen', 'möchtet', 'Bienennest', 'auf', 'Besten', 'Meile', 'entrüstet', 'unserer', 'Leiterwagen', 'wies', 'fliege', 'schrieb', 'Angelegenheit?«', 'schlafe«', 'famoser', 'Rennen', 'Reisig', 'Schreck', '_welche_', 'sind.«', 'Schule', 'wird', 'gefangen', 'Alte', 'dein.«', 'erschrocken', 'Coeur-Königin', 'schmecken', 'Ganz', 'begann', 'Herde', 'Spielen.«', 'Erstaunen', 'Weggehen', 'gewesen', 'Wozu', 'wunderte', 'Dumme', 'Wald', 'heißt', 'leider', 'bilden', 'Wabbel', 'einzige', 'angestoßen', 'eifrig', 'schenken.«', 'antworteten', 'Wu', 'hinzu', 'großartigen', 'Hausmädchen', 'denkt', 'nachdem', 'müßt', 'tiefster', 'einigem', 'erzählte', 'Dreier', 'Uebrige', 'übrigens', 'was', 'Tasse', 'Katze.', 'beginnt.«', 'Distel', 'Fluten', 'Wallroß', 'schwacher', 'Flamingo', 'Klasse', 'Rhein', 'Vater', 'Schweigen', 'klinkte', 'verdientest', 'Abenteuern', 'wiederholten', 'bedeckte', 'erscholl', 'fege.«', 'Perücke', 'umhersah', 'dumm.«', 'Kreuzverhör', 'gänzlichem', 'rufend', 'Gespräche', 'Lichte', 'Fräulein', 'vielleicht', 'Nasenspitz', 'sprechend', 'Erst', 'sagt', 'Danke', 'Eisenbahn', 'Lagen', 'Spielen', 'Kieseln', 'anfühlen', 'dir?«', 'lege', 'pfeifen', 'gehören', 'voller', 'Grasplatz', 'Fächer', 'vergißt', 'langsamer', 'freilich', 'Abenteuer', 'Gedanke', 'Gelegenheit', 'Wechsel', 'darum', 'immer', 'Spur', 'habe', 'kurz', 'kriege«', 'Gefallen', 'Kutsche', 'ruhte', 'Weilchen', 'tausend', 'Beamte', 'wußte', 'Northumbria', 'Sollst', 'Baumzweige', 'sitzt', 'fürchtete', 'Punkt', 'vertreiben', 'unangenehm', 'reichten', 'Warum?«', 'hoffend', 'soll', 'verstehst', 'Hummer', 'Eure', 'schreite.«', 'Schüssel', 'wüßten', 'Einige', 'weil', 'Glastische', 'gewarnt', 'langschwänzige', 'solchen', 'furchtbar', 'Schatten', 'malen?«', 'sage', 'einem', 'Chor', 'Austern', 'Einzelne', 'regelmäßiges', 'Welt', 'Viertes', 'beweisen', 'umständlich', 'rücksichtsvoll', 'gedrückt', 'besinnen', 'aufgefordert', 'Hm', 'wohin', 'Schlösser', 'stecken', 'zuhörte', 'Räthsel', 'danach', 'ist«', 'Erzählen', 'Pilze', 'verurtheilt', 'Gefangenen', 'still', 'war', 'T', 'an.«', 'klugen', 'dafür', 'gewartet', 'impertinent', 'thun', 'lag', 'Bademaschinen', 'durchgemacht', 'niederbrennen', 'Gemisch', 'kleinen', 'beklagten', 'Hälfte', 'verschnitten', 'bestätigte', 'behaupten', 'H.', 'Mensch', 'lautes', 'Ohne', 'wärest', 'zwischen', 'nein', '_ganz', 'Familie', 'steif', 'Rabe', 'Stunden', 'anständigen', 'heulte', 'trinken', 'bedeutete.«', 'dagegen', 'Glacee-Handschuhen', 'zurückgewandert', 'aufgeschrieben', 'Zebräisch', 'Coeur-Buben', 'ungefähr', 'Wofür?«', 'Semmel', 'gewöhnt', 'klärten', 'fortwährend', 'nah', 'beben', 'wünschte', 'Himmel', 'gekommen.«', 'vorgegangen', 'Murmelthiers', 'Büchern', 'heftig', 'unwichtig', 'Livree', 'Else', 'paßt', 'gegeben', 'aufstand', 'Anweisungen', 'weiß', 'Beifallklatschen', 'M?«', 'Streit', 'Beifall', 'verwandelten', 'Kasserole', 'Tod', 'Strümpfe', 'zeigen', 'beschloß', 'Weise', 'Muth.«', 'Verwahrsam', 'Kenntnisse', 'endlich', 'grimme', 'der', 'sprang', 'lernen', 'Fragen', 'lächelte', 'schütteln', 'Gäste', 'Croquet-Sachen', 'durchkriechen', 'Demnach', 'Weißfisch', 'darin', 'Gespräche?«', 'aufgeregt', 'vortrefflicher', 'verlassen', 'herum', 'Strande', 'Abtheilungen', 'schwieg', 'hätt', 'Gerichtsdienern', 'überklug', 'funfzehn', 'gestemmt', 'Zweifel', 'commandiren.«', 'anderer', 'Augenblick', 'nachgedacht', 'Goldfischen', 'sperrten', 'blauen', 'Bewegung', 'n.«', 'Rath', 'warest', 'Trinken', 'Laune', 'unbehülflich', 'nämlich', 'spitzes', 'ausgedrückt', 'gedruckt', 'schämen', 'warum', 'Meerschweinchens', 'Zeugen', 'Versammlung', 'Unterhaltung', 'Rosen', 'leer', '_der_', 'dieser', 'gesammelt', 'angenehm', 'rechter', 'winzig', 'vergessen', 'einerlei', 'begegnete', 'schlafe', 'Vier', 'gekommen', 'winziger', 'Auge', 'zeigte', 'hinunter', 'und', 'Sobald', 'aßt', 'meine', 'stimme', 'Fuße', 'kostete', 'Wir', 'herrlich', 'zweiter', 'wünschen', 'Meinst', 'Probe', 'Sänger', 'Tochter', 'selbst', 'Ida', 'Stellung', 'umhersprang', 'blos', 'schwamm', 'eher', 'Tropf', 'Frau', 'Einem', 'versuchte', 'Rückseite', 'Bub', 'Aufregung', 'demüthigem', 'Zauberfläschchen', 'Schildkröten', 'Gebt', 'weich', 'weiße', 'Hatte', 'spielten', 'verfehlte', 'schlossen', 'komme', 'Das', 'umgebracht', 'Erklärungen', 'trocknete', 'wirkliche', 'Stand', 'strich', 'den', 'darauf.', 'folgt', 'In', 'sitzen', 'Lies', 'Richter', 'pflegte', 'im', 'weinen', 'Protokoll', 'vorgefallen', 'gehört', 'gefällig', 'Courant', 'jedoch', 'Knebelbart', 'Töne', 'Achtes', 'O', 'recht.', 'keine', 'angeknüpft', 'drum', 'zwei', 'Corridors', 'Feuer', 'gesetzt.«', 'Aufgaben', 'eigentlich', 'winzig.«', 'Regel', 'Verse.«', 'Bücher', 'Majestät', 'komisches', 'antwortete', 'schlagt', 'allgemeiner', 'flog', 'kann.«', 'wie', 'Verachtung', 'aufgerollt', 'Pfanne', 'eiliger', 'Spaß', 'Schillern', 'denkst', 'London', 'runden', 'Lippen', 'Tunnel', 'Liebe', 'bemüht', 'umhergesprungen', 'wahrer', 'heiserer', 'ausdenken', 'verderben', 'verbeugte', 'Magst', 'Ende', 'dumme', 'Herzenskönig', 'geradeaus', 'sieben', '_keine_', 'schluchzend', 'enthalten', 'angeordnet', 'zwölften', 'fiel', 'Veränderung', 'apportirt', 'lachte', 'klingende', 'bekommen', 'ausgraben', 'Hofe', 'Antwort?«', 'heftigsten', 'Jahre', 'höchsten', 'Spatzen?«', 'Wunder', 'darunter', 'erster', 'könntest', 'abwärts', 'Nachtluft', 'mußt', 'übernehmen', 'du?«', 'Fahr', 'Angst', 'spräche', 'Wahrheit', 'förmliche', 'Bahn', 'Tage', 'Mercia', 'kau', 'thust', 'ließest', 'hattet', 'Spuren', 'schlug', 'derselben', 'Potz', 'gesprochen', 'Viel', 'tiefe', 'confus', 'schweigend', 'spät', '_Alice', 'heftigen', 'Stöße', 'wohl?«', 'linken', 'schnell', 'zurückreisen', 'hergekommen.«', 'Hast', 'sofort', 'Canarienvogel', 'Ellbogen', 'kurze', 'Ah', 'beiden', 'knurren', 'leiseste', 'wünschest', 'Vers.«', 'andres', 'Fange', '_Iß', 'soll.«', 'denke', 'Westentasche', 'Erzbischof', 'ruhig', 'wären', 'Mitte', 'Er', 'Tanzen', 'erschien', 'Verwickelt', 'auffuhr', 'Geringsten', 'verdutzten', 'wurde.«', 'sähen', 'hinab', 'kommst', 'aufzustehen', 'Fall', 'trinkt', 'Fell', 'gerecht', 'Brust', 'Mahlzeit', 'Könige', 'hinkomme', 'Freunde', 'bitten', 'vermuthe', 'aufstanden', 'finden', 'aufgehört', 'Eh', 'verworrene', 'Herz', 'Schlüsselchen', 'eingeladen', 'Brief', 'hingekommen', 'lächerlich', 'Supp', 'weder', 'Fürst', 'mein', 'abgeben', 'schwach', 'Pfeil', 'quiekende', 'erreicht', '_du_', 'geräumt', 'wunderschöne', 'Wirkung', 'bin', 'gelegt', 'Legen', 'übermorgen', 'nichts', 'Weile', 'einigermaßen', 'per', 'gereizt', 'Schnäuzchen', 'keinen', 'Notizbuch', 'angehalten', 'erheben', 'ausgeblasen', 'eilten', 'schmeckte', 'Mittlerweile', 'Knöcheln', 'angestarrt', 'zankten', 'Geschwornen', 'erstickter', 'hineinsteigen', 'Wirklich', 'Fisch-Lackei', 'wette', 'Wohlgeboren', 'einzelne', 'Wasser', 'zwickte', 'Krume', '9', 'Erzählung', 'Bekanntschaften', 'Schwimmt', 'vernünftigem', 'Benehmen', 'An', 'Tulpenzwiebeln', 'Nenne', 'stritten', 'außerordentlich', 'welchen', 'überrascht', 'rauh', 'geschoben', 'Sogleich', 'Natürlich', 'zeichnen?«', 'bestand.', 'Im', 'völlig', 'Wildpret', 'drin', 'ernsthaft', 'näherte', 'fielen', 'Treu', 'gaben', 'schwermüthig', 'gesellt', 'Rufe', 'herunterhingen', 'weißes', 'Dame', 'lasse', 'verwandelt', 'unterbrach', 'abschüttelte', '«', 'Schlüssel', 'Rede', 'Tafel', 'Bett', 'vorhielt.', 'Kreise', 'Lachs', 'Merkwürdigste', 'meines', 'anbelangt', 'ruhiges', 'Seht', 'Jedoch', 'aufging', 'erleuchtet', 'kannst?«', 'wild', 'aufgraben', 'Theekanne', 'aufsprang', 'Perrücke.«', 'trocken', 'Pilzes', 'zurückkomme', 'Sogar', 'anzusehen', 'heißt?«', 'leises', 'abtreten', 'Zusehen', 'Glieder', 'Wochen', 'nettes', 'will', 'Greifen', ']', '_Trink', 'Hülfe', 'betteln', 'Uebrigens', 'lieber', 'Spielern', 'vertraulich', 'besonnen', 'lehrte', 'trocknen', 'aussehen?«', 'ersten', 'umbiegen', 'Du', 'hängt', 'Kunststücke', 'Rechte', 'Siehst', 'abwechselnd', 'Athem', 'zornig', 'Concerte', 'ihr', 'Versuch', 'nie', 'Mittel', 'Ausgehen', 'klarer', 'Adler', 'auszustrecken', 'daher', 'wievielsten', 'Anderem', 'besser', 'Purzelbaum', 'Flamingos', '.', 'Ausrede', 'Sechstes', 'Feuerzange', 'jeder', 'würde', 'gerathen', 'fort', 'entfallen', 'dicht', 'Kein', 'einzigen', 'Fingerhut', 'wirst', 'bist?«', 'Taube', 'bekannt', 'saß', 'Herrlich', 'Wunderbar', 'erlauben', 'Sagt', 'bedeckten', 'reden', 'versiehst', 'schmachtender', 'verfehlt', 'andre', 'Gefängnis', 'ausbreitete', 'Schoße', 'Dur', 'welchem', 'gelehrt', 'kleiner.«', 'liebe', 'grünst', 'hättet', 'tragisch.«', 'Sinn', 'Achse', 'insbesondere', 'thränenschweren', 'geköpft', 'neben', 'liegt', 'Sieht', 'kreischte', 'schrak', 'Bemerkungen', 'müssen', 'hab', 'einbohrte', 'es', 'liebe_', 'geputzt', 'Anblick', 'schnitt', 'mag', 'woher', 'angedeuteten', 'Bei', 'wofür?«', 'Nie', 'armseliger', 'läugne', 'riefen', 'Blätter', 'Aufeinanderfolge', 'Zweites', 'Auflösung', 'wüthender', 'Gedichte', 'Merkwürdiges', 'gegen', 'Mangel', 'zufällig', 'nahen', 'Nachdrucke', '_mit', 'muthlos', 'fragend', 'Kindes', 'Morcar', 'verschwinden', 'alle', 'deines', 'Erde', 'erreichte', 'eintrat', 'umgewechselt', 'schläfrige', 'kriegen', 'verwechselt', '_einen_', 'heute?«', 'erwiedern', 'hübsche', 'goldenes', 'Einrichtung', 'Alter', 'welke', 'Klauen', 'hört', 'Soll', 'wachsen', 'Auflauf', 'Sie', 'kehrte', 'Befangenheit', 'Sind', 'mehre', 'Corridor', 'Guck', 'stolperten', 'Blumentopf', 'reumüthigem', 'Englisch', 'wollen', 'Hinter', 'gethan', 'vorbeirannte', 'Kleinen', 'Faselhasen', '_ist_', 'Kommen', 'Kaufmann', 'Pack', 'zerreißen', 'fortgesetzt', 'Bade', 'fortlief', 'verurtheilen', 'Gewichte', 'dasselbe', 'Pause', 'Murmelthier', 'Diejenigen', 'hervorstehende', 'Vögeln', 'Karre', 'Greifisch', 'Geh', 'späterer', 'manch', 'Krebse', 'bedeutend', 'Lärm', 'Richtungen', 'Wach', 'dreien', 'Dinge', 'Zurück', 'Fenster', 'seid', 'entgegnete', 'sagen.', 'anfing.', 'jung', ',', 'während', 'besann', 'erinnern', 'vorkommt.«', 'Setzt', 'zurückkam', 'etwas', 'messen', 'hundert', 'kratzen', 'Goldne', 'naseweis', 'denen', 'Köchin', 'fortgegangen', 'Am', 'Da', 'Wäldchen', 'Rüstung', 'Absichten', 'vorher', 'bewachen', 'aufhöre', 'meinst', 'Butterbrot', 'klatschen', 'Anderes', 'ziemlich', 'Blumenbeeten', 'Allem', 'weinte', 'fragst', 'Flasche', 'dreister', 'kopfunten', 'solltest', 'liegen', 'ihrer', 'Laß', 'bleebt', 'bedenken', 'Anhang', 'Engländern', 'läßt', 'holt', 'kurzer', 'Experiment', 'Aufschrift', 'befand', 'hoch', 'Ferkel-Kind', 'interessanter', 'buk', 'Normannen', 'Grunde', 'sodaß', 'nehmend', 'später', 'Person', 'rücklings', 'reizend', 'Schornsteine', 'Tasche', 'ißt', 'schloß', 'sonst', 'Gerichtshof', 'verschieden', 'merkwürdig.«', '_', 'Schoß', 'breiter', 'hängen.«', 'Tinte', 'trat', 'Bretter', 'gefallen', 'wunderwild', 'wöchentlich', 'sein.«', 'gerunzelter', 'falschen', 'drängte', 'flach', 'fortgingen', 'niedliche', 'unentschieden', 'Schnurrbart', 'geworden', 'spart', 'redend', 'Wicht', 'geöffnet', 'grade', 'kniffen', 'ab', 'des', 'tiefer', 'schlimmer', 'aufhörte', 'mag?«', 'reizender', 'Mäuschen', 'tief', 'Kampfe', 'erfunden', 'lahm.«', 'statt', 'merkwürdiges', 'erzählt', 'Stöhnen', 'hervor', 'kopfüber', 'rückt', 'Karten', 'aushalten', 'Dem', 'gekreuzt', 'o', 'herzlich', 'behagte', 'kümmert', 'daherschwamm', 'gedeckter', 'famos', 'Wählen', 'begleitet', 'niesen', 'Kehle', 'tauchen', 'Spieler', 'beendigt', 'sollen.«', 'Königinnen', 'Minute', 'Sieben', 'geringelten', 'erschienen', 'einer', 'hatte', 'Luftsprunge', 'Schon', 'abzugeben', 'gedeckt', 'eintreten', 'toll.«', 'Mond', 'Treiben', 'ernst', 'gegangen', 'heißen', 'Oder', '&c.', 'neun', 'Tafeln', 'Augenblicke', 'schneidet', 'redeten', 'Sinne', 'wen', 'stützen', 'Quieken', 'Gaste', 'meiner', 'Getöse', 'wollte', 'dasselbe.«', 'Messer', 'irren', 'überhört', 'Wie', 'lernten', 'einfiel', 'unmittelbaren', 'achten', '_Fußteppich', 'Vierzehnten', 'essen', 'merkte', 'stehen', 'könnten', 'diesen', 'lange', 'Liebkosungen', 'Buben', 'könne', 'vielmehr', 'ausdrücken', 'Pinsel.«', 'schade', 'erst', 'Berathung', '_der', 'heftige', 'stolz', 'befrei', 'Bemerkungen?«', 'Wachtelhund', 'häßliches', 'Kindheit', 'Wessen', 'ganzer', 'Vögel', 'tanzen', 'Gesichter', 'Mores', 'kroch', 'rührte', 'hineingelaufen', 'gewiß', 'diese', 'werth', 'kamen', 'wau', 'Erhöhung', 'Herzen', 'worüber', 'falle', 'Nacht', 'Aerger', 'wovon?«', 'gezeichnet', 'käme', 'hingegen', 'umherschwamm', 'Blumen', 'falsche', 'Renne', 'Armen', 'Springen', 'machst', 'hinein', 'zeichneten', 'sprecht', 'folgte', 'seufzen', 'angeredet', 'gesprochen.«', 'Fläschchen', 'Gleich', 'wüthend', 'bewahren', 'Trost', 'wahr', 'spähend', 'fangen', 'lauf', 'Vor', 'glaube', 'hervorzuziehen', 'urtheilen', 'Position', 'Freilich', 'Zoll', 'hinaus', 'appetitlich', 'Baumwurzeln', 'gerannt', 'köpfen.«', 'Schultern', 'endigen', '_Alice_', 'Male', 'Still', 'erwiederte', 'Kindern', 'kommen', 'bestimmt', 'Teleskop.«', 'indem', 'wanderte', 'sie.«', 'Kirschkuchen', 'zwanzigsten', 'zuredendem', 'Liste', 'fange', 'hält', 'Lackei', 'Land', 'Beweis', 'möglich', 'ihre', 'inne', 'Ohrfeige', 'Entweder', 'sagten', 'was?«', 'Tag', 'brüllte', 'hier_', 'sogar', 'gelang', 'Zickzack', 'allererst', 'hätte', 'Wann', 'schon', 'albern', 'drüben', 'lang', 'Muster', 'eigenthümliche', 'Ueberraschung', 'her', 'entzweit', 'niesten', 'hineingestellt', 'Mittheilung', 'Rücken', 'versammelten', 'Form', 'Zeck', 'zusammengefaltet', 'Beide', 'an?«', 'allerfeinste', 'trug', 'flüsterte', 'hersagen', 'Grinsen', 'vielen', 'zerbrochen', 'Küche', 'Lachse', 'Theetisch', 'vergoß', 'kleines', 'kannte', 'enthaupten', 'Figur', 'außergewöhnliche', 'Scherben', 'gewöhnlich', 'Zeiten', 'leiden', 'Drum', 'Verhör?«', 'glauben', 'Die', 'Noth.«', 'Fressen', 'Hut', 'aufzuthun', 'Walde', 'Kuß', 'antworten', 'Steht', 'Schlangen', 'in', 'fünf', 'Wickelkind', 'merkwürdigen', 'Weg', 'sondern', 'behielt', 'versuchten', 'Zeitung', 'herein', 'auszuspielen.«', 'worden', 'Langschwänzig', 'unwichtig.«', 'Fläschchens', 'gebracht', 'Stiefel', 'trink', 'spät.«', 'träumte', 'gehabt', 'Unverschämtheit', 'Thränen', 'Hase', 'wohlbekannte', 'Blättern', 'Etwas', 'Kerl', 'Hals', 'zusammengedrängt', 'Vers', 'wich', 'Stirn', 'würdest', 'halte', 'Messingschild', 'Pergamentrolle', 'gefressen?«', 'hinabsah', 'Knochen', 'Vorbeifallen', 'jüngst', 'Mäusen', 'Wunder-wunderschöne', 'einexercirt', 'Kindesleben', 'zu', 'Krallen', 'Stehlen.«', 'entfaltete', 'sehen?«', 'Hasen', 'meinen', 'nachher.«', 'gingen', 'weiter', 'liebevoll', 'weichen', 'Dampfend', 'irgend', 'Seiten', 'Grüßen_', 'aller', 'Liebling', 'blödsinnig', 'plätscherte', 'langsam', 'superfeine', 'aufzugeben', 'erstens', 'Schiefer', 'willst', 'zusammenstecken', 'wir', 'Wahrhaftig', 'kommt?«', 'immerwährende', 'esse', 'duckte', 'Qualität', 'zurückgegeben', 'Höchste', 'herauf', 'Herzogin?«', 'ich', 'Theil', 'Dachspitze', 'Ich', 'dunkel', 'Ecke', 'herabträufelte', 'Herzensangst', 'mich_«', 'folgen', 'endigte', 'Ohr', 'Schlag', 'euer', 'hat', 'gelange', 'hübscher', 'keiner', 'ausführen', 'Warum', 'Wollen', 'Hutmacher.«', 'aufzuwaschen.«', 'nieste', 'komm', 'Weshalb?«', '_eine_', 'aß', 'eine.«', 'Gedanken', 'Witz', 'vorgekommen', 'daran', 'Abend', 'aus.', 'dichter', 'Was', 'paarweis', 'kopfoben', 'Frieden', 'zurück', 'Werk', 'hersagte', 'Hoffnung', 'erwiderte', 'nennen', 'könntet', 'Frettchen', 'Gestalt', 'erzähle', 'Sei', 'Terrin', 'Rohres', 'Nichten', 'tiefen', 'paarweise', 'Zunge', 'allgemeines', 'athme', 'also', 'verschwunden', 'einzubilden.«', 'zuweilen', 'gewachsen', 'niedrigen', 'losen', 'wolltest', 'Nachdenken', 'Lackeien', 'abzuwehren', 'sechs', '_abwarten_', 'verdamme', 'langer', 'zugemacht', 'Singe', 'brennend', 'niederlassend', 'ungeschickt', 'verlassen_', 'verzehrte', 'um', 'fällt', 'nöthigte', 'fortkroch', 'behalten?«', 'schlüpfen', 'die', 'Stäbchen', 'Bedenke', 'hineinsteigen.«', 'gewinnen', 'Kreis', 'feierlich', 'dienen', '_sehr_', 'beschreiben', '_Trinke', 'Den', 'einige', 'griff', 'gesprochne', 'kenntest', 'umgebogenen', 'Wollte', 'wäre', 'Papier', 'halbe', 'Gartens', 'wo', 'Aufgehängt', 'Mund', 'Hände', 'Stimmen', 'Bist', 'Darum', 'keines', 'umdrehend', 'Schild', 'getödtet', 'ihrigen', 'Ja', 'M', 'Laßsein', 'Freuden', 'Und', 'zog', '_ich_', 'Thieren', 'trägst', 'Huhka', 'thät', 'aussehen', 'Ereigniß', 'Euer', 'außerdem', 'klagendem', 'schneite.«', 'Wind', 'wäre.«', 'Mäuse', 'hinrollen', 'mach', 'Rosenstrauch', 'nachher', 'Anwendung', 'bliebe', 'Einbildung', 'Fliegen', 'zusehends', 'vorgenommen', 'unterdrückten', 'mich', 'verwickelten', 'halb', 'altkluge', 'roth', 'Herold', 'aufwickeln', 'wimmeln', 'knurrt', 'Bitte', 'obgleich', 'sprachen', 'Leibe', 'ertrinken', 'gewissen', 'begreifen', 'zuckersüß', 'erzählen', 'knurre', 'Worauf', 'Acht', 'vollkommen', 'Fisch', 'dies', 'drauf', 'Haltet', 'brüllen', 'unterwerfen.«', 'Wörtern', 'sah', 'ihn', 'beinah', 'haben.«', 'wartete', 'geduldig', 'Plätze', 'Katzenkopf', 'unförmliches', 'Folgendes', 'demnach', 'Juchheisasah', 'rufen', 'behalten', 'bekommt.«', 'dichtes', 'soll?«', 'Ferkel', 'Menge', 'Auseinandersetzung', 'Farbe', 'reizendsten', 'Fangt', 'bitte', 'Hund', 'verwickelte', 'durchaus', '_mich_', '_weit_', 'feierlichem', 'ängstigst', 'schläft', 'dürfen', 'welcher', 'Seele', 'trägt', 'hörte', 'durchdringender', 'sprechen', 'bestürzt', 'Mit', 'denselben', 'unbehaglich', 'losmachen', 'Frage', 'weißer', 'Schemel', 'Butterblume', 'gefolgt', 'Fächer?«', 'ansah', 'Buche', 'fortkommst', 'Nun', 'Spaten', 'empfindlich', 'mit', 'fragt', 'angenehme', 'ausrief', 'erzählen.«', 'Ne', 'halblauter', 'gleich', 'Gärtner', 'rechten', 'wohnen', 'ungerechtere', 'milde', 'unterstand', 'regelmäßig', 'sprach', 'begreife', 'Mittelpunkte', 'Nein', 'Ha', 'Stigand', 'entschuldigte', 'geradewegs', 'Gutshofes', 'Liebe?«', 'unangenehme', 'Schmetterling', 'zusammen', 'beim', 'bemerken.«', 'gearbeitet', 'Schalthier', 'desto', 'mittlerweile', 'Wieder', 'patriotische', 'bedeckt', 'Mädchen«', 'Pfund', 'einzuwickeln', 'umgestoßen', 'Niemals', 'Geschichte', 'Warnungen', 'schwierig', 'Kind?«', 'etwa', 'Ohren', 'Wangen', 'wußten', 'Es', 'behandeln', 'scheint', 'Zugestanden', 'Zwölftes', 'Imponiren.«', 'wann', 'hinausgewiesen', 'Anzahl', 'letzte', 'Wäsche', 'oft', 'sogleich', 'Unterdrückt', 'sonderbarer', 'Mord', 'Fünftes', 'gewonnen?«', 'Kugeln', 'halten', 'klänge', 'Hältst', 'zitternder', 'grabe', 'Schritten', 'Augenschein', 'hörten', 'belebte', 'Kinder', 'schaukelte', 'lateinischer', 'eure', 'untersucht', 'trafen', 'Ente', 'Halt', 'Stücke', 'Titelbild', 'Mitt', 'ganzen', 'sei', '_Dinah', 'junger', 'lockig', 'Croquet', 'schrumpfte', 'angefangen', 'schalt', 'Rom', 'schwindlig.«', 'Fortgehen', 'Tafelsteine', 'Wau', 'erklärt', 'Geschichte.«', 'verschiedene', 'Für', 'immer.«', 'verschwand', 'Vorhang', 'Mineral', 'umhin', 'Martin', 'getrunken', 'verbrannt', 'wendend', 'strenge', 'Reiben', 'plump', 'Lampen', 'Gras', 'Wechseln', 'bemerkte', 'Throne', '_muß_', 'brachen', 'rauschen', 'Vorstellung', 'Dein', 'Gerichtsbeamten', 'extra.«', 'schüchtern', 'Unfalles', 'Theelöffel', 'wundert', 'bedeuten', '_nicht', 'unmöglich', 'versammelt', 'entlang', 'merkwürdiger', 'wem', 'gelangte', 'anfängt', 'gesucht', 'Mäuseloch', 'Tillie', 'beobachtet', 'Haus', 'betrachtet', 'sch', 'Eifer', 'vom', 'thäte', 'Tafelstein', 'anfängt.«', 'Freude', 'Unsinn.«', 'schreien', 'gemäßigt', 'Ach', 'zittern', 'Zuhören', 'tunkte', 'für', 'klaräugiger', 'wunderbar', 'traf', '_Alle', 'einmal', 'eimerweise', 'gelangen', 'weiterer', 'vergeblicher', '_dich_', 'gerne', 'zurückholen', 'Katzen?«', 'fünften', 'Wesen', 'Lied?«', 'persönliche', 'Weinen', '_übler_', 'stehe', 'Jungen', 'zuletzt', 'freue', 'verschlossen', 'Nur', 'gutes', 'Senf-Bergwerk', 'gestohlen', 'groß', 'festhalten', 'Gerichtshofe', 'Butterbrote', 'auf.', 'rauchen', 'Bildern', 'Kaninchenbau', 'sparsam', 'Schal', 'Gesanges', 'gezählt', 'Gefangenen?«', 'Irrthum', 'existirte', 'lehren', 'abläugnen', 'schüttelte', 'Einst', 'veränderte', 'Raben', 'Zeit', 'Kessel', 'Noth', 'schüchterne', 'Weißfische', 'undeutlicher', 'verstand', 'geworden?«', 'Furche', 'bin?«', 'frißt', 'erklären', 'Gehen', 'Nest', 'schien', 'tödten', 'angerufen', 'brummig', 'Hau', 'verurtheilt.«', 'Siebentes', 'Besonders', 'unterschrieben', 'Aal', 'verquerer', 'schaffe', 'heraus', 'Küchenzwiebeln', 'Zehntes', 'Dinah', 'kluge', 'Bild', 'vorstellen', 'einfallen.«', 'glaubt', 'unfehlbar', 'gedeckt.«', 'vermischten', 'Schrei', '_da_', '_je_', 'wächst.«', 'Strümpfen.«', 'ehe', 'Trinke', 'Antrag', 'Kommt', 'leisen', 'beseitigen', 'Pflanze', 'Theetassen', 'vertheilte', 'erhob', 'Ueber', 'wandte', 'erholt', 'offnem', 'wunderbaren', 'mögen', 'Annahme', 'beißen', 'guter', 'erscheint', '_Die_', 'juchhe', 'platsch', 'fertig', 'ma', 'piepte', 'sauberes', 'anziehen', 'Edwin', 'Schilt', 'Dummkopf?«', 'bewaffnet', '--', 'disputirt', 'Spielst', 'draußen', 'handhaben', 'vertreiben.«', 'mochte', 'losrannte', 'Sage', 'Sprich', 'Durchgehen', 'Gerstenzucker', 'zunächst', 'gefällt', 'Darüber', 'förmlich', 'Moral', 'Wichtiges', 'heran', '*', 'Jedermann', 'diesmal', 'niedergeschlagenem', 'Strick', 'Eroberungen', 'genug.«', 'finde', 'Häuschen', 'folgten', 'Verwandlung', 'bewegen', 'Schade?«', 'erschütterte', 'ungeduldig', 'Breitegrad', 'Einzige', 'haltend', 'Schnüren', 'glaubte', 'Gesange', 'Geklirr', 'aufgeregter', '_Barsch_', 'schluchzte', 'fressen', 'gepflanzt', 'komisch', 'merkwürdig', 'gefunden', 'umstieß', 'Mühe', 'lief', 'Verwandlungen', 'ganze', 'glücklich', 'Krone', 'blieben', 'Schuppen', 'Fallen', 'Schornstein', 'hergesagt', 'Teleskop', 'gehn', 'selbstzufriedenem', 'Beamten', 'Ursache', 'ihm', 'prunkenden', 'beruhigte', 'Pult', 'wahrheitsliebendes', 'helfen', 'darf', 'gäbe', 'geschehe', 'Unfall', 'muthig', 'verlieren', 'Schulbuch', 'auszudrücken.«', 'ausgedacht.«', 'Rosinen', 'nützt', 'aufgebracht', 'umgab', 'ungeschickte', 'nützen', 'gedankenvoll', 'anfaßt', 'hoffnungsvollem', 'nöthig', 'womit', 'bedeutet.«', 'quiekste', 'hören', 'vorzustellen', 'damit?«', 'jetzt', 'vermuthlich', 'zweier', 'Rechnung', 'eine', 'anzuziehen', 'ausstreckte', 'erwachsen', 'Handschuhe', 'hervorkam', 'Verhör', 'Breitegrade', 'Weihnachten', 'ärgerlich', 'möchten', 'ungebeten', 'ich.«', 'kraus', 'Ferne', 'Ecken', 'lehnte', 'eigenes', 'daß', 'Herzchen', 'entsetzlich', 'Schwänze', 'hilft', 'Knie', 'nächste', 'Armes', 'athmen.«', 'langes', 'ließ', 'euch?«', 'paßte', 'Herumschwimmen', 'nützlich', 'allerlei', 'Richtung', 'Unsere', 'reichen', 'Schön', 'Schluchzens', 'Schnecke', 'es?«', 'wissen?«', 'bloße', 'gewöhnliche', 'besah', 'verstehe', 'Frosch-Lackei', 'fortschaffen', 'deren', 'überblicken', 'erschrockene', 'sein', 'auszubrüten', 'ausgetrunken', 'tolle', 'gabt', 'Eingang', 'uppe', 'guten', '»', 'bist', '_das_', 'Geräusch', 'Kissen', 'Lächeln', 'Auf', '_Kaninchen_«', 'Strenge', 'Strand', 'Füßen', 'redete', 'größer', 'Schwierigkeit', 'Immer', 'Rechnen', 'Nöthigste', 'Bäume', 'Abziehen', 'Maßstabe', 'Nimm', 'Lehnt', 'Kinnbacken', 'rother', 'ach', 'fortzukommen', 'getragen', 'davor', 'geradezu', 'fliegen', 'Reitersmann?«', 'Wink', 'überhaupt', 'anhören', 'rücken?«', 'trotzdem', 'nahe', 'häßlich', 'schön', 'setzten', 'Wickelkinde', 'gähnend', 'Ueberzeugung', 'Essig', 'Gurkenbeet', 'ich?«', 'liebkosendem', 'suchen', 'verschiedenen', 'Meerschwein', 'ärgerliche', 'einen', 'Geschenke', 'warten', 'Schöne', 'glücklicherweise', 'Gebrauch', 'Unterschrift', 'Stange', 'schlägt', 'scharf', 'wunderschöner', 'angezogen', 'Plan', 'Brennt', 'Meilen', 'erwartungsvoll', 'See', 'erwähnt', 'Jnaden', 'gebückt', 'Schulter', 'hingehen', 'Minuten', 'freut', 'ausgedacht', 'brauchte', 'Essenszeit', 'Sommertage', 'nachsehen', 'zugleich', 'Mal', 'seit', 'rückte', 'bemerken', 'Blättermeer', 'Igel', 'Lieblingsworte', 'einfallen', 'dennoch', 'fassen', 'als', 'Antipathien', 'Seeufer', 'versteht', 'jedenfalls', 'Sinne.«', 'Wände', 'Dinger', 'hohe', 'brach', 'errinnern', 'Ton', 'stehn', 'mich«', 'gemacht?«', 'Tanze', 'einfache', 'erfährt', 'wundern', '=Où', 'Grinse-Mies', 'werde', 'Hauptschwierigkeit', 'morgen', 'dazu', 'schwimmen', 'wenig', 'Jedenfalls', 'Thee', 'hauptsächlich', 'Füßchen', 'unverwandt', 'trank', 'froh', 'seine', 'Ihre', 'erreichen', 'mal', 'Art.«', 'unbestimmte', 'prüfend', 'zugethan', 'dachte', 'herüber', 'Stirne', 'Augen', 'großen', 'befangen', 'Pfui', 'hier', 'Atheling', 'verbergen', 'stand', 'Flügeln', 'gut', 'aufgefangen', 'Haken', 'ermuthigender', 'Plötzlich', 'erfolgte', 'Allerlei', 'Usurpation', 'Geduld', 'Kinn', 'erwartete', 'Grinse-Katze', 'Summe', 'trinke', 'Zahlen', 'war.«', 'köstlicher', 'nickte', 'gähnte', 'Meinung', 'lauter', 'ermessen', 'Suppen', 'bezahlen', 'Stein', 'näher', 'langschwänzig', 'fortgehen', 'Bald', 'schlecht', 'verbeugten', 'wichtig«', 'beobachtete', 'schneller', '_was_', 'Gipfel', 'Zweige', 'unterdessen', 'seiner', 'wunderst', 'Doch', 'brauchen', 'Ihr', 'großem', 'wehr', 'niest', 'besten', 'demüthig', 'Abwesenheit', 'baten', 'leise', 'Platz', 'Höhe', 'Conversationsbuche', 'ziehen', 'geschahen', 'hingerichtet', 'Seehunde', 'einwenden', 'erkundigen', 'Gnaden', 'gerade', 'Erfrischungen', 'Gieb', 'legte', 'höre', 'Putenbraten', 'einfielen', 'gelernt.«', 'M.', 'Köpfe', 'vorbeiging', 'Alle', 'aufgestanden', 'rief', 'Deinen', 'Erlebnisse', 'vertilgt', 'Marianne', 'wollt', 'genug', 'begegnen', 'unterfaßte', 'Nutzen', 'Daher', 'deutlich', 'Eine', 'Salbe', 'junge', 'Rieseln', 'glaubst', 'Räthseln', 'Reihe', 'liefen', 'Pfote', 'Miene', 'aufzumachen', 'zanken', 'Entfernung', 'weniger', 'darauf', 'Lande', 'Puppe', 'goldne', 'Verwirrung', 'trotz', 'vollbracht', 'triefenden', 'Schachtel', 'Wat', 'eignen', 'Bruders', 'Herr', 'vorige', 'bekam', 'da', 'gefälligst', 'Sieh', 'hängen', 'Blicke', 'sprechenden', 'Furcht', 'Bäumen', 'können', 'sank', 'sind', 'Ausgange', 'Unter', 'ausstehen', 'Bringe', 'interessirte', 'verdrießt.«', 'anzuklopfen', 'Leute', 'bemühen', 'abstieß', 'Meerschweinchen', 'rechte?«', 'Grunze', 'bestand', 'Zu', 'goldene', 'umherguckte', 'ist.«', 'versehen', 'tragen', 'Schlaf', 'Vielerlei', 'betrübt', 'Wort', 'Sahnensauce', 'möchte', 'steigen', 'herauslassen', 'tritt', 'Liebes', 'feierlicher', 'reine', 'durchdachte', 'kriege', 'aufgestellt', 'Antwort', 'verächtlich', 'solltet', 'Schnauze', 'los', 'aufsagen', 'Versteht', 'unterscheiden', 'anzufangen', 'Mundwinkel', 'vielfachen', 'stellt', 'gesagt', 'warteten', 'einander', 'müßte', 'Seufzer', 'Glasscherben', 'Rock', '_davon_', 'gekannt', 'wenige', 'eilte', 'aufgehängt', 'eng', 'jedes', 'stöhnte', 'Zumuthung', '_alle_', 'Sollen', 'fühlte', 'kleinsten', 'kann', 'Entrüstung', 'Leinwandsack', 'Gänseblümchen', 'seht', 'durcheinander', 'sträubte', 'Kampf', '_was_?«', 'Eidechse', 'thun?«', 'nicht?«', 'Hinrichtung', 'Nehmt', 'nachgeahmt', 'einfacher', 'gesessen', 'deine', 'all', 'jar', 'seltsam', 'vergaß_.', 'schieben', 'nett', 'n', 'Geschichtskenntiß', 'königlichen', 'Ahnung', 'wisperte', 'Kniffen', 'Nach', 'Erstens', 'Dodo', 'Stockfisch', 'Verkauf', 'schreiben', 'geschmeidig', 'Während', 'anfingen', 'holen', 'geblieben', 'manches', 'betrachtete', 'Biegung', 'langweilig', 'wohnt', 'passende', 'nächstens', 'weislich', 'Tisch', 'Wird', 'besonders', 'mögen.«', 'allerdings', 'Märchen', 'verwandeln', 'Gegenstand', 'müsse', 'armer', 'zusammengebunden', 'thut', 'underschöne', 'unsicher', 'Torten', 'Ausruf', 'hast.«', 'Empfindung', 'übel.«', 'aus?«', 'unglücklich', 'geschwind', 'Hummers', 'vier', 'traben', 'erkannte', 'bestraft', 'Meine', 'Jurist', 'eins', 'beleidigt', 'fahre', 'adressirt?«', 'lebten', 'Sohn', 'knabbern', 'lieb', 'Beinahe', 'aufmachen', 'aussähe?«', 'Cheshire-Kater', 'Gegend', 'rasend', 'Komm', 'Katze', 'Nehmen', 'Durchaus', 'enthält', 'Katzen', 'Papste', 'schon.', '_treffen_', 'gehe', 'überreichte', 'bekommen.«', 'vorsingt?«', 'anhalten', 'kennst', 'schaffen', 'verändern', 'liebsten', 'wissen', '_Was_', 'klaren', 'anwenden', 'freute', 'niemals', 'sie?«', 'Schildkröte.«', 'lies', 'Passendes', 'Wimmern', 'schwenkend', 'beäugelte', 'nimmst', '_einer_', 'Reihen', 'Handschrift', 'Preis', 'grinste', 'Wahrheit.«', 'vorbeikam', 'galt', '_rother_', 'Leichtigkeit', 'noch', 'abzuschlagen', 'besorgt', 'betrogen', 'Schalthier?«', 'Küchenschränken', 'heiß?«', 'Gethier', 'Zurückwerfen', 'goß', 'Leben', 'Hunde?«', 'herauszuhelfen', 'bestreut.«', 'vor.', 'Napf', 'Thiere', 'Andern', 'fortging', 'heiser', 'köpfen', 'grunzte', 'Wäsche?«', 'wunderliche', 'Geschworne', 'eigene', 'Bellen', 'riß', 'wichtigste', 'schrie', 'fingen', 'erklärten', 'Fünf', 'wiederkommt', 'dazwischen', 'benutzt', 'schwächer', 'Einmaleins', 'hindurch', 'eigenen', 'jede', 'Hunde', 'Namen', 'Thür', '_Chor_', 'Erklärung', 'Brüllen', 'vergessend', 'drang', 'laßt', 'dreibeinigen', 'sicherlich', 'werden?«', 'lagen', 'interessante', 'lassen', 'Griff', '_Sie_', 'verschieden.«', 'fetter', 'Denkt', 'gerathen?«', 'zwölf', 'Lehrerin', 'langweilen', ':', 'Bücherbrettern', 'Würdest', 'Drittes', 'dreizehn', 'Junge', 'abknabberte', 'Schiefertafeln', 'uns', 'Augenbraunen', 'schlau', 'Woher', 'Zustande', 'stelle', 'gethan?«', 'Lied', 'zurückgebracht', 'geriebene', 'mitten', 'andern', 'sieh', 'altes', 'viel', 'begnadigt', 'Kratzfüße', 'Munde', 'geglückt?«', 'sollte', 'tragisch', 'Geschworner', 'jagen', 'fegen', 'worden.«', 'stellte', 'Gerichtssaal', 'goldenen', 'Ketten', 'nimm', 'beachtete', 'brechen', 'Fenster?«', 'Könntet', 'Vogel', 'Zahl', 'zuwarf', 'malen', 'anders', 'Sein', 'Wirthe', 'gerichtet', 'Versprechen', 'Zug', '_dein_', 'halben', 'meinem', 'herunterwinden', 'Todtenkopf', 'Mies', 'abwärts?«', 'Frosch', 'Spatzen', 'Maule', 'aussieht', 'Verquerer', 'Wilhelms', 'älter', '_Eingemachte', 'funfzig', ';', 'konnten', 'gespannt', 'überlegte', 'außer', 'Winter-Nachmittag', 'ehrfurchtsvollem', 'eben', 'hölzernen', 'Schwanze', 'mir', 'bezeichnete', 'Wohl', 'Unterbrechung', 'tollen', 'Gebüsch', 'jemehr', 'Arbeit', 'drei?«', 'Croquetfeld', 'dieses', 'Besseres', 'erfahr', 'lerne', 'Nachbar', 'Ueberlegung', 'nach', 'Eier', 'Soldaten', 'Als', 'muß?«', 'Hülfsquelle', 'ist', 'volle', '_etwas_', 'abschneiden', 'furchtsam', 'suchst', 'scheinen', 'Schauer', 'Kö', 'Herzogin', 'böse', 'bücken', 'Verzeihung', 'Geschöpfe', 'Edgar', 'darein', 'glitt', 'übrige', 'schwermüthigen', 'Locken', 'todtenstill', 'ausgesucht', 'fliegt', 'beschäftigt', 'räthselhaft', 'Publikum', 'Köter', 'Thatsache', 'Einfall', 'Rackete', 'Handschuhen', 'meerschwimmig', 'erfüllten', 'Honigseim', 'Garten', 'verfahren', 'Katers', 'Wirklichkeit', 'Geographie', 'seinem', 'Furchen', 'krank.«', 'aufsah', 'Thieres', 'Dach', 'wohl', 'Grafen', 'flüstern', 'Lockenperücken', 'wechselt', 'schüchterner', 'zurückging', 'führend', 'holte', 'zufrieden?«', 'Reden', 'ist?«', 'Milchtopf', 'Amtes.«', 'lernen?«', 'schenken', 'höflich', 'wahrhaftig', 'Dir', 'werden', 'Geschenk', 'Gerade', 'geflogen', 'schelte', 'Oho', 'Blick', 'häßliche', 'Meer', 'bog', 'rund', 'irgendwo', 'allein', 'wunderlich', 'wiederholen', 'krausem', 'hinwirft', 'Kopfschütteln', 'aufhören', 'Stunde', 'sollen', 'gefühlt', 'seien', 'keineswegs', 'Auster', 'sichtbar', 'drangen', 'gekreuzten', 'Hummerballet', 'wichtiger', 'derjenige', 'Ananas', 'Eisen', 'nicht', 'Seh', 'recht', 'm', 'Greif', 'Habt', 'zurückgehen', 'klettern', 'schluckte', 'frei', 'aussahen', 'Fuß', 'blieb', 'übrig', 'klopfen', 'Aber', 'aufbellte', 'Reiche', 'Zuletzt', 'nur', 'Unsinn', 'Dreh', 'fallen', 'Ohre', 'Fußboden', 'beide', 'gern.«', 'rauschte', 'rathlos', 'Noch', 'faßte', 'Diamanten', 'Möchtest', 'dem', 'Worte', 'Ruhe', 'fortzuführen', 'Krachen', 'lachen', 'verdutzt', 'bringe?«', 'blutet', 'gewunden', 'hohler', 'Wechselt', 'sonderbar.«', 'drängten', 'Zuhörer', 'verklage', 'Weitererzählen', 'kleiner', 'Länge-', 'liebes', 'Kummer', 'anliegendem', 'vertheidigte', 'Teller', 'herzusetzen', 'entdeckt', 'denn?«', 'Umständen', 'Freie', 'Glas_', 'verschluckten', 'singen', 'thue', 'nichts?«', 'bunt', 'geh', 'Pilz', 'gutmüthig', 'kommt', 'eilig', 'Bißchen', 'dickem', 'Rauch', 'Schnell', 'gab', 'Jeden', 'solcher', 'Unordnung', 'brachte', 'Tone', 'brummend', 'lustig', 'umgeworfen', 'damit', 'alte', 'berühren', 'getraute', 'Der', 'mitbringe', 'zurückwerfend', 'Tellern', 'zusammengezogen', 'Sehr', 'Hagel', 'eiferte', 'konnte', 'hat.«', 'wollten', 'Ist', 'Apfelsinen_«', 'Schriftstück', 'Erscheinung', 'aber', 'erlangen', 'Antworten', 'Schwester', 'Gesetz', 'weit', 'überall', 'länger', 'wäscht', 'Liedes', 'thu', 'Haufen', 'sind?«', ')', 'natürlich', 'Caucus-Rennen', 'wenden', 'wiederholte', 'Schafskopf', 'hilf', 'kenne', 'Esel', 'gehorchte', 'schwache', 'Solch', 'Werth', '_Mal_', 'hineingefallen', 'Gewicht', 'einführen', 'gestehen', 'Glas', 'eins.«', 'Pfuhl', 'rechte', 'anzureden', 'Ruft', 'Fracht', 'gescheidter', 'nichts.«', 'Köpfchens', 'herum.«', 'Mamsell', 'Wem', 'zitternd', 'niederknien', 'Stille', 'Verdruß', 'voll', 'Ordnung', 'wedelt', 'mer', 'man', 'Beinchen', 'heiß', 'wuchs', 'umsonst.«', 'Leiter', '_schalt', 'dünn', 'andere', 'Name', 'soeben', 'aufzählte', 'macht', 'zwanzig', 'Hummern', 'ebenfalls', 'wischte', 'versetzte', 'Pelz', 'Zeuge', 'errieth', 'durch', 'Thränenpfuhl', 'Zum', 'erhobener', 'ungeheuren', 'auseinander', 'Stoß', 'Mein', 'schmeckt', 'wohlfeile', 'schlief', 'sagen', 'schwarzblickend', 'starrte', 'Elster', 'wandern', 'Schlüsselloch', 'Kinde', '_Fall_', 'meinte', 'Sand', 'Hause', 'französischen', 'dabei', 'fehle', 'uppen', 'Herzenskönigin_', 'wozu', 'vorbeihuschte', 'aufzuschreiben', 'früh', 'hereinkommen', 'wahr?«', 'geführt', 'laufen', 'wieder', 'heute', 'anstellen', 'hast', 'Decke', 'kaum', 'Verzweiflung', 'retten', 'nichten', 'Brille', 'Würde', 'erbleichte', 'Leuten', 'ganz', 'waren', 'Händen', 'brauchtest', 'verstimmt', 'herabflossen', 'dauert', 'Herren', 'gestellt', 'kürzlich', 'Zwei', 'anblickte', '_Falsche', 'Trappeln', 'befolgte', 'Von', 'zugeben', 'Kaninchens', 'Menschenverstand', 'zitterte', 'Stirnrunzeln', '_bin_', 'verwirrt', 'Verstand', 'weh', 'Dosen-Stehauf', 'verdrießlichem', 'herumgestellt?«', 'sicher', 'hin', 'Schuld', 'sinken', 'en', 'über', 'gebildet', 'weinerlichem', 'Spiegel', 'bat', 'triumphirend', 'gemacht', 'Illustration', 'Enthauptungen', 'wachse', 'schwer', 'Einer', 'herzusagen', 'sterben.«', 'Wenn', '_mehr_', 'legen', 'Saal', 'Wäre', 'Tintenfaß', 'ne', 'meistens', 'klein', 'weißen', 'ertrug', 'Verhörs', 'bald', 'gefiel', 'Griffel', 'Traum', 'seinen', 'kreischender', 'ungeheuer', 'leid', 'Butter', 'commandiren', 'zeigt', 'gelesen', 'Butter.«', 'Mich', 'Felsenriffe', 'Euch', 'Alters', 'wart', 'Ihren', 'sahen', 'entfernten', 'ungern', 'alt', 'eines', 'p', 'richtete', 'läugnen', 'wobei', 'Kopf', 'sehen', 'Seeographie', 'unter', 'wurden', 'untergehende', 'murmelte', 'schlage', '\"', 'sauertöpfisch', 'gelebt', 'Kiesel', 'wunderhübschen', 'Mittelpunkt', 'da?«', 'entschließen', 'Finger', 'ohne', 'magst', 'Anführer', 'nirgends', 'bestürztem', 'glücklichen', 'sehr', 'ob', 'kam', 'gewendet', 'lieben', 'singe', 'Personen', 'getrocknet', 'hielt', 'Kön', 'Dabei', 'durchzulesen', 'Ein', 'auch', 'trinken.«', 'werden.«', '_Außenseite_', 'Erzbischof?«', 'Sturm', 'Lebtag', 'habt.«', 'Luft', 'abnahm', 'Köpft', 'ehrbar', 'Sammetkissen', 'sollt', 'unnütz', '_geht_', 'bedauerte', 'roh.«', 'Lebt', 'Brunnens', 'bringe', 'vorlas', 'Füßen?«', 'grüne', 'außerdem?«', 'Wogen', 'Gericht', 'welches', 'Ausdruck', 'jetzt.«', 'befehlen', 'verwirrt.«', 'Macht', 'leben', 'Empfang', 'Neuntes', 'wirksameren', 'anfangen', 'Beweisgründe', 'Saale', 'bildete', 'Zottelbär', 'Aussicht', 'darüber', 'Locomotive', 'rundes', 'Bekanntschaft', 'langen', 'danke', 'erhielt', 'Schlangen.«', 'Urtheil', 'Hecke', 'setzte', 'Heerdenglocken', 'neuer', 'kann?«', 'verbergend', 'herantrat', 'Eins', 'hervorrief', 'blöde', 'du', 'brauchten', 'meisten', 'Dummer', 'laß', 'Wo', 'spinnt', 'giebt', 'könnten?«', 'Australien?«', 'Brunnen?«', 'nimmt', 'Seesterne', '_seine', 'malerisches', 'verabscheut', 'verloren', 'kein', 'früher', 'Wilhelm', 'wegen', 'dunkeln', 'eleganten', 'Heulen', 'önigin', 'Scheeren', 'läugnet', 'Redens', 'gesehen', 'einigen', 'kosten', 'Höre', 'Zuckerplätzchen', 'Fort', 'gefällig?«', 'Körper', 'einzelnen', 'blinzeln', 'gebraucht', 'ihren', 'merkwürdige', 'Senf', 'braunen', 'Tanz?«', 'Ratten', 'Bericht', 'grausam', 'Spiel', 'Henker', 'Französisch', 'nicht.«', 'alltäglichen', 'Stück', 'gestützt', 'Glasscherben.', 'schnurr', 'Canterbury', 'derben', 'chatte?=«', 'verdrießlich', 'Schutz', 'Erstes', 'müde', 'leiser', 'Töpfchen', 'erstaunt', 'Vielleicht', 'Verwunderung', 'Entschuldigungen', 'Wörter', 'wer', 'reichte', 'vor', 'hochstämmiger', 'rathe', 'gewandt', 'großes', 'träumen', 'Brunnen', 'Neuem', 'Gange', 'zärtlich', 'letzten', 'solchem', 'unserm', 'genau', 'beleidigen', 'Schlägt', 'Tagen', 'Grashalmen', 'feinste', '_irgendwo_', 'sie', 'plätschern', 'fängt', 'wahrlich', '_Un_wichtig', 'schläfrig', 'Bogen', 'Maus', 'fortzunehmen', 'durchsuchte', 'Königin', 'überlegen', 'Schildkröte', 'beachteten', 'erschreckten', 'hinter', 'Zähne', 'jeden', 'Klappern', 'augenblicklichen', 'dachten', 'wo.«', 'älteste', 'schlechter', 'schlag', 'Mann', 'gesteckt', 'Gedicht', 'Geschichten', 'Rittern', 'Denke', 'spielte', 'meist', 'Buch', 'Theetasse', 'Händchen', 'Hier', 'lebendig', 'zuzuhören', 'geklopft', 'Erster', 'sobald', 'Tischfüße', 'verletzt', '_hier_', 'fühlen', 'Preisend', 'alten', 'Wer', 'prachtvoll', 'alter', 'Kopfstimme', 'Kapitel', 'je', 'machte', 'Wiegenlied', 'interessant', 'schrieben', 'süßem', 'Gesicht', 'Arm', 'Springelehrer', 'Grasplatzes', 'ein', 'bei', 'vorhin', 'Wohnhäuser', 'Mama', 'geworden.«', 'wenigstens', 'mitfreuen', 'W', 'grinsen', 'einfach', 'Unke', 'gönnt', 'drollig', 'gütigst', 'verwandelte', 'Milch', 'gedrungen', 'auszuerzählen', 'glatt', 'Seite', 'Wurm', 'Denn', 'vollständig', 'Schwierigkeiten', 'Lehrer', 'sagte', 'Armstuhl', 'durchlas', 'Verhungern', 'Ansprüche', 'niemals«', 'muß', 'gute', 'bekommt', 'Alice', 'Fußspitzen', 'hineingehe', 'grob.«', 'kreuzweise', 'lang.«', 'klangen', 'Anschuldigung', 'ausfindig', 'dorthin', 'Klau', 'Lacie', 'mußten', 'Worten', 'zog_', 'schwatzen', 'Fingerhutes', 'kneifen', 'Anklage', 'schöne', 'brennt', 'unwissendes', 'unbändig', 'geben?«', 'Shakespeare', 'Buchstaben', 'Klasse?«', 'versprochen', 'dort', 'kniete', 'Vervielfraßen', 'Arrum«', 'trübselig', 'Daten', 'drinnen', 'suche', 'Demnächst', 'est', 'biß', 'Heftigkeit', 'Wunderlande', 'traten', 'leckt', 'erkälten', 'wirft', 'geschäftigen', '_weniger_', 'gereiztem', 'Unarten', 'festzuhalten', 'gin', 'Aepfel', 'naß', 'hörst', 'bitter', 'angekommen', 'spürte', 'Darauf', 'darf?«', 'richtig', 'blickte', 'erscheinen', 'ruhiger', 'jener', 'manche', 'abreißen.«', 'grünen', 'Zuge', 'Sch', 'Sich', '_Sprache', 'zurückrufen', 'Jemand', 'Friedenszeit', 'tiefes', 'Neugierde', 'herabhingen', 'Schlagt', 'französische', 'hervorstehenden', 'Redner', 'an', 'kicherten', 'könnte', 'Hitze', 'ausgestreckt', 'Kater', 'Naute', 'schrien', 'übereilen', 'Theestunde', 'schöner', 'zurückschreckte', 'einladend', 'ängstliches', 'sang', 'nachging', 'aufblickten', 'Bilde', '_habe_', 'weißt', 'glänzendes', 'verlies', 'erinnerten', 'stolpere', 'Thüren', 'Gurkenbeete', '_kann_', 'Sprachen', 'großartig', 'will.«', 'Ausspruch', 'Teich', 'zeigend', 'hielten', 'toll', 'Satz', 'Pat', 'armen', 'erwartend', 'Woche', 'lächelnd', 'außerordentlichen', 'vorbeifuhr', 'wie.«', 'Entschiedenheit', 'fangt', 'gelangt', 'Anfall', 'Ufer', 'fragen.«', 'Hauptstadt', 'geschickt', 'meinten', 'Sonne', 'Ei', 'Erzähle', 'dicker', 'gegessen', 'komische', 'vierten.«', 'Hinrichtungen', 'plötzliche', 'fast', 'das?«', 'wenn', 'liegend', 'oh', 'Faselhase', 'Willst', 'Wortwechsel', 'Unterricht.«', 'beehren', 'nehmen', 'dahin', 'Anfange', 'dein', 'trübsinnig', 'findet', 'geschrieben', 'Bespritze', 'Reitersmännern', 'vorzüglich', 'sagt.«', 'malte', 'auszuprobiren', 'fand', 'wurde', 'Gründe', 'längste', 'beweist', 'beste', 'Wege', 'vorbei', 'unterhielt', 'reiferen', 'rauchte', 'nenne', 'übrigen', 'Memme', 'geringem', 'angefangen?«', 'einschrumpfen', 'Zeugen.«', 'fing', 'zuzusehen', 'umher', 'schneite', 'dabei.«', 'Seestern', 'gehen', 'auffressen', 'aus', 'gedacht', 'Erkläre', 'ausgeführt', 'Woran', 'grausamen', 'Guter', 'Auch', 'setzt', 'kurzen', '_Einen_', 'Federn', 'erinnerte', 'nich', 'Beispiel', 'dahinterstehenden', 'knixen', 'Mäusefangen', 'Boden', 'So', 'Preise', 'Fand', 'entweder', 'schläfst', 'hießen', 'Wovon', '_manches', 'Gestern', 'schönste', 'unablässig', 'standen', 'schneit', 'Entzücken', 'steckte', 'spielen?«', 'machten', 'erkennen', 'unterbrochen', 'blies', 'trocknes', 'Hirn', 'Neues', 'klopfte', 'hinterließ', 'kleine', 'Tisches', 'drängen', 'gar', 'gewohnt', 'Ersticke', 'fortwährendes', 'schicke', 'Art', 'nun', 'verstehen', 'plötzlich', 'gesagt?«', 'Also', 'umsah', 'zurückgekommen', 'Gesichte', 'spinnen', 'Eisenbahn-Station', '!', 'schönen', 'vorwärts', 'Suppe', 'kommandiren', 'stockte', 'pflücken', 'rasch', 'kleinlaut', 'seltsamen', 'solche', 'rühren', 'feines', 'dessen', 'Mäusefänger', 'unterbrechen', 'wuchsen', 'Schluchzen', 'faltete', 'innen', 'Gewitter', 'übte', 'überlegend', 'gedämpfter', 'That', 'dadurch', 'benutzten', 'Pfefferbüchse', 'wohntet.«', 'Wein.«', 'adressirt', 'demselben', 'jemand', 'Nicht', '[', 'wirklich?«', 'schwierige', 'Aussehen', 'allerbeste', 'Tante?«', 'müßten', 'Alles?«', 'Tage.«', 'stillschweigend', 'Frist', 'Kinderfrau', 'gelaufen', 'rathsam', 'Jahren', 'kräftigen', 'leicht', 'Hjckrrh', 'Treppe', 'todt', 'leeren.«', 'hungrig', 'solch', 'ärgerlichem', 'unten', 'große', 'spielen', 'davon', '_Chor._', 'Rückt', 'lassen?«', 'begünstigt', 'sollst', 'versuchen?«', 'angesehen', 'Schlange', 'ernstes', 'sollten', 'bewegte', 'gelernt', 'geschehen', 'Einladung', 'vorüber', 'Laub', 'am', 'haben', 'Schafft', 'Tatze', 's_', 'hinauf', 'aufzuhören', 'bis', 'höchste', 'Gesellschaft', 'hättest', 'Schiebe', 'geschlafen', 'Clara', 'gefallen?«', 'aufpassen', 'Bilder', 'Glase', 'redest', 'benutzte', 'Schadet', 'Bratpfanne', 'hineingesprungen', 'Fuhrmannspferde', 'rothglühendes', 'werfen', 'klatschte', '_war_', 'Hunden', 'erste', 'nähmen', 'ungeduldigem', 'Küsten', 'kommandirt', 'Ding', 'das', 'gestoßen.«', 'aufzunehmen', 'viele', 'großer', 'Salzwasser', 'Steh', 'verschämt', 'fürchte', 'wählte', 'Kopfe', 'gesehen?«', 'Thu', 'entschieden', 'dulden', 'feige', 'Haupt', '_weiß_', 'Glaceehandschuhe', 'ankamen', 'Recht', 'anzubieten', '_können_.«', 'heut', 'esse«', 'Moral«', 'Schildkrötensuppe', 'Nichts', 'Funfzehnten', 'bange', 'Geschöpfen', 'Zeug', 'Filax', 'geringste', 'eingekehret', 'Töpfe', 'geriebener', 'Ganzen', 'fest', 'fuhr', 'Gefühl', 'fortzumachen', 'fragte', 'beantworten', 'jeher', 'er', 'erwarte', 'brummte', 'guckte', 'verneigen', 'Mäuler', 'schlich', 'rücken.«', 'frage', 'sehe', 'Brodmesser', 'Befehl', 'angeschrieben.«', 'Grund', 'Besorgungen', 'Zusammenziehen', 'Schmerz', 'warf', 'Groschen', 'gehofft', 'wilden', 'augenscheinlich', 'könnt', 'Schlägel', 'bösen', 'Croquet-Felde', 'zurückblieben', 'gelegten', 'K.', 'Neu-Seeland', 'Denken', 'fortspazierten', 'kannst', 'gehörten', 'Eroberer', 'Rande', 'Thüre', 'Mädchen', 'Nähe?«', 'spielt', 'Jahr', 'sorgfältig', 'wagte', 'Festzügen', 'gehalten', 'Schwanz', 'anfing', 'kühlen', 'schlucken', 'Geschöpf', 'Idee', 'ginge', 'Caucus-Rennen?«', 'Rollen', 'sonderbare', 'Zettel', 'hinrichten', 'deutlicher', 'Spielregeln', 'Flamme', 'Ihnen', 'Pfoten', 'Tassen', 'manchmal', 'Stillschweigen', 'Rechtes', 'habt', 'Baum', 'Schritte', 'einfältige', 'Minen', 'zum', 'Hecken', 'Aufträge', 'Wässerte', 'Kaninchen', 'Dann', 'dahinter', 'Sag', 'wahrscheinlich', 'Grammatik', 'liebevolle', 'welche', 'Sachen', 'Sitte', 'nachfühlen', 'neue', 'sitzenden', 'paar', 'winziges', 'fortrannte', 'Paris', 'bin.«', 'Verzug', 'Morgens', 'sehnte', 'Haare', 'worauf', 'Jeder', 'knabberte', 'Aufzüge', 'dumm', 'Kannst', 'Landkarten', 'gefragt', 'Hätte', 'thaten', 'ging', 'herausguckte', 'hindertet', 'nächsten', 'mußte', 'Grinse-Kater', 'sprich', 'anwendet.«', 'Vertraut', 'euch', 'Unwichtig', 'gebe', 'Schwanzspitze', 'geschmückt', 'Pfropfen', 'Glasbüchse', 'Niesen', 'ängstlich', 'hatten', 'Größe', 'sterben', 'Spiele', 'bemerkten', 'Alles', 'Klavierspielen', 'Eile', 'Verschwinden', 'genehm', 'grün', 'achthundert', '?', 'unwillig', '_wird_', 'darunter.«', 'Diesmal', 'wunderbare', '_An_', 'lächerliche', 'Sagtest', 'Tag.«', 'schwachen', 'Schüler', 'ja', 'seitdem', 'widersprochen', 'gewahr', 'grinst?«', 'lebendige', 'gemeine', 'wolle', 'Einen', 'fiele', 'hoffe', 'Keinen', 'nachgerade', 'Anläufen', 'horchen', 'sonderbar', 'behauptete', 'streitigen', 'woraus'])\n"
     ]
    }
   ],
   "source": [
    "from collections import OrderedDict\n",
    "\n",
    "# Beim Mapping von Wörtern zu IDs und umgekehrt sollte eine reproduzierbare Reihenfolge sichergestellt werden,\n",
    "# um das Modell später weitertrainieren und die Embedding-Matrix interpretieren zu können.\n",
    "# Diese Datenstruktur kann, aber muss nicht, als Basis dienen.\n",
    "unique_words = OrderedDict.fromkeys(set([word for entry in data_sample for word in entry]))\n",
    "\n",
    "# Mapping von Wort zu ID\n",
    "word2id = # TODO\n",
    "\n",
    "# Mapping von ID zu Wort\n",
    "id2word = # TODO\n",
    "\n",
    "# Unser Data Sample, aber mit IDs statt Wörtern \n",
    "# [['der', 'hund', 'der', 'bellt'], ['die', 'katz', 'miaut']] => [[0, 1, 0, 2], [3, 4, 5]]\n",
    "numeric_docs = [[word2id[w] for w in doc] for doc in data_sample]\n",
    "\n",
    "print('Word to id sample:', list(word2id.items())[:10], '\\n')\n",
    "print('Id to word sample:', list(id2word.items())[:10], '\\n')\n",
    "print('Documents as lists of integers:', numeric_docs[0][:10])\n"
   ]
  },
  {
   "cell_type": "markdown",
   "metadata": {
    "id": "UKXEBPLqYuA1"
   },
   "source": [
    "Wir halten einige wichtige Parameter für unser Modell fest. Die Größe des Kontextfensters sowie die Länge der Embeddingvektoren können nach Bedarf angepasst werden. Für unsere Demo wählen wir kleine Werte."
   ]
  },
  {
   "cell_type": "code",
   "execution_count": null,
   "metadata": {
    "id": "ga_N0q-zYuA3"
   },
   "outputs": [],
   "source": [
    "vocabulary_size = # TODO\n",
    "embedding_size = 50 # Länge der Embeddingvektoren\n",
    "window_size = 2 # Größe des Kontextfensters. Wird nach rechts und links angewandt. Gesamter Kontext hier also 4 Wörter.\n",
    "\n",
    "print('Vocabulary Size:', vocabulary_size)"
   ]
  },
  {
   "cell_type": "markdown",
   "metadata": {
    "id": "Uunq8JvnYuA-"
   },
   "source": [
    "### 1.3 Generator\n",
    "Um nicht alle Trainingsdaten auf einmal im Speicher halten zu müssen, schreiben wir uns eine Generatorfunktion, die Batches einer frei wählbaren Größe zurückgibt. Unser Ansatz ist dennoch nicht völlig speicherschonend, weil wir uns die Datengrundlage für die Generierung dieser Batches, nämlich die Integerlisten in `numeric_docs` sehr wohl im Speicher vorhalten. Darüber sehen wir aber großzügig hinweg.\n",
    "\n",
    "Die Generatorfunktion erzeugt zwei numpy-Arrays der Länge `batch_size`, von denen das eine Listen mit Indizes der Kontexwörter enthält, die der Embedding-Layer als Eingabe erwartet, und das andere die zugehörigen One-Hot-Encodings der Mittelwörter.\n",
    "\n",
    "Fiktives und vereinfachtes Beispiel:\n",
    "<pre><code>* Fenstergröße: 1\n",
    "* Batch-Size: 2\n",
    "* Wortindizes: 'die': 0, 'ente': 1, 'lacht': 2, 'und': '3, 'quakt': 4 (und damit Vokabulargröße 5)\n",
    "* Korpus (Auszug): [['die', 'ente', 'lacht', 'und', 'quakt'], ...]\n",
    "\n",
    "\n",
    "=> Rückgabe: [[0, 2], [1, 3]], [[0, 1, 0, 0, 0], [0, 0, 1, 0, 0]]\n",
    "</code></pre>"
   ]
  },
  {
   "cell_type": "code",
   "execution_count": null,
   "metadata": {
    "id": "rItJIFM8YuBB"
   },
   "outputs": [],
   "source": [
    "from keras.preprocessing import sequence\n",
    "from keras.utils import np_utils\n",
    "import numpy as np\n",
    "\n",
    "def generate_context_word_batches(corpus, window_size, vocab_size, batch_size):\n",
    "    X = []\n",
    "    Y = []\n",
    "    current_size = 0\n",
    "    while True:\n",
    "        # TODO: Here be dragons\n",
    "        yield contexts, label_words # zwei numpy arrays\n"
   ]
  },
  {
   "cell_type": "code",
   "execution_count": null,
   "metadata": {
    "id": "zQU_48R7YuBG"
   },
   "outputs": [],
   "source": [
    "# Schneller Test\n",
    "test_batch_size = 3\n",
    "test_window_size = 2\n",
    "\n",
    "batch_gen = generate_context_word_batches(corpus=numeric_docs, window_size=test_window_size, vocab_size=vocabulary_size, batch_size=test_batch_size)\n",
    "for i in range(0, 3): \n",
    "    x, y = next(batch_gen)\n",
    "    for j in range(0, test_batch_size):\n",
    "        print('Context (X):', [id2word[w] for w in x[j]], '-> Target (Y):', id2word[np.argwhere(y[j])[0][0]])  "
   ]
  },
  {
   "cell_type": "markdown",
   "metadata": {
    "id": "jhy4rehNYuBM"
   },
   "source": [
    "### 1.4 Definition des Models\n",
    "Als nächstes definieren wir unser Model. Dazu verwenden wir die Sequential API von Keras. Dieser [Blogpost](https://lilianweng.github.io/lil-log/2017/10/15/learning-word-embedding.html) bietet nochmal eine anschauliche Erklärung, wie word2vec CBOW funktioniert.\n",
    "Das folgende Bild ist daraus und stellt die Architektur des Neuronalen Netzes dar:\n",
    "<img src=\"https://lilianweng.github.io/lil-log/assets/images/word2vec-cbow.png\" width=500 />\n",
    "\n",
    "Weitere Informationen über den Embedding Layer finden sich [hier](https://keras.io/layers/embeddings/).\n",
    "\n",
    "> **Tipp:** Nehmt euch wirklich Zeit Embeddings zu verstehen."
   ]
  },
  {
   "cell_type": "code",
   "execution_count": null,
   "metadata": {
    "id": "wdsQV9RDYuBO"
   },
   "outputs": [],
   "source": [
    "import keras.backend as K\n",
    "from keras.models import Sequential\n",
    "from keras.layers import Dense, Embedding, Lambda\n",
    "\n",
    "#Modelldefinition\n",
    "cbow = Sequential()\n",
    "cbow.add(Embedding(input_dim=#TODO, output_dim=#TODO, input_length=#TODO))\n",
    "cbow.add(Lambda(lambda x: K.mean(x, axis=1), output_shape=(embed_size,)))\n",
    "cbow.add(Dense(#TODO: #Units, activation=#TODO))\n",
    "cbow.compile(loss=#TODO, optimizer='rmsprop')\n",
    "\n",
    "# Zusammenfassung\n",
    "print(cbow.summary())"
   ]
  },
  {
   "cell_type": "markdown",
   "metadata": {
    "id": "KBoEx-w2YuBU"
   },
   "source": [
    "### 1.5 Training\n",
    "Jetzt wird es ernst: Wir trainieren unser Modell.\n",
    "Da wir eine eigene Generatorfunktion verwenden, müssen wir `steps_per_epoch` angeben. Überlegt euch was damit genau gemeint ist, wofür uns das nützt und was wir bei der Berechnung beachten müssen. Tipp: das Modell sollte pro Epoche alle Trainingsdaten sehen. Überlegt auch ob die Cbow-Fenstergröße einen einfluss auf diese Anzahl hat.\n",
    "\n",
    "Weil wir unser Modell gerne abspeichern möchten, zum Beispiel, um es später weiter zu trainieren, definieren wir eine Callback-Funktion, die das für uns übernimmt."
   ]
  },
  {
   "cell_type": "code",
   "execution_count": null,
   "metadata": {
    "id": "-Ui-skXyYuBV"
   },
   "outputs": [],
   "source": [
    "from keras.callbacks import ModelCheckpoint\n",
    "\n",
    "model_checkpoint = ModelCheckpoint('embeddings.hd5', monitor='loss', verbose=1, save_best_only=True, save_weights_only=False)"
   ]
  },
  {
   "cell_type": "code",
   "execution_count": null,
   "metadata": {
    "id": "lRuQzCB2YuBa"
   },
   "outputs": [],
   "source": [
    "epochs = 5 #(kann gerne erhöht werden)\n",
    "batch_size = 300\n",
    "# das Modell sollte pro Epoche alle Trainingsdaten sehen. Überlegt auch ob die Cbow-Fenstergröße einen einfluss auf diese Anzahl hat.\n",
    "steps_per_epoch = #TODO\n",
    "\n",
    "\n",
    "cbow.fit_generator(# TODO, callbacks=[#TODO])    "
   ]
  },
  {
   "cell_type": "markdown",
   "metadata": {
    "id": "SMIqy_-fYuBf"
   },
   "source": [
    "### 1.6 Test\n",
    "Nachdem wir unser Modell nur sehr kurz und nur auf wenigen Daten trainiert haben, ist davon auszugehen, dass die Ergebnisse nicht optimal sind. Einen kurzen Blick wollen wir dennoch riskieren.\n",
    "\n",
    "Dazu extrahieren wir zunächst die Gewichte aus dem Embedding-Layer und schauen sie uns auszugsweise an."
   ]
  },
  {
   "cell_type": "code",
   "execution_count": null,
   "metadata": {
    "id": "m7x0IPFqYuBh"
   },
   "outputs": [],
   "source": [
    "import pandas as pd\n",
    "from keras.models import load_model\n",
    "\n",
    "cbow = # TODO: Model laden\n",
    "embedding_weights = # TODO: Auf Embedding Layer (1. Layer) des Modells zugreifen und dort die Gewichtsmatrix extrahieren\n",
    "\n",
    "pd.DataFrame(# TODO: Was wollen wir anschauen?, index=list(id2word.values())).head()"
   ]
  },
  {
   "cell_type": "markdown",
   "metadata": {
    "id": "5BnUH3l6YuBm"
   },
   "source": [
    "Da durch scharfes Hinsehen nicht unmittelbar zu erkennen ist, wie gut unsere Embeddings schon sind, machen wir stichprobenartige Tests. Dazu wählen wir einige Wörter und berechnen für deren Embeddings die Ähnlichkeit mit allen anderen Embedding-Vektoren in unserer Gewichtsmatrix. Anschließend lassen wir uns die fünf ähnlichsten Wörter ausgeben.\n",
    "Überlegt euch welches Distantzmaß für den Vergleich von Vektoren genutzt werden kann. Tipp: Die Cosinusähnlichkeit könnte damit was zu tun haben. "
   ]
  },
  {
   "cell_type": "code",
   "execution_count": null,
   "metadata": {
    "id": "lwHpAG9lYuBo"
   },
   "outputs": [],
   "source": [
    "#Tipp: from sklearn.metrics.pairwise import ?\n",
    "\n",
    "sample_terms = ['Alice', 'Hut', 'Kaninchen','Kaninchenbau']\n",
    "sample_embeddings = # TODO\n",
    "\n",
    "# Berechne die paarweisen Distanzen zwischen Beispielwörtern und Gesamtvokabular\n",
    "distance_matrix = # TODO"
   ]
  },
  {
   "cell_type": "code",
   "execution_count": null,
   "metadata": {
    "id": "E1HEcW_bYuBt"
   },
   "outputs": [],
   "source": [
    "# Zeige die top fünf ähnlichsten Wörter zu unseren Beispielwörtern \n",
    "similar_words = {sample_term: [id2word[idx] for idx in distance_matrix[index].argsort()[1:6]] \n",
    "                   for index, sample_term in enumerate(sample_terms)}\n",
    "\n",
    "similar_words"
   ]
  },
  {
   "cell_type": "markdown",
   "metadata": {
    "id": "LM3qNiNwHyFl"
   },
   "source": [
    "Seid ihr zufrieden mit den ähnlichen Wörtern? Woran kann es liegen, dass die Wörter nicht immer unbedingt Sinn ergeben?"
   ]
  },
  {
   "cell_type": "markdown",
   "metadata": {
    "id": "zt-nOPurYuBz"
   },
   "source": [
    "## Aufgabe 2: Gensim als Wrapper für Word2Vec-Modelle\n",
    "Embedding-Layer begegnen einem in der Praxis in der Tat häufig. In der Regel aber nicht als Bestandteile von reinen Word Embedding-Trainingsmodellen, sondern als erster Layer für Modelle mit anderen Aufgaben. Die Embeddings werden dann entweder mit vorberechneten Werten initalisiert und/oder werden im Training des Modells für die Downstream-Aufgabe (Textklassifikation, Übersetzung, ...) mittrainiert.\n",
    "\n",
    "Eine komfortable Möglichkeit, eigene Word2Vec-Modelle zu trainieren, bietet [Gensim](https://radimrehurek.com/gensim/models/word2vec.html), eine Bibliothek, die für diese Modelle auch Wrapper bereitstellt, um komfortabler an die Embeddings zu kommen und mit diesen zu arbeiten.\n",
    "\n",
    "Wir wollen uns im Folgenden einen kleinen Ausschnitt der Möglichkeiten, die Gensim bietet, anschauen."
   ]
  },
  {
   "cell_type": "markdown",
   "metadata": {
    "id": "Q86D9vsXFN2e"
   },
   "source": [
    "### 2.0 Vorbereitung\n",
    "Wir werden mit vortrainierten Google-News-Embeddings arbeiten, die ihr mit dem Code in den nächsten beiden Zellen herunterladen könnt. Falls das nicht funktionieren sollte, findet ihr die vortrainierten Embeddings [hier](https://drive.google.com/file/d/0B7XkCwpI5KDYNlNUTTlSS21pQmM/edit?usp=sharing). "
   ]
  },
  {
   "cell_type": "code",
   "execution_count": null,
   "metadata": {
    "id": "WXAQA-n5FgsQ"
   },
   "outputs": [],
   "source": [
    "!pip install googledrivedownloader"
   ]
  },
  {
   "cell_type": "code",
   "execution_count": null,
   "metadata": {
    "id": "hO0e4QiDEeUm"
   },
   "outputs": [],
   "source": [
    "from google_drive_downloader import GoogleDriveDownloader as gdd\n",
    "\n",
    "gdd.download_file_from_google_drive(file_id='1Fl11N_cX1RfJmTHV1C-RGIsjWeIZjbTN',\n",
    "                                    dest_path='./download/GoogleNews-vectors-negative300.bin.gz',\n",
    "                                    unzip=False,\n",
    "                                    overwrite=True)"
   ]
  },
  {
   "cell_type": "markdown",
   "metadata": {
    "id": "RTpLcc8yYuB0"
   },
   "source": [
    "### 2.1 Word2Vec-Model laden\n",
    "Die Vektoren haben eine Länge vin 300.\n",
    "Zieht euch die Embeddings über den oben angegebenen Link und verwendet gensim, um sie anschließend zu laden.\n",
    "\n",
    "**Hinweis**: Es kann einen Moment dauern, bis das Dictionary, das von Wort auf Embedding abbildet, erzeugt ist. Im Zweifel ein ```limit``` angeben und nur die ersten 1,5 Mio. Embeddings laden."
   ]
  },
  {
   "cell_type": "code",
   "execution_count": null,
   "metadata": {
    "id": "uiXE550K0CfC"
   },
   "outputs": [],
   "source": [
    "!gunzip ./download/GoogleNews-vectors-negative300.bin.gz"
   ]
  },
  {
   "cell_type": "code",
   "execution_count": null,
   "metadata": {
    "id": "Em5AdDKlYuB2"
   },
   "outputs": [],
   "source": [
    "import gensim\n",
    "\n",
    "embeddings = # TODO"
   ]
  },
  {
   "cell_type": "markdown",
   "metadata": {
    "id": "wk7S_3n4YuB6"
   },
   "source": [
    "Aus Spaß an der Freude können wir nun schauen, wie gut unser trainiertes Modell ist bzw. ob es bestimmte von Menschen wahrgenommene Analogien bestätigt. \n",
    "\n",
    "Die Analogien sind [hier](https://github.com/nicholas-leonard/word2vec/blob/master/questions-words.txt) zu finden."
   ]
  },
  {
   "cell_type": "code",
   "execution_count": null,
   "metadata": {
    "id": "r89GRNDrYuB6"
   },
   "outputs": [],
   "source": [
    "from gensim.test.utils import datapath\n",
    "\n",
    "embeddings.evaluate_word_analogies(datapath(\"questions-words.txt\"), restrict_vocab=30000)"
   ]
  },
  {
   "cell_type": "markdown",
   "metadata": {
    "id": "HCI5ETPYYuB_"
   },
   "source": [
    "### 2.2 Spaß mit Semantik\n",
    "Im Folgenden wollen wir uns mit dem Mehrwert beschäftigen, den semantische Embeddings bieten. Für weitere Inspiration siehe zum Beispiel [hier](https://www.machinelearningplus.com/nlp/gensim-tutorial/) und die [Doku](https://radimrehurek.com/gensim/models/keyedvectors.html).\n",
    "\n",
    "Mit semantischen Vektoren lassen sich zum Beispiel folgende Fragen beantworten:\n"
   ]
  },
  {
   "cell_type": "code",
   "execution_count": null,
   "metadata": {
    "id": "1mgxhguPYuCA"
   },
   "outputs": [],
   "source": [
    "# Welche Stadt ist das New York Deutschlands? (Hinweis: 'New_York' ist als Token in den Embeddings enthalten)\n",
    "print('Das deutsche New York ist: {}\\n'.format(# TODO)))\n",
    "\n",
    "# Was ist Emacs besonders ähnlich?\n",
    "print('Ähnlichste Begriffe zu \"Emacs\": {}\\n'.format(# TODO))\n",
    "\n",
    "# Und wie sieht es mit Vim aus?\n",
    "print('Ähnlichste Begriffe zu \"Vim\": {}\\n'.format(# TODO))\n",
    "\n",
    "# Wer ist eigentlich der Mozart der Naturwissenschaft?\n",
    "print('Der Mozart der Naturwissenschaft ist: {}\\n'.format(# TODO))\n",
    "\n",
    "# Welches Wort verhält sich zu 'singing' wie 'burnt' zu 'burning'?\n",
    "print('burning:burnt wie singing:{}\\n'.format(# TODO))\n",
    "\n",
    "# Sind sich Deutschland und Frankreich ähnlicher oder Deutschland und Kanada?\n",
    "print('Ähnlichkeit DE, FR: {}'.format(# TODO))\n",
    "print('Ähnlichkeit DE, CAN: {}'.format(# TODO))"
   ]
  },
  {
   "cell_type": "markdown",
   "metadata": {
    "id": "l3g5ivIxYuCE"
   },
   "source": [
    "Bei der Interpretation der Ergebnisse ist jedoch Vorsicht geboten: Es werden zwar semantische Beziehungen abgebildet, aber die entsprechen möglicherweise nicht immer den Erwartungen.\n",
    "\n",
    "Wie ähnlich sind sich zum Beispiel \"Leben\" und \"Tod\", \"kalt\" und \"warm\", \"Norden\" und \"Süden\"?\n",
    "\n",
    "Sind die Ergebnisse wie erwartet? Warum (nicht)?"
   ]
  },
  {
   "cell_type": "code",
   "execution_count": null,
   "metadata": {
    "id": "DXgw0wIMYuCF"
   },
   "outputs": [],
   "source": [
    "# TODO: Ähnlichkeiten berechnen"
   ]
  },
  {
   "cell_type": "markdown",
   "metadata": {
    "id": "DPjd7_zJYuCJ"
   },
   "source": [
    "Die Embeddings sind nicht neutral, sondern spiegeln die Beziehungen wieder, die sich in den Trainingsdaten finden lassen."
   ]
  },
  {
   "cell_type": "code",
   "execution_count": null,
   "metadata": {
    "id": "LLI9StHLYuCK"
   },
   "outputs": [],
   "source": [
    "# Wird Wissenschaft von Frauen oder Männern gemacht?\n",
    "print('Wissenschaft wird gemacht von: {}'.format(# TODO))\n",
    "# Sind Mörder eher Schwarze, Weiße oder Asiaten?\n",
    "print('Mörder sind: {}'.format(# TODO))\n",
    "# Was bleibt vom Mann, wenn die Intelligenz abgezogen wird?\n",
    "print('Mann ohne Intelligenz: {}'.format(# TODO))"
   ]
  }
 ],
 "metadata": {
  "colab": {
   "collapsed_sections": [],
   "name": "05_1_text_representation.ipynb",
   "provenance": []
  },
  "kernelspec": {
   "display_name": "Python 3",
   "language": "python",
   "name": "python3"
  },
  "language_info": {
   "codemirror_mode": {
    "name": "ipython",
    "version": 3
   },
   "file_extension": ".py",
   "mimetype": "text/x-python",
   "name": "python",
   "nbconvert_exporter": "python",
   "pygments_lexer": "ipython3",
   "version": "3.6.9"
  }
 },
 "nbformat": 4,
 "nbformat_minor": 1
}
