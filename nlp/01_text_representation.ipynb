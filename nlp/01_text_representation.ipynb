{
 "cells": [
  {
   "cell_type": "markdown",
   "metadata": {
    "id": "Tin_rAmAzJvv"
   },
   "source": [
    "# Text Repräsentationen\n",
    "In diesem Teil des Labors wird es um eine Einfürung in Text Repräsentationen gehen. \n",
    "\n",
    "Wie Ihr vermutlich schon wisst, repräsentieren Computer Daten in Binärcode. Um Euch das Problem, das Computer mit Texten haben aufzuzeigen, hat euch der Computer eine Nachricht hinterlassen, die ihr Entschlüsseln müsst... "
   ]
  },
  {
   "cell_type": "code",
   "execution_count": 1,
   "metadata": {
    "colab": {
     "base_uri": "https://localhost:8080/"
    },
    "id": "C0JT2pfqdsgv",
    "outputId": "573fc8d3-bd1a-40ca-8c4d-5b4401301daa"
   },
   "outputs": [],
   "source": [
    "%config Completer.use_jedi = False"
   ]
  },
  {
   "cell_type": "code",
   "execution_count": 2,
   "metadata": {
    "id": "Na68UqOJx8Jx"
   },
   "outputs": [],
   "source": [
    "binary_message = \"01001001 00100000 01110011 01110000 01100101 01100001 01101011 00100000 01100010 01101001 01101110 01100001 01110010 01111001 00100000 01101111 01101110 01101100 01111001 00100001 00001010 01001001 00100000 01101100 01101001 01101011 01100101 00100000 01101110 01110101 01101101 01100010 01100101 01110010 01110011 00101100 00100000 01101110 01101111 01110100 00100000 01110100 01100101 01111000 01110100 00101110\""
   ]
  },
  {
   "cell_type": "code",
   "execution_count": 3,
   "metadata": {
    "colab": {
     "base_uri": "https://localhost:8080/"
    },
    "id": "I_qao4JA1D0F",
    "outputId": "9901c152-9b9a-45aa-9ab4-102c87a0b6db"
   },
   "outputs": [
    {
     "name": "stdout",
     "output_type": "stream",
     "text": [
      "I speak binary only!\n",
      "I like numbers, not text.\n"
     ]
    }
   ],
   "source": [
    "binary_chars = binary_message.split()\n",
    "message = \"\"\n",
    "for binary_char in binary_chars:\n",
    "    binary_char_integer = int(binary_char, 2)\n",
    "    character = chr(binary_char_integer)\n",
    "    message += character\n",
    "print(message)"
   ]
  },
  {
   "cell_type": "markdown",
   "metadata": {
    "id": "nMwRdW3J1WQv"
   },
   "source": [
    "Um Maschinen Text verständlich zu machen, müssen wir die Texte in eine andere Repräsentation bringen. Eine Kurze Einführung bieten die beiden folgenden Warm Up Aufgaben."
   ]
  },
  {
   "cell_type": "markdown",
   "metadata": {
    "id": "ioeYUuprcJOs"
   },
   "source": [
    "## Tokenization\n",
    "Eine der ersten elementaren Schritte, um eine natürliche Sprache mit einem Computer zu verarbeiten ist das Aufteilen eines Fließtextes in kleinere Teile. Meist werden Texte direkt in sogenannte Tokens geteilt (Tokenization). Ein Token ist oftmals ein einzelnes Wort, es kann aber auch aus mehreren Wörtern bestehen, wenn diese zusammen für eine Entität stehen, z.B. die Stadt „New York“. Neben der Aufteilung in Tokens ist es auch möglich, einen Text zuerst in Sätze zu splitten (Sentence Tokenization). Welche Kombination der Methoden angewendet wird, hängt von der Aufgabe ab. "
   ]
  },
  {
   "cell_type": "markdown",
   "metadata": {
    "id": "6HFy1A2zjkqL"
   },
   "source": [
    "### Warm Up 1: Tokenizer mit Regulären Ausdrücken\n",
    "\n",
    "Die erste kleine Aufgabe besteht darin mit einem regulären Ausdruck ein Wort-Tokenizer zu bauen. (Diese Aufgabe sollte nicht mehr als 5 min. dauern) Der Tokenizer muss auch nicht perfekt sein. \n",
    "\n",
    "> Eine kurze Auffrischung über Reguläre Ausdrücke findet sich in https://regexr.com/"
   ]
  },
  {
   "cell_type": "code",
   "execution_count": 4,
   "metadata": {
    "colab": {
     "base_uri": "https://localhost:8080/"
    },
    "id": "vsACjYAEcHJc",
    "outputId": "1168841a-1a7b-47bc-a672-96d413110d6a"
   },
   "outputs": [
    {
     "data": {
      "text/plain": "['Die', 'Ente', 'lacht', 'und', 'quakt', '']"
     },
     "execution_count": 4,
     "metadata": {},
     "output_type": "execute_result"
    }
   ],
   "source": [
    "import re\n",
    "text=\"Die Ente lacht und quakt.\"\n",
    "\n",
    "tokenizer_regex=re.compile(r'[\\W]')\n",
    "tokenizer_regex.split(text)"
   ]
  },
  {
   "cell_type": "markdown",
   "metadata": {
    "id": "mzaasIkDmK_r"
   },
   "source": [
    "Das Grundprinzip eines Tokenizers sollte euch nun klar sein. In der Praxis empfiehlt es sich allerdings, auf bestehende Tokenizer-Implementierungen zurückzugreifen.\n",
    "Im Python-Umfeld ist https://spacy.io/api/tokenizer oder https://www.nltk.org/api/nltk.tokenize.html sehr empfehlenswert."
   ]
  },
  {
   "cell_type": "markdown",
   "metadata": {
    "id": "hcOzQFueH9mC"
   },
   "source": [
    "# Encoding"
   ]
  },
  {
   "cell_type": "markdown",
   "metadata": {
    "id": "VqqIUO30B46n"
   },
   "source": [
    "Der nächste Schritt, um mit Texten Maschinelles Lernen zu betreiben, ist das Umwandeln der Wörter in eine numerissche Repräsentation. In der nächsten Warm-Up Aufgabe wird es darum um Bag of Words gehen."
   ]
  },
  {
   "cell_type": "markdown",
   "metadata": {
    "id": "4-4dQzbG921p"
   },
   "source": [
    "## Warm Up 2: Bag of Words mit scikit-learn\n",
    "Ein Ansatz um Texte bzw. Tokens als Zahlen zu represäntieren ist ein Bag of Words. Hier wird jeder Text als Vektor dargestellt (Länge: Länge des Vokabulars). Jeder Eintrag im Vektor steht für ein Wort im Vokabular.\n",
    "\n",
    "In der nächsten Aufgabe wollen wir mit dem vorgegebenen Textkorpus, den Satz **\"Die Ente singt und quakt.\"** in einen bag-of-words-encoded Vector umwandeln.\n",
    "Dazu bietet sich der `CountVectorizer` an (siehe [Dokumentation](https://scikit-learn.org/stable/modules/generated/sklearn.feature_extraction.text.CountVectorizer.html)).\n",
    "\n",
    "> Kleiner Tipp: Der `CountVectorizer` übernimmt diesmal die Tokenisierung."
   ]
  },
  {
   "cell_type": "code",
   "execution_count": 5,
   "metadata": {
    "colab": {
     "base_uri": "https://localhost:8080/"
    },
    "id": "ptA3RLihCfTj",
    "outputId": "4084854b-a82e-45cf-a666-dd2d5aa5785d"
   },
   "outputs": [
    {
     "name": "stdout",
     "output_type": "stream",
     "text": [
      "['die', 'ente', 'lacht', 'quakt', 'singt', 'tanzt', 'und']\n",
      "[[1 1 1 1 0 0 1]\n",
      " [1 1 0 0 1 1 1]]\n"
     ]
    }
   ],
   "source": [
    "from sklearn.feature_extraction.text import CountVectorizer\n",
    "corpus = [\"Die Ente lacht und quakt.\",\n",
    "          \"Die Ente singt und tanzt.\"]\n",
    "vectorizer = CountVectorizer()\n",
    "\n",
    "abc =vectorizer.fit_transform(corpus)\n",
    "print(vectorizer.get_feature_names())\n",
    "print(abc.toarray())\n",
    "#bag_of_words_encoded_sentence"
   ]
  },
  {
   "cell_type": "markdown",
   "metadata": {
    "id": "T_WWHn0N_4CT"
   },
   "source": [
    "Im  nächsten Schritt gebt die Länge der Satzrepräsentation aus. \n",
    "\n",
    "Wie verändert sich die Länge, wenn sich der Textkorpus vergrößert. Was sind die Vorteile und Nachteile von Bag of Words?"
   ]
  },
  {
   "cell_type": "code",
   "execution_count": 6,
   "metadata": {
    "colab": {
     "base_uri": "https://localhost:8080/"
    },
    "id": "44zUnF0P_zDZ",
    "outputId": "5c1f5703-a4ae-4bbb-c440-e6333f9f2903"
   },
   "outputs": [
    {
     "name": "stdout",
     "output_type": "stream",
     "text": [
      "7\n"
     ]
    }
   ],
   "source": [
    "size_of_sentence_encoded= abc.shape[1]\n",
    "print(size_of_sentence_encoded)"
   ]
  },
  {
   "cell_type": "markdown",
   "metadata": {
    "id": "_wg8phV5dsgz"
   },
   "source": [
    "Vorteil: Leicht zu verstehen \\\n",
    "Nachteil: Mit steigendem Vokabular steigt auch die Dimension des zugehörigen Vektors. Context und Semantik geht durch Sortierung verloren.\\\n",
    "( Es ist spät. vs. ist es spät?)\n"
   ]
  },
  {
   "cell_type": "markdown",
   "metadata": {
    "id": "dbCGNsjiYuAT"
   },
   "source": [
    "## Word Embeddings\n",
    "\n",
    "Natürliche Sprachen bieten uns mannigfaltige Möglichkeiten, dieselben Inhalte auf unterschiedliche Art und Weise auszudrücken. Wenn wir mit Texten arbeiten, reicht es daher in der Regel nicht aus, nur die Anzahl und das Vorkommen von bestimmten Wörtern in Texten zu betrachten, weil neben des bloßen Vorkommen eines Wortes auch dessen Anordnung und dessen Bedeutung eine Rolle spielt. Als zusätzliche und wichtige Ebene kommt hier also die Semantik ins Spiel.\n",
    "\n",
    "Die Abbildung von Wörtern auf Vektoren erlaubt es uns, mit diesen zu rechnen und zum Beispiel Distanzen oder Ähnlichkeiten zu bestimmen. Embeddings haben den Vorteil, dass sie eine Dimensionsreduktion mit sich bringen und semantische Embeddings sorgen darüber hinaus dafür, dass \"verwandte\" Wörter einen geringen Abstand voneinander haben.\n",
    "\n",
    "Wir wollen uns im Folgenden zunächst mit Word2Vec beschäftigen und eine einfache Version des CBOW-Ansatzes selbst implementieren.\n",
    "\n",
    "Danach schauen wir uns Gensim als Bibliothek für Word-Embedding-Modelle an und werfen einen Blick auf Evaluationsmethoden für Embeddings sowie die ihnen inhärenten Biase."
   ]
  },
  {
   "cell_type": "markdown",
   "metadata": {
    "id": "AMup_-zoYuAY"
   },
   "source": [
    "## Aufgabe 1: Word2Vec CBOW\n",
    "> You shall know a word by the company it keeps.\n",
    ">\n",
    "> -- <cite>J. R. Firth</cite>\n",
    "\n",
    "Auf dem oben zitierten Prinzip beruhen die beiden als Word2Vec bekannt gewordenen Modelle CBOW und Skip Gram, die 2013 von [Tomas Mikolov et al.](https://arxiv.org/abs/1301.3781) bei Google entwickelt wurden.\n",
    "Erstgenanntes Modell werden wir im Folgenden in einer einfachen Form selbst implementieren."
   ]
  },
  {
   "cell_type": "markdown",
   "metadata": {
    "id": "3xVNJ7AqYuAb"
   },
   "source": [
    "#### 1.1 Trainingsdaten\n",
    "Die Beschaffung und Aufbereitung von Trainingsdaten ist ein wichtiger Schritt in jeder NLP-Pipeline. Jetzt drücken wir uns mal davor und greifen auf einen Datensatz zu, den wir schonmal vorarb für Euch vorbereitet haben. Wir haben uns entschieden Alice im Wunderland [Gutenberg Project Alice im Wunderland](https://www.gutenberg.org/cache/epub/19778/pg19778.txt) zu nutzen um Word Embeddings zu trainieren. Der Datensatz beinhaltet die Sätze aus aus der Geschichte. \n",
    "\n",
    "Der vorverarbeitete Datensatz ist als pickle abgespeichert und findet sich in [hier](https://drive.google.com/file/d/1RfCivF-wHf33S7TMxjpT78923ADXreMi/view). Wir werden den googledrivedownloader nutzen, um die Datei zu laden. Ladet den Datensatz mit Pickle als Testdatensatz aus."
   ]
  },
  {
   "cell_type": "code",
   "execution_count": 7,
   "metadata": {
    "colab": {
     "base_uri": "https://localhost:8080/"
    },
    "id": "_fgETXxtJ-p8",
    "outputId": "7dd1be57-b14b-43d3-91eb-11cfd47d9254"
   },
   "outputs": [],
   "source": [
    "#from google_drive_downloader import GoogleDriveDownloader as gdd\n",
    "\n",
    "#gdd.download_file_from_google_drive(file_id='1RfCivF-wHf33S7TMxjpT78923ADXreMi',\n",
    "#                                    dest_path='./download/alice_sentences.pkl',\n",
    "#                                    unzip=False,\n",
    "#                                    overwrite=True)"
   ]
  },
  {
   "cell_type": "code",
   "execution_count": 8,
   "metadata": {
    "id": "Bmu1bOjcYuAf"
   },
   "outputs": [],
   "source": [
    "import pickle\n",
    "\n",
    "with open(r\"alice_sentences.pkl\", \"rb\") as input_file:\n",
    "    data_sample = pickle.load(input_file)"
   ]
  },
  {
   "cell_type": "code",
   "execution_count": 9,
   "metadata": {
    "colab": {
     "base_uri": "https://localhost:8080/"
    },
    "id": "dPZ7Jycqdsg1",
    "outputId": "88bc584e-05a9-4cf2-fa4d-34448c0c6064"
   },
   "outputs": [
    {
     "name": "stdout",
     "output_type": "stream",
     "text": [
      "{'Dinger', 'finde', 'Krallen', 'Coeur-Buben', 'rechten', 'Bade', 'disputirt', 'erklärten', 'hohe', 'erwartungsvoll', 'Springelehrer', 'Muster', 'Gerichtshof', 'entgegnete', 'welche', 'Bemerkungen?«', 'umherguckte', 'geformt', 'Denken', 'lieben', 'Faulpelz', 'goldenen', 'höflich', 'Geh', 'sollten', 'albern', 'Ausgange', 'daß', 'einfallen.«', 'Meinung', 'aufgestanden', 'langweilig', 'befolgte', 'Kissen', 'abzugeben', 'est', 'schluchzend', 'trat', 'zuweilen', 'erwartend', 'folgte', 'Weißfische', 'nie', 'Schlüssel', 'dem', 'wahrheitsliebendes', 'Sieh', 'Wort', 'unterhielt', 'ganze', 'unfehlbar', 'Merkwürdigste', 'Brennt', 'aufmachen', 'Rufe', 'zankten', 'Reisig', 'an.', '_seine', 'anfühlen', 'gedeckter', 'hervor', 'riefen', 'jedoch', 'langsamer', 'merkwürdiges', 'stehe', 'aufzählte', 'Weihnachten', 'klingt', 'schlecht', 'schlüpfen', 'selten', 'Ausruf', 'dahin', 'Mond', 'Hecke', 'Füße', 'außer', 'damit', 'tödten', 'halb', 'hätten', 'bestand.', 'gelegt', 'Zebräisch', 'zusammen', 'Tafelstein', 'Form', 'Meerschweinchens', 'Wesen', 'reizendsten', 'Schade?«', 'gab', 'sicherlich', 'gefolgt', 'älteste', 'heraus', 'vortreffliche', 'Eisenbahn', 'oder', 'zweiter', 'beklagten', 'Antworten', 'würdest', 'leben', 'Elftes', 'Handschrift', 'Australien?«', 'bestraft', 'hungrig', 'unterbrochen', 'nahen', 'Geduld', 'ängstlichen', 'gesprungen', 'Lagen', 'habe', 'jagen', 'Engelland', 'Tage', 'lockig', 'kosten', 'getrocknet', 'Semmel', 'zusammengezogen', 'Verzeihung', 'sie.«', 'Titelbild', 'gönnt', 'interessante', 'Fenster', 'zurückgehen', 'Meinst', 'trink', 'selber', 'Am', 'chatte?=«', 'würde', 'rothen', 'eimerweise', 'Jemand', 'nützlich', 'will', 'nachsann', 'zwar', 'steif', 'jedenfalls', 'jemehr', 'leiser', 'brüllte', 'zeigte', 'anzuklopfen', 'Ausdruck', 'durchgemacht', 'hängt', 'Schwanze', 'paßt', 'gegangen', 'Schnüren', 'Croquet-Felde', 'herabträufelte', 'fürchtete', 'Thier', 'zornig', '_Alice', 'Wichtiges', 'Treppe', 'erholt', 'kau', 'aushalten', 'Lachse', 'französische', 'Zeck', 'Zugestanden', 'Knochen', 'soll', 'K.', 'superfeine', 'ihrigen', 'Benehmen', 'spitzes', 'jung', 'dicht', 'frage', 'Anklage', 'Henker', 'führte', 'abwärts?«', 'begegnen', 'Stoß', 'sprechend', 'Wicht', 'schönste', 'gerichtet', 'Kuchen?«', 'verabscheut', 'schenken.«', 'wisperte', 'kein', 'ehrlicher', 'Knoten', 'wohl', 'wirklichen', 'besten', 'Herrlich', 'Neuntes', 'Versuch', 'umher', 'Tag.«', 'wünschen', 'schönen', 'kräftigen', 'mögen.«', 'Boden', 'Jahren', 'abgeben', 'Eisen', '_der', 'Pfeil', 'Datum', 'etwas?«', 'verdamme', 'Gesicht', 'unterfaßte', 'ihrem', 'fingen', 'Singe', 'feierlichem', 'zwölf', 'Lampen', 'kommandirt', 'hersagen', 'anstellen', 'viel', 'Ente', 'vertraulich', 'ungeduldig', 'willst', 'Karre', 'glänzendes', 'untersucht', 'nun', 'Preisend', 'unglücklich', 'verwechselt', 'geradezu', 'Rennen', 'Schlüsselchen', 'erkälten', 'losmachen', '_was_', 'Buch', 'auch', 'Verwandlungen', 'Sei', 'Anschuldigung', 'weinte', 'berühren', 'Schildkröte.«', 'dorthin', 'gutmüthig', 'spät', 'gedrungen', 'Sonne', 'Seit', 'gemüthlich', 'einschlief', 'Sachen', 'Schild', 'Macht', 'allerfeinste', 'krausem', 'umgeworfen', 'glatt', 'Was', 'geschrieben', 'wäre', 'sonst', 'wozu', 'will.«', 'müde', 'grüne', 'kümmert', 'paßte', 'Stand', 'Witz', 'zweitens', 'beleidigen', 'Unfalles', 'sah', 'findet', 'großen', 'trocknen', 'grade', 'finde«', 'extra.«', 'abgespült', 'Ich', 'gerecht', 'laß', 'zurückgekommen', 'aufwickeln', 'klang', 'sagt', 'durchaus', 'mach', 'euch', 'du', 'behalten', 'hinwirft', 'redeten', 'hatten', 'leuchtete', 'niederlassend', 'unterschrieben', 'behauptete', 'besonders', 'unruhig', 'Entzücken', 'Festzügen', 'verschämt', 'Neuem', 'Ist', 'Augenblicke', 'Baum', 'dann', 'wöchentlich', 'Gange', 'Reitersmännern', 'geräumt', 'kleine', 'noch', 'Sorgen', 'auszustrecken', 'heulte', 'Antwort?«', 'Muth.«', 'Senf', 'Dumme', 'eins.«', 'Mann', 'Croquet', 'Clara', 'wunderschön', 'ermuthigender', 'machst', 'confus', 'darin', 'Tante?«', 'herein', 'daraus', 'tragisch.«', 'Edwin', 'Wörter', 'auszuprobiren', 'verbrannt', 'Schweigen', 'mehre', 'anwendet.«', '_Die_', 'weiterer', 'Knie', 'verstimmt', \"'\", 'beben', 'aussehen', 'spart', 'Kenntnisse', 'durchkriechen', 'Gäste', 'fand', 'gelangt', 'zuzuhören', 'Eh', 'spät.«', 'Hirtenknaben', 'verdreht', 'Salbe', 'fünf', 'Eidechse', 'Luftsprunge', 'Wässerte', 'Dachspitze', 'höchst', 'unverwandt', 'durchzulesen', 'überzeugt', 'stelle', 'Herren', 'grausam', 'abtreten', 'leisen', 'Schillern', 'Wasser', '_nicht', 'freue', 'paarweis', 'Versammlung', 'Bretter', 'alle', 'heftigsten', 'beizustimmen', 'Auge', 'Maus', 'kehrte', 'kroch', 'Anblick', 'vorher', 'langschwänzig', 'nah', 'Herzenskönigin_', 'strich', 'Urtheil', 'gänzlich', 'wunderschöne', 'Theegesellschaft', 'vorhielt.', 'sch', 'Honigseim', 'großes', 'welches', 'mich_«', 'winzig', 'starrte', 'gepuderte', 'hübsche', 's_', 'festzuhalten', 'Anzahl', 'Thränen', 'Salzwasser', 'ebenfalls', 'Munde', 'müßten', 'bedeckten', 'Flasche', 'Freude', 'Füßchen', 'heute?«', 'habt.«', 'gemacht', 'Pilze', 'schwierig', 'klagendem', 'wimmeln', 'gestohlen', 'Raben', 'gemeine', 'unterbrechen', 'beruhigt', 'Schatten', 'Sage', 'abwärts', 'gesprochen', 'gewohnt', 'verschiedene', 'Als', 'messen', 'Renne', 'verbergend', 'erheben', 'Erklärungen', 'Gedicht', 'aufgebracht', 'Tanz?«', 'Werk', 'Verse', 'Name', 'vertheidigte', 'eingeladen', 'zusammengedrängt', 'Stirnrunzeln', 'rannte', 'zeigen', 'übrig', 'selbstzufriedenem', 'vergessend', 'Stehlen.«', 'blühender', 'Meile', 'gewinnen', 'reizend', 'Rechnung', 'welke', 'warum', 'seid', 'anständigen', 'Stange', 'zeichneten', 'sagen.«', 'an.«', 'sprach', 'Ach', 'Frosch-Lackei', 'einführen', 'Butterbrot', 'Woher', 'Gewitter', 'Schnecke', 'fortzuführen', 'herunterhingen', 'Glück', 'angeschrieben.«', 'gingen', 'Gipfel', 'verwickelte', 'Miene', 'hineinsteigen', 'Erklärung', 'zusammenstecken', '_ist_', 'erstens', 'Verhörs', 'geführt', 'Nichts', 'Vers.«', 'erzählte', 'streckte', 'Zweige', 'Felsenriffe', 'Butter', 'meinen', 'Pfanne', 'Laßt', 'würde.«', 'Croquet-Sachen', 'schaukelte', 'bescheiden', 'Mittel', 'brachte', 'Ordnung', 'Zeugen', 'eure', 'jeher', 'Verwandlung', 'steigen', 'm', 'schwindlig.«', 'Kind', 'Ei', 'Bespritze', 'räthselhaft', 'Mundwinkel', 'halben', '_Trink', 'kopfunten', 'ersten', 'Trockenste', 'außergewöhnliche', 'trafen', 'Viel', 'sitzen', 'fliegt', 'bleiben', 'überall', 'Hauptschwierigkeit', 'gerunzelter', 'ganzer', 'schlagt', 'sollt', 'bedeuten', 'spielte', 'Einem', 'London', 'Notiz', 'Ananas', 'Schriftstück', 'uppe', 'Ferkel-Kind', 'wichtig«', 'gelehrt', 'Leinwandsack', 'aß', 'heftigen', 'immerfort', 'Lehre', 'Freunde', 'Grinse-Kater', 'kennst', 'Daß', 'Furcht', 'Schrank', 'erzählt', 'gekannt', 'jüngst', 'Breitegrad', 'antworteten', 'galt', 'derselben', 'liebevoll', 'köstlicher', 'stützen', 'schicken', 'Tod', 'Uebrigens', 'Wo', 'es.«', 'auszubrüten', 'Eine', 'nachsehen', 'Vertraut', 'Mies', 'Nähe', 'da', 'Pfoten', 'bücken', 'Terrin', 'all', 'Abend', 'Die', 'Butterblume', 'wurde', 'einzuwickeln', 'Thee?«', 'M.', 'entweder', 'drängten', 'andres', 'addirten', 'gänzlichem', 'Bilder', 'Grunde', 'anfangen', 'Hände', 'Thu', 'Zurück', 'fielen', 'der', 'wußte', 'enthalten', 'Zehntes', 'schläfst', 'Tagen', 'erlauben', 'anzusehen', 'rieb', 'voller', 'Und', 'schneller', 'gekommen.«', 'Grinse-Mies', '_wird_', 'gerade', 'beißen', 'hinein', 'schlimmer', 'alt', 'abschickte', 'Gefallen', 'gehest.«', 'Gefängnis', 'seine', 'ausstehen', 'dennoch', 'Beide', 'vorzüglich', 'gerannt', 'erklärt', 'verstehe', 'Einzelne', 'Stirn', 'dein.«', 'Klau', 'Mamagei', 'seufzen', 'ich.«', 'Ausspruch', 'Sänger', 'nimmt', 'könnten', 'Sprich', 'Worauf', 'Fort', 'Jedoch', 'dazwischen', 'verstehen', 'persönlichen', 'schlief', 'Drittes', 'Schlägt', 'rauschen', 'Anfall', 'Verachtung', 'Dinge', 'übrigen', 'Heulen', 'tanzen', 'fragte', 'aus', 'mußt', 'Wogen', 'Glasscherben', 'Still', 'begreife', 'Geschichte.«', 'wirst', 'Schiebe', 'Traum', 'geringem', 'verdutzten', 'hohler', 'zugethan', 'anderer', 'Dosen-Stehauf', 'gehen', 'gewendet', 'Beweise', 'stehn', 'braunen', 'Rosenstrauch', 'Wie', 'unterwerfen.«', 'fahre', 'ausgeführt', 'hineingestellt', 'offnem', 'Augenbraunen', 'notirten', 'saß', ';', 'grinst?«', 'Perücke', '_Alice_', 'Thränenpfuhl', 'Concert', 'dunkel', 'dich', 'schwatzen', 'Zehen', 'überhaupt', 'einschrumpfen', 'Gedanken', 'beobachtet', 'Fläschchen', 'Schwierigkeit', 'Mitt', 'Stellung', 'dicker', 'Kö', 'ernstes', 'unmöglich', 'eine', 'endigen', 'ab', 'Anführer', 'gehen.«', 'Cheshire-Kater', 'Nummer', 'Naute', 'rathe', 'fuhr', 'Schoß', 'Pilz', 'Noth', 'Fracht', 'See', 'gewartet', 'behagte', 'verschwinden', 'einigem', 'undeutlicher', 'Schalthier?«', 'kleinlaut', 'Häuschen', 'Schwester', 'interessant', 'Kind?«', 'Usurpation', 'allererst', 'Erstens', '&c.', 'aßt', 'Essig', 'schnell.«', 'dort', 'Zauberfläschchen', 'verworrenste', 'hätt', 'verschwand', 'denn?«', 'vorwärts', 'Gründe', 'sodaß', '_Mal_', 'Unverschämtheit', 'vorbei', 'geblieben', 'hübscher', 'Platze', 'weder', 'nachgerade', 'hinterließ', 'hervorstehenden', 'beehren', 'Gehen', 'bilden', 'sterben.«', 'Unke', 'nickte', 'gezählt', 'Leichtigkeit', 'fast', 'Räthsel', 'Bemerkung', 'stellt', 'sein?«', 'Stöße', 'Töne', 'entrüstet', 'schlägt', 'bewahren', 'hinsah', 'gehn', 'gefiel', 'unhöflich', 'brach', 'bedeckt', 'aufrecht', 'gelange', 'ging', 'Greif', 'falle', 'Axt?«', 'ausgetrunken', 'beruhigte', 'Herde', 'bösen', 'hauptsächlich', 'Tassen', 'erschreckten', 'steckte', 'kaum', 'Sich', 'sehe', 'hineingelaufen', 'Kinnbacken', 'Zottelbär', 'Laß', 'beschreiben', 'Flamme', 'werfen', 'wich', 'Mitte', 'Jnaden', 'ausgraben', 'machten', 'sollst', 'trinken.«', 'Ihr', 'Nilpferd', 'Thiere', 'großem', 'nenne', 'mein', 'Zuckerplätzchen', 'bringen', 'Wilhelm', 'Ufer', 'erfahr', 'Wenn', 'angedeuteten', 'versehen', 'hervorzuziehen', 'Schnäuzchen', 'Tafel', 'Schlägel', 'fortnahm', 'Sammetkissen', 'vollkommen', 'Wein', 'besann', 'hielte', 'Messingschild', 'Köpfe', 'mitfreuen', 'wichtig', 'baten', 'Maßstabe', 'lachen', 'einzelnen', 'Leiter', 'soll.«', 'Schuld', 'kratzen', 'Dreier', 'Schulbuch', 'Zeug', 'Mädchen', 'Kopf', 'Mäusefänger', '_Kaninchen_«', 'Brunnen', 'knurre', 'demüthig', 'Fliegen', 'Kommt', 'beschloß', 'Einrichtung', 'still', 'Fangt', 'entfallen', 'Gerichtshofes', 'Schluchzens', 'verquerer', 'verzehrt', 'Berathung', 'Sag', 'gaben', 'keiner', 'oft', 'Wachtelhund', 'wahrlich', 'junger', 'vollständig', 'kriege«', 'Verwahrsam', 'wechselt', 'schweres', 'unsicher', 'heut', 'Jurist', 'Katzen?«', 'anhalten', 'Vers', 'plump', 'Federn', 'anfinge', 'zurück', 'Werth', 'besah', 'zurückholen', 'näher', 'Adresse', 'wichtigste', 'kurze', 'ginge', 'Edgar', 'Thatsache', 'schüchterner', 'herauf', 'sauertöpfisch', '_das_', 'verstand', 'führend', 'solltet', 'leeren.«', 'aufzugeben', 'Veränderung', 'Richter', 'Umständen', 'Märchen', 'Furche', 'beweisen', 'los', 'erste', 'Syrup', 'Wofür?«', 'Zuletzt', 'glänzenden', 'Fragen', 'ungebeten', 'Folgendes', 'Griffel', '*', 'Schlangen', 'vertreiben.«', '_schalt', 'Kniffen', 'sprich', 'ausgedacht.«', 'Geschichten', 'hinauf', 'nich', 'Stöhnen', 'Hirn', 'durchlas', 'uns', 'vollbracht', 'hereinkommen', 'Deinen', 'oben', 'solchem', 'anders', 'setzte', 'n.«', 'Himmel', 'angebunden', 'gearbeitet', 'bin.«', 'blies', 'paar', 'denen', 'Hier', 'hätte', 'Gemisch', 'Willst', '_welche_', 'gebückt', 'umständlich', 'wollte', 'Brille', 'Ellbogen', 'angezogen', 'Schade', 'Haltet', 'allerdings', 'niest', 'vernünftigem', 'Würdest', 'eingeschlafen', 'klaren', 'Pfui', 'Augen', 'rührte', 'Annahme', 'Leibe', 'leiseste', 'las', 'Gesichter', 'nett', 'förmlich', 'Erzbischof?«', 'malen', 'gedeckt.«', 'lebten', 'Sollst', 'mich', 'Rückseite', 'Reiben', 'März', 'Händen', 'aufgeschrieben', 'demselben', 'darf', 'auffuhr', 'Andern', 'wette', 'dein', 'geschwind', 'ausgeblasen', 'kürzlich', 'Fläschchens', 'Nähe?«', 'bin?«', 'ausgedrückt', 'magst', 'angenehm', 'bequem', 'Schwimmt', 'Spaten', 'Tasche?«', 'Brunnen?«', 'aufzunehmen', 'seit', 'Juchheisasah', 'ziemlich', 'Schöne', 'in', 'wohin', 'Schmerz', 'vorbeikam', 'Reitersmann?«', 'Mercia', 'nanntet', 'Steh', 'aber', 'war.«', 'kostete', 'geschmeidig', 'verächtlich', 'Sahnensauce', 'hinunterzusehen', 'erblicken', 'euer', 'scheint', 'läugnen', 'mochte', 'Vorstellung', 'Spiel', 'Hummers', 'diese', 'Blättermeer', 'deren', 'Worte', 'trotzdem', 'mit', 'diesem', 'fehle', 'könnten?«', 'herauskommt.«', 'impertinent', 'Eifer', 'zeichnen?«', 'heiser', 'wache', 'Lande', 'brennt', 'enthält', 'sauberes', 'achthundert', 'obgleich', 'rother', 'Fahr', 'Adler', 'recht.', 'Schalthier', 'Liebes', 'gefallen', 'Gut', 'bestand', 'Kette', 'Spatzen', 'stöhnte', 'Personen', 'Wuth', 'herumgewandert', 'aufhöre', 'schneit', 'fällt', 'dreister', 'armseliger', 'Schwanzspitze', 'nämlich', 'Hinrichtung', 'Liedes', 'Bellen', 'warteten', 'esse«', 'plötzlich', 'wartete', 'Kunststücke', 'Papste', 'aufpassen', 'Spielsachen', 'schütteln', 'Fand', 'Rackete', 'fest', 'entstand', 'lauf', 'Spaß', 'fegen', 'dünn', 'abschneiden', 'beobachten', 'Aepfel', 'adressirt', 'trocken', 'bemerkt', 'vergeblicher', 'Ostern', 'ne', 'Mahlzeit', 'gemäßigt', 'gefälligst', 'wiederholen', 'Strümpfen.«', 'weich', 'Ganzen', 'werden', 'wurden', 'Preis', 'Dach', 'konnten', 'gekommen', 'geschehe', 'setzt', 'herrlich', 'Nicht', 'goldenes', 'piepte', 'ehrfurchtsvollem', 'einfallen', 'Griff', 'Unwichtig', 'eigenen', 'Katze', 'sinken', 'Wohnung', 'schwachen', 'allgemeines', 'Recht', 'Redens', 'Herzogin', 'wieder', 'herüber', 'gebildet', 'Balancirt', 'Spielern', 'Klasse?«', 'seitdem', 'Den', 'neuer', 'ihre', 'Treu', 'Sand', 'Erlebnisse', 'gehorchte', 'niemals', 'Geschenk', 'frißt', 'wüßten', 'schluckte', 'wissen', 'kreischender', 'Tisches', 'Ja', 'wärest', 'trug', 'sagen.', 'Gericht', 'Breitegrade', 'bekommt', 'vortrefflicher', 'Schemel', 'Theil', 'scharf', 'Empfindung', 'Acht', 'seien', 'Richtig', 'lassen?«', 'hattet', 'Einer', 'gebe', 'überklug', 'Bekanntschaft', 'Frau', 'glitt', 'kannst?«', 'goldne', 'flach', 'eiliger', 'mir', 'Erstes', 'hineingesprungen', 'einfach', 'Küche', 'solcher', 'vierten.«', 'leider', 'Tanze', 'hielten', 'Versprechen', 'nöthig', 'erhob', 'Bißchen', 'bezeichnete', 'belebte', 'Pfannen', 'Gärtner', 'jetzt', 'Putenbraten', 'erschrockene', 'liebsten', 'Milchtopf', 'Dein', 'befangen', 'Traume', 'Luft', 'jener', 'hochstämmiger', 'fügte', 'kopfüber', 'Zwei', 'aufbellte', 'Zuhören', 'erwähnt', 'seltsame', 'Schlange', 'weichen', '_dein_', 'ungewohnt', 'wau', 'verschieden.«', 'Zweifel', 'Enthauptungen', 'Lippen', 'hole', 'alltäglichen', 'Tone', 'nöthigte', 'liebes', 'Bienennest', 'abschüttelte', 'Mäuseloch', 'Stille', 'aufgeregter', 'hergesagt', 'eben', 'Igel', 'festhalten', 'man', 'Geschwornen', 'kopfunten.«', 'Drei', 'ohne', 'übereilen', 'feierlicher', 'Empfang', 'beachteten', 'fortwährendes', 'Zeuge', 'dümmste', 'Abziehen', 'nahe', 'drauf', 'Hinunter', 'begleitet', 'klaräugiger', 'Bruders', 'vielfachen', 'Wäre', 'Glas', 'Alice', 'einigen', 'altkluge', 'lachte', 'König', '_alle_', 'Sogar', 'Schlangen.«', 'war', 'über', 'einfiel', 'Hunde', 'Händchen', 'Bogen', 'ausschlagen', 'aufzuthun', 'Vögel', 'Herumschwimmen', 'sehnte', 'etwa', 'Winter-Nachmittag', 'wunderhübschen', 'hilft', 'Mittheilung', 'Brodmesser', 'Gewichte', 'es?«', 'Meeres', 'rücken?«', 'Pinsel.«', 'Schlafe', 'entschließen', 'drängen', '_Fußteppich', 'Grunze', 'Auflösung', 'Antwort', 'fiele', 'schien', 'Male', 'genähret', 'Mitteln', 'Könntet', 'Angelegenheit?«', 'spinnt', 'Schrei', 'Bewegung', 'Mäuschen', 'umstieß', 'Beweisstück', 'ausdenken', 'apportirt', 'ziehen', '_mit', 'geschehen', 'wobei', 'wachsen', 'Namen', 'Pfropfen', 'Kein', '_können_.«', 'Preisen', 'herum', 'erwiedern', 'Mama', 'setzten', 'Hast', 'wild', 'Fortgehen', 'nachgedacht', 'grünst', 'erfährt', 'durcheinander', 'andere', 'geköpft', 'Schule', 'gefühlt', 'blutet', 'Verwickelt', 'Fall', 'abnahm', 'warten', 'Glas_', 'wachse.«', 'Liste', 'zertreten', 'geworden.«', 'königlichen', '_abwarten_', 'verschnitten', 'betrogen', 'Normannen', 'gescheidter', 'Töpfchen', 'Furchen', 'gewarnt', 'schenken', 'anfing', 'Grund', 'fallen', 'grub', 'geschäftigen', 'gedankenvoll', 'vorsingt?«', 'überlegte', 'stolperten', 'außerdem', 'herum?«', 'entscheiden', 'wehr', 'Variationen', 'wunderbar', 'Keinen', 'Goldne', 'hält', 'erinnern', 'Versehen', '_mehr_', 'am', 'entschuldigte', 'Streit', 'Unsere', 'Tage.«', 'Welt', 'höchste', 'sagten', 'Höchste', 'fortspazierten', 'glücklich', 'müsse', 'Ketten', 'Hatte', 'wüßte', 'solltest', 'Ersticke', 'behalten?«', 'Haufen', 'niedliche', 'müßt', 'morgen', 'Heerdenglocken', 'sank', 'vertheilte', 'Sohn', 'Rüstung', 'wichtiger', 'freilich', 'M', 'Bücher', 'triefenden', 'vorstellen', 'schlage', '_Chor_', 'Kindes', 'Hofe', 'bewachen', 'anblickte', 'Canarienvogel', 'sitzenden', 'Solch', 'kommt', 'sollen', 'Glase', 'augenscheinlich', 'Locomotive', 'Paar', 'verurtheilt', 'erklären', 'darunter.«', 'That', 'Wir', 'Lehnt', 'gereizt', 'voll', 'Schnabel', 'nieste', 'wirft', 'Schritte', 'Pat', 'gabt', 'ganzes', 'Klappern', 'müssen', '_', 'Qualität', 'Wirklich', 'entsetzlich', 'ruhiger', 'kurios', 'Frist', 'geriebene', 'Gesanges', 'rauchte', 'Wickelkinde', 'regelmäßig', 'Kinder', 'sieben', 'Funfzehnten', 'scheinen', 'nur', 'Gesellschaft', 'handhaben', 'Ruf', 'leiden', 'wenigstens', 'aufging', 'fange', '_habe_', 'fortrannte', 'Lockenperücken', 'M?«', 'denselben', 'streitigen', 'schlucken', 'Eingang', 'hingegen', 'Soll', 'blöde', 'Kamin', 'drei', 'gütigst', 'entzweit', 'Richtung', 'drüben', 'werde', 'kommst', 'Zahlen', 'wo.«', 'umhersprang', 'Winde', 'unnütz', 'Sch', 'erscheint', 'Rohres', 'erwachsen', 'Leben', 'gefunden', 'getrunken', 'unsere', 'klopfen', 'urtheilen', 'Meerschwein', 'geworfen', 'Stimmen', 'hinsetzte', 'Wink', 'giebst', 'Dies', 'zwanzigsten', 'komische', 'Büchern', 'niemals«', 'Anweisungen', 'weißt', 'Magst', 'schlau', 'Größe', 'Stücke', 'macht', 'Gesichte', 'verbeugten', 'wolltest', '_Außenseite_', 'unterstand', 'deines', 'Entrüstung', 'vermuthe', 'Herold', 'funfzig', 'haben', 'bemüht', 'Anhang', 'Erzählen', 'Während', 'spielt', 'lustig', 'Concerte', 'tollen', 'Schildkröten', 'Position', 'köpfen', 'fühlen', 'entfaltete', 'buk', 'Bett', 'Sturm', 'kann?«', 'schrien', 'Blätter', 'Schuhe', 'dergleichen', 'pflücken', 'Marianne', 'stillschweigend', 'hörte', 'Huhka', 'todtenstill', 'darüber', 'aufzuwaschen.«', 'zuletzt', 'zusammenschieben', 'gesprochne', 'ausgestreckt', 'erblickte', 'erzähle', 'nützt', 'gesellt', 'Northumbria', 'flog', 'im', 'spielen', 'wiederholte', 'zusammengefaltet', 'Kasserole', 'übte', 'Auseinandersetzung', 'purpurroth', 'alter', '_bitte_', 'liebkosendem', 'commandiren', 'wahrnahm', 'Pergamentrolle', 'glaubte', 'bekannt', 'Schadet', 'Denn', 'Sommertage', 'gemacht?«', 'Uebrigen', 'Blick', 'ihrer', 'fünften', 'versuchte', 'schrieb', 'Kinde', 'Besonders', 'Freie', 'Kehle', 'Länge-', 'Plötzlich', 'Wahrhaftig', 'schämen', 'Bäumen', 'angekommen', 'Elster', 'thaten', 'zurückging', 'grimme', 'Thieres', 'warf', 'verwandelt', 'mitten', 'Gerade', 'Stimme', 'rund', 'Ohr', 'bewegte', 'was?«', 'herzusagen', 'sprechen', 'per', 'schneidet', 'Bemerkungen', 'gedrückt', 'gesucht', 'herausguckte', 'dabei.«', 'merkwürdigen', 'nennen', 'gehört', 'saßen', 'trifft', 'Herzogin?«', 'prachtvoll', 'Schön', 'überlegen', 'zur', 'könnte', 'erreichen', 'Gerichtsdienern', 'zuckersüß', '_Trinke', '_einer_', 'gäbe', 'Gestohlen', 'Gartenthür', 'vom', 'kleines', 'versammelte', 'königliche', 'größte', 'Hjckrrh', 'legte', 'Rath', 'Frosch', 'Brief', 'wahrhaftig', 'gewesen', 'Ganz', 'herunterwinden', 'Wann', 'Vermuthlich', 'grinste', 'Zeugen.«', 'Zweites', 'Kopfe', 'dadurch', 'Unsinn', 'Ferkel', 'angefangen?«', 'sitzt', 'beschäftigt', 'Corridor', 'aufsagen', 'erstickter', 'wird', 'Platz', 'Freuden', 'verderben', 'bekommen', 'eifrig', 'Hausmädchen', 'Livree', 'wenig', 'Brüllen', 'allerlei', 'sie?«', 'Immer', 'auszuspielen.«', 'schwach', 'Hund', 'Gerstenzucker', 'stolpere', 'sparsam', 'geöffnet', 'Nachtluft', 'eingekehret', 'goldene', 'Lächeln', 'fürchten', 'bitten', 'Napf', 'lieb', 'Wozu', 'gegen', 'versammeln', 'manche', 'abläugnen', 'benutzte', '_Was_', '?', 'Entschiedenheit', 'nachging', 'bist?«', 'Sprachen', 'geschlossenen', '_Dinah', 'andre', 'adressirt?«', 'Tropf', 'angeknüpft', 'Zug', 'außerordentlichen', 'flüstern', 'geh', 'unwillig', 'fortkroch', 'Jahr', 'Spielen.«', 'gewöhnt', 'ruhiges', 'Pfund', 'grabe', 'mer', 'kniffen', 'Hummerballet', 'Pfuhl', 'Beifall', 'Muth', 'Reihe', 'retten', 'Spatzen?«', 'Papagei', 'Bub', 'Wahrheit', 'paarweise', 'lautes', 'Verkauf', 'demnach', 'augenblicklich', 'abzuwehren', 'Der', '--', 'stimme', 'dumm', 'drum', 'Vierzehnten', 'rechter', 'Amtes.«', 'Minuten', 'wäre.«', 'fragen', 'darum', 'fragen.«', 'jene', 'Blicke', 'aufgraben', 'bat', 'durchsuchte', 'Besseres', 'anliegendem', 'hatte', '9', 'p', 'anziehen', 'irgendwo', 'Geschöpfen', 'Mäusefangen', 'übernehmen', 'folgenden', 'bedeutet', 'solch', 'lies', 'Kater', 'möchte', 'Nase', 'verdientest', 'suchte', 'inne', 'Aussage', 'Seele', 'ich?«', 'commandiren.«', 'faßte', 'singe', 'möchtet', 'dessen', 'solle', 'thäte', 'Freilich', 'wär', 'wirklich', 'versuchten', 'Wunderbar', 'kann', 'klangen', 'ihnen', 'Nach', 'genug', 'Etwas', 'zeigt', 'todt', 'verurtheilen', 'zugeben', 'außerdem?«', 'Wau', '_bin_', 'aus.', 'schicke', 'Kommen', 'bloße', 'Tillie', 'losen', 'Pulte', 'Ueber', 'weißer', 'Jedermann', 'aussehen?«', 'Murmelthier', 'Aussicht', 'gegeben', 'hölzernen', 'lasse', 'Erhöhungen', 'Dame', 'Besorgungen', 'Wirklichkeit', 'Nöthigste', 'Uhr', 'Meilen', 'Zwölftes', 'ruhig', 'Geographie', 'hilf', 'beginnt.«', 'wen', 'meine', 'Hand', 'Auf', 'reichten', 'tunkte', 'Fußboden', 'gereiztem', '\"', 'Brunnens', 'Glacee-Handschuhen', 'traben', 'wenden', 'Hauptstadt', 'Viertes', 'Gerichtshofe', 'sein', 'worden', 'Lehrerin', 'träumen', 'Kaufmann', 'Ueberraschung', 'ungerechtere', 'Tasse', 'verließ', 'Nachdrucke', 'Angst', 'schöner', 'Das', 'einzubilden.«', 'Baumwurzeln', 'vertage', 'Beinchen', 'Uebrige', 'entgegen', 'ganzen', 'eigenes', 'wundern', 'winziger', 'Rabe', 'Goldfischen', 'geschmückt', 'geben.«', 'recht', 'Gedichte', 'krank', 'stampfte', 'milde', '_übler_', '_Chor._', 'muß', 'lächelte', 'dieser', 'frei', 'bewaffnet', 'rauchen', 'keine', 'Kummer', 'anfängt.«', 'Pult', 'vorbeirannte', 'einexercirt', 'Schulter', 'Geschenke', 'keinen', 'angesehen', 'woher', 'Mensch', 'Wieder', 'Einfall', 'trinken', 'Purzelbaum', 'beinah', 'zerbrochen', 'Sitte', 'kurzen', 'Englisch', 'Preise', 'gegeben.', 'Torten', 'Ob', 'Stunden', 'nicht.«', 'Gebt', 'nachgeahmt', 'Köchin', 'liegen', 'fröhlichem', 'gebunden', 'letzten', 'verwickelten', 'Wollte', 'freut', 'gähnend', '_treffen_', 'eine.«', '_weiß_', 'Abscheulich', 'häßlich', 'bemerkte', 'zuvor', ']', 'versteht', 'gewandt', 'Lied', 'Im', 'wenige', 'angeordnet', 'langes', 'Denkt', 'vorbeiging', 'tiefe', 'Jetzt', 'Gestern', 'Teich', 'vorhin', 'lagen', 'H.', 'gehe', 'Reisen', 'Absichten', 'holte', 'vermuthlich', 'winziges', 'wunderlich', 'niesen', 'wüthend', 'Geschworne', 'sträubte', 'zurückreisen', '_«', 'immer', 'Hutmacher', 'haben?«', 'Gebrauch', 'ansah', 'gesehen?«', 'Haus', 'Halt', 'genommen', 'Geschworner', 'Greifisch', 'Schafft', 'Schmetterling', 'Tatze', 'empfindlich', 'gern.«', 'stockte', 'Hummer', 'Zurückwerfen', 'kannte', 'Farbe', '_Dinah_', 'redest', 'wachte', 'hinabsah', 'gesehen', 'komisches', 'Längegrad', 'begann', 'Bildern', 'Grasplatzes', 'geradewegs', 'wünschte', 'suchst', '_kann_', 'klingende', 'T', 'Alter', 'wo', 'muthlos', '_Barsch_', 'Wimmern', 'kommt?«', 'nichts.«', 'goß', 'Bist', 'trocknete', 'hundert', 'viele', 'Fallen', 'wandte', 'quiekende', 'wuchs', 'unterstützt', 'halten', 'Erstaunen', 'hervorrief', 'abwechselnd', 'schneite', 'thue', 'verfehlte', 'Unterhaltung', 'Geschöpf', 'nehmen', 'geht', 'großer', 'beleidigt', 'hier-', 'Beamten', 'heiß?«', 'lächerlich', 'Tafelsteine', 'nimmst', 'wohnt', 'schrie', 'reine', 'fortgegangen', 'Hase', '_du_', 'verneigen', 'Thüren', 'zurückrufen', 'demüthigem', 'Thieren', 'Ihrem', 'Spaß?«', 'bekommen.«', 'geringsten', 'zwischen', 'herabhingen', 'schwache', 'angenehme', 'allgemeinen', 'fortzunehmen', 'Gutshofes', 'Tasche', 'dagegen', 'Weg', 'ob', 'früher', 'Wilhelms', 'hervorstehende', 'Schiefertafeln', 'schwer', 'lassen', 'Sogleich', 'Rosen', 'Notizbuch', 'niesten', 'daher', 'fragend', 'erstickte', 'Nie', 'bei', 'wer', 'Zettel', 'Pflanze', 'aufblickten', 'durch', 'junge', 'geringste', 'erfunden', 'Arrum«', 'Anderem', 'verzehrte', 'fürchte', 'Anderes', 'Hummern', 'Beifallklatschen', 'ihm', 'Keiner', 'entlang', 'Verhör?«', 'Gefangenen?«', 'reizender', 'gewahr', 'Höre', 'drangen', 'einfielen', 'Erscheinung', 'Tanz', 'glaube', 'erreicht', 'Nacht', 'Pilzes', 'etwas', 'fort.«', 'angestoßen', 'dürfen', 'Neu-Seeland', 'zurückblieben', 'Sinne', 'gesteckt', 'Mädchen«', 'Wildpret', 'glauben', 'mich«', 'insbesondere', 'stolz', 'Stäbchen', 'anfängt', 'Atheling', 'Gegenstand', 'Schon', 'falschen', 'immerwährende', 'wunderliche', 'Kreis', 'braucht', 'angestarrt', 'lebendig', 'dulden', 'Saal', 'Schuppen', 'Stückchen', 'nach', 'schmecken', 'Noch', 'gesetzt.«', 'Ereigniß', 'beiden', 'Küsten', 'dahinterstehenden', 'einander', 'Zimmer', 'damit?«', 'schlich', 'umgebogenen', 'Seufzer', 'schaffen', 'Wortwechsel', 'Anderen', 'Stockfisch', 'Diesmal', 'knabberte', 'Bratpfanne', 'kannst', 'kannst.«', 'läugnet', 'schreiben', 'Geräusch', 'wunderschöner', 'statt', 'unbequem', 'kam', 'Vorhang', 'Gras', '_rother_', 'Ding', 'sterben', 'schmeckt', 'ärgerliche', 'befehlen', 'vorgegangen', 'süßem', 'waren', 'feinste', '(', 'Kannst', 'Rückt', 'Vielerlei', 'innen', 'flüsterte', 'Imponiren.«', 'Rand', 'Puppe', 'gelangen', 'tiefen', 'underschöne', '_einen_', 'Räthseln', 'Dummer', 'Raupe', 'Sprach', 'Zoll', 'rundes', 'häßliches', 'nachher', 'brauchst', 'Sagt', 'Katers', 'Kindesleben', 'Kuchen', 'Davon', 'Rechtes', 'Aufschrift', 'dabei', 'geschoben', 'lieber', 'beantworten', 'abzuschlagen', 'Seht', 'zugemacht', 'athme', 'Sechzehnten', 'Alles', 'Herr', 'traten', 'aussieht', 'habt', 'Unbehagen', 'gehören', 'sorgfältig', 'gebracht', 'auserzählen.«', 'es', 'quiekste', 'hat', 'wegen', 'breiter', 'merkte', 'malte', 'umherschwamm', 'angeredet', 'sähen', 'Loch', 'förmliche', 'Warum?«', 'Abenteuern', 'gelaufen', 'Zunge', 'langweilen', 'möglich', 'gefällig?«', 'beobachtete', 'Entschuldigungen', 'schwenkend', 'Grinsen', 'Buben', 'Guck', 'umsah', 'brüllen', 'Unterdrückt', 'umhergesprungen', 'sonderbar.«', 'Probe', 'Küchenzwiebeln', 'unförmliches', 'mögen', 'verwirrt.«', 'Dir', 'von', 'Experiment', 'rechte?«', 'schlossen', 'rückwärts', 'Lied?«', 'seltsamen', 'begünstigt', 'machte', 'wenigen', 'Lärm', 'darunter', 'gethan', 'warst', '_etwas_', 'Theetisch', 'erschrocken', 'geschah', 'Kaninchen', 'guckte', 'herauslassen', 'Darum', 'Hältst', 'rückte', 'eintreten', 'wollen', 'Kön', 'eigenthümliche', 'rufend', 'Taube', 'jede', 'bringe', 'liebe', 'Seh', 'er.«', 'sehr', 'zurückkam', 'Katze.', 'diesen', 'Sechstes', 'brauchen', 'Zähne', 'Hunde?«', 'geben?«', 'Zeitung', 'Ha', 'Tinte', 'lahm.«', 'Bei', 'Vielleicht', 'Rauch', 'ungeschickte', '[', 'denn', 'Filax', 'Kinderfrau', 'Kamillenthee', 'bange', 'Wallroß', 'Stirne', 'gehofft', 'thränenschweren', 'irren', 'Theetasse', 'des', 'Vervielfraßen', 'Liebe?«', 'Nimm', 'Mausefallen', 'Throne', 'Thüre', 'schwimmen', 'bestürztem', 'Arm', 'Stunde', 'Weitererzählen', 'Lichtung', 'hingekommen', 'deutlich', 'Wörtern', 'Auch', 'Geringsten', 'fortliefe', 'schreite.«', 'Gerichtssaal', '_der_', 'hast.«', 'Menschenverstand', 'fortkommst', 'kenne', 'erzählen.«', 'Ausrede', 'Kiesel', 'Rollen', 'ängstigst', 'Leute', 'Schüsseln', 'beachtete', 'Bilde', 'Schwänze', 'schön', 'rauschte', 'Tochter', '_Iß', 'Herzchen', 'Ohne', 'anzubieten', 'Tode', 'ich', 'bemerken', '_Un_wichtig', 'bedeutet.«', '_beweist_', 'Wurm', 'vielleicht', 'läßt', 'naseweis', 'verdrießt.«', 'geringelten', 'Woran', 'Quieken', 'Dabei', 'Bitte', 'gleich', 'Fisch', 'übermorgen', 'Conversationsbuche', 'verdutzt', ')', 'worauf', 'Reiche', 'wüthender', 'verlassen', 'Coeur-Bube', 'jemand', 'letzte', 'Aufgehängt', 'bildete', 'Bekanntschaften', 'brummig', 'Erzählung', 'Achtes', 'reiferen', 'auszuerzählen', 'geglückt?«', 'schrieben', 'Aerger', 'gehst', 'schon', 'langer', 'ehrbar', 'hier_', 'spazieren', 'nahm', 'abflogen', 'überlegend', 'Schluß', 'folgendergestalt', 'Mühe', 'hinab', 'Spiegel', '_Sie_', 'Unfall', 'schüttelte', 'meerschwimmig', 'nicht?«', 'Trinke', 'unangenehme', 'Paris', 'schmeckte', 'Richtungen', 'halbe', 'Eisenbahn-Station', 'verschluckten', 'Aber', 'Alte', 'athmen.«', 'richtig', 'Zeit', 'merkwürdiger', 'gefressen?«', 'glaubt', 'n', 'wolltest.«', 'Apfelsinen_«', 'Scherben', 'sei', 'gründlich', 'Ansprüche', 'Krone', 'Essen', 'kurzer', 'gelegten', 'rothglühendes', 'unterdrückt', 'Fächer', 'Vögeln', 'unmittelbaren', 'geschickt', 'verurtheilt.«', 'folgten', 'Thür', 'blickte', 'Fußspitzen', 'Mit', 'nettes', 'bin', 'Art.«', 'Gerichtsbeamten', 'leckt', 'erschienen', 'Französisch', 'solchen', 'schläfrige', 'Mäusen', 'aller', 'Liebkosungen', 'Junker', 'malerisches', 'euch?«', 'Mir', 'mag', 'Trinken', 'gewachsen', 'Schauer', 'weinerlichem', 'Ursache', 'Erzbischof', 'tauchen', 'sogleich', 'Baumzweige', 'Kindheit', 'fassen', 'sehe.«', 'Gänseblümchen', 'hersagte', 'Punkt', 'fortgesetzt', 'malen?«', 'volle', 'genug.«', 'Grashalmen', 'Einladung', 'wofür?«', 'zurückließ', 'Rieseln', 'wollten', 'Kneift', 'Füßen', 'Eroberer', 'Ausgehen', 'herum.«', 'triumphirend', 'Wunder', 'hießen', 'dumm.«', 'Treiben', 'unwissendes', 'geputzt', 'endigte', 'fortlief', 'folgt', 'Lies', 'Mal', 'zwei', 'Hätte', 'Seeufer', 'gerathen', 'darauf.', 'daherschwamm', 'Theelöffel', 'Mäuse', 'Warnungen', 'Einige', 'Demnächst', 'Ecken', 'Habt', 'Rechte', 'Nur', 'vorbeihuschte', 'während', 'Aussehen', 'Theekanne', 'aufgestellt', 'welchen', 'könntet', 'dumme', 'lächelnd', 'wahr?«', 'Schritten', 'zunächst', 'Gegend', 'strenge', 'Herzensangst', 'Croquetfeld', 'Todtenkopf', 'hoffend', 'neue', 'interessirte', 'bleebt', 'Anläufen', 'Ecke', 'bewegen', 'schlug', 'roth', 'ruhte', 'zu?«', 'vorüber', 'Protokoll', 'je', 'welcher', 'meisten', 'Ohre', 'armer', 'Grafen', 'Verschwinden', 'schwierige', 'meinte', 'Alle', 'ertrug', 'Armen', 'Figur', 'sieht', 'dir?«', 'Hierauf', 'Schlösser', 'ungeschickt', 'trübsinnig', 'zitternder', 'laut', 'nachfühlen', 'einfältige', 'Würde', 'hervorkam', 'weißen', 'Redner', 'dienen', 'lege', '_An_', 'eigene', 'Niemals', 'sperrten', 'faltete', 'völlig', 'versetzte', 'erschöpfen', 'zurückwerfend', 'Maule', 'wir', 'überhört', 'Katzen', 'gethan?«', 'schwächer', 'errinnern', 'seufzte', 'vergessen.«', 'dachten', 'Saales', 'hinunter', 'betteln', 'neben', 'Zehn', 'zuhörte', 'verlieren', '_Eingemachte', 'Stillschweigen', 'schlag', 'gern', 'Kugeln', 'fortgingen', 'hörten', 'lange', '_muß_', 'erbleichte', 'einfacher', 'Austern', 'klugen', 'besser', 'bestimmt', 'ihn', 'reumüthigem', 'vorsichtig', 'essen', 'ausbreitete', 'erhobener', 'kreischte', 'Ende', 'Fluten', 'nachdem', 'Milch', 'hinzutrat', 'klärten', 'bestürzt', 'Ida', 'Flamingos', 'Laune', 'Kessel', '_es_', 'Hasen', 'unangenehm', 'komisch', 'weißes', 'mag?«', 'unbehaglich', 'that', 'sehen', 'jetzt.«', 'Kutsche', 'Wessen', 'Ratten', 'sondern', 'Hut', 'ungeheuren', 'Ruft', 'einmal', 'nannten', 'einen', 'schwamm', 'schwatze', 'weil', 'Möchtest', 'Schafskopf', 'geworden?«', 'Mäuler', 'wurde.«', 'ausdrücken', 'merkwürdig', 'übel.«', 'hineinsteigen.«', 'feige', 'spinnen', 'Pfuhle', 'Vortheil', 'meist', 'kleinen', 'Butter.«', 'unbestimmte', 'Pinsel', 'anderen', 'passende', 'herantrat', 'ließest', 'Erster', 'pfeifen', 'desto', 'einige', 'Caucus-Rennen', 'In', 'Springen', 'Dodo', 'Rande', 'Beispiel', 'Eroberungen', 'böse', 'heran', 'Kapitel', 'für', 'leises', 'Flamingo', 'natürlich', 'ausstreckte', 'Senf-Bergwerk', 'Privatstunden', 'weiß', 'gewonnen?«', 'Minute', 'schloß', 'Aufwärts', '_je_', 'dahinter', 'Schnauze', 'umzusehen', 'komme', 'Strande', 'zugleich', 'kleinsten', 'verdrießlichem', 'wissen?«', 'getödtet', 'dreien', 'Strand', 'Corridors', 'Schlagt', 'tritt', 'Grasplatz', 'Weinen', 'Gethier', 'Else', 'anfingen', 'unserm', 'begreifen', 'Wege', 'furchtsam', 'fliegen', 'niedergeschlagenem', 'derjenige', 'gin', '_sehr_', 'sollen.«', 'trinkt', 'Sinne.«', 'roh.«', 'grausamen', 'befrei', 'niedrigen', 'duckte', 'lang', '_Oooh_', 'Ihre', 'ist.«', 'grün', 'Abwesenheit', 'sprechenden', 'eintrat', 'knurren', 'kniete', 'stecken', 'Teller', 'neun', 'umgab', 'Zickzack', 'brechen', 'erzählen', 'erfolgte', 'rauh', 'rasend', 'biegen', 'Handschuhe', 'dafür', 'Su', 'sobald', 'stehen', 'bunt', 'verletzt', 'bedeutend', 'Athem', 'froh', 'Tisch', 'mittlerweile', 'Stiefel', 'zuerst', 'spräche', 'Augenblick', 'hineingefallen', 'begegnete', 'Gaste', 'rückt', 'Hutmacher.«', 'meistens', 'Schilt', 'Feuer', 'keines', 'irgend', 'einbohrte', 'einzige', 'möchtest', 'nimm', 'Moral«', 'würden', 'gutes', 'fangt', 'klopfte', 'grob.«', 'unglücklichen', 'spürte', 'Suppe', 'Pelz', 'kriegen', 'Mittelpunkt', 'drängte', 'geweint', 'Puffe', 'umgewechselt', 'umbiegen', 'patriotische', 'verstehst', 'wundert', 'dies', 'Biegung', 'vorgekommen', 'Ohrfeige', 'herauszuhelfen', 'herabflossen', '_mich_', 'sprachen', 'Hülfsquelle', 'Danke', 'zanken', 'Unsinn.«', 'auseinander', 'verklage', 'vorkam', 'begleiten', 'Tulpenzwiebeln', 'Caucus-Rennen?«', 'Gedanke', 'draußen', 'Diese', 'trauen', 'Junge', 'liebevolle', 'klarer', 'umsonst.«', 'Jeden', 'zärtlich', 'traue', 'getraute', 'Wiegenlied', 'Garten', 'grunzte', 'kurz', 'Gang', 'hin', 'Rosinen', 'Guter', 'meinem', 'vier', 'blauen', 'blödsinnig', 'hoffnungsvollem', 'wußten', 'sie', 'eilig', 'schade', 'Herzen', 'warest', 'Bahn', 'vergißt', 'Menge', 'bezahlen', 'besorgt', 'augenblicklichen', 'fliege', 'kühlen', 'Rock', 'geschahen', 'möchten', 'Wovon', 'Meine', 'solche', 'redend', 'fortging', 'hier', 'armen', 'aussähe?«', 'plätschern', 'Majestät', 'entfernten', 'Ihnen', 'Allerlei', 'Mich', 'sofort', 'betrachtet', 'Ton', 'Schwierigkeiten', 'Spiele', 'Schnurrbart', 'geschlafen', 'hängen.«', 'Nichten', 'könnt', 'Gefühl', 'manch', 'vielen', 'zittern', 'müßte', 'bitter', 'ausführen', 'wahr', 'schelte', 'Bald', 'Alters', 'Erhöhung', 'wedelt', 'keineswegs', 'Wählen', 'darf?«', 'Klügste', 'schnitt', 'eignen', 'geflogen', 'Dur', 'vielmehr', 'Lebtag', 'Wem', 'meines', 'Locken', 'verschieden', 'o', 'Weile', 'langschwänzige', 'angehalten', 'wanderte', 'Krebse', 'heftig', 'Durchaus', 'Spieler', 'Karten', 'gestellt', 'benutzten', 'Kampfe', 'laßt', 'sagen', 'anfing.', 'helfen', 'Einen', 'erkannte', 'wies', 'Wände', 'eiferte', 'gestützt', 'Arbeit', 'Verhör', 'Licht', '_Fall_', 'Tische', 'Verzug', 'umgestoßen', 'Reden', 'langsam', 'späterer', '_Sprache', 'Niemand', 'ach', 'geduldig', 'hingehen', 'machen.«', 'rasch', 'ausfindig', 'Laub', 'ängstlich', 'wildes', 'besonnen', 'begnadigt', 'sind.«', 'gelernt.«', 'Verquerer', 'Glastische', 'Kinn', 'schieben', 'blieb', 'Amtmann', 'Versteht', 'allerbeste', 'Flußufer', 'spielten', 'Lachs', 'Haare', 'hinrollen', 'Schlüsselloch', 'Küchenschränken', 'läugne', 'jeder', 'Liebe', 'Ueberlegung', 'schwermüthig', 'hier?«', 'Pfote', 'Unterschrift', 'übrige', 'welchem', 'Hinrichtungen', 'sollte', 'Mineral', 'wovon?«', 'Geschichtskenntiß', 'Wollen', 'Art', 'Drum', 'Körper', 'famos', 'rücklings', 'versucht', 'Gesange', 'Sein', 'zitternd', 'einer', 'Distel', 'gesessen', 'kreuzweise', 'plätscherte', 'fühlte', 'sagte', 'wärest?«', 'ungern', 'da?«', 'kommen', 'Grinse-Katze', 'Schüssel', 'Köpft', 'aufhörte', 'verbeugte', 'sonderbar', 'denkst', 'ihren', 'heute', 'hastig', 'Esel', 'rathen', 'nachher.«', 'Thee', 'wandern', 'aufzuhören', 'Wohl', 'Schreck', 'einzigen', 'gerathen?«', 'Familie', 'guter', 'eigentlich', 'juchhe', 'untergehende', 'gedruckt', 'durchdringender', 'bestreut.«', 'Vorbeifallen', 'Abenteuer', '_keine_', 'regelmäßigen', 'verloren', 'mußte', 'leer', 'derben', 'Mord', 'beide', 'gefällt', 'Herz', 'Dampfend', 'heißen', 'folgen', 'tragisch', 'erst', 'Minen', 'müssen.«', 'leid', 'vorzustellen', 'naß', 'Glieder', 'aus?«', 'wie', 'fetter', 'Fuß', 'tragen', 'um', 'das', 'Demnach', 'W', 'ihr', 'gewöhnlich', 'Kaninchens', '_Falsche', 'Bücherbrettern', 'Dinah', 'trank', 'den', 'Ahnung', 'erst.«', 'gefällig', 'Wahrheit.«', 'Croquet-Feld', 'Beamte', 'einigermaßen', '_eine_', 'verändern', 'anzuziehen', 'wuchsen', 'Von', 'Potz', 'kicherten', 'runden', 'rief', 'Passendes', 'schaffe', 'Krachen', 'zitterte', 'Strick', 'neugierig', 'alten', 'traurig', 'Geburtstagsgeschenke', 'Schwanz', 'wirkliche', 'beim', 'Moral', 'werden?«', 'anfaßt', 'Mund', 'Grüßen_', 'zu', 'Finger', 'Gelegenheit', 'darauf', 'wohnen', 'Noth.«', 'herab', 'was', 'Erfrischungen', 'Kirschkuchen', 'erstaunt', 'kleiner.«', 'ihres', 'Arme', 'tolle', 'rücksichtsvoll', 'Wechselt', 'drang', 'außerordentlich', 'Bringe', 'ängstliches', 'trägst', 'klänge', 'Papier', 'Geschrei', 'sagt.«', 'bog', 'dunkeln', 'merkwürdige', 'tiefes', 'rühren', 'sprecht', 'unablässig', 'gelernt', 'Sache', 'verbergen', 'wievielsten', 'hinkomme', 'sind?«', 'gefragt', 'Seesterne', 'vorgefallen', 'wißt', 'Seiten', 'zufrieden?«', 'Er', 'Hau', 'Sagtest', 'vorige', 'lebendige', 'förmlichen', 'unserer', 'entschieden', 'Aufgaben', 'rufen', 'Aufzüge', 'en', 'Geplärre', 'Ein', 'hintereinander', 'schwieg', 'mehr', 'ausginge', 'blos', 'keuchte', 'Zahl', 'hergekommen.«', 'zweier', 'lief', 'haben.«', 'gegessen', 'interessanter', 'Aufträge', 'heißt?«', 'Unordnung', 'aufgeregt', 'befand', 'Sie', 'Jungen', 'Mores', 'Erzähle', 'verwandelte', 'gesammelt', 'redete', 'Teleskop.«', 'Gartens', 'Weißfisch', 'Fell', 'unentschieden', 'Sinn', 'Meerschweinchen', 'krank.«', 'Spielst', 'An', 'aufsprang', 'Courant', 'Daten', 'abreißen.«', 'davon', 'Tischfüße', 'Trappeln', 'Bericht', 'wunderwild', 'überreichte', 'sich', 'Darüber', 'Fisch-Lackei', 'französischen', 'Alles?«', 'Glasbüchse', 'Kerl', 'anbelangt', 'pflegte', 'konnte', 'darein', 'thu', 'Mäuslein', 'ma', 'trotz', 'Glasscherben.', 'Vier', 'hört', 'fing', 'Fräulein', 'wären', 'weit', 'als', 'wedle', 'reden', 'hinausgewiesen', 'drehen', 'Fressen', 'fangen', 'schluchzte', 'thät', 'gelebt', 'bedenken', 'Merkwürdiges', 'behandeln', 'Grammatik', 'famoser', 'einzelne', 'bemerken.«', 'Daher', 'grob', 'schüchterne', 'verwandelt?«', 'Schildkröte', 'fortzukommen', 'bedeckte', 'Wein.«', 'fiel', 'glücklicherweise', 'aufmerksam', 'wohlbekannte', 'tief', 'reichte', 'Also', 'zurückgewandert', 'trippelte', 'Königin', 'Perrücke.«', 'Erst', 'seltsam', 'Oho', 'Bedenke', 'nehmend', 'Stein', 'Verse.«', '_dich_', 'brauchten', 'nächste', 'träumte', 'Kampf', 'Wer', 'angegriffen', 'giebt', 'losrannte', 'vergaß_.', 'Lacie', 'hättet', 'Fenster?«', 'zurückbrachte', 'Faselhasen', 'Spur', 'Beweis', 'doch', 'einwenden', 'prunkenden', 'liegend', 'gelangte', ':', 'Zuhörer', 't', 'soll?«', 'Heftigkeit', 'Hause', 'Buche', 'leicht', 'er', 'auswärts', 'gewunden', 'toll', 'andern', 'wollt', 'sahen', ',', 'Lackei', 'eilte', 'Vor', 'aufgefordert', 'einfache', 'Leuten', 'beseitigen', 'zufällig', 'größer', 'Weilchen', 'könne', 'Lackeien', 'ungefähr', 'vertilgt', 'Legen', 'gut', 'Shakespeare', 'wäscht', 'klein', 'hindertet', 'thust', 'aufgefangen', 'endlich', 'ißt', '_hier_', 'Pfennigen', 'gewissen', 'herunter', 'an?«', 'sang', '_ich_', 'Erregung', 'schalt', 'achten', 'gelang', 'ist«', 'grünen', 'veränderte', 'klinkte', 'Schluchzen', 'Spielen', 'klettern', 'Person', 'kraus', 'legen', 'spähend', 'sich.', 'kleiner', 'Ueberzeugung', 'Nehmt', 'hingerichtet', 'Gespräche?«', 'merkwürdig.«', 'regelmäßiges', 'Weise', 'Einst', 'fragt', 'Wechsel', 'plötzliche', 'stand', 'einladend', 'Spielregeln', 'brennend', 'Abtheilungen', 'dasselbe', 'Eile', 'gehalten', 'wiederkommt', 'Dreh', 'zog', '_Einen_', 'Wu', 'Anfang', 'schnurr', 'Wohnhäuser', 'Wat', 'liebe_', 'weniger', 'schläft', 'Katzenkopf', 'erkundigen', 'brachen', 'Auster', 'Supp', 'Verstand', 'Illustration', 'donnerte', 'Verdruß', 'fortwährend', 'denke', 'Faselhase', 'Schutz', 'verwirrt', 'hinaus', 'fächelte', 'Murmelthiers', 'Geschichte', 'Geschöpfe', 'Theestunde', 'schwacher', 'So', 'spielen?«', 'umgebracht', 'Schlag', 'küssen', 'wahrscheinlich', 'Strümpfe', 'gähnte', 'spielen.«', 'schrumpfte', 'auffressen', 'brauchte', 'schlechter', 'Ruhe', 'aufstanden', 'käme', 'dieses', 'später', 'Sieben', 'aufsah', 'verlies', 'Da', 'Tag', 'läugnete', 'versammelten', 'haltend', 'zurückschreckte', 'umdrehend', 'Worten', 'nächstens', 'ungeheuer', 'zurückgegeben', 'davor', 'Hm', 'Mangel', 'gekreuzten', 'Frieden', 'unterbrach', 'tiefer', 'Klauen', 'überblicken', 'Glaceehandschuhe', 'Wochen', 'Theetassen', 'Publikum', '.', 'Friedenszeit', 'niederknien', 'können', 'nicht', 'hinter', 'Hälfte', 'Stück', 'Pfeffer', 'ändern', 'ist?«', 'dauert', 'Geschmack', 'Köter', 'zeigend', 'Lebt', 'Fünf', 'gehörten', 'zehn', 'eher', 'wie.«', '_da_', 'schüchtern', 'die', 'dickem', 'allein', 'Saaldecke', 'geschieht', 'gedacht', 'komm', 'erreichte', 'Wechseln', 'schwarzblickend', 'stellte', 'Wind', 'suche', 'furchtbar', 'so', 'Sehr', 'Einzige', 'fortschaffen', 'richtige', 'besinnen', 'feines', 'zerreißen', 'Hutmachers', 'Butterbrote', 'Eins', '»', 'großartig', 'kriege', 'zurückgebracht', 'herzlich', 'winzig.«', 'Es', 'Ah', 'funfzehn', 'wohlfeile', 'Nun', 'Dem', 'Pfefferbüchse', 'deutlicher', 'entdeckt', 'dasselbe.«', 'Gewicht', 'vorgenommen', 'ernst', 'niederbrennen', 'Knebelbart', 'widersprochen', 'Lichte', 'Canterbury', 'umhin', 'könntest', 'Haar', 'mußten', 'Liebling', 'betrübt', 'vertreiben', 'Coeur-Königin', 'erinnerte', 'Komm', 'aufzustehen', 'weiße', 'Du', 'Haken', 'hören', '!', 'Land', 'wischte', 'erscholl', 'Zweiundvierzigstes', 'vergoß', 'unwichtig', 'stieß', 'wächst.«', 'schweigend', 'Zu', 'Kopfstimme', '«', 'elften', 'vorbeifuhr', 'hat.«', 'Fuße', 'fortzuschaffen', 'wilden', 'verwandeln', 'grinsen', 'Fächer?«', 'alte', 'nichts?«', 'fortgehen', 'Tintenfaß', 'Zuge', '_irgendwo_', '_was_?«', 'wunderbaren', 'gepflanzt', 'dichtes', 'Schildkröte_', 'überrascht', 'Rittern', 'Verhungern', '_war_', 'Mittelpunkte', 'Rechnen', 'nächsten', 'Plan', 'dieselbe', 'hängen', 'lernten', 'lächerliche', 'Besten', 'schlafe', 'Vogel', 'Unterbrechung', 'trübselig', 'Seehunde', 'Kuß', 'großartigen', 'verschiedenen', 'auszudrücken.«', 'bestätigte', 'denkt', 'erwartete', 'Hitze', 'Springbrunnen', 'seinen', '_weniger_', 'thut', 'schlafe«', 'Einbildung', 'Langschwänzig', 'schneite.«', 'kluge', 'allgemeiner', 'Oder', 'mittanzen', 'Fünftes', 'Meer', 'letztere', 'schwermüthigen', 'Klavierspielen', 'persönliche', 'ließ', 'bemühen', 'erfüllten', 'ausgedacht', 'gefallen?«', 'Walde', 'reichen', 'Landkarten', 'gestemmt', 'allen', 'Diejenigen', 'bellte', 'lernen?«', 'bald', 'Wangen', 'Lehrer', 'Füßen?«', 'Erde', 'Euer', 'worüber', 'knabbern', 'bringe?«', 'vorstelle.«', 'klatschte', 'Kindern', 'feierlichen', 'heißt', 'Entweder', 'zweite', 'jeden', 'erscheinen', 'gedeckt', 'gute', 'önigin', 'O', 'versammelt', 'war.', 'Befangenheit', 'weh', 'erinnerten', 'finden', 'hübsch', 'wiederholten', 'durchdachte', 'schrak', 'Siehst', 'Nest', 'Kreise', 'nichts', 'Geklirr', 'eins', 'muthig', 'Setzt', 'aufzumachen', 'näherte', 'fortschleichen', 'vermischten', 'Euch', 'Zum', 'wendend', 'Jahre', 'Höhe', 'das?«', 'Sind', 'getragen', 'vorlas', 'Verwunderung', 'Gestalt', 'denken', 'beste', 'Stelle', 'Kieseln', 'höchsten', 'Getöse', 'standen', 'jar', 'erwiderte', 'Nasenspitz', 'erschien', 'Nein', 'wirksameren', 'brauche', 'Bart', 'Teleskop', 'Entfernung', 'Antrag', 'kopfoben', 'halblauter', 'Wunder-wunderschöne', 'verworrene', 'beendigt', 'Fingerhutes', 'Niesen', 'is', 'feierlich', 'meiner', 'kenntest', 'heftige', 'wunderst', 'gebraucht', 'angerufen', 'ermessen', 'Satz', 'hab', 'gedämpfter', 'Neugierde', 'nützen', 'aufhören', 'drinnen', 'Schoße', 'schon.', 'Wickelkind', 'sogar', 'Zumuthung', 'Plätze', 'Köpfchens', 'erleuchtet', 'erster', 'mal', 'werden.«', 'wunderte', 'Frettchen', 'geben', 'hineingehe', 'Wohlgeboren', 'Thierchen', 'Oh', 'sonderbare', 'Knöcheln', 'längste', 'gewonnen', 'Nachbar', 'machen', 'hinzu', 'Schwestern', 'unterdessen', 'klatschen', 'Auflauf', 'Westentasche', 'Zusehen', 'Feuerzange', 'Schnell', 'Gurkenbeet', 'Zustande', 'heiß', 'Anwendung', 'heraushängender', 'fängt', 'zuwarf', 'Gebüsch', 'unbehülflich', 'gar', 'suchen', 'arme', 'Schiefer', 'Königinnen', 'und', 'Gesetz', 'Natürlich', 'auf', 'ausgesucht', 'unterscheiden', 'gewöhnliche', 'ausrief', 'Siebentes', 'erwiederte', 'indem', 'Dummkopf?«', 'sichtbar', 'sechs', 'schnellen', 'platsch', 'Zuerst', 'holen', 'Unterricht.«', 'ungeduldigem', 'schmachtender', 'Warum', 'Weshalb?«', 'häßliche', 'ernsthaft', 'errieth', 'bliebe', 'lehnte', 'wachse', 'verlassen_', 'rathlos', 'erlangen', 'Wald', 'traf', 'nieder', 'Wirkung', 'Rom', 'Wirthe', 'kommandiren', 'seinem', 'Keulen', 'dazu', 'Regel', 'nehme', 'köpfen.«', 'auf.', 'erkennen', 'unglückliche', 'Töpfe', 'genau', 'Seite', 'guten', 'Schornstein', 'danach', 'halte', 'biß', 'Schlaf', 'Gleich', 'Diamanten', 'Chor', 'Armstuhl', 'gestehen', 'Pack', 'verfehlt', 'langen', 'brummend', 'wart', 'fortzumachen', 'angefangen', 'geklopft', 'übrigens', 'mitbringe', 'sicher', 'Irrthum', 'unwichtig.«', 'Achse', 'blaß', 'Hoffnung', 'lernen', 'dächte', 'einerlei', 'niedrige', 'Rhein', 'wohl?«', 'bunten', 'Pause', 'rathsam', 'beäugelte', 'Wabbel', 'Mittlerweile', 'singen', 'bist', 'Blumen', 'rechteckig', 'Bube', 'liefen', 'Zeiten', 'gefangen', 'Einmaleins', 'behielt', 'hörbar', 'sprangen', 'dichter', 'Würd', 'antwortete', 'Decke', 'soeben', 'Bild', 'unbändig', 'scharfes', 'beweist', 'Ne', 'Messer', 'verschwunden', 'zerbrochenem', 'gelesen', 'behaupten', 'griff', 'Schal', 'glaubst', 'vergessen', 'hindurch', 'Tafeln', 'Haupt', '=Où', 'Beinahe', 'Besuche', 'Kopfschütteln', 'zwickte', 'weg', 'knurrt', 'deine', 'Nutzen', 'drei?«', 'Königin?«', 'zeichnen', 'bückte', 'Vater', 'Bäume', 'zuzusehen', 'Kratzfüße', 'woraus', 'Aal', 'Einfluß', 'werdet', 'sage', 'murmelte', 'dreibeinigen', 'dir', 'kann.«', '_Alle', 'Anfange', 'große', 'älter', 'bedauerte', 'Rede', 'Frage', 'lehrte', 'singen?«', 'zog_', 'ganz', 'ärgerlich', 'Ferne', 'abknabberte', 'sein.«', 'zweiten', 'Außerdem', 'gezeichnet', 'geradeaus', 'aufstehen', 'Darauf', 'blieben', 'merke', 'ja', 'Ohren', 'kamen', 'bleibt.«', 'wählte', 'hoch', 'lauter', 'blinzeln', 'gellende', 'rücken.«', 'Strenge', 'Rindviehes', 'Blumenbeeten', 'gestern', '_ganz', 'Verwirrung', 'aussahen', 'Gegenstände', 'gekreuzt', 'unten', 'Wunderlande', 'an', 'Hunden', 'Aufeinanderfolge', 'brauchtest', 'jedes', 'fege.«', 'oh', 'wolle', 'trägt', 'hörst', 'uppen', 'Brust', 'aufzuschreiben', 'versprochen', 'leite', 'tausend', 'Seeographie', 'Hals', 'anzureden', 'hinrichten', 'Eier', 'Durchgehen', 'deinen', 'Krume', 'Fürst', 'heiserer', 'eines', 'brummte', 'werth', 'anhören', 'Sollen', 'Verzweiflung', 'Kreuzverhör', 'Geringste', 'Jeder', 'zum', 'früh', 'Groschen', 'horchen', 'Schachtel', 'Wach', 'richtete', 'Engländern', 'Kaninchenbau', 'schöne', 'wenn', 'vor.', 'übel', 'sprang', 'diesmal', 'bekam', 'muß?«', 'Laßsein', 'seiner', 'sehen?«', 'Antipathien', 'Tanzen', 'Fingerhut', 'wunderbare', 'Allem', 'Herzenskönig', 'Morcar', 'existirte', 'warfen', 'Aufregung', 'zusehends', 'versiehst', 'Gedanken?«', 'glücklichen', 'ertrinken', 'gestoßen.«', 'Gurkenbeete', 'Flügeln', 'Tunnel', 'Hecken', 'schrecklich', 'hast', 'dreizehn', 'freute', 'holt', 'Schildkrötensuppe', 'vorkommt.«', 'schlechte', 'sonderbarer', 'bemerkten', 'Essenszeit', 'Hinter', 'ehe', 'selbst', 'herauskommen', 'esse', 'leise', 'kneifen', '_weit_', 'benutzt', 'Klavier.«', 'prüfend', 'drin', 'gesprochen.«', 'einsam', 'Greifen', 'toll.«', 'Blättern', 'Für', 'hättest', 'hoffe', 'zwanzig', 'lag', 'Saale', 'trocknes', 'nein', 'eng', 'versuchen?«', 'gewiß', 'sieh', 'seht', 'Doch', '_deren_', 'falsch', 'Spuren', 'wahrer', 'geworden', 'wovon', 'Wird', 'manchmal', 'erwarte', 'betrübtem', 'Dann', 'Nenne', 'anzufangen', 'nirgends', 'zurückkomme', 'verwandelten', 'Seestern', 'Schultern', 'aufgelegt', 'thun', 'genehm', 'falsche', 'tiefster', 'fragst', 'verfahren', 'Fuhrmannspferde', 'appetitlich', 'trinke', 'hineinkommen?«', 'Rauschen', 'fressen', 'Trost', 'wirklich?«', 'Unter', 'verdrießlich', 'bekommt.«', 'Schornsteine', 'Beweisgründe', 'anwenden', 'Könige', 'riß', 'Nehmen', 'schnell', 'Memme', 'thun?«', 'hielt', 'also', 'Sobald', 'Denke', 'Summe', 'Befehl', 'weislich', 'Woche', 'liegt', 'lateinischer', 'einem', 'altes', 'Scheeren', 's', 'unterdrückten', 'Koch', 'Stigand', 'knixen', 'bis', 'zusammengebunden', 'umhersah', 'Nachdenken', 'Hagel', 'herumgestellt?«', 'enthaupten', 'eilten', 'Kleinen', 'Wäsche', 'Trompete', 'Mein', 'antworten', 'Morgens', '_davon_', 'weinen', 'Hülfe', 'worden.«', 'gesagt?«', 'Erinnerung', 'Wäldchen', 'zurecht', 'nähmen', 'geriebener', 'Leiterwagen', 'Gespräche', 'du?«', 'Lieblingsworte', 'gebogen', 'erhielt', 'verschlossen', 'meinst', 'lang.«', 'her', 'abstieß', 'Unarten', 'danke', 'länger', 'ärgerlichem', 'Gnaden', 'wohntet.«', 'Erkläre', 'Endlich', '_geht_', 'daran', 'eleganten', 'aufgerollt', 'gespannt', 'groß', 'zurücklaufen', 'meinten', 'Branntwein', 'Rücken', 'Schüler', 'Weggehen', 'Jedenfalls', 'aufgehört', 'Wäsche?«', 'Augenschein', 'zwölften', 'sind', 'aufstand', 'Eure', 'Suppen', 'fertig', 'dachte', 'weiter', 'Ihren', 'riecht', 'womit', 'Handschuhen', 'wünschest', 'linken', 'manches', 'Zusammenziehen', 'Klasse', 'Syrup-Brunnen.«', 'wem', 'ankamen', 'herzusetzen', 'bedeutete.«', 'wann', 'bitte', 'höre', 'Fange', 'betrachtete', 'nichten', 'Gieb', 'gehabt', 'Bademaschinen', 'Idee', 'erschütterte', 'öffnete', 'auszuruhen', 'Sieht', 'Soldaten', 'verursachte', 'Reihen', 'steht', 'schläfrig', 'zuredendem', 'gerne', 'Blumentopf', 'Buchstaben', 'Zweite', 'fort', 'vor', 'Steht', 'gesagt', 'Neues', 'Tellern', 'stritten', 'lerne', 'ist', 'Mamsell', 'Martin', 'rechte', 'wagte', 'versuchen', '_manches', 'Gefangenen', 'immer.«', 'ein', 'aufgehängt', 'Begriff', 'lehren', 'unter', 'laufen', 'schreien', 'nachdenklich', 'drollig', 'Armes'}\n"
     ]
    }
   ],
   "source": [
    "a = set([word for entry in data_sample for word in entry])\n",
    "print(a)"
   ]
  },
  {
   "cell_type": "code",
   "execution_count": 10,
   "metadata": {
    "colab": {
     "base_uri": "https://localhost:8080/"
    },
    "id": "C3AIS0QfYuAt",
    "outputId": "a116f8db-1ade-460d-ac93-c908c0c6967f"
   },
   "outputs": [
    {
     "name": "stdout",
     "output_type": "stream",
     "text": [
      "Word to id sample: [('Dinger', 0), ('finde', 1), ('Krallen', 2), ('Coeur-Buben', 3), ('rechten', 4), ('Bade', 5), ('disputirt', 6), ('erklärten', 7), ('hohe', 8), ('erwartungsvoll', 9)] \n",
      "\n",
      "Id to word sample: [(0, 'Dinger'), (1, 'finde'), (2, 'Krallen'), (3, 'Coeur-Buben'), (4, 'rechten'), (5, 'Bade'), (6, 'disputirt'), (7, 'erklärten'), (8, 'hohe'), (9, 'erwartungsvoll')] \n",
      "\n",
      "Documents as lists of integers: [1235, 2788, 1308, 1058, 3187, 4130, 3573]\n"
     ]
    }
   ],
   "source": [
    "from collections import OrderedDict\n",
    "\n",
    "# Beim Mapping von Wörtern zu IDs und umgekehrt sollte eine reproduzierbare Reihenfolge sichergestellt werden,\n",
    "# um das Modell später weitertrainieren und die Embedding-Matrix interpretieren zu können.\n",
    "# Diese Datenstruktur kann, aber muss nicht, als Basis dienen.\n",
    "unique_words = OrderedDict.fromkeys(set([word for entry in data_sample for word in entry]))\n",
    "\n",
    "# Mapping von Wort zu ID\n",
    "word2id = dict((word, index) for index, word in enumerate(unique_words))\n",
    "\n",
    "# Mapping von ID zu Wort\n",
    "id2word = dict((index, word) for index, word in enumerate(unique_words))\n",
    "\n",
    "# Unser Data Sample, aber mit IDs statt Wörtern \n",
    "# [['der', 'hund', 'der', 'bellt'], ['die', 'katz', 'miaut']] => [[0, 1, 0, 2], [3, 4, 5]]\n",
    "numeric_docs = [[word2id[w] for w in doc] for doc in data_sample]\n",
    "\n",
    "print('Word to id sample:', list(word2id.items())[:10], '\\n')\n",
    "print('Id to word sample:', list(id2word.items())[:10], '\\n')\n",
    "print('Documents as lists of integers:', numeric_docs[0][:10])\n"
   ]
  },
  {
   "cell_type": "markdown",
   "metadata": {
    "id": "UKXEBPLqYuA1"
   },
   "source": [
    "Wir halten einige wichtige Parameter für unser Modell fest. Die Größe des Kontextfensters sowie die Länge der Embeddingvektoren können nach Bedarf angepasst werden. Für unsere Demo wählen wir kleine Werte."
   ]
  },
  {
   "cell_type": "code",
   "execution_count": 11,
   "metadata": {
    "colab": {
     "base_uri": "https://localhost:8080/"
    },
    "id": "ga_N0q-zYuA3",
    "outputId": "d4df25dd-f6ec-441b-ae1a-a2ba5dfa3e36"
   },
   "outputs": [
    {
     "name": "stdout",
     "output_type": "stream",
     "text": [
      "Vocabulary Size: 4399\n"
     ]
    }
   ],
   "source": [
    "vocabulary_size = len(unique_words)\n",
    "embedding_size = 50 # Länge der Embeddingvektoren\n",
    "window_size = 2 # Größe des Kontextfensters. Wird nach rechts und links angewandt. Gesamter Kontext hier also 4 Wörter.\n",
    "\n",
    "print('Vocabulary Size:', vocabulary_size)"
   ]
  },
  {
   "cell_type": "markdown",
   "metadata": {
    "id": "Uunq8JvnYuA-"
   },
   "source": [
    "### 1.3 Generator\n",
    "Um nicht alle Trainingsdaten auf einmal im Speicher halten zu müssen, schreiben wir uns eine Generatorfunktion, die Batches einer frei wählbaren Größe zurückgibt. Unser Ansatz ist dennoch nicht völlig speicherschonend, weil wir uns die Datengrundlage für die Generierung dieser Batches, nämlich die Integerlisten in `numeric_docs` sehr wohl im Speicher vorhalten. Darüber sehen wir aber großzügig hinweg.\n",
    "\n",
    "Die Generatorfunktion erzeugt zwei numpy-Arrays der Länge `batch_size`, von denen das eine Listen mit Indizes der Kontexwörter enthält, die der Embedding-Layer als Eingabe erwartet, und das andere die zugehörigen One-Hot-Encodings der Mittelwörter.\n",
    "\n",
    "Fiktives und vereinfachtes Beispiel:\n",
    "<pre><code>* Fenstergröße: 1\n",
    "* Batch-Size: 2\n",
    "* Wortindizes: 'die': 0, 'ente': 1, 'lacht': 2, 'und': '3, 'quakt': 4 (und damit Vokabulargröße 5)\n",
    "* Korpus (Auszug): [['die', 'ente', 'lacht', 'und', 'quakt'], ...]\n",
    "\n",
    "\n",
    "=> Rückgabe: [[0, 2], [1, 3]], [[0, 1, 0, 0, 0], [0, 0, 1, 0, 0]]\n",
    "</code></pre>"
   ]
  },
  {
   "cell_type": "code",
   "execution_count": 27,
   "metadata": {
    "id": "rItJIFM8YuBB"
   },
   "outputs": [],
   "source": [
    "from keras.preprocessing import sequence\n",
    "from keras.utils import np_utils\n",
    "import numpy as np\n",
    "\n",
    "def generate_context_word_batches(corpus, window_size, vocab_size, batch_size):\n",
    "    current_size = 0\n",
    "    current_corpus_index = 0\n",
    "    while True:\n",
    "        contexts = []\n",
    "        label_words = []\n",
    "\n",
    "        while current_size <= batch_size:\n",
    "            text = corpus[current_corpus_index]\n",
    "            for i in range(window_size, len(text) - window_size):\n",
    "                if current_size > batch_size: break\n",
    "                target = [0 for x in range(vocab_size)]\n",
    "                target[text[i]] = 1\n",
    "                context = []\n",
    "                for j in range(i - window_size, i + window_size + 1):\n",
    "                    if i == j or j < 0 or j >= len(text): continue\n",
    "                    context.append(text[j])\n",
    "                contexts.append(np.array(context))\n",
    "                label_words.append(np.array(target))\n",
    "                current_size += 1\n",
    "            current_corpus_index += 1\n",
    "            if current_corpus_index >= len(corpus):\n",
    "                current_corpus_index = 0\n",
    "\n",
    "        yield np.array(contexts), np.array(label_words) # zwei numpy arrays\n",
    "\n",
    "        current_size = 0\n",
    "        if current_corpus_index >= len(corpus):\n",
    "                current_corpus_index = 0"
   ]
  },
  {
   "cell_type": "code",
   "execution_count": 28,
   "metadata": {
    "colab": {
     "base_uri": "https://localhost:8080/"
    },
    "id": "zQU_48R7YuBG",
    "outputId": "354e430a-fefa-4d71-a7ed-8adfae370bb2"
   },
   "outputs": [
    {
     "name": "stdout",
     "output_type": "stream",
     "text": [
      "Context (X): ['Erstes', 'Kapitel', 'in', 'den'] -> Target (Y): Hinunter\n",
      "Context (X): ['Kapitel', 'Hinunter', 'den', 'Kaninchenbau'] -> Target (Y): in\n",
      "Context (X): ['Hinunter', 'in', 'Kaninchenbau', '.'] -> Target (Y): den\n",
      "Context (X): ['Das', 'Buch', 'das', 'ihre'] -> Target (Y): ,\n",
      "Context (X): ['Buch', ',', 'ihre', 'Schwester'] -> Target (Y): das\n",
      "Context (X): [',', 'das', 'Schwester', 'las'] -> Target (Y): ihre\n",
      "Context (X): ['»', 'Und', 'nützen', 'Bücher'] -> Target (Y): was\n",
      "Context (X): ['Und', 'was', 'Bücher', ','] -> Target (Y): nützen\n",
      "Context (X): ['was', 'nützen', ',', '«'] -> Target (Y): Bücher\n"
     ]
    }
   ],
   "source": [
    "# # Schneller Test\n",
    "# test_batch_size = 3\n",
    "# test_window_size = 2\n",
    "#\n",
    "# x, y = generate_context_word_batches(corpus=numeric_docs, window_size=test_window_size, vocab_size=vocabulary_size, batch_size=test_batch_size)\n",
    "# for j in range(0, test_batch_size):\n",
    "#     print('Context (X):', [id2word[w] for w in x[j]], '-> Target (Y):', id2word[np.argwhere(y[j])[0][0]])\n",
    "\n",
    "# Schneller Test\n",
    "test_batch_size = 3\n",
    "test_window_size = 2\n",
    "\n",
    "batch_gen = generate_context_word_batches(corpus=numeric_docs, window_size=test_window_size, vocab_size=vocabulary_size, batch_size=test_batch_size)\n",
    "for i in range(0, 3):\n",
    "    x, y = next(batch_gen)\n",
    "    for j in range(0, test_batch_size):\n",
    "        print('Context (X):', [id2word[w] for w in x[j]], '-> Target (Y):', id2word[np.argwhere(y[j])[0][0]])"
   ]
  },
  {
   "cell_type": "markdown",
   "metadata": {
    "id": "jhy4rehNYuBM"
   },
   "source": [
    "### 1.4 Definition des Models\n",
    "Als nächstes definieren wir unser Model. Dazu verwenden wir die Sequential API von Keras. Dieser [Blogpost](https://lilianweng.github.io/lil-log/2017/10/15/learning-word-embedding.html) bietet nochmal eine anschauliche Erklärung, wie word2vec CBOW funktioniert.\n",
    "Das folgende Bild ist daraus und stellt die Architektur des Neuronalen Netzes dar:\n",
    "<img src=\"https://lilianweng.github.io/lil-log/assets/images/word2vec-cbow.png\" width=500 />\n",
    "\n",
    "Weitere Informationen über den Embedding Layer finden sich [hier](https://keras.io/layers/embeddings/).\n",
    "\n",
    "> **Tipp:** Nehmt euch wirklich Zeit Embeddings zu verstehen."
   ]
  },
  {
   "cell_type": "code",
   "execution_count": 29,
   "metadata": {
    "colab": {
     "base_uri": "https://localhost:8080/"
    },
    "id": "wdsQV9RDYuBO",
    "outputId": "ec4c8cd3-3bad-4a14-c483-c979923368f8"
   },
   "outputs": [
    {
     "name": "stdout",
     "output_type": "stream",
     "text": [
      "Model: \"sequential_2\"\n",
      "_________________________________________________________________\n",
      "Layer (type)                 Output Shape              Param #   \n",
      "=================================================================\n",
      "embedding_2 (Embedding)      (None, 4, 50)             219950    \n",
      "_________________________________________________________________\n",
      "lambda_2 (Lambda)            (None, 50)                0         \n",
      "_________________________________________________________________\n",
      "dense_2 (Dense)              (None, 4399)              224349    \n",
      "=================================================================\n",
      "Total params: 444,299\n",
      "Trainable params: 444,299\n",
      "Non-trainable params: 0\n",
      "_________________________________________________________________\n"
     ]
    }
   ],
   "source": [
    "import keras.backend as K\n",
    "from keras.models import Sequential\n",
    "from keras.layers import Dense, Embedding, Lambda#, Softmax\n",
    "#from keras.losses import CategoricalCrossentropy\n",
    "#from tensorflow.keras.optimizers import Adam\n",
    "\n",
    "\n",
    "#Modelldefinition\n",
    "cbow = Sequential()\n",
    "cbow.add(Embedding(input_dim=vocabulary_size, output_dim=embedding_size, input_length=window_size * 2))\n",
    "cbow.add(Lambda(lambda x: K.mean(x, axis=1), output_shape=(embedding_size,)))\n",
    "cbow.add(Dense(vocabulary_size, activation=\"softmax\"))\n",
    "cbow.compile(loss=\"categorical_crossentropy\", optimizer=\"rmsprop\")\n",
    "\n",
    "#cbow.add(Dense(vocabulary_size, activation=Softmax()))\n",
    "#cbow.compile(loss=CategoricalCrossentropy(), optimizer=Adam())\n",
    "\n",
    "# Zusammenfassung\n",
    "cbow.summary()"
   ]
  },
  {
   "cell_type": "markdown",
   "metadata": {
    "id": "KBoEx-w2YuBU"
   },
   "source": [
    "### 1.5 Training\n",
    "Jetzt wird es ernst: Wir trainieren unser Modell.\n",
    "Da wir eine eigene Generatorfunktion verwenden, müssen wir `steps_per_epoch` angeben. Überlegt euch was damit genau gemeint ist, wofür uns das nützt und was wir bei der Berechnung beachten müssen. Tipp: das Modell sollte pro Epoche alle Trainingsdaten sehen. Überlegt auch ob die Cbow-Fenstergröße einen einfluss auf diese Anzahl hat.\n",
    "\n",
    "Weil wir unser Modell gerne abspeichern möchten, zum Beispiel, um es später weiter zu trainieren, definieren wir eine Callback-Funktion, die das für uns übernimmt."
   ]
  },
  {
   "cell_type": "code",
   "execution_count": 30,
   "metadata": {
    "id": "-Ui-skXyYuBV"
   },
   "outputs": [],
   "source": [
    "from keras.callbacks import ModelCheckpoint\n",
    "\n",
    "model_checkpoint = ModelCheckpoint('embeddings.hd5', monitor='loss', verbose=1, save_best_only=True, save_weights_only=False)"
   ]
  },
  {
   "cell_type": "code",
   "execution_count": 31,
   "metadata": {
    "colab": {
     "base_uri": "https://localhost:8080/"
    },
    "id": "lRuQzCB2YuBa",
    "outputId": "fa0ca2ec-119f-425b-af76-45e17c666445"
   },
   "outputs": [
    {
     "name": "stdout",
     "output_type": "stream",
     "text": [
      "Epoch 1/5\n",
      "3/3 [==============================] - 2s 104ms/step - loss: 8.3847\b\b\b\b\b\b\b\b\b\b\b\b\b\b\b\b\b\b\b\b\b\b\b\b\b\b\b\b\b\b\b\b\b\b\b\b\b\b\b\b\b\b\b\b\b\b\b\b\b\b\b\b\b\b\b\b\b\b\b\b\b\b\b\b\b\b\b\b\b\b\b\b\b\b\b\b\b\b\b\b\b\b\b\b\b\b\b\b\b\b\b\b\b\b\b\b\b\b\b\b\b\b\b\b\b\b\b\b\b\b\b\b\b\b\b\b\b\b\b\b\b\b\b\b\b\b\b\b\b\b\b\b\b\b\b\b\b\b\b\b\b\b\b\b\b\b\b\b\b\b\b\b\b\b\b\b\b\b\b\b\b\b\b\b\b\b\b\b\b\b\b\b\b\b\b\b\b\b\b\b\b\n",
      "\n",
      "Epoch 00001: loss improved from inf to 8.38474, saving model to embeddings.hd5\n",
      "INFO:tensorflow:Assets written to: embeddings.hd5\\assets\n",
      "Epoch 2/5\n",
      "3/3 [==============================] - 0s 140ms/step - loss: 8.3751\b\b\b\b\b\b\b\b\b\b\b\b\b\b\b\b\b\b\b\b\b\b\b\b\b\b\b\b\b\b\b\b\b\b\b\b\b\b\b\b\b\b\b\b\b\b\b\b\b\b\b\b\b\b\b\b\b\b\b\b\b\b\b\b\b\b\b\b\b\b\b\b\b\b\b\b\b\b\b\b\b\b\b\b\b\b\b\b\b\b\b\b\b\b\b\b\b\b\b\b\b\b\b\b\b\b\b\b\b\b\b\b\b\b\b\b\b\b\b\b\b\b\b\b\b\b\b\b\b\b\b\b\b\b\b\b\b\b\b\b\b\b\b\b\b\b\b\b\b\b\b\b\b\b\b\b\b\b\b\b\b\b\b\b\b\b\b\b\b\b\b\b\b\b\b\b\b\b\b\b\b\b\b\b\b\b\b\b\b\b\b\b\b\b\b\b\b\b\b\b\b\b\b\b\b\b\b\b\b\b\b\b\b\b\b\b\b\b\b\b\b\b\b\b\b\b\b\b\b\b\b\b\b\b\b\b\b\b\b\b\b\b\n",
      "\n",
      "Epoch 00002: loss improved from 8.38474 to 8.37513, saving model to embeddings.hd5\n",
      "INFO:tensorflow:Assets written to: embeddings.hd5\\assets\n",
      "Epoch 3/5\n",
      "3/3 [==============================] - 0s 130ms/step - loss: 8.3658\b\b\b\b\b\b\b\b\b\b\b\b\b\b\b\b\b\b\b\b\b\b\b\b\b\b\b\b\b\b\b\b\b\b\b\b\b\b\b\b\b\b\b\b\b\b\b\b\b\b\b\b\b\b\b\b\b\b\b\b\b\b\b\b\b\b\b\b\b\b\b\b\b\b\b\b\b\b\b\b\b\b\b\b\b\b\b\b\b\b\b\b\b\b\b\b\b\b\b\b\b\b\b\b\b\b\b\b\b\b\b\b\b\b\b\b\b\b\b\b\b\b\b\b\b\b\b\b\b\b\b\b\b\b\b\b\b\b\b\b\b\b\b\b\b\b\b\b\b\b\b\b\b\b\b\b\b\b\b\b\b\b\b\b\b\b\b\b\b\b\b\b\b\b\b\b\b\b\b\b\b\b\b\b\b\b\b\b\b\b\b\b\b\b\b\b\b\b\b\b\b\b\b\b\b\b\b\b\b\b\b\b\b\b\b\b\b\b\b\b\b\b\b\b\b\b\b\b\b\b\b\b\b\b\b\b\b\b\b\b\b\b\n",
      "\n",
      "Epoch 00003: loss improved from 8.37513 to 8.36582, saving model to embeddings.hd5\n",
      "INFO:tensorflow:Assets written to: embeddings.hd5\\assets\n",
      "Epoch 4/5\n",
      "3/3 [==============================] - 0s 149ms/step - loss: 8.3599\b\b\b\b\b\b\b\b\b\b\b\b\b\b\b\b\b\b\b\b\b\b\b\b\b\b\b\b\b\b\b\b\b\b\b\b\b\b\b\b\b\b\b\b\b\b\b\b\b\b\b\b\b\b\b\b\b\b\b\b\b\b\b\b\b\b\b\b\b\b\b\b\b\b\b\b\b\b\b\b\b\b\b\b\b\b\b\b\b\b\b\b\b\b\b\b\b\b\b\b\b\b\b\b\b\b\b\b\b\b\b\b\b\b\b\b\b\b\b\b\b\b\b\b\b\b\b\b\b\b\b\b\b\b\b\b\b\b\b\b\b\b\b\b\b\b\b\b\b\b\b\b\b\b\b\b\b\b\b\b\b\b\b\b\b\b\b\b\b\b\b\b\b\b\b\b\b\b\b\b\b\b\b\b\b\b\b\b\b\b\b\b\b\b\b\b\b\b\b\b\b\b\b\b\b\b\b\b\b\b\b\b\b\b\b\b\b\b\b\b\b\b\b\b\b\b\b\b\b\b\b\b\b\b\b\b\b\b\b\b\b\b\n",
      "\n",
      "Epoch 00004: loss improved from 8.36582 to 8.35987, saving model to embeddings.hd5\n",
      "INFO:tensorflow:Assets written to: embeddings.hd5\\assets\n",
      "Epoch 5/5\n",
      "3/3 [==============================] - 0s 135ms/step - loss: 8.3495\b\b\b\b\b\b\b\b\b\b\b\b\b\b\b\b\b\b\b\b\b\b\b\b\b\b\b\b\b\b\b\b\b\b\b\b\b\b\b\b\b\b\b\b\b\b\b\b\b\b\b\b\b\b\b\b\b\b\b\b\b\b\b\b\b\b\b\b\b\b\b\b\b\b\b\b\b\b\b\b\b\b\b\b\b\b\b\b\b\b\b\b\b\b\b\b\b\b\b\b\b\b\b\b\b\b\b\b\b\b\b\b\b\b\b\b\b\b\b\b\b\b\b\b\b\b\b\b\b\b\b\b\b\b\b\b\b\b\b\b\b\b\b\b\b\b\b\b\b\b\b\b\b\b\b\b\b\b\b\b\b\b\b\b\b\b\b\b\b\b\b\b\b\b\b\b\b\b\b\b\b\b\b\b\b\b\b\b\b\b\b\b\b\b\b\b\b\b\b\b\b\b\b\b\b\b\b\b\b\b\b\b\b\b\b\b\b\b\b\b\b\b\b\b\b\b\b\b\b\b\b\b\b\b\b\b\b\b\b\b\b\b\n",
      "\n",
      "Epoch 00005: loss improved from 8.35987 to 8.34949, saving model to embeddings.hd5\n",
      "INFO:tensorflow:Assets written to: embeddings.hd5\\assets\n"
     ]
    },
    {
     "data": {
      "text/plain": "<keras.callbacks.History at 0x166b8463c88>"
     },
     "execution_count": 31,
     "metadata": {},
     "output_type": "execute_result"
    }
   ],
   "source": [
    "import tensorflow as tf\n",
    "\n",
    "epochs_var = 5 #(kann gerne erhöht werden)\n",
    "batch_size = 300\n",
    "# das Modell sollte pro Epoche alle Trainingsdaten sehen. Überlegt auch ob die Cbow-Fenstergröße einen einfluss auf diese Anzahl hat.\n",
    "steps_per_epoch = len(numeric_docs) / batch_size\n",
    "\n",
    "cbow.fit(\n",
    "    generate_context_word_batches(\n",
    "        corpus=numeric_docs,\n",
    "        window_size=window_size,\n",
    "        vocab_size=vocabulary_size,\n",
    "        batch_size=batch_size\n",
    "    ),\n",
    "    steps_per_epoch=steps_per_epoch,\n",
    "    callbacks=[model_checkpoint],\n",
    "    epochs=epochs_var\n",
    ")"
   ]
  },
  {
   "cell_type": "markdown",
   "metadata": {
    "id": "SMIqy_-fYuBf"
   },
   "source": [
    "### 1.6 Test\n",
    "Nachdem wir unser Modell nur sehr kurz und nur auf wenigen Daten trainiert haben, ist davon auszugehen, dass die Ergebnisse nicht optimal sind. Einen kurzen Blick wollen wir dennoch riskieren.\n",
    "\n",
    "Dazu extrahieren wir zunächst die Gewichte aus dem Embedding-Layer und schauen sie uns auszugsweise an."
   ]
  },
  {
   "cell_type": "code",
   "execution_count": 32,
   "metadata": {
    "colab": {
     "base_uri": "https://localhost:8080/",
     "height": 130
    },
    "id": "m7x0IPFqYuBh",
    "outputId": "53a8235e-c2a4-4702-d3e1-ebea336738e4"
   },
   "outputs": [
    {
     "data": {
      "text/plain": "                   0         1         2         3         4         5   \\\nDinger      -0.044193 -0.006461  0.038645 -0.025920 -0.020525 -0.049758   \nfinde        0.032521  0.039425  0.014459  0.002193  0.020582 -0.009274   \nKrallen     -0.016049  0.007181  0.047019  0.016564  0.008338  0.022672   \nCoeur-Buben -0.002166  0.046224 -0.022238  0.045022 -0.046305 -0.002692   \nrechten      0.047778  0.037558  0.016017 -0.031863  0.023166 -0.034430   \n\n                   6         7         8         9   ...        40        41  \\\nDinger      -0.043896 -0.032506 -0.035714 -0.020952  ...  0.029287 -0.043371   \nfinde       -0.028646  0.040702 -0.015607  0.041745  ... -0.046208 -0.040092   \nKrallen     -0.026802  0.002197  0.028949  0.049600  ... -0.014927  0.011139   \nCoeur-Buben  0.000533 -0.007664  0.027419  0.032759  ...  0.008519 -0.022744   \nrechten      0.029523 -0.016289  0.010203  0.051117  ... -0.052269 -0.033554   \n\n                   42        43        44        45        46        47  \\\nDinger      -0.026770 -0.014997  0.006815  0.026840 -0.012823 -0.029610   \nfinde       -0.037042 -0.040556  0.031473 -0.041178  0.009180  0.005439   \nKrallen      0.034226 -0.023460 -0.032066  0.039992 -0.042951  0.014631   \nCoeur-Buben  0.028092 -0.024189  0.004048  0.016666 -0.017367 -0.004387   \nrechten     -0.005660 -0.022111  0.021514  0.015899  0.008744  0.031815   \n\n                   48        49  \nDinger      -0.043622  0.005615  \nfinde        0.037256  0.021232  \nKrallen      0.020444  0.042284  \nCoeur-Buben -0.046440 -0.000121  \nrechten      0.018995 -0.023183  \n\n[5 rows x 50 columns]",
      "text/html": "<div>\n<style scoped>\n    .dataframe tbody tr th:only-of-type {\n        vertical-align: middle;\n    }\n\n    .dataframe tbody tr th {\n        vertical-align: top;\n    }\n\n    .dataframe thead th {\n        text-align: right;\n    }\n</style>\n<table border=\"1\" class=\"dataframe\">\n  <thead>\n    <tr style=\"text-align: right;\">\n      <th></th>\n      <th>0</th>\n      <th>1</th>\n      <th>2</th>\n      <th>3</th>\n      <th>4</th>\n      <th>5</th>\n      <th>6</th>\n      <th>7</th>\n      <th>8</th>\n      <th>9</th>\n      <th>...</th>\n      <th>40</th>\n      <th>41</th>\n      <th>42</th>\n      <th>43</th>\n      <th>44</th>\n      <th>45</th>\n      <th>46</th>\n      <th>47</th>\n      <th>48</th>\n      <th>49</th>\n    </tr>\n  </thead>\n  <tbody>\n    <tr>\n      <th>Dinger</th>\n      <td>-0.044193</td>\n      <td>-0.006461</td>\n      <td>0.038645</td>\n      <td>-0.025920</td>\n      <td>-0.020525</td>\n      <td>-0.049758</td>\n      <td>-0.043896</td>\n      <td>-0.032506</td>\n      <td>-0.035714</td>\n      <td>-0.020952</td>\n      <td>...</td>\n      <td>0.029287</td>\n      <td>-0.043371</td>\n      <td>-0.026770</td>\n      <td>-0.014997</td>\n      <td>0.006815</td>\n      <td>0.026840</td>\n      <td>-0.012823</td>\n      <td>-0.029610</td>\n      <td>-0.043622</td>\n      <td>0.005615</td>\n    </tr>\n    <tr>\n      <th>finde</th>\n      <td>0.032521</td>\n      <td>0.039425</td>\n      <td>0.014459</td>\n      <td>0.002193</td>\n      <td>0.020582</td>\n      <td>-0.009274</td>\n      <td>-0.028646</td>\n      <td>0.040702</td>\n      <td>-0.015607</td>\n      <td>0.041745</td>\n      <td>...</td>\n      <td>-0.046208</td>\n      <td>-0.040092</td>\n      <td>-0.037042</td>\n      <td>-0.040556</td>\n      <td>0.031473</td>\n      <td>-0.041178</td>\n      <td>0.009180</td>\n      <td>0.005439</td>\n      <td>0.037256</td>\n      <td>0.021232</td>\n    </tr>\n    <tr>\n      <th>Krallen</th>\n      <td>-0.016049</td>\n      <td>0.007181</td>\n      <td>0.047019</td>\n      <td>0.016564</td>\n      <td>0.008338</td>\n      <td>0.022672</td>\n      <td>-0.026802</td>\n      <td>0.002197</td>\n      <td>0.028949</td>\n      <td>0.049600</td>\n      <td>...</td>\n      <td>-0.014927</td>\n      <td>0.011139</td>\n      <td>0.034226</td>\n      <td>-0.023460</td>\n      <td>-0.032066</td>\n      <td>0.039992</td>\n      <td>-0.042951</td>\n      <td>0.014631</td>\n      <td>0.020444</td>\n      <td>0.042284</td>\n    </tr>\n    <tr>\n      <th>Coeur-Buben</th>\n      <td>-0.002166</td>\n      <td>0.046224</td>\n      <td>-0.022238</td>\n      <td>0.045022</td>\n      <td>-0.046305</td>\n      <td>-0.002692</td>\n      <td>0.000533</td>\n      <td>-0.007664</td>\n      <td>0.027419</td>\n      <td>0.032759</td>\n      <td>...</td>\n      <td>0.008519</td>\n      <td>-0.022744</td>\n      <td>0.028092</td>\n      <td>-0.024189</td>\n      <td>0.004048</td>\n      <td>0.016666</td>\n      <td>-0.017367</td>\n      <td>-0.004387</td>\n      <td>-0.046440</td>\n      <td>-0.000121</td>\n    </tr>\n    <tr>\n      <th>rechten</th>\n      <td>0.047778</td>\n      <td>0.037558</td>\n      <td>0.016017</td>\n      <td>-0.031863</td>\n      <td>0.023166</td>\n      <td>-0.034430</td>\n      <td>0.029523</td>\n      <td>-0.016289</td>\n      <td>0.010203</td>\n      <td>0.051117</td>\n      <td>...</td>\n      <td>-0.052269</td>\n      <td>-0.033554</td>\n      <td>-0.005660</td>\n      <td>-0.022111</td>\n      <td>0.021514</td>\n      <td>0.015899</td>\n      <td>0.008744</td>\n      <td>0.031815</td>\n      <td>0.018995</td>\n      <td>-0.023183</td>\n    </tr>\n  </tbody>\n</table>\n<p>5 rows × 50 columns</p>\n</div>"
     },
     "execution_count": 32,
     "metadata": {},
     "output_type": "execute_result"
    }
   ],
   "source": [
    "import pandas as pd\n",
    "from keras.models import load_model\n",
    "\n",
    "cbow = load_model(\"embeddings.hd5\")\n",
    "embedding_weights = cbow.get_weights()[0]\n",
    "\n",
    "pd.DataFrame(embedding_weights, index=list(id2word.values())).head()"
   ]
  },
  {
   "cell_type": "markdown",
   "metadata": {
    "id": "5BnUH3l6YuBm"
   },
   "source": [
    "Da durch scharfes Hinsehen nicht unmittelbar zu erkennen ist, wie gut unsere Embeddings schon sind, machen wir stichprobenartige Tests. Dazu wählen wir einige Wörter und berechnen für deren Embeddings die Ähnlichkeit mit allen anderen Embedding-Vektoren in unserer Gewichtsmatrix. Anschließend lassen wir uns die fünf ähnlichsten Wörter ausgeben.\n",
    "Überlegt euch welches Distantzmaß für den Vergleich von Vektoren genutzt werden kann. Tipp: Die Cosinusähnlichkeit könnte damit was zu tun haben. "
   ]
  },
  {
   "cell_type": "code",
   "execution_count": 33,
   "metadata": {
    "id": "lwHpAG9lYuBo"
   },
   "outputs": [],
   "source": [
    "from sklearn.metrics.pairwise import cosine_similarity\n",
    "\n",
    "sample_terms = ['Alice', 'Hut', 'Kaninchen','Kaninchenbau']\n",
    "sample_embeddings = [embedding_weights[word2id[word]] for word in sample_terms]\n",
    "\n",
    "# Berechne die paarweisen Distanzen zwischen Beispielwörtern und Gesamtvokabular\n",
    "distance_matrix = cosine_similarity(sample_embeddings, embedding_weights)"
   ]
  },
  {
   "cell_type": "code",
   "execution_count": 34,
   "metadata": {
    "id": "E1HEcW_bYuBt"
   },
   "outputs": [
    {
     "data": {
      "text/plain": "{'Alice': ['angenehm', 'Schalthier', 'Seiten', 'Schwester', 'vollständig'],\n 'Hut': ['Schlange', 'Schlangen.«', 'wachse.«', '_was_?«', 'enthält'],\n 'Kaninchen': ['fragst', 'Reihe', 'goldene', 'Ansprüche', 'Auflösung'],\n 'Kaninchenbau': ['traten', 'Spatzen?«', 'Berathung', 'Arm', 'klettern']}"
     },
     "execution_count": 34,
     "metadata": {},
     "output_type": "execute_result"
    }
   ],
   "source": [
    "# Zeige die top fünf ähnlichsten Wörter zu unseren Beispielwörtern \n",
    "similar_words = {sample_term: [id2word[idx] for idx in distance_matrix[index].argsort()[1:6]] \n",
    "                   for index, sample_term in enumerate(sample_terms)}\n",
    "\n",
    "similar_words"
   ]
  },
  {
   "cell_type": "markdown",
   "metadata": {
    "id": "LM3qNiNwHyFl"
   },
   "source": [
    "Seid ihr zufrieden mit den ähnlichen Wörtern? Woran kann es liegen, dass die Wörter nicht immer unbedingt Sinn ergeben?"
   ]
  },
  {
   "cell_type": "markdown",
   "metadata": {
    "id": "zt-nOPurYuBz"
   },
   "source": [
    "## Aufgabe 2: Gensim als Wrapper für Word2Vec-Modelle\n",
    "Embedding-Layer begegnen einem in der Praxis in der Tat häufig. In der Regel aber nicht als Bestandteile von reinen Word Embedding-Trainingsmodellen, sondern als erster Layer für Modelle mit anderen Aufgaben. Die Embeddings werden dann entweder mit vorberechneten Werten initalisiert und/oder werden im Training des Modells für die Downstream-Aufgabe (Textklassifikation, Übersetzung, ...) mittrainiert.\n",
    "\n",
    "Eine komfortable Möglichkeit, eigene Word2Vec-Modelle zu trainieren, bietet [Gensim](https://radimrehurek.com/gensim/models/word2vec.html), eine Bibliothek, die für diese Modelle auch Wrapper bereitstellt, um komfortabler an die Embeddings zu kommen und mit diesen zu arbeiten.\n",
    "\n",
    "Wir wollen uns im Folgenden einen kleinen Ausschnitt der Möglichkeiten, die Gensim bietet, anschauen."
   ]
  },
  {
   "cell_type": "markdown",
   "metadata": {
    "id": "Q86D9vsXFN2e"
   },
   "source": [
    "### 2.0 Vorbereitung\n",
    "Wir werden mit vortrainierten Google-News-Embeddings arbeiten, die ihr mit dem Code in den nächsten beiden Zellen herunterladen könnt. Falls das nicht funktionieren sollte, findet ihr die vortrainierten Embeddings [hier](https://drive.google.com/file/d/0B7XkCwpI5KDYNlNUTTlSS21pQmM/edit?usp=sharing). "
   ]
  },
  {
   "cell_type": "code",
   "execution_count": null,
   "metadata": {
    "id": "WXAQA-n5FgsQ"
   },
   "outputs": [],
   "source": [
    "!pip install googledrivedownloader"
   ]
  },
  {
   "cell_type": "code",
   "execution_count": null,
   "metadata": {
    "id": "hO0e4QiDEeUm"
   },
   "outputs": [],
   "source": [
    "#from google_drive_downloader import GoogleDriveDownloader as gdd\n",
    "\n",
    "#gdd.download_file_from_google_drive(file_id='1Fl11N_cX1RfJmTHV1C-RGIsjWeIZjbTN',\n",
    "#                                    dest_path='./download/GoogleNews-vectors-negative300.bin.gz',\n",
    "#                                    unzip=False,\n",
    "#                                    overwrite=True)"
   ]
  },
  {
   "cell_type": "markdown",
   "metadata": {
    "id": "RTpLcc8yYuB0"
   },
   "source": [
    "### 2.1 Word2Vec-Model laden\n",
    "Die Vektoren haben eine Länge vin 300.\n",
    "Zieht euch die Embeddings über den oben angegebenen Link und verwendet gensim, um sie anschließend zu laden.\n",
    "\n",
    "**Hinweis**: Es kann einen Moment dauern, bis das Dictionary, das von Wort auf Embedding abbildet, erzeugt ist. Im Zweifel ein ```limit``` angeben und nur die ersten 1,5 Mio. Embeddings laden."
   ]
  },
  {
   "cell_type": "code",
   "execution_count": null,
   "metadata": {
    "id": "uiXE550K0CfC"
   },
   "outputs": [],
   "source": [
    "!gunzip ./download/GoogleNews-vectors-negative300.bin.gz"
   ]
  },
  {
   "cell_type": "code",
   "execution_count": null,
   "metadata": {
    "id": "Em5AdDKlYuB2"
   },
   "outputs": [],
   "source": [
    "import gensim\n",
    "\n",
    "embeddings = gensim.models.KeyedVectors.load_word2vec_format(\"./GoogleNews-vectors-negative300.bin\", binary=True)"
   ]
  },
  {
   "cell_type": "markdown",
   "metadata": {
    "id": "wk7S_3n4YuB6"
   },
   "source": [
    "Aus Spaß an der Freude können wir nun schauen, wie gut unser trainiertes Modell ist bzw. ob es bestimmte von Menschen wahrgenommene Analogien bestätigt. \n",
    "\n",
    "Die Analogien sind [hier](https://github.com/nicholas-leonard/word2vec/blob/master/questions-words.txt) zu finden."
   ]
  },
  {
   "cell_type": "code",
   "execution_count": null,
   "metadata": {
    "id": "r89GRNDrYuB6"
   },
   "outputs": [],
   "source": [
    "from gensim.test.utils import datapath\n",
    "\n",
    "embeddings.evaluate_word_analogies(datapath(\"questions-words.txt\"), restrict_vocab=30000)"
   ]
  },
  {
   "cell_type": "markdown",
   "metadata": {
    "id": "HCI5ETPYYuB_"
   },
   "source": [
    "### 2.2 Spaß mit Semantik\n",
    "Im Folgenden wollen wir uns mit dem Mehrwert beschäftigen, den semantische Embeddings bieten. Für weitere Inspiration siehe zum Beispiel [hier](https://www.machinelearningplus.com/nlp/gensim-tutorial/) und die [Doku](https://radimrehurek.com/gensim/models/keyedvectors.html).\n",
    "\n",
    "Mit semantischen Vektoren lassen sich zum Beispiel folgende Fragen beantworten:\n"
   ]
  },
  {
   "cell_type": "code",
   "execution_count": null,
   "metadata": {
    "id": "1mgxhguPYuCA"
   },
   "outputs": [],
   "source": [
    "# Welche Stadt ist das New York Deutschlands? (Hinweis: 'New_York' ist als Token in den Embeddings enthalten)\n",
    "print('Das deutsche New York ist: {}\\n'.format(embeddings.most_similar(positive=[\"New_York\", \"Germany\"], negative=\"USA\")))\n",
    "\n",
    "# Was ist Emacs besonders ähnlich?\n",
    "print('Ähnlichste Begriffe zu \"Emacs\": {}\\n'.format(embeddings.most_similar(\"Emacs\")))\n",
    "\n",
    "# Und wie sieht es mit Vim aus?\n",
    "print('Ähnlichste Begriffe zu \"Vim\": {}\\n'.format(embeddings.most_similar(\"Vim\")))\n",
    "\n",
    "# Wer ist eigentlich der Mozart der Naturwissenschaft?\n",
    "print('Der Mozart der Naturwissenschaft ist: {}\\n'.format(embeddings.most_similar(positive=[\"Mozart\", \"science\"], negative=[\"composer\"])))\n",
    "\n",
    "# Welches Wort verhält sich zu 'singing' wie 'burnt' zu 'burning'?\n",
    "print('burning:burnt wie singing:{}\\n'.format(embeddings.most_similar(positive=[\"singing\", \"burning\"], negative=[\"burnt\"])))\n",
    "\n",
    "# Sind sich Deutschland und Frankreich ähnlicher oder Deutschland und Kanada?\n",
    "print('Ähnlichkeit DE, FR: {}'.format(embeddings.similarity(\"Germany\", \"France\")))\n",
    "print('Ähnlichkeit DE, CAN: {}'.format(embeddings.similarity(\"Germany\", \"Canada\")))"
   ]
  },
  {
   "cell_type": "markdown",
   "metadata": {
    "id": "l3g5ivIxYuCE"
   },
   "source": [
    "Bei der Interpretation der Ergebnisse ist jedoch Vorsicht geboten: Es werden zwar semantische Beziehungen abgebildet, aber die entsprechen möglicherweise nicht immer den Erwartungen.\n",
    "\n",
    "Wie ähnlich sind sich zum Beispiel \"Leben\" und \"Tod\", \"kalt\" und \"warm\", \"Norden\" und \"Süden\"?\n",
    "\n",
    "Sind die Ergebnisse wie erwartet? Warum (nicht)?"
   ]
  },
  {
   "cell_type": "code",
   "execution_count": null,
   "metadata": {
    "id": "DXgw0wIMYuCF"
   },
   "outputs": [],
   "source": [
    "print(f\"Leben <-> Tod: {embeddings.similarity('Life', 'Death')}\")\n",
    "print(f\"Kalt <-> Warm: {embeddings.similarity('cold', 'warm')}\")\n",
    "print(f\"Norden <-> Süden: {embeddings.similarity('north', 'south')}\")"
   ]
  },
  {
   "cell_type": "markdown",
   "metadata": {
    "id": "DPjd7_zJYuCJ"
   },
   "source": [
    "Die Embeddings sind nicht neutral, sondern spiegeln die Beziehungen wieder, die sich in den Trainingsdaten finden lassen."
   ]
  },
  {
   "cell_type": "code",
   "execution_count": null,
   "metadata": {
    "id": "LLI9StHLYuCK"
   },
   "outputs": [],
   "source": [
    "# Wird Wissenschaft von Frauen oder Männern gemacht?\n",
    "print('Wissenschaft wird gemacht von: {}'.format(embeddings.most_similar_to_given(\"science\", [\"man\", \"woman\"])))\n",
    "# Sind Mörder eher Schwarze, Weiße oder Asiaten?\n",
    "print('Mörder sind: {}'.format(embeddings.most_similar_to_given(\"murderer\", [\"black\", \"white\", \"asian\"])))\n",
    "# Was bleibt vom Mann, wenn die Intelligenz abgezogen wird?\n",
    "print('Mann ohne Intelligenz: {}'.format(embeddings.most_similar(positive=[\"man\"], negative=[\"intelligence\"])))"
   ]
  }
 ],
 "metadata": {
  "colab": {
   "collapsed_sections": [],
   "name": "01_text_representation.ipynb",
   "provenance": []
  },
  "kernelspec": {
   "display_name": "Python 3",
   "language": "python",
   "name": "python3"
  },
  "language_info": {
   "codemirror_mode": {
    "name": "ipython",
    "version": 3
   },
   "file_extension": ".py",
   "mimetype": "text/x-python",
   "name": "python",
   "nbconvert_exporter": "python",
   "pygments_lexer": "ipython3",
   "version": "3.6.9"
  }
 },
 "nbformat": 4,
 "nbformat_minor": 1
}